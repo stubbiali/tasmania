{
 "cells": [
  {
   "cell_type": "markdown",
   "metadata": {},
   "source": [
    "A hydrostatic, inviscid, adiabatic, and moist system in isentropic coordinates \n",
    "=="
   ]
  },
  {
   "cell_type": "code",
   "execution_count": null,
   "metadata": {},
   "outputs": [],
   "source": [
    "from datetime import timedelta\n",
    "import gridtools as gt\n",
    "import numpy as np\n",
    "import sympl\n",
    "import tasmania as taz\n",
    "\n",
    "# For interactive plotting\n",
    "from IPython import display\n",
    "%matplotlib nbagg"
   ]
  },
  {
   "cell_type": "markdown",
   "metadata": {},
   "source": [
    "Load the computational grid and the initial state\n",
    "--"
   ]
  },
  {
   "cell_type": "code",
   "execution_count": null,
   "metadata": {},
   "outputs": [],
   "source": [
    "grid, states = taz.load_netcdf_dataset(\n",
    "    '../tests/baseline_datasets/isentropic_moist_sedimentation.nc')\n",
    "state = states[0]"
   ]
  },
  {
   "cell_type": "markdown",
   "metadata": {},
   "source": [
    "Initialize the microphysical parameterizations\n",
    "--"
   ]
  },
  {
   "cell_type": "code",
   "execution_count": null,
   "metadata": {},
   "outputs": [],
   "source": [
    "# The component calculating the microphysical sources/sinks \n",
    "# prescribed by the Kessler scheme; neglect the evaporation of\n",
    "# rain in the subcloud layers\n",
    "a = sympl.DataArray(0.1, attrs={'units': 'g kg^-1'})\n",
    "kessler = taz.Kessler(grid, pressure_on_interface_levels=True,\n",
    "                      rain_evaporation_on=False, backend=gt.mode.NUMPY,\n",
    "                      autoconversion_threshold=a)\n",
    "\n",
    "# The component calculating the raindrop fall velocity\n",
    "rfv = taz.RaindropFallVelocity(grid, backend=gt.mode.NUMPY)\n",
    "\n",
    "# The component performing the saturation adjustment \n",
    "# as prescribed by the Kessler scheme\n",
    "saturation = taz.SaturationAdjustmentKessler(grid, pressure_on_interface_levels=True,\n",
    "                                             backend=gt.mode.NUMPY)"
   ]
  },
  {
   "cell_type": "markdown",
   "metadata": {},
   "source": [
    "Instantiate the dynamical core\n",
    "--"
   ]
  },
  {
   "cell_type": "code",
   "execution_count": null,
   "metadata": {},
   "outputs": [],
   "source": [
    "# Adopt the flux form of the forward Euler time integration method,\n",
    "# with the horizontal numerical fluxes calculated via the MacCormack scheme;\n",
    "# the sedimentation flux is discretized with the help of the second-order upwind scheme\n",
    "dycore = taz.IsentropicDynamicalCore(grid, moist_on=True,\n",
    "                                     time_integration_scheme='forward_euler',\n",
    "                                     horizontal_flux_scheme='maccormack',\n",
    "                                     horizontal_boundary_type='relaxed',\n",
    "                                     smooth_on=True, smooth_type='first_order',\n",
    "                                     smooth_coeff=0.20, smooth_at_every_stage=True,\n",
    "                                     adiabatic_flow=True, sedimentation_on=True,\n",
    "                                     sedimentation_flux_type='second_order_upwind',\n",
    "                                     sedimentation_substeps=2,\n",
    "                                     raindrop_fall_velocity_diagnostic=rfv,\n",
    "                                     backend=gt.mode.NUMPY, dtype=np.float64)"
   ]
  },
  {
   "cell_type": "markdown",
   "metadata": {},
   "source": [
    "Set up the full model\n",
    "--"
   ]
  },
  {
   "cell_type": "code",
   "execution_count": null,
   "metadata": {},
   "outputs": [],
   "source": [
    "# Cast the physical components into PhysicsComponentComposite wrappers\n",
    "physics_before_dynamics = taz.PhysicsComponentComposite('parallel_splitting', kessler)\n",
    "physics_after_dynamics  = taz.PhysicsComponentComposite('parallel_splitting', saturation)\n",
    "\n",
    "# Build the model\n",
    "model = taz.Model(dycore, physics_before_dynamics, physics_after_dynamics)"
   ]
  },
  {
   "cell_type": "markdown",
   "metadata": {},
   "source": [
    "Create a monitor for interactive visualization\n",
    "---------------------------------------------------------------"
   ]
  },
  {
   "cell_type": "code",
   "execution_count": null,
   "metadata": {},
   "outputs": [],
   "source": [
    "# The artist and its collaborators generating the left subplot\n",
    "subplot1 = taz.Plot2d(grid, plot_function=taz.make_contourf_xz, \n",
    "                      field_to_plot='mass_fraction_of_cloud_liquid_water_in_air', level=0,\n",
    "                      plot_properties={'fontsize': 16, \n",
    "                                       'title_left': 'Cloud liquid water [g kg$^{-1}$]',\n",
    "                                       'x_label': '$x$ [km]', 'x_lim': [0, 500],\n",
    "                                       'y_label': '$z$ [km]', 'y_lim': [0, 14]},\n",
    "                      plot_function_kwargs={'fontsize': 16, \n",
    "                                            'x_factor': 1e-3, 'z_factor': 1e-3,\n",
    "                                            'field_factor': 1e3,\n",
    "                                            'cmap_name': 'Blues', 'cbar_on': True, \n",
    "                                            'cbar_levels': 18, 'cbar_ticks_step': 4, \n",
    "                                            'cbar_orientation': 'horizontal'})\n",
    "\n",
    "# The artist generating the right subplot\n",
    "coll1 = taz.Plot1d(grid, plot_function=taz.plot_horizontal_profile, \n",
    "                   field_to_plot='precipitation', levels={1: 0, 2: 0},\n",
    "                   plot_function_kwargs={'fontsize': 16, 'x_factor': 1e-3,\n",
    "                                         'linecolor': 'blue', 'linewidth': 1.5,\n",
    "                                         'legend_label': 'Precipitation [mm h$^{-1}$]'})\n",
    "coll2 = taz.Plot1d(grid, plot_function=taz.plot_horizontal_profile, \n",
    "                   field_to_plot='accumulated_precipitation', levels={1: 0, 2: 0},\n",
    "                   plot_function_kwargs={'fontsize': 16, 'x_factor': 1e-3,\n",
    "                                         'linecolor': 'red', 'linewidth': 1.5,\n",
    "                                         'legend_label': 'Accumulated precipitation [mm]'})\n",
    "subplot2 = taz.PlotsOverlapper((coll1, coll2), fontsize=16, \n",
    "                               plot_properties={'fontsize': 16,\n",
    "                                                'x_label': '$x$ [km]', 'x_lim': [0, 500],\n",
    "                                                'y_lim': [0, 1], 'grid_on': True,\n",
    "                                                'legend_on': True, 'legend_loc': 'best'})\n",
    "\n",
    "# The monitor encompassing and coordinating the two artists\n",
    "plot_monitor = taz.SubplotsAssembler(nrows=1, ncols=2, artists=(subplot1, subplot2), \n",
    "                                     interactive=False, figsize=(12, 7), fontsize=16, \n",
    "                                     tight_layout=True)"
   ]
  },
  {
   "cell_type": "markdown",
   "metadata": {},
   "source": [
    "Integrate the model forward in time\n",
    "--"
   ]
  },
  {
   "cell_type": "code",
   "execution_count": null,
   "metadata": {
    "scrolled": false
   },
   "outputs": [],
   "source": [
    "# Simulation settings\n",
    "timestep = timedelta(seconds=10)\n",
    "niter    = 2160\n",
    "\n",
    "for i in range(niter):\n",
    "    # Integrate the modul one timestep forward in time \n",
    "    state_new = model(state, timestep)\n",
    "    state.update(state_new)\n",
    "    \n",
    "    if (i+1) % 60 == 0:\n",
    "        # Plot the solution\n",
    "        subplot1.plot_properties['title_right'] = str((i+1)*timestep)\n",
    "        subplot2.plot_properties['title_right'] = str((i+1)*timestep)\n",
    "        fig = plot_monitor.store((state, (state, state)), show=False)\n",
    "        display.clear_output(wait=True)\n",
    "        display.display(fig)\n",
    "\n",
    "print('Simulation successfully completed. HOORAY!')"
   ]
  },
  {
   "cell_type": "markdown",
   "metadata": {},
   "source": [
    "Results validation\n",
    "--"
   ]
  },
  {
   "cell_type": "code",
   "execution_count": null,
   "metadata": {},
   "outputs": [],
   "source": [
    "for name in state.keys():\n",
    "    if name != 'time':\n",
    "        assert np.allclose(states[-1][name].values, state[name].values), \\\n",
    "               'Variable {} not validated.'.format(name)\n",
    "print('Results validated. HORRAY! HOORAY!')"
   ]
  }
 ],
 "metadata": {
  "kernelspec": {
   "display_name": "Python 3",
   "language": "python",
   "name": "python3"
  },
  "language_info": {
   "codemirror_mode": {
    "name": "ipython",
    "version": 3
   },
   "file_extension": ".py",
   "mimetype": "text/x-python",
   "name": "python",
   "nbconvert_exporter": "python",
   "pygments_lexer": "ipython3",
   "version": "3.5.2"
  }
 },
 "nbformat": 4,
 "nbformat_minor": 2
}
