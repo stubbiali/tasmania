{
 "cells": [
  {
   "cell_type": "markdown",
   "metadata": {},
   "source": [
    "A hydrostatic, inviscid, adiabatic, and moist system in isentropic coordinates\n",
    "=="
   ]
  },
  {
   "cell_type": "code",
   "execution_count": null,
   "metadata": {},
   "outputs": [],
   "source": [
    "from datetime import datetime, timedelta\n",
    "import gridtools as gt\n",
    "import numpy as np\n",
    "import os\n",
    "from sympl import DataArray\n",
    "import tasmania as taz\n",
    "\n",
    "# For interactive plotting\n",
    "from IPython import display\n",
    "%matplotlib nbagg"
   ]
  },
  {
   "cell_type": "markdown",
   "metadata": {},
   "source": [
    "Build the computational grid and get the initial state\n",
    "--"
   ]
  },
  {
   "cell_type": "code",
   "execution_count": null,
   "metadata": {},
   "outputs": [],
   "source": [
    "domain_x, nx = DataArray([0., 500.], dims='x', attrs={'units': 'km'}).to_units('m'), 101\n",
    "domain_y, ny = DataArray([-1., 1.], dims='y', attrs={'units': 'km'}).to_units('m'), 1\n",
    "domain_z, nz = DataArray([340., 280.], dims='air_potential_temperature', attrs={'units': 'K'}), 60\n",
    "\n",
    "grid = taz.GridXYZ(domain_x, nx, domain_y, ny, domain_z, nz,\n",
    "                   topo_type='gaussian', topo_time=timedelta(seconds=1800),\n",
    "                   topo_kwargs={'topo_max_height': DataArray(1000.0, attrs={'units': 'm'}),\n",
    "                                'topo_width_x': DataArray(25.0, attrs={'units': 'km'})})\n",
    "\n",
    "time          = datetime(year=1992, month=2, day=20)\n",
    "x_velocity    = DataArray(15., attrs={'units': 'm s^-1'})\n",
    "y_velocity    = DataArray(0., attrs={'units': 'm s^-1'})\n",
    "brunt_vaisala = DataArray(0.01, attrs={'units': 's^-1'})\n",
    "\n",
    "state = taz.get_default_isentropic_state(grid, time, x_velocity, y_velocity, brunt_vaisala, \n",
    "                                         moist_on=True, dtype=np.float64)"
   ]
  },
  {
   "cell_type": "markdown",
   "metadata": {},
   "source": [
    "Initialize the microphysical parameterizations\n",
    "--"
   ]
  },
  {
   "cell_type": "code",
   "execution_count": null,
   "metadata": {},
   "outputs": [],
   "source": [
    "# The component calculating the microphysical sources/sinks \n",
    "# prescribed by the Kessler scheme; neglect the evaporation of\n",
    "# rain in the subcloud layers\n",
    "kessler = taz.Kessler(grid, pressure_on_interface_levels=True,\n",
    "                      rain_evaporation_on=False, backend=gt.mode.NUMPY)\n",
    "\n",
    "# The component performing the saturation adjustment \n",
    "# as prescribed by the Kessler scheme\n",
    "saturation = taz.SaturationAdjustmentKessler(grid, pressure_on_interface_levels=True,\n",
    "                                             backend=gt.mode.NUMPY)"
   ]
  },
  {
   "cell_type": "markdown",
   "metadata": {},
   "source": [
    "Instantiate the dynamical core\n",
    "--"
   ]
  },
  {
   "cell_type": "code",
   "execution_count": null,
   "metadata": {},
   "outputs": [],
   "source": [
    "# Adopt the flux form of the forward Euler time integration method,\n",
    "# with the horizontal numerical fluxes calculated via the upwind scheme;\n",
    "# neglect the sedimentation of rain\n",
    "dycore = taz.IsentropicDynamicalCore(grid, moist_on=True,\n",
    "                                     time_integration_scheme='forward_euler',\n",
    "                                     horizontal_flux_scheme='upwind',\n",
    "                                     horizontal_boundary_type='relaxed',\n",
    "                                     smooth_on=True, smooth_type='first_order',\n",
    "                                     smooth_coeff=0.20, smooth_at_every_stage=True,\n",
    "                                     adiabatic_flow=True, sedimentation_on=False,\n",
    "                                     backend=gt.mode.NUMPY, dtype=np.float64)"
   ]
  },
  {
   "cell_type": "markdown",
   "metadata": {},
   "source": [
    "Create a monitor for interactive visualization\n",
    "---------------------------------------------------------------"
   ]
  },
  {
   "cell_type": "code",
   "execution_count": null,
   "metadata": {},
   "outputs": [],
   "source": [
    "# The artist generating the left subplot\n",
    "subplot1 = taz.Plot2d(grid, plot_function=taz.make_contourf_xz, \n",
    "                      field_to_plot='x_velocity_at_u_locations', level=0,\n",
    "                      plot_properties={'fontsize': 16, \n",
    "                                       'title_left': '$x$-velocity [m s$^{-1}$]',\n",
    "                                       'x_label': '$x$ [km]', 'x_lim': [0, 500],\n",
    "                                       'y_label': '$z$ [km]', 'y_lim': [0, 14]},\n",
    "                      plot_function_kwargs={'fontsize': 16, \n",
    "                                            'x_factor': 1e-3, 'z_factor': 1e-3,\n",
    "                                            'cmap_name': 'BuRd', 'cbar_on': True, \n",
    "                                            'cbar_levels': 18, 'cbar_ticks_step': 2, \n",
    "                                            'cbar_center': 15, 'cbar_half_width': 8.5,\n",
    "                                            'cbar_orientation': 'horizontal'})\n",
    "\n",
    "# The artist generating the right subplot\n",
    "subplot2 = taz.Plot2d(grid, plot_function=taz.make_contourf_xz, \n",
    "                      field_to_plot='mass_fraction_of_water_vapor_in_air', level=0,\n",
    "                      plot_properties={'fontsize': 16, \n",
    "                                       'title_left': 'Water vapor [g kg$^{-1}$]',\n",
    "                                       'x_label': '$x$ [km]', 'x_lim': [0, 500],\n",
    "                                       'y_lim': [0, 14], 'yaxis_visible': False},\n",
    "                      plot_function_kwargs={'fontsize': 16, \n",
    "                                            'x_factor': 1e-3, 'z_factor': 1e-3,\n",
    "                                            'field_factor': 1e3,\n",
    "                                            'cmap_name': 'Blues', 'cbar_on': True, \n",
    "                                            'cbar_levels': 18, 'cbar_ticks_step': 4, \n",
    "                                            'cbar_orientation': 'horizontal'})\n",
    "\n",
    "# The monitor encompassing and coordinating the two artists\n",
    "monitor = taz.SubplotsAssembler(nrows=1, ncols=2, artists=(subplot1, subplot2), \n",
    "                                interactive=False, figsize=(12, 7), fontsize=16, \n",
    "                                tight_layout=True)"
   ]
  },
  {
   "cell_type": "markdown",
   "metadata": {},
   "source": [
    "Create a monitor to dump the solution into a NetCDF file\n",
    "--"
   ]
  },
  {
   "cell_type": "code",
   "execution_count": null,
   "metadata": {},
   "outputs": [],
   "source": [
    "filename = '../tests/baseline_datasets/isentropic_moist.nc'\n",
    "if os.path.exists(filename):\n",
    "    os.remove(filename)\n",
    "netcdf_monitor = taz.NetCDFMonitor(filename, grid)\n",
    "netcdf_monitor.store(state)"
   ]
  },
  {
   "cell_type": "markdown",
   "metadata": {},
   "source": [
    "Run the simulation\n",
    "---------------------------"
   ]
  },
  {
   "cell_type": "code",
   "execution_count": null,
   "metadata": {
    "scrolled": false
   },
   "outputs": [],
   "source": [
    "# Simulation settings\n",
    "timestep = timedelta(seconds=10)\n",
    "niter    = 2160\n",
    "\n",
    "for i in range(niter):\n",
    "    # Update the (time-dependent) topography\n",
    "    dycore.update_topography((i+1)*timestep)\n",
    "    \n",
    "    # Calculate the microphysical tendencies\n",
    "    tendencies, _ = kessler(state)\n",
    "    \n",
    "    # Step the solution\n",
    "    state_new = dycore(state, tendencies, timestep)\n",
    "    state.update(state_new)\n",
    "    \n",
    "    # Perform the saturation adjustment\n",
    "    state_new = saturation(state)\n",
    "    state.update(state_new)\n",
    "\n",
    "    if (i+1) % 60 == 0:\n",
    "        # Plot the solution\n",
    "        subplot1.plot_properties['title_right'] = str((i+1)*timestep)\n",
    "        subplot2.plot_properties['title_right'] = str((i+1)*timestep)\n",
    "        fig = monitor.store((state, state), show=False)\n",
    "        display.clear_output(wait=True)\n",
    "        display.display(fig)\n",
    "        \n",
    "        # Save the solution\n",
    "        netcdf_monitor.store(state)\n",
    "                    \n",
    "# Write cached states to file\n",
    "netcdf_monitor.write()\n",
    "        \n",
    "print('Simulation successfully completed. HOORAY!')"
   ]
  },
  {
   "cell_type": "code",
   "execution_count": null,
   "metadata": {},
   "outputs": [],
   "source": []
  }
 ],
 "metadata": {
  "kernelspec": {
   "display_name": "Python 3",
   "language": "python",
   "name": "python3"
  },
  "language_info": {
   "codemirror_mode": {
    "name": "ipython",
    "version": 3
   },
   "file_extension": ".py",
   "mimetype": "text/x-python",
   "name": "python",
   "nbconvert_exporter": "python",
   "pygments_lexer": "ipython3",
   "version": "3.5.6"
  }
 },
 "nbformat": 4,
 "nbformat_minor": 2
}
