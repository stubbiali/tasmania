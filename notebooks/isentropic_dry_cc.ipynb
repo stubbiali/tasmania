{
 "cells": [
  {
   "cell_type": "markdown",
   "metadata": {},
   "source": [
    "A hydrostatic, inviscid, adiabatic, and dry system in isentropic coordinates\n",
    "=="
   ]
  },
  {
   "cell_type": "code",
   "execution_count": null,
   "metadata": {},
   "outputs": [],
   "source": [
    "from datetime import timedelta\n",
    "import gridtools as gt\n",
    "import numpy as np\n",
    "import tasmania as taz\n",
    "\n",
    "# For interactive plotting\n",
    "from IPython import display\n",
    "%matplotlib nbagg"
   ]
  },
  {
   "cell_type": "markdown",
   "metadata": {},
   "source": [
    "Load the computational grid and the initial state\n",
    "--"
   ]
  },
  {
   "cell_type": "code",
   "execution_count": null,
   "metadata": {},
   "outputs": [],
   "source": [
    "grid, states = taz.load_netcdf_dataset('../tests/baseline_datasets/isentropic_dry.nc')\n",
    "state = states[0]"
   ]
  },
  {
   "cell_type": "markdown",
   "metadata": {},
   "source": [
    "Instantiate the physical packages\n",
    "--"
   ]
  },
  {
   "cell_type": "code",
   "execution_count": null,
   "metadata": {},
   "outputs": [],
   "source": [
    "# The component retrieving the diagnostic variables\n",
    "pt = state['air_pressure_on_interface_levels'][0, 0, 0]\n",
    "dv = taz.IsentropicDiagnostics(grid, moist_on=False, pt=pt, backend=gt.mode.NUMPY, dtype=np.float32)\n",
    "\n",
    "# The component calculating the pressure gradient in isentropic coordinates\n",
    "pg = taz.ConservativeIsentropicPressureGradient(\n",
    "    grid, order=4, horizontal_boundary_type='relaxed', backend=gt.mode.NUMPY, dtype=np.float32\n",
    ")\n",
    "\n",
    "# Wrap the components in a ConcurrentCoupling object\n",
    "cc = taz.ConcurrentCoupling(pg, mode='serial')"
   ]
  },
  {
   "cell_type": "markdown",
   "metadata": {},
   "source": [
    "Instantiate the dynamical core\n",
    "--"
   ]
  },
  {
   "cell_type": "code",
   "execution_count": null,
   "metadata": {},
   "outputs": [],
   "source": [
    "# Adopt the flux form of the three-stages Runge-Kutta time integration method,\n",
    "# coupled with a fifth-order upwind advection scheme\n",
    "dycore = taz.HomogeneousIsentropicDynamicalCore(\n",
    "    grid, moist_on=False, time_integration_scheme='rk3cosmo',\n",
    "    horizontal_flux_scheme='fifth_order_upwind', horizontal_boundary_type='relaxed',\n",
    "    intermediate_parameterizations=cc, diagnostics=taz.DiagnosticComponentComposite(dv),\n",
    "    damp_on=True, damp_type='rayleigh', damp_depth=15, damp_max=0.0002, damp_at_every_stage=False,\n",
    "    smooth_on=True, smooth_type='third_order', smooth_coeff=0.24, smooth_at_every_stage=False,\n",
    "    backend=gt.mode.NUMPY, dtype=np.float32\n",
    ")"
   ]
  },
  {
   "cell_type": "markdown",
   "metadata": {},
   "source": [
    "Create a monitor for interactive visualization\n",
    "--"
   ]
  },
  {
   "cell_type": "code",
   "execution_count": null,
   "metadata": {},
   "outputs": [],
   "source": [
    "# The drawers and the artist generating the left subplot\n",
    "drawer1_properties = {\n",
    "    'fontsize': 16, 'cmap_name': 'BuRd', 'cbar_on': True, \n",
    "    'cbar_levels': 18, 'cbar_ticks_step': 4, \n",
    "    'cbar_center': 15, 'cbar_half_width': 8.5,\n",
    "    'cbar_orientation': 'horizontal',\n",
    "    'cbar_x_label': 'Horizontal velocity [m s$^{-1}$]',\n",
    "    'draw_vertical_levels': False,\n",
    "}\n",
    "drawer1 = taz.Contourf(\n",
    "    grid, 'horizontal_velocity', 'm s^-1', z=-1,  \n",
    "    xaxis_units='km', yaxis_units='km', properties=drawer1_properties,\n",
    ")\n",
    "drawer2_properties = {\n",
    "    'fontsize': 16, 'x_step': 2, 'y_step': 2, 'colors': 'black',\n",
    "    'draw_vertical_levels': False, 'alpha': 0.5,\n",
    "}\n",
    "drawer2 = taz.Quiver(\n",
    "    grid, z=-1, xaxis_units='km', yaxis_units='km',\n",
    "    xcomp_name='x_velocity', xcomp_units='m s^-1',\n",
    "    ycomp_name='y_velocity', ycomp_units='m s^-1',\n",
    "    properties=drawer2_properties\n",
    ")\n",
    "topo_drawer = taz.Contour(\n",
    "    grid, 'topography', 'km', z=-1, xaxis_units='km', yaxis_units='km',\n",
    "    properties={'colors': 'darkgray'}\n",
    ")\n",
    "axes1_properties = {\n",
    "    'fontsize': 16, 'title_left': '$\\\\theta = 300$ K',\n",
    "    'x_label': '$x$ [km]', 'x_lim': [0, 500],\n",
    "    'y_label': '$y$ [km]', 'y_lim': [-250, 250],\n",
    "}\n",
    "plot1 = taz.Plot((drawer1, drawer2, topo_drawer), axes_properties=axes1_properties)\n",
    "\n",
    "# The drawer and the artist generating the right subplot\n",
    "drawer3_properties = {\n",
    "    'fontsize': 16, 'cmap_name': 'BuRd', 'cbar_on': True, \n",
    "    'cbar_levels': 18, 'cbar_ticks_step': 4, \n",
    "    'cbar_center': 15, 'cbar_half_width': 8.5,\n",
    "    'cbar_orientation': 'horizontal',\n",
    "    'cbar_x_label': '$x$-velocity [m s$^{-1}$]',\n",
    "    'draw_vertical_levels': True,\n",
    "}\n",
    "drawer3 = taz.Contourf(\n",
    "    grid, 'x_velocity_at_u_locations', 'm s^-1', y=25,  \n",
    "    xaxis_units='km', zaxis_name='height', zaxis_units='km',\n",
    "    properties=drawer3_properties,\n",
    ")\n",
    "topo_drawer = taz.LineProfile(\n",
    "    grid, 'topography', 'km', y=25, z=-1, axis_units='km',\n",
    "    properties={'linecolor': 'black', 'linewidth': 1.3}\n",
    ")\n",
    "axes3_properties = {\n",
    "    'fontsize': 16, 'title_left': '$y = 0$ km',\n",
    "    'x_label': '$x$ [km]', 'x_lim': [0, 500],\n",
    "    'y_label': '$z$ [km]', 'y_lim': [0, 14],\n",
    "}\n",
    "plot2 = taz.Plot((drawer3, topo_drawer), axes_properties=axes3_properties)\n",
    "\n",
    "# The monitor encompassing and coordinating the two artists\n",
    "figure_properties = {'fontsize': 16, 'figsize': (12, 7), 'tight_layout': True}\n",
    "monitor = taz.PlotComposite(\n",
    "    nrows=1, ncols=2, artists=(plot1, plot2), interactive=False, figure_properties=figure_properties\n",
    ")"
   ]
  },
  {
   "cell_type": "markdown",
   "metadata": {},
   "source": [
    "Run the simulation\n",
    "--"
   ]
  },
  {
   "cell_type": "code",
   "execution_count": null,
   "metadata": {},
   "outputs": [],
   "source": [
    "# Simulation settings\n",
    "timestep = timedelta(seconds=24)\n",
    "niter    = 1800\n",
    "\n",
    "for i in range(niter):\n",
    "    # Update the (time-dependent) topography\n",
    "    dycore.update_topography((i+1)*timestep)\n",
    "    \n",
    "    # Step the solution\n",
    "    state_new = dycore(state, {}, timestep)\n",
    "    state.update(state_new)\n",
    "\n",
    "    if (i+1) % 30 == 0:\n",
    "        # Retrieve the diagnostics variables\n",
    "        diagnostics = dv(state)\n",
    "        state.update(diagnostics)\n",
    "        \n",
    "        # Plot the solution\n",
    "        plot1.axes_properties['title_right'] = str((i+1)*timestep)\n",
    "        plot2.axes_properties['title_right'] = str((i+1)*timestep)\n",
    "        fig = monitor.store(((state, state, state), (state, state)), show=False)\n",
    "        display.clear_output(wait=True)\n",
    "        display.display(fig)\n",
    "        \n",
    "print('Simulation successfully completed. HOORAY!')"
   ]
  },
  {
   "cell_type": "code",
   "execution_count": null,
   "metadata": {},
   "outputs": [],
   "source": []
  }
 ],
 "metadata": {
  "kernelspec": {
   "display_name": "Python 3",
   "language": "python",
   "name": "python3"
  },
  "language_info": {
   "codemirror_mode": {
    "name": "ipython",
    "version": 3
   },
   "file_extension": ".py",
   "mimetype": "text/x-python",
   "name": "python",
   "nbconvert_exporter": "python",
   "pygments_lexer": "ipython3",
   "version": "3.5.6"
  }
 },
 "nbformat": 4,
 "nbformat_minor": 2
}
