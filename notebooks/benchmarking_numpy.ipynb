{
 "cells": [
  {
   "cell_type": "markdown",
   "metadata": {},
   "source": [
    "# Benchmarking: numpy\n",
    "\n",
    "Timing a plain numpy implementation of some basic mathematical operations."
   ]
  },
  {
   "cell_type": "markdown",
   "metadata": {},
   "source": [
    "## User input"
   ]
  },
  {
   "cell_type": "code",
   "execution_count": 1,
   "metadata": {},
   "outputs": [],
   "source": [
    "import numpy as np\n",
    "\n",
    "# storage\n",
    "dtype = np.float64\n",
    "storage_shape = (321, 321, 120)\n",
    "\n",
    "# serialization\n",
    "serialize = True\n",
    "filename = \"timings_daint.xlsx\"\n",
    "sheetname = \"{} x {} x {}\".format(*storage_shape)"
   ]
  },
  {
   "cell_type": "markdown",
   "metadata": {},
   "source": [
    "## Data initialization"
   ]
  },
  {
   "cell_type": "code",
   "execution_count": 2,
   "metadata": {},
   "outputs": [],
   "source": [
    "from copy import deepcopy\n",
    "\n",
    "a = np.zeros(storage_shape, dtype=dtype)\n",
    "a[...] = np.random.rand(*storage_shape)\n",
    "a_dc = deepcopy(a)\n",
    "b = np.zeros(storage_shape, dtype=dtype)\n",
    "b[...] = np.random.rand(*storage_shape)\n",
    "c = np.zeros(storage_shape, dtype=dtype)\n",
    "c[...] = np.random.rand(*storage_shape)\n",
    "d = np.zeros(storage_shape, dtype=dtype)\n",
    "\n",
    "f = np.random.rand(1).item()"
   ]
  },
  {
   "cell_type": "markdown",
   "metadata": {},
   "source": [
    "## Serialization setup"
   ]
  },
  {
   "cell_type": "code",
   "execution_count": 3,
   "metadata": {},
   "outputs": [
    {
     "name": "stdout",
     "output_type": "stream",
     "text": [
      "Collecting xlrd\n",
      "  Downloading https://files.pythonhosted.org/packages/b0/16/63576a1a001752e34bf8ea62e367997530dc553b689356b9879339cf45a4/xlrd-1.2.0-py2.py3-none-any.whl (103kB)\n",
      "\u001b[K    100% |████████████████████████████████| 112kB 635kB/s ta 0:00:01\n",
      "\u001b[?25hInstalling collected packages: xlrd\n",
      "Successfully installed xlrd-1.2.0\n",
      "\u001b[33mYou are using pip version 9.0.3, however version 19.3.1 is available.\n",
      "You should consider upgrading via the 'pip install --upgrade pip' command.\u001b[0m\n"
     ]
    }
   ],
   "source": [
    "# install and import openpyxl\n",
    "is_installed = !pip list 2> /dev/null | grep 'openpyxl'\n",
    "if not is_installed:\n",
    "    !pip install openpyxl==2.6\n",
    "import openpyxl as xl\n",
    "\n",
    "# install and import pandas\n",
    "is_installed = !pip list 2> /dev/null | grep 'pandas'\n",
    "if not is_installed:\n",
    "    !pip install pandas\n",
    "import pandas as pd\n",
    "\n",
    "# install xlrd\n",
    "is_installed = !pip list 2> /dev/null | grep 'xlrd'\n",
    "if not is_installed:\n",
    "    !pip install xlrd"
   ]
  },
  {
   "cell_type": "code",
   "execution_count": 4,
   "metadata": {},
   "outputs": [],
   "source": [
    "# dataframe's indices and column\n",
    "index = [\n",
    "    \"copy\", \n",
    "    \"copychange\", \n",
    "    \"abs\", \n",
    "    \"iabs\", \n",
    "    \"add\", \n",
    "    \"iadd\", \n",
    "    \"sub\", \n",
    "    \"isub\", \n",
    "    \"mul\", \n",
    "    \"imul\",\n",
    "    \"addsub\",\n",
    "    \"iaddsub\",\n",
    "    \"fma\",\n",
    "    \"sts_rk2_0\",\n",
    "    \"sts_rk3ws_0\"\n",
    "]\n",
    "column = \"numpy\"\n",
    "    \n",
    "if serialize:\n",
    "    # create the spreadsheet\n",
    "    import os\n",
    "    if not os.path.exists(filename):\n",
    "        wb = xl.Workbook()\n",
    "        wb.save(filename=filename)\n",
    "    else:\n",
    "        wb = xl.load_workbook(filename)\n",
    "        \n",
    "    # create an ExcelWriter object\n",
    "    with pd.ExcelWriter(filename, engine=\"openpyxl\") as writer:\n",
    "        writer.book = wb\n",
    "        # writer.sheets = dict((ws.title, ws) for ws in wb.worksheets)\n",
    "    \n",
    "    if sheetname not in wb.sheetnames:\n",
    "        # create an empty dataframe\n",
    "        df = pd.DataFrame(data=[None,]*len(index), index=index, columns=[column,])\n",
    "        df.to_excel(writer, sheet_name=sheetname)\n",
    "    else:\n",
    "        # load the dataframe\n",
    "        df = pd.read_excel(writer, sheet_name=sheetname, index_col=0)\n",
    "        \n",
    "        # remove the sheet\n",
    "        sheetid = wb.sheetnames.index(sheetname)\n",
    "        wb.remove(wb.worksheets[sheetid])\n",
    "else:\n",
    "    # create the dataframe\n",
    "    df = pd.DataFrame(data=[None,]*len(index), index=index, columns=[column,])"
   ]
  },
  {
   "cell_type": "markdown",
   "metadata": {},
   "source": [
    "## Timing"
   ]
  },
  {
   "cell_type": "code",
   "execution_count": 5,
   "metadata": {},
   "outputs": [
    {
     "name": "stdout",
     "output_type": "stream",
     "text": [
      "9.45 ms ± 4.77 µs per loop (mean ± std. dev. of 7 runs, 100 loops each)\n"
     ]
    }
   ],
   "source": [
    "# copy\n",
    "out = %timeit -o a[...] = b[...]\n",
    "df.at[\"copy\", column] = 1000 * out.average"
   ]
  },
  {
   "cell_type": "code",
   "execution_count": 6,
   "metadata": {},
   "outputs": [
    {
     "name": "stdout",
     "output_type": "stream",
     "text": [
      "40.7 ms ± 20.9 µs per loop (mean ± std. dev. of 7 runs, 10 loops each)\n"
     ]
    }
   ],
   "source": [
    "# copychange\n",
    "out = %timeit -o a = - b"
   ]
  },
  {
   "cell_type": "code",
   "execution_count": 7,
   "metadata": {},
   "outputs": [
    {
     "name": "stdout",
     "output_type": "stream",
     "text": [
      "50.3 ms ± 189 µs per loop (mean ± std. dev. of 7 runs, 10 loops each)\n"
     ]
    }
   ],
   "source": [
    "# copychange with assignment\n",
    "out = %timeit -o a[...] = - b[...]\n",
    "df.at[\"copychange\", column] = 1000 * out.average"
   ]
  },
  {
   "cell_type": "code",
   "execution_count": 8,
   "metadata": {},
   "outputs": [
    {
     "name": "stdout",
     "output_type": "stream",
     "text": [
      "40.7 ms ± 199 µs per loop (mean ± std. dev. of 7 runs, 10 loops each)\n"
     ]
    }
   ],
   "source": [
    "# abs\n",
    "out = %timeit -o b = np.abs(a)"
   ]
  },
  {
   "cell_type": "code",
   "execution_count": 9,
   "metadata": {},
   "outputs": [
    {
     "name": "stdout",
     "output_type": "stream",
     "text": [
      "49.9 ms ± 28.3 µs per loop (mean ± std. dev. of 7 runs, 10 loops each)\n"
     ]
    }
   ],
   "source": [
    "# abs with assignment\n",
    "out = %timeit -o b[...] = np.abs(a)\n",
    "df.at[\"abs\", column] = 1000 * out.average"
   ]
  },
  {
   "cell_type": "code",
   "execution_count": 10,
   "metadata": {},
   "outputs": [
    {
     "name": "stdout",
     "output_type": "stream",
     "text": [
      "50.1 ms ± 104 µs per loop (mean ± std. dev. of 7 runs, 10 loops each)\n"
     ]
    }
   ],
   "source": [
    "# iabs with assignment\n",
    "out = %timeit -o a[...] = np.abs(a)\n",
    "df.at[\"iabs\", column] = 1000 * out.average"
   ]
  },
  {
   "cell_type": "code",
   "execution_count": 11,
   "metadata": {
    "pycharm": {
     "name": "#%%\n"
    }
   },
   "outputs": [
    {
     "name": "stdout",
     "output_type": "stream",
     "text": [
      "45.4 ms ± 74.9 µs per loop (mean ± std. dev. of 7 runs, 10 loops each)\n"
     ]
    }
   ],
   "source": [
    "# add\n",
    "out = %timeit -o c = a + b"
   ]
  },
  {
   "cell_type": "code",
   "execution_count": 12,
   "metadata": {
    "pycharm": {
     "name": "#%%\n"
    }
   },
   "outputs": [
    {
     "name": "stdout",
     "output_type": "stream",
     "text": [
      "55.1 ms ± 66.4 µs per loop (mean ± std. dev. of 7 runs, 10 loops each)\n"
     ]
    }
   ],
   "source": [
    "# add with assignment\n",
    "out = %timeit -o c[...] = a[...] + b[...]\n",
    "df.at[\"add\", column] = 1000 * out.average"
   ]
  },
  {
   "cell_type": "code",
   "execution_count": 13,
   "metadata": {
    "pycharm": {
     "name": "#%%\n"
    }
   },
   "outputs": [
    {
     "name": "stdout",
     "output_type": "stream",
     "text": [
      "15.3 ms ± 10.3 µs per loop (mean ± std. dev. of 7 runs, 100 loops each)\n"
     ]
    }
   ],
   "source": [
    "# iadd with assignment\n",
    "out = %timeit -o a[...] += b[...]\n",
    "df.at[\"iadd\", column] = 1000 * out.average"
   ]
  },
  {
   "cell_type": "code",
   "execution_count": 14,
   "metadata": {},
   "outputs": [
    {
     "name": "stdout",
     "output_type": "stream",
     "text": [
      "45.5 ms ± 193 µs per loop (mean ± std. dev. of 7 runs, 10 loops each)\n"
     ]
    }
   ],
   "source": [
    "# sub\n",
    "out = %timeit -o c = a - b"
   ]
  },
  {
   "cell_type": "code",
   "execution_count": 15,
   "metadata": {},
   "outputs": [
    {
     "name": "stdout",
     "output_type": "stream",
     "text": [
      "54.9 ms ± 219 µs per loop (mean ± std. dev. of 7 runs, 10 loops each)\n"
     ]
    }
   ],
   "source": [
    "# sub with assignment\n",
    "out = %timeit -o c[...] = a[...] - b[...]\n",
    "df.at[\"sub\", column] = 1000 * out.average"
   ]
  },
  {
   "cell_type": "code",
   "execution_count": 16,
   "metadata": {},
   "outputs": [
    {
     "name": "stdout",
     "output_type": "stream",
     "text": [
      "15.5 ms ± 249 µs per loop (mean ± std. dev. of 7 runs, 100 loops each)\n"
     ]
    }
   ],
   "source": [
    "# isub with assignment\n",
    "out = %timeit -o a[...] -= b[...]\n",
    "df.at[\"isub\", column] = 1000 * out.average"
   ]
  },
  {
   "cell_type": "code",
   "execution_count": 17,
   "metadata": {
    "pycharm": {
     "name": "#%%\n"
    }
   },
   "outputs": [
    {
     "name": "stdout",
     "output_type": "stream",
     "text": [
      "45.5 ms ± 133 µs per loop (mean ± std. dev. of 7 runs, 10 loops each)\n"
     ]
    }
   ],
   "source": [
    "# mul\n",
    "out = %timeit -o c = a * b"
   ]
  },
  {
   "cell_type": "code",
   "execution_count": 18,
   "metadata": {
    "pycharm": {
     "name": "#%%\n"
    }
   },
   "outputs": [
    {
     "name": "stdout",
     "output_type": "stream",
     "text": [
      "55.1 ms ± 183 µs per loop (mean ± std. dev. of 7 runs, 10 loops each)\n"
     ]
    }
   ],
   "source": [
    "# mul with assignment\n",
    "out = %timeit -o c[...] = a[...] * b[...]\n",
    "df.at[\"mul\", column] = 1000 * out.average"
   ]
  },
  {
   "cell_type": "code",
   "execution_count": 19,
   "metadata": {
    "pycharm": {
     "name": "#%%\n"
    }
   },
   "outputs": [
    {
     "name": "stdout",
     "output_type": "stream",
     "text": [
      "18.3 ms ± 1.44 ms per loop (mean ± std. dev. of 7 runs, 100 loops each)\n"
     ]
    }
   ],
   "source": [
    "# imul with assignment\n",
    "out = %timeit -o a[...] *= b[...]\n",
    "df.at[\"imul\", column] = 1000 * out.average"
   ]
  },
  {
   "cell_type": "code",
   "execution_count": 20,
   "metadata": {},
   "outputs": [
    {
     "name": "stdout",
     "output_type": "stream",
     "text": [
      "60.5 ms ± 54.2 µs per loop (mean ± std. dev. of 7 runs, 10 loops each)\n"
     ]
    }
   ],
   "source": [
    "# addsub\n",
    "out = %timeit -o d = a + b - c"
   ]
  },
  {
   "cell_type": "code",
   "execution_count": 21,
   "metadata": {},
   "outputs": [
    {
     "name": "stdout",
     "output_type": "stream",
     "text": [
      "70.1 ms ± 113 µs per loop (mean ± std. dev. of 7 runs, 10 loops each)\n"
     ]
    }
   ],
   "source": [
    "# addsub with assignment\n",
    "out = %timeit -o d[...] = a[...] + b[...] - c[...]\n",
    "df.at[\"addsub\", column] = 1000 * out.average"
   ]
  },
  {
   "cell_type": "code",
   "execution_count": 22,
   "metadata": {},
   "outputs": [
    {
     "name": "stdout",
     "output_type": "stream",
     "text": [
      "60.7 ms ± 39.3 µs per loop (mean ± std. dev. of 7 runs, 10 loops each)\n"
     ]
    }
   ],
   "source": [
    "# iaddsub with assignment\n",
    "out = %timeit -o a[...] += b[...] - c[...]\n",
    "df.at[\"iaddsub\", column] = 1000 * out.average"
   ]
  },
  {
   "cell_type": "code",
   "execution_count": 23,
   "metadata": {},
   "outputs": [
    {
     "name": "stdout",
     "output_type": "stream",
     "text": [
      "55.9 ms ± 189 µs per loop (mean ± std. dev. of 7 runs, 10 loops each)\n"
     ]
    }
   ],
   "source": [
    "# fma\n",
    "out = %timeit -o c = a + f * b"
   ]
  },
  {
   "cell_type": "code",
   "execution_count": 24,
   "metadata": {},
   "outputs": [
    {
     "name": "stdout",
     "output_type": "stream",
     "text": [
      "65.1 ms ± 40.9 µs per loop (mean ± std. dev. of 7 runs, 10 loops each)\n"
     ]
    }
   ],
   "source": [
    "# fma with assignment\n",
    "out = %timeit -o c[...] = a[...] + f * b[...]\n",
    "df.at[\"fma\", column] = 1000 * out.average"
   ]
  },
  {
   "cell_type": "code",
   "execution_count": 25,
   "metadata": {},
   "outputs": [
    {
     "name": "stdout",
     "output_type": "stream",
     "text": [
      "111 ms ± 163 µs per loop (mean ± std. dev. of 7 runs, 10 loops each)\n"
     ]
    }
   ],
   "source": [
    "# sts_rk2_0\n",
    "out = %timeit -o d = 0.5 * (a + b + f * c)"
   ]
  },
  {
   "cell_type": "code",
   "execution_count": 26,
   "metadata": {},
   "outputs": [
    {
     "name": "stdout",
     "output_type": "stream",
     "text": [
      "121 ms ± 309 µs per loop (mean ± std. dev. of 7 runs, 10 loops each)\n"
     ]
    }
   ],
   "source": [
    "# sts_rk2_0 with assignment\n",
    "out = %timeit -o d[...] = 0.5 * (a[...] + b[...] + f * c[...])\n",
    "df.at[\"sts_rk2_0\", column] = 1000 * out.average"
   ]
  },
  {
   "cell_type": "code",
   "execution_count": 27,
   "metadata": {},
   "outputs": [
    {
     "name": "stdout",
     "output_type": "stream",
     "text": [
      "137 ms ± 109 µs per loop (mean ± std. dev. of 7 runs, 10 loops each)\n"
     ]
    }
   ],
   "source": [
    "# sts_rk3ws_0\n",
    "out = %timeit -o d = (2.0 * a + b + f * c) / 3.0"
   ]
  },
  {
   "cell_type": "code",
   "execution_count": 28,
   "metadata": {},
   "outputs": [
    {
     "name": "stdout",
     "output_type": "stream",
     "text": [
      "147 ms ± 235 µs per loop (mean ± std. dev. of 7 runs, 10 loops each)\n"
     ]
    }
   ],
   "source": [
    "# sts_rk3ws_0 with assignment\n",
    "out = %timeit -o d[...] = (2.0 * a[...] + b[...] + f * c[...]) / 3.0\n",
    "df.at[\"sts_rk3ws_0\", column] = 1000 * out.average"
   ]
  },
  {
   "cell_type": "markdown",
   "metadata": {},
   "source": [
    "## Serialization"
   ]
  },
  {
   "cell_type": "code",
   "execution_count": 29,
   "metadata": {},
   "outputs": [],
   "source": [
    "if serialize:\n",
    "    df.to_excel(writer, sheet_name=sheetname)\n",
    "    writer.save()"
   ]
  },
  {
   "cell_type": "code",
   "execution_count": 30,
   "metadata": {},
   "outputs": [
    {
     "data": {
      "text/html": [
       "<div>\n",
       "<style scoped>\n",
       "    .dataframe tbody tr th:only-of-type {\n",
       "        vertical-align: middle;\n",
       "    }\n",
       "\n",
       "    .dataframe tbody tr th {\n",
       "        vertical-align: top;\n",
       "    }\n",
       "\n",
       "    .dataframe thead th {\n",
       "        text-align: right;\n",
       "    }\n",
       "</style>\n",
       "<table border=\"1\" class=\"dataframe\">\n",
       "  <thead>\n",
       "    <tr style=\"text-align: right;\">\n",
       "      <th></th>\n",
       "      <th>numpy</th>\n",
       "    </tr>\n",
       "  </thead>\n",
       "  <tbody>\n",
       "    <tr>\n",
       "      <th>copy</th>\n",
       "      <td>9.44936</td>\n",
       "    </tr>\n",
       "    <tr>\n",
       "      <th>copychange</th>\n",
       "      <td>50.3371</td>\n",
       "    </tr>\n",
       "    <tr>\n",
       "      <th>abs</th>\n",
       "      <td>49.9262</td>\n",
       "    </tr>\n",
       "    <tr>\n",
       "      <th>iabs</th>\n",
       "      <td>50.1352</td>\n",
       "    </tr>\n",
       "    <tr>\n",
       "      <th>add</th>\n",
       "      <td>55.0943</td>\n",
       "    </tr>\n",
       "    <tr>\n",
       "      <th>iadd</th>\n",
       "      <td>15.2952</td>\n",
       "    </tr>\n",
       "    <tr>\n",
       "      <th>sub</th>\n",
       "      <td>54.9044</td>\n",
       "    </tr>\n",
       "    <tr>\n",
       "      <th>isub</th>\n",
       "      <td>15.5014</td>\n",
       "    </tr>\n",
       "    <tr>\n",
       "      <th>mul</th>\n",
       "      <td>55.0797</td>\n",
       "    </tr>\n",
       "    <tr>\n",
       "      <th>imul</th>\n",
       "      <td>18.3447</td>\n",
       "    </tr>\n",
       "    <tr>\n",
       "      <th>addsub</th>\n",
       "      <td>70.1383</td>\n",
       "    </tr>\n",
       "    <tr>\n",
       "      <th>iaddsub</th>\n",
       "      <td>60.7446</td>\n",
       "    </tr>\n",
       "    <tr>\n",
       "      <th>fma</th>\n",
       "      <td>65.1366</td>\n",
       "    </tr>\n",
       "    <tr>\n",
       "      <th>sts_rk2_0</th>\n",
       "      <td>121.034</td>\n",
       "    </tr>\n",
       "    <tr>\n",
       "      <th>sts_rk3ws_0</th>\n",
       "      <td>146.867</td>\n",
       "    </tr>\n",
       "  </tbody>\n",
       "</table>\n",
       "</div>"
      ],
      "text/plain": [
       "               numpy\n",
       "copy         9.44936\n",
       "copychange   50.3371\n",
       "abs          49.9262\n",
       "iabs         50.1352\n",
       "add          55.0943\n",
       "iadd         15.2952\n",
       "sub          54.9044\n",
       "isub         15.5014\n",
       "mul          55.0797\n",
       "imul         18.3447\n",
       "addsub       70.1383\n",
       "iaddsub      60.7446\n",
       "fma          65.1366\n",
       "sts_rk2_0    121.034\n",
       "sts_rk3ws_0  146.867"
      ]
     },
     "execution_count": 30,
     "metadata": {},
     "output_type": "execute_result"
    }
   ],
   "source": [
    "df"
   ]
  }
 ],
 "metadata": {
  "kernelspec": {
   "display_name": "tazkernel",
   "language": "python",
   "name": "tazkernel"
  },
  "language_info": {
   "codemirror_mode": {
    "name": "ipython",
    "version": 3
   },
   "file_extension": ".py",
   "mimetype": "text/x-python",
   "name": "python",
   "nbconvert_exporter": "python",
   "pygments_lexer": "ipython3",
   "version": "3.6.5"
  },
  "pycharm": {
   "stem_cell": {
    "cell_type": "raw",
    "metadata": {
     "collapsed": false
    },
    "source": []
   }
  }
 },
 "nbformat": 4,
 "nbformat_minor": 4
}
