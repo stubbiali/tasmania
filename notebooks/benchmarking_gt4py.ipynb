{
 "cells": [
  {
   "cell_type": "markdown",
   "metadata": {},
   "source": [
    "# Benchmarking: gt4py\n",
    "\n",
    "Timing a gt4py-powered implementation of some basic mathematical operations."
   ]
  },
  {
   "cell_type": "markdown",
   "metadata": {},
   "source": [
    "## User input"
   ]
  },
  {
   "cell_type": "code",
   "execution_count": 105,
   "metadata": {},
   "outputs": [],
   "source": [
    "import numpy as np\n",
    "\n",
    "# gt4py\n",
    "backend = \"gtcuda\"\n",
    "dtype = np.float64\n",
    "storage_shape = (321, 321, 120)\n",
    "default_origin = (3, 3, 0)\n",
    "\n",
    "# serialization\n",
    "serialize = True\n",
    "filename = \"timings_daint.xlsx\"\n",
    "sheetname = \"{} x {} x {}\".format(*storage_shape)"
   ]
  },
  {
   "cell_type": "markdown",
   "metadata": {},
   "source": [
    "## Data initialization"
   ]
  },
  {
   "cell_type": "code",
   "execution_count": 3,
   "metadata": {},
   "outputs": [
    {
     "name": "stdout",
     "output_type": "stream",
     "text": [
      "Obtaining file:///users/subbiali/jupyterhub/tasmania-prognostic-saturation\n",
      "Requirement already satisfied: backports-abc==0.5 in /users/subbiali/jupyterhub/tasmania/venv/lib/python3.6/site-packages (from tasmania==0.6.1)\n",
      "Requirement already satisfied: certifi>=14.5.14 in /apps/daint/UES/jenkins/7.0.UP01/gpu/easybuild/software/jupyterlab/1.1.1-CrayGNU-19.10/lib/python3.6/site-packages (from tasmania==0.6.1)\n",
      "Requirement already satisfied: coverage>=4.4 in /users/subbiali/jupyterhub/tasmania/venv/lib/python3.6/site-packages (from tasmania==0.6.1)\n",
      "Requirement already satisfied: Cython>=0.27.3 in /apps/daint/UES/jenkins/7.0.UP01/gpu/easybuild/software/PyExtensions/3.6.5.7-CrayGNU-19.10/lib/python3.6/site-packages/Cython-0.28.4-py3.6-linux-x86_64.egg (from tasmania==0.6.1)\n",
      "Collecting decorator==4.1.2 (from tasmania==0.6.1)\n",
      "  Using cached https://files.pythonhosted.org/packages/a1/4e/c42167ba5c3192bed633726d39d7896cc55d4fa3ec4a1fb60cd3a53fc4c7/decorator-4.1.2-py2.py3-none-any.whl\n",
      "Requirement already satisfied: docutils==0.14 in /users/subbiali/jupyterhub/tasmania/venv/lib/python3.6/site-packages (from tasmania==0.6.1)\n",
      "Requirement already satisfied: geos==0.2.1 in /users/subbiali/jupyterhub/tasmania/venv/lib/python3.6/site-packages (from tasmania==0.6.1)\n",
      "Collecting graphviz==0.5.2 (from tasmania==0.6.1)\n",
      "  Using cached https://files.pythonhosted.org/packages/c2/46/fab473f54ffbb932d191ca96a71a5d4f900b480526466e96e1c0069e7dac/graphviz-0.5.2-py2.py3-none-any.whl\n",
      "Requirement already satisfied: hypothesis==4.28.0 in /users/subbiali/jupyterhub/tasmania/venv/lib/python3.6/site-packages (from tasmania==0.6.1)\n",
      "Requirement already satisfied: ipdb==0.10.3 in /users/subbiali/jupyterhub/tasmania/venv/lib/python3.6/site-packages (from tasmania==0.6.1)\n",
      "Requirement already satisfied: ipython>=5.3.0 in /apps/daint/UES/jenkins/7.0.UP01/gpu/easybuild/software/IPython/7.7.0-CrayGNU-19.10-python3/lib/python3.6/site-packages (from tasmania==0.6.1)\n",
      "Requirement already satisfied: ipywidgets>=4.0 in /apps/daint/UES/jenkins/7.0.UP01/gpu/easybuild/software/jupyterlab/1.1.1-CrayGNU-19.10/lib/python3.6/site-packages (from tasmania==0.6.1)\n",
      "Requirement already satisfied: Jinja2>=2.8 in /apps/daint/UES/jenkins/7.0.UP01/gpu/easybuild/software/jupyterlab/1.1.1-CrayGNU-19.10/lib/python3.6/site-packages (from tasmania==0.6.1)\n",
      "Requirement already satisfied: jupyter-client>=5.1.0 in /apps/daint/UES/jenkins/7.0.UP01/gpu/easybuild/software/jupyterlab/1.1.1-CrayGNU-19.10/lib/python3.6/site-packages (from tasmania==0.6.1)\n",
      "Requirement already satisfied: jupyter-contrib-core>=0.3.3 in /users/subbiali/jupyterhub/tasmania/venv/lib/python3.6/site-packages (from tasmania==0.6.1)\n",
      "Requirement already satisfied: jupyter-contrib-nbextensions>=0.4.0 in /users/subbiali/jupyterhub/tasmania/venv/lib/python3.6/site-packages (from tasmania==0.6.1)\n",
      "Requirement already satisfied: jupyter-core>=4.4.0 in /apps/daint/UES/jenkins/7.0.UP01/gpu/easybuild/software/jupyterlab/1.1.1-CrayGNU-19.10/lib/python3.6/site-packages (from tasmania==0.6.1)\n",
      "Requirement already satisfied: jupyter-highlight-selected-word>=0.1.0 in /users/subbiali/jupyterhub/tasmania/venv/lib/python3.6/site-packages (from tasmania==0.6.1)\n",
      "Requirement already satisfied: jupyter-latex-envs>=1.4.4 in /users/subbiali/jupyterhub/tasmania/venv/lib/python3.6/site-packages (from tasmania==0.6.1)\n",
      "Requirement already satisfied: jupyter-nbextensions-configurator>=0.4.0 in /users/subbiali/jupyterhub/tasmania/venv/lib/python3.6/site-packages (from tasmania==0.6.1)\n",
      "Requirement already satisfied: jupyterhub>=0.8.1 in /apps/daint/UES/jenkins/7.0.UP01/gpu/easybuild/software/jupyterlab/1.1.1-CrayGNU-19.10/lib/python3.6/site-packages (from tasmania==0.6.1)\n",
      "Collecting MarkupSafe==1.0 (from tasmania==0.6.1)\n",
      "Collecting matplotlib==2.0.0 (from tasmania==0.6.1)\n",
      "  Using cached https://files.pythonhosted.org/packages/44/28/86488fe20a146241ece4570af94b49689ab80b66a1609256a8469a0bd1b0/matplotlib-2.0.0-1-cp36-cp36m-manylinux1_x86_64.whl\n",
      "Requirement already satisfied: numpy>=1.9 in /opt/python/3.6.5.7/lib/python3.6/site-packages (from tasmania==0.6.1)\n",
      "Collecting nbconvert==5.3.1 (from tasmania==0.6.1)\n",
      "  Using cached https://files.pythonhosted.org/packages/39/ea/280d6c0d92f8e3ca15fd798bbcc2ea141489f9539de7133d8fe10ea4b049/nbconvert-5.3.1-py2.py3-none-any.whl\n",
      "Requirement already satisfied: nbformat==4.4.0 in /apps/daint/UES/jenkins/7.0.UP01/gpu/easybuild/software/jupyterlab/1.1.1-CrayGNU-19.10/lib/python3.6/site-packages (from tasmania==0.6.1)\n",
      "Requirement already satisfied: netCDF4==1.3.1 in /users/subbiali/jupyterhub/tasmania/venv/lib/python3.6/site-packages (from tasmania==0.6.1)\n",
      "Requirement already satisfied: networkx==1.11 in /users/subbiali/jupyterhub/tasmania/venv/lib/python3.6/site-packages (from tasmania==0.6.1)\n",
      "Requirement already satisfied: notebook>=4.4.1 in /apps/daint/UES/jenkins/7.0.UP01/gpu/easybuild/software/jupyterlab/1.1.1-CrayGNU-19.10/lib/python3.6/site-packages (from tasmania==0.6.1)\n",
      "Collecting pandas==0.24.2 (from tasmania==0.6.1)\n",
      "  Using cached https://files.pythonhosted.org/packages/19/74/e50234bc82c553fecdbd566d8650801e3fe2d6d8c8d940638e3d8a7c5522/pandas-0.24.2-cp36-cp36m-manylinux1_x86_64.whl\n",
      "Requirement already satisfied: pandoc-eqnos==1.2.0 in /users/subbiali/jupyterhub/tasmania/venv/lib/python3.6/site-packages (from tasmania==0.6.1)\n",
      "Requirement already satisfied: pandoc-xnos==1.0.1 in /users/subbiali/jupyterhub/tasmania/venv/lib/python3.6/site-packages (from tasmania==0.6.1)\n",
      "Requirement already satisfied: pandocfilters==1.4.2 in /apps/daint/UES/jenkins/7.0.UP01/gpu/easybuild/software/jupyterlab/1.1.1-CrayGNU-19.10/lib/python3.6/site-packages (from tasmania==0.6.1)\n",
      "Requirement already satisfied: Pygments>=2.0.1 in /apps/daint/UES/jenkins/7.0.UP01/gpu/easybuild/software/IPython/7.7.0-CrayGNU-19.10-python3/lib/python3.6/site-packages/Pygments-2.4.0-py3.6.egg (from tasmania==0.6.1)\n",
      "Requirement already satisfied: pylint>=1.9.0 in /users/subbiali/jupyterhub/tasmania/venv/lib/python3.6/site-packages (from tasmania==0.6.1)\n",
      "Requirement already satisfied: PyOpenGL==3.1.0 in /users/subbiali/jupyterhub/tasmania/venv/lib/python3.6/site-packages (from tasmania==0.6.1)\n",
      "Collecting pyparsing==2.1.9 (from tasmania==0.6.1)\n",
      "  Using cached https://files.pythonhosted.org/packages/40/f8/926538c3f358a52ea5fd61bfe78f9c208bfd5ebc152d148503e210f23ed2/pyparsing-2.1.9-py2.py3-none-any.whl\n",
      "Requirement already satisfied: pyqt5>=5.7.0 in /users/subbiali/jupyterhub/tasmania/venv/lib/python3.6/site-packages (from tasmania==0.6.1)\n",
      "Requirement already satisfied: pyqtgraph==0.9.10 in /users/subbiali/jupyterhub/tasmania/venv/lib/python3.6/site-packages (from tasmania==0.6.1)\n",
      "Collecting pytest>=3.6.0 (from tasmania==0.6.1)\n",
      "  Using cached https://files.pythonhosted.org/packages/da/ed/d22d7f06eb1107271694ed2171b9d52e8eea38d9757124e75ba13324ac77/pytest-5.3.1-py3-none-any.whl\n",
      "Requirement already satisfied: pytest-cov>=2.6.0 in /users/subbiali/jupyterhub/tasmania/venv/lib/python3.6/site-packages (from tasmania==0.6.1)\n",
      "Requirement already satisfied: pytest-mpl>=0.10 in /users/subbiali/jupyterhub/tasmania/venv/lib/python3.6/site-packages (from tasmania==0.6.1)\n",
      "Requirement already satisfied: pytest-xdist>=1.15.0 in /users/subbiali/jupyterhub/tasmania/venv/lib/python3.6/site-packages (from tasmania==0.6.1)\n",
      "Collecting python-dateutil==2.5.3 (from tasmania==0.6.1)\n",
      "  Using cached https://files.pythonhosted.org/packages/33/68/9eadc96f9899caebd98f55f942d6a8f3fb2b8f8e69ba81a0f771269897e9/python_dateutil-2.5.3-py2.py3-none-any.whl\n",
      "Collecting pytz==2014.10 (from tasmania==0.6.1)\n",
      "  Using cached https://files.pythonhosted.org/packages/c5/bc/995a7472f9ca49980ce07ca7a68b0b7c01bc87fc7f9f09707cbfde282a8f/pytz-2014.10-py2.py3-none-any.whl\n",
      "Requirement already satisfied: pyzmq>=14.4.1 in /apps/daint/UES/jenkins/7.0.UP01/gpu/easybuild/software/jupyterlab/1.1.1-CrayGNU-19.10/lib/python3.6/site-packages (from tasmania==0.6.1)\n",
      "Requirement already satisfied: rply==0.7.3 in /users/subbiali/jupyterhub/tasmania/venv/lib/python3.6/site-packages (from tasmania==0.6.1)\n",
      "Requirement already satisfied: scipy>=1.0.0 in /opt/python/3.6.5.7/lib/python3.6/site-packages (from tasmania==0.6.1)\n",
      "Requirement already satisfied: sip>=4.19.8 in /users/subbiali/jupyterhub/tasmania/venv/lib/python3.6/site-packages (from tasmania==0.6.1)\n",
      "Collecting six==1.10.0 (from tasmania==0.6.1)\n",
      "  Using cached https://files.pythonhosted.org/packages/c8/0a/b6723e1bc4c516cb687841499455a8505b44607ab535be01091c0f24f079/six-1.10.0-py2.py3-none-any.whl\n",
      "Requirement already satisfied: snowballstemmer==1.2.1 in /users/subbiali/jupyterhub/tasmania/venv/lib/python3.6/site-packages (from tasmania==0.6.1)\n",
      "Requirement already satisfied: Sphinx==1.6.6 in /users/subbiali/jupyterhub/tasmania/venv/lib/python3.6/site-packages (from tasmania==0.6.1)\n",
      "Requirement already satisfied: sphinx-rtd-theme>=0.2.4 in /users/subbiali/jupyterhub/tasmania/venv/lib/python3.6/site-packages (from tasmania==0.6.1)\n",
      "Requirement already satisfied: sphinxcontrib-napoleon==0.6.1 in /users/subbiali/jupyterhub/tasmania/venv/lib/python3.6/site-packages (from tasmania==0.6.1)\n",
      "Requirement already satisfied: sphinxcontrib-websupport==1.0.1 in /users/subbiali/jupyterhub/tasmania/venv/lib/python3.6/site-packages (from tasmania==0.6.1)\n",
      "Collecting tornado==5 (from tasmania==0.6.1)\n",
      "Requirement already satisfied: urwid==1.3.0 in /users/subbiali/jupyterhub/tasmania/venv/lib/python3.6/site-packages (from tasmania==0.6.1)\n",
      "Requirement already satisfied: xarray>=0.10.0 in /users/subbiali/jupyterhub/tasmania/venv/lib/python3.6/site-packages (from tasmania==0.6.1)\n",
      "Requirement already satisfied: wheel in /users/subbiali/jupyterhub/tasmania/venv/lib/python3.6/site-packages (from tasmania==0.6.1)\n",
      "Requirement already satisfied: flask in /users/subbiali/jupyterhub/tasmania/venv/lib/python3.6/site-packages (from geos==0.2.1->tasmania==0.6.1)\n",
      "Requirement already satisfied: lxml in /users/subbiali/jupyterhub/tasmania/venv/lib/python3.6/site-packages (from geos==0.2.1->tasmania==0.6.1)\n",
      "Requirement already satisfied: attrs>=16.0.0 in /apps/daint/UES/jenkins/7.0.UP01/gpu/easybuild/software/jupyterlab/1.1.1-CrayGNU-19.10/lib/python3.6/site-packages (from hypothesis==4.28.0->tasmania==0.6.1)\n",
      "Requirement already satisfied: setuptools in /opt/python/3.6.5.7/lib/python3.6/site-packages (from ipdb==0.10.3->tasmania==0.6.1)\n",
      "Requirement already satisfied: traitlets in /apps/daint/UES/jenkins/7.0.UP01/gpu/easybuild/software/IPython/7.7.0-CrayGNU-19.10-python3/lib/python3.6/site-packages (from jupyter-client>=5.1.0->tasmania==0.6.1)\n",
      "Requirement already satisfied: pyyaml in /apps/daint/UES/jenkins/7.0.UP01/gpu/easybuild/software/jupyterlab/1.1.1-CrayGNU-19.10/lib/python3.6/site-packages (from jupyter-contrib-nbextensions>=0.4.0->tasmania==0.6.1)\n",
      "Requirement already satisfied: ipython-genutils in /apps/daint/UES/jenkins/7.0.UP01/gpu/easybuild/software/IPython/7.7.0-CrayGNU-19.10-python3/lib/python3.6/site-packages (from jupyter-contrib-nbextensions>=0.4.0->tasmania==0.6.1)\n",
      "Requirement already satisfied: alembic in /apps/daint/UES/jenkins/7.0.UP01/gpu/easybuild/software/jupyterlab/1.1.1-CrayGNU-19.10/lib/python3.6/site-packages (from jupyterhub>=0.8.1->tasmania==0.6.1)\n",
      "Requirement already satisfied: async_generator>=1.8 in /apps/daint/UES/jenkins/7.0.UP01/gpu/easybuild/software/jupyterlab/1.1.1-CrayGNU-19.10/lib/python3.6/site-packages (from jupyterhub>=0.8.1->tasmania==0.6.1)\n",
      "Requirement already satisfied: certipy>=0.1.2 in /apps/daint/UES/jenkins/7.0.UP01/gpu/easybuild/software/jupyterlab/1.1.1-CrayGNU-19.10/lib/python3.6/site-packages (from jupyterhub>=0.8.1->tasmania==0.6.1)\n",
      "Requirement already satisfied: entrypoints in /apps/daint/UES/jenkins/7.0.UP01/gpu/easybuild/software/jupyterlab/1.1.1-CrayGNU-19.10/lib/python3.6/site-packages (from jupyterhub>=0.8.1->tasmania==0.6.1)\n",
      "Requirement already satisfied: oauthlib>=3.0 in /apps/daint/UES/jenkins/7.0.UP01/gpu/easybuild/software/jupyterlab/1.1.1-CrayGNU-19.10/lib/python3.6/site-packages (from jupyterhub>=0.8.1->tasmania==0.6.1)\n",
      "Requirement already satisfied: pamela in /apps/daint/UES/jenkins/7.0.UP01/gpu/easybuild/software/jupyterlab/1.1.1-CrayGNU-19.10/lib/python3.6/site-packages (from jupyterhub>=0.8.1->tasmania==0.6.1)\n",
      "Requirement already satisfied: prometheus_client>=0.0.21 in /apps/daint/UES/jenkins/7.0.UP01/gpu/easybuild/software/jupyterlab/1.1.1-CrayGNU-19.10/lib/python3.6/site-packages (from jupyterhub>=0.8.1->tasmania==0.6.1)\n",
      "Requirement already satisfied: requests in /apps/daint/UES/jenkins/7.0.UP01/gpu/easybuild/software/jupyterlab/1.1.1-CrayGNU-19.10/lib/python3.6/site-packages (from jupyterhub>=0.8.1->tasmania==0.6.1)\n",
      "Requirement already satisfied: SQLAlchemy>=1.1 in /apps/daint/UES/jenkins/7.0.UP01/gpu/easybuild/software/jupyterlab/1.1.1-CrayGNU-19.10/lib/python3.6/site-packages (from jupyterhub>=0.8.1->tasmania==0.6.1)\n",
      "Requirement already satisfied: cycler>=0.10 in /apps/daint/UES/jenkins/7.0.UP01/gpu/easybuild/software/PyExtensions/3.6.5.7-CrayGNU-19.10/lib/python3.6/site-packages/cycler-0.10.0-py3.6.egg (from matplotlib==2.0.0->tasmania==0.6.1)\n",
      "Requirement already satisfied: mistune>=0.7.4 in /apps/daint/UES/jenkins/7.0.UP01/gpu/easybuild/software/jupyterlab/1.1.1-CrayGNU-19.10/lib/python3.6/site-packages (from nbconvert==5.3.1->tasmania==0.6.1)\n",
      "Requirement already satisfied: bleach in /apps/daint/UES/jenkins/7.0.UP01/gpu/easybuild/software/jupyterlab/1.1.1-CrayGNU-19.10/lib/python3.6/site-packages (from nbconvert==5.3.1->tasmania==0.6.1)\n",
      "Requirement already satisfied: testpath in /apps/daint/UES/jenkins/7.0.UP01/gpu/easybuild/software/jupyterlab/1.1.1-CrayGNU-19.10/lib/python3.6/site-packages (from nbconvert==5.3.1->tasmania==0.6.1)\n",
      "Requirement already satisfied: jsonschema!=2.5.0,>=2.4 in /apps/daint/UES/jenkins/7.0.UP01/gpu/easybuild/software/jupyterlab/1.1.1-CrayGNU-19.10/lib/python3.6/site-packages (from nbformat==4.4.0->tasmania==0.6.1)\n",
      "Requirement already satisfied: ipykernel in /apps/daint/UES/jenkins/7.0.UP01/gpu/easybuild/software/jupyterlab/1.1.1-CrayGNU-19.10/lib/python3.6/site-packages (from notebook>=4.4.1->tasmania==0.6.1)\n",
      "Requirement already satisfied: Send2Trash in /apps/daint/UES/jenkins/7.0.UP01/gpu/easybuild/software/jupyterlab/1.1.1-CrayGNU-19.10/lib/python3.6/site-packages (from notebook>=4.4.1->tasmania==0.6.1)\n",
      "Requirement already satisfied: terminado>=0.8.1 in /apps/daint/UES/jenkins/7.0.UP01/gpu/easybuild/software/jupyterlab/1.1.1-CrayGNU-19.10/lib/python3.6/site-packages (from notebook>=4.4.1->tasmania==0.6.1)\n",
      "Requirement already satisfied: psutil<6,>=4.1.0 in /apps/daint/UES/jenkins/7.0.UP01/gpu/easybuild/software/dask/2.2.0-CrayGNU-19.10-python3/lib/python3.6/site-packages (from pandoc-xnos==1.0.1->tasmania==0.6.1)\n",
      "Requirement already satisfied: mccabe<0.7,>=0.6 in /users/subbiali/jupyterhub/tasmania/venv/lib/python3.6/site-packages (from pylint>=1.9.0->tasmania==0.6.1)\n",
      "Requirement already satisfied: isort<5,>=4.2.5 in /users/subbiali/jupyterhub/tasmania/venv/lib/python3.6/site-packages (from pylint>=1.9.0->tasmania==0.6.1)\n",
      "Requirement already satisfied: astroid<2.4,>=2.3.0 in /users/subbiali/jupyterhub/tasmania/venv/lib/python3.6/site-packages (from pylint>=1.9.0->tasmania==0.6.1)\n",
      "Requirement already satisfied: PyQt5_sip<13,>=4.19.19 in /users/subbiali/jupyterhub/tasmania/venv/lib/python3.6/site-packages (from pyqt5>=5.7.0->tasmania==0.6.1)\n",
      "Collecting pluggy<1.0,>=0.12 (from pytest>=3.6.0->tasmania==0.6.1)\n",
      "  Using cached https://files.pythonhosted.org/packages/a0/28/85c7aa31b80d150b772fbe4a229487bc6644da9ccb7e427dd8cc60cb8a62/pluggy-0.13.1-py2.py3-none-any.whl\n",
      "Requirement already satisfied: wcwidth in /apps/daint/UES/jenkins/7.0.UP01/gpu/easybuild/software/IPython/7.7.0-CrayGNU-19.10-python3/lib/python3.6/site-packages/wcwidth-0.1.7-py3.6.egg (from pytest>=3.6.0->tasmania==0.6.1)\n",
      "Requirement already satisfied: importlib-metadata>=0.12; python_version < \"3.8\" in /users/subbiali/jupyterhub/tasmania/venv/lib/python3.6/site-packages (from pytest>=3.6.0->tasmania==0.6.1)\n",
      "Requirement already satisfied: packaging in /apps/daint/UES/jenkins/7.0.UP01/gpu/easybuild/software/dask/2.2.0-CrayGNU-19.10-python3/lib/python3.6/site-packages (from pytest>=3.6.0->tasmania==0.6.1)\n",
      "Requirement already satisfied: more-itertools>=4.0.0 in /opt/python/3.6.5.7/lib/python3.6/site-packages (from pytest>=3.6.0->tasmania==0.6.1)\n",
      "Requirement already satisfied: py>=1.5.0 in /opt/python/3.6.5.7/lib/python3.6/site-packages (from pytest>=3.6.0->tasmania==0.6.1)\n",
      "Requirement already satisfied: nose in /opt/python/3.6.5.7/lib/python3.6/site-packages (from pytest-mpl>=0.10->tasmania==0.6.1)\n",
      "Requirement already satisfied: pytest-forked in /users/subbiali/jupyterhub/tasmania/venv/lib/python3.6/site-packages (from pytest-xdist>=1.15.0->tasmania==0.6.1)\n",
      "Requirement already satisfied: execnet>=1.1 in /users/subbiali/jupyterhub/tasmania/venv/lib/python3.6/site-packages (from pytest-xdist>=1.15.0->tasmania==0.6.1)\n",
      "Requirement already satisfied: toml in /users/subbiali/jupyterhub/tasmania/venv/lib/python3.6/site-packages (from sip>=4.19.8->tasmania==0.6.1)\n",
      "Requirement already satisfied: alabaster<0.8,>=0.7 in /users/subbiali/jupyterhub/tasmania/venv/lib/python3.6/site-packages (from Sphinx==1.6.6->tasmania==0.6.1)\n",
      "Requirement already satisfied: babel!=2.0,>=1.3 in /users/subbiali/jupyterhub/tasmania/venv/lib/python3.6/site-packages (from Sphinx==1.6.6->tasmania==0.6.1)\n",
      "Requirement already satisfied: imagesize in /users/subbiali/jupyterhub/tasmania/venv/lib/python3.6/site-packages (from Sphinx==1.6.6->tasmania==0.6.1)\n",
      "Requirement already satisfied: pockets>=0.3 in /users/subbiali/jupyterhub/tasmania/venv/lib/python3.6/site-packages (from sphinxcontrib-napoleon==0.6.1->tasmania==0.6.1)\n",
      "Requirement already satisfied: itsdangerous>=0.24 in /users/subbiali/jupyterhub/tasmania/venv/lib/python3.6/site-packages (from flask->geos==0.2.1->tasmania==0.6.1)\n",
      "Requirement already satisfied: Werkzeug>=0.15 in /users/subbiali/jupyterhub/tasmania/venv/lib/python3.6/site-packages (from flask->geos==0.2.1->tasmania==0.6.1)\n",
      "Requirement already satisfied: click>=5.1 in /apps/daint/UES/jenkins/7.0.UP01/gpu/easybuild/software/dask/2.2.0-CrayGNU-19.10-python3/lib/python3.6/site-packages (from flask->geos==0.2.1->tasmania==0.6.1)\n",
      "Requirement already satisfied: Mako in /apps/daint/UES/jenkins/7.0.UP01/gpu/easybuild/software/jupyterlab/1.1.1-CrayGNU-19.10/lib/python3.6/site-packages (from alembic->jupyterhub>=0.8.1->tasmania==0.6.1)\n",
      "Requirement already satisfied: python-editor>=0.3 in /apps/daint/UES/jenkins/7.0.UP01/gpu/easybuild/software/jupyterlab/1.1.1-CrayGNU-19.10/lib/python3.6/site-packages (from alembic->jupyterhub>=0.8.1->tasmania==0.6.1)\n",
      "Requirement already satisfied: pyopenssl in /apps/daint/UES/jenkins/7.0.UP01/gpu/easybuild/software/jupyterlab/1.1.1-CrayGNU-19.10/lib/python3.6/site-packages (from certipy>=0.1.2->jupyterhub>=0.8.1->tasmania==0.6.1)\n",
      "Requirement already satisfied: chardet<3.1.0,>=3.0.2 in /apps/daint/UES/jenkins/7.0.UP01/gpu/easybuild/software/jupyterlab/1.1.1-CrayGNU-19.10/lib/python3.6/site-packages (from requests->jupyterhub>=0.8.1->tasmania==0.6.1)\n",
      "Requirement already satisfied: idna<2.9,>=2.5 in /apps/daint/UES/jenkins/7.0.UP01/gpu/easybuild/software/jupyterlab/1.1.1-CrayGNU-19.10/lib/python3.6/site-packages (from requests->jupyterhub>=0.8.1->tasmania==0.6.1)\n",
      "Requirement already satisfied: urllib3!=1.25.0,!=1.25.1,<1.26,>=1.21.1 in /apps/daint/UES/jenkins/7.0.UP01/gpu/easybuild/software/jupyterlab/1.1.1-CrayGNU-19.10/lib/python3.6/site-packages (from requests->jupyterhub>=0.8.1->tasmania==0.6.1)\n",
      "Requirement already satisfied: webencodings in /apps/daint/UES/jenkins/7.0.UP01/gpu/easybuild/software/jupyterlab/1.1.1-CrayGNU-19.10/lib/python3.6/site-packages (from bleach->nbconvert==5.3.1->tasmania==0.6.1)\n",
      "Requirement already satisfied: pyrsistent>=0.14.0 in /apps/daint/UES/jenkins/7.0.UP01/gpu/easybuild/software/jupyterlab/1.1.1-CrayGNU-19.10/lib/python3.6/site-packages (from jsonschema!=2.5.0,>=2.4->nbformat==4.4.0->tasmania==0.6.1)\n",
      "Requirement already satisfied: ptyprocess in /apps/daint/UES/jenkins/7.0.UP01/gpu/easybuild/software/IPython/7.7.0-CrayGNU-19.10-python3/lib/python3.6/site-packages (from terminado>=0.8.1->notebook>=4.4.1->tasmania==0.6.1)\n",
      "Requirement already satisfied: lazy-object-proxy==1.4.* in /users/subbiali/jupyterhub/tasmania/venv/lib/python3.6/site-packages (from astroid<2.4,>=2.3.0->pylint>=1.9.0->tasmania==0.6.1)\n",
      "Requirement already satisfied: typed-ast<1.5,>=1.4.0; implementation_name == \"cpython\" and python_version < \"3.8\" in /users/subbiali/jupyterhub/tasmania/venv/lib/python3.6/site-packages (from astroid<2.4,>=2.3.0->pylint>=1.9.0->tasmania==0.6.1)\n",
      "Requirement already satisfied: wrapt==1.11.* in /users/subbiali/jupyterhub/tasmania/venv/lib/python3.6/site-packages (from astroid<2.4,>=2.3.0->pylint>=1.9.0->tasmania==0.6.1)\n",
      "Requirement already satisfied: zipp>=0.5 in /users/subbiali/jupyterhub/tasmania/venv/lib/python3.6/site-packages (from importlib-metadata>=0.12; python_version < \"3.8\"->pytest>=3.6.0->tasmania==0.6.1)\n",
      "Requirement already satisfied: apipkg>=1.4 in /users/subbiali/jupyterhub/tasmania/venv/lib/python3.6/site-packages (from execnet>=1.1->pytest-xdist>=1.15.0->tasmania==0.6.1)\n",
      "Requirement already satisfied: cryptography>=2.3 in /apps/daint/UES/jenkins/7.0.UP01/gpu/easybuild/software/jupyterlab/1.1.1-CrayGNU-19.10/lib/python3.6/site-packages (from pyopenssl->certipy>=0.1.2->jupyterhub>=0.8.1->tasmania==0.6.1)\n",
      "Requirement already satisfied: asn1crypto>=0.21.0 in /apps/daint/UES/jenkins/7.0.UP01/gpu/easybuild/software/jupyterlab/1.1.1-CrayGNU-19.10/lib/python3.6/site-packages (from cryptography>=2.3->pyopenssl->certipy>=0.1.2->jupyterhub>=0.8.1->tasmania==0.6.1)\n",
      "Requirement already satisfied: cffi!=1.11.3,>=1.8 in /apps/daint/UES/jenkins/7.0.UP01/gpu/easybuild/software/jupyterlab/1.1.1-CrayGNU-19.10/lib/python3.6/site-packages/cffi-1.12.3-py3.6-linux-x86_64.egg (from cryptography>=2.3->pyopenssl->certipy>=0.1.2->jupyterhub>=0.8.1->tasmania==0.6.1)\n",
      "Requirement already satisfied: pycparser in /apps/daint/UES/jenkins/7.0.UP01/gpu/easybuild/software/jupyterlab/1.1.1-CrayGNU-19.10/lib/python3.6/site-packages (from cffi!=1.11.3,>=1.8->cryptography>=2.3->pyopenssl->certipy>=0.1.2->jupyterhub>=0.8.1->tasmania==0.6.1)\n",
      "Installing collected packages: decorator, graphviz, MarkupSafe, pytz, six, python-dateutil, pyparsing, matplotlib, nbconvert, pandas, pluggy, pytest, tornado, tasmania\n",
      "  Found existing installation: decorator 4.4.0\n",
      "    Not uninstalling decorator at /apps/daint/UES/jenkins/7.0.UP01/gpu/easybuild/software/IPython/7.7.0-CrayGNU-19.10-python3/lib/python3.6/site-packages/decorator-4.4.0-py3.6.egg, outside environment /users/subbiali/jupyterhub/tasmania/venv\n",
      "  Found existing installation: graphviz 0.12\n",
      "    Not uninstalling graphviz at /apps/daint/UES/jenkins/7.0.UP01/gpu/easybuild/software/jupyterlab/1.1.1-CrayGNU-19.10/lib/python3.6/site-packages, outside environment /users/subbiali/jupyterhub/tasmania/venv\n",
      "  Found existing installation: MarkupSafe 1.1.1\n",
      "    Not uninstalling markupsafe at /apps/daint/UES/jenkins/7.0.UP01/gpu/easybuild/software/jupyterlab/1.1.1-CrayGNU-19.10/lib/python3.6/site-packages, outside environment /users/subbiali/jupyterhub/tasmania/venv\n",
      "  Found existing installation: pytz 2019.3\n",
      "    Not uninstalling pytz at /apps/daint/UES/jenkins/7.0.UP01/gpu/easybuild/software/PyExtensions/3.6.5.7-CrayGNU-19.10/lib/python3.6/site-packages/pytz-2019.3-py3.6.egg, outside environment /users/subbiali/jupyterhub/tasmania/venv\n",
      "  Found existing installation: six 1.11.0\n",
      "    Not uninstalling six at /apps/daint/UES/jenkins/7.0.UP01/gpu/easybuild/software/PyExtensions/3.6.5.7-CrayGNU-19.10/lib/python3.6/site-packages/six-1.11.0-py3.6.egg, outside environment /users/subbiali/jupyterhub/tasmania/venv\n",
      "  Found existing installation: python-dateutil 2.8.0\n",
      "    Not uninstalling python-dateutil at /apps/daint/UES/jenkins/7.0.UP01/gpu/easybuild/software/jupyterlab/1.1.1-CrayGNU-19.10/lib/python3.6/site-packages, outside environment /users/subbiali/jupyterhub/tasmania/venv\n",
      "  Found existing installation: pyparsing 2.4.4\n",
      "    Not uninstalling pyparsing at /apps/daint/UES/jenkins/7.0.UP01/gpu/easybuild/software/PyExtensions/3.6.5.7-CrayGNU-19.10/lib/python3.6/site-packages/pyparsing-2.4.4-py3.6.egg, outside environment /users/subbiali/jupyterhub/tasmania/venv\n",
      "  Found existing installation: matplotlib 2.2.2\n",
      "    Not uninstalling matplotlib at /apps/daint/UES/jenkins/7.0.UP01/gpu/easybuild/software/PyExtensions/3.6.5.7-CrayGNU-19.10/lib/python3.6/site-packages/matplotlib-2.2.2-py3.6-linux-x86_64.egg, outside environment /users/subbiali/jupyterhub/tasmania/venv\n",
      "  Found existing installation: nbconvert 5.5.0\n",
      "    Not uninstalling nbconvert at /apps/daint/UES/jenkins/7.0.UP01/gpu/easybuild/software/jupyterlab/1.1.1-CrayGNU-19.10/lib/python3.6/site-packages, outside environment /users/subbiali/jupyterhub/tasmania/venv\n",
      "  Found existing installation: pandas 0.23.3\n",
      "    Not uninstalling pandas at /apps/daint/UES/jenkins/7.0.UP01/gpu/easybuild/software/PyExtensions/3.6.5.7-CrayGNU-19.10/lib/python3.6/site-packages/pandas-0.23.3-py3.6-linux-x86_64.egg, outside environment /users/subbiali/jupyterhub/tasmania/venv\n",
      "  Found existing installation: pluggy 0.6.0\n",
      "    Not uninstalling pluggy at /opt/python/3.6.5.7/lib/python3.6/site-packages, outside environment /users/subbiali/jupyterhub/tasmania/venv\n",
      "  Found existing installation: pytest 3.5.1\n",
      "    Not uninstalling pytest at /opt/python/3.6.5.7/lib/python3.6/site-packages, outside environment /users/subbiali/jupyterhub/tasmania/venv\n",
      "  Found existing installation: tornado 6.0.3\n",
      "    Not uninstalling tornado at /apps/daint/UES/jenkins/7.0.UP01/gpu/easybuild/software/jupyterlab/1.1.1-CrayGNU-19.10/lib/python3.6/site-packages, outside environment /users/subbiali/jupyterhub/tasmania/venv\n",
      "  Found existing installation: tasmania 0.6.1\n",
      "    Uninstalling tasmania-0.6.1:\n",
      "      Successfully uninstalled tasmania-0.6.1\n",
      "  Running setup.py develop for tasmania\n",
      "Successfully installed MarkupSafe-1.0 decorator-4.4.1 graphviz-0.5.2 matplotlib-2.0.0 nbconvert-5.3.1 pandas-0.24.2 pluggy-0.13.1 pyparsing-2.1.9 pytest-5.3.1 python-dateutil-2.8.1 pytz-2014.10 six-1.13.0 tasmania tornado-6.0.3\n",
      "\u001b[33mYou are using pip version 9.0.3, however version 19.3.1 is available.\n",
      "You should consider upgrading via the 'pip install --upgrade pip' command.\u001b[0m\n",
      "Obtaining file:///users/subbiali/jupyterhub/tasmania-prognostic-saturation/docker/external/gt4py\n",
      "Requirement already satisfied: attrs>=19 in /apps/daint/UES/jenkins/7.0.UP01/gpu/easybuild/software/jupyterlab/1.1.1-CrayGNU-19.10/lib/python3.6/site-packages (from gt4py==0.1.dev23+ga1d7ea6)\n",
      "Requirement already satisfied: black>=19.3b0 in /users/subbiali/jupyterhub/tasmania/venv/lib/python3.6/site-packages (from gt4py==0.1.dev23+ga1d7ea6)\n",
      "Requirement already satisfied: hypothesis>=4.14 in /users/subbiali/jupyterhub/tasmania/venv/lib/python3.6/site-packages (from gt4py==0.1.dev23+ga1d7ea6)\n",
      "Requirement already satisfied: jinja2>=2.10 in /apps/daint/UES/jenkins/7.0.UP01/gpu/easybuild/software/jupyterlab/1.1.1-CrayGNU-19.10/lib/python3.6/site-packages (from gt4py==0.1.dev23+ga1d7ea6)\n",
      "Requirement already satisfied: numpy>=1.14 in /opt/python/3.6.5.7/lib/python3.6/site-packages (from gt4py==0.1.dev23+ga1d7ea6)\n",
      "Requirement already satisfied: pybind11>=2.2.3 in /users/subbiali/jupyterhub/tasmania/venv/lib/python3.6/site-packages (from gt4py==0.1.dev23+ga1d7ea6)\n",
      "Collecting pytest>=4.3.0 (from gt4py==0.1.dev23+ga1d7ea6)\n",
      "  Using cached https://files.pythonhosted.org/packages/da/ed/d22d7f06eb1107271694ed2171b9d52e8eea38d9757124e75ba13324ac77/pytest-5.3.1-py3-none-any.whl\n",
      "Requirement already satisfied: cupy-cuda101 in /users/subbiali/jupyterhub/tasmania/venv/lib/python3.6/site-packages (from gt4py==0.1.dev23+ga1d7ea6)\n",
      "Requirement already satisfied: pathspec<1,>=0.6 in /users/subbiali/jupyterhub/tasmania/venv/lib/python3.6/site-packages (from black>=19.3b0->gt4py==0.1.dev23+ga1d7ea6)\n",
      "Requirement already satisfied: appdirs in /users/subbiali/jupyterhub/tasmania/venv/lib/python3.6/site-packages (from black>=19.3b0->gt4py==0.1.dev23+ga1d7ea6)\n",
      "Requirement already satisfied: click>=6.5 in /apps/daint/UES/jenkins/7.0.UP01/gpu/easybuild/software/dask/2.2.0-CrayGNU-19.10-python3/lib/python3.6/site-packages (from black>=19.3b0->gt4py==0.1.dev23+ga1d7ea6)\n",
      "Requirement already satisfied: toml>=0.9.4 in /users/subbiali/jupyterhub/tasmania/venv/lib/python3.6/site-packages (from black>=19.3b0->gt4py==0.1.dev23+ga1d7ea6)\n",
      "Requirement already satisfied: regex in /users/subbiali/jupyterhub/tasmania/venv/lib/python3.6/site-packages (from black>=19.3b0->gt4py==0.1.dev23+ga1d7ea6)\n",
      "Requirement already satisfied: typed-ast>=1.4.0 in /users/subbiali/jupyterhub/tasmania/venv/lib/python3.6/site-packages (from black>=19.3b0->gt4py==0.1.dev23+ga1d7ea6)\n",
      "Requirement already satisfied: MarkupSafe>=0.23 in /apps/daint/UES/jenkins/7.0.UP01/gpu/easybuild/software/jupyterlab/1.1.1-CrayGNU-19.10/lib/python3.6/site-packages (from jinja2>=2.10->gt4py==0.1.dev23+ga1d7ea6)\n",
      "Requirement already satisfied: py>=1.5.0 in /opt/python/3.6.5.7/lib/python3.6/site-packages (from pytest>=4.3.0->gt4py==0.1.dev23+ga1d7ea6)\n",
      "Requirement already satisfied: importlib-metadata>=0.12; python_version < \"3.8\" in /users/subbiali/jupyterhub/tasmania/venv/lib/python3.6/site-packages (from pytest>=4.3.0->gt4py==0.1.dev23+ga1d7ea6)\n",
      "Requirement already satisfied: packaging in /apps/daint/UES/jenkins/7.0.UP01/gpu/easybuild/software/dask/2.2.0-CrayGNU-19.10-python3/lib/python3.6/site-packages (from pytest>=4.3.0->gt4py==0.1.dev23+ga1d7ea6)\n",
      "Requirement already satisfied: wcwidth in /apps/daint/UES/jenkins/7.0.UP01/gpu/easybuild/software/IPython/7.7.0-CrayGNU-19.10-python3/lib/python3.6/site-packages/wcwidth-0.1.7-py3.6.egg (from pytest>=4.3.0->gt4py==0.1.dev23+ga1d7ea6)\n",
      "Requirement already satisfied: more-itertools>=4.0.0 in /opt/python/3.6.5.7/lib/python3.6/site-packages (from pytest>=4.3.0->gt4py==0.1.dev23+ga1d7ea6)\n",
      "Collecting pluggy<1.0,>=0.12 (from pytest>=4.3.0->gt4py==0.1.dev23+ga1d7ea6)\n",
      "  Using cached https://files.pythonhosted.org/packages/a0/28/85c7aa31b80d150b772fbe4a229487bc6644da9ccb7e427dd8cc60cb8a62/pluggy-0.13.1-py2.py3-none-any.whl\n",
      "Requirement already satisfied: six>=1.9.0 in /apps/daint/UES/jenkins/7.0.UP01/gpu/easybuild/software/PyExtensions/3.6.5.7-CrayGNU-19.10/lib/python3.6/site-packages/six-1.11.0-py3.6.egg (from cupy-cuda101->gt4py==0.1.dev23+ga1d7ea6)\n",
      "Requirement already satisfied: fastrlock>=0.3 in /users/subbiali/jupyterhub/tasmania/venv/lib/python3.6/site-packages (from cupy-cuda101->gt4py==0.1.dev23+ga1d7ea6)\n",
      "Requirement already satisfied: zipp>=0.5 in /users/subbiali/jupyterhub/tasmania/venv/lib/python3.6/site-packages (from importlib-metadata>=0.12; python_version < \"3.8\"->pytest>=4.3.0->gt4py==0.1.dev23+ga1d7ea6)\n",
      "Requirement already satisfied: pyparsing>=2.0.2 in /apps/daint/UES/jenkins/7.0.UP01/gpu/easybuild/software/PyExtensions/3.6.5.7-CrayGNU-19.10/lib/python3.6/site-packages/pyparsing-2.4.4-py3.6.egg (from packaging->pytest>=4.3.0->gt4py==0.1.dev23+ga1d7ea6)\n",
      "Installing collected packages: pluggy, pytest, gt4py\n",
      "  Found existing installation: pluggy 0.6.0\n",
      "    Not uninstalling pluggy at /opt/python/3.6.5.7/lib/python3.6/site-packages, outside environment /users/subbiali/jupyterhub/tasmania/venv\n",
      "  Found existing installation: pytest 3.5.1\n",
      "    Not uninstalling pytest at /opt/python/3.6.5.7/lib/python3.6/site-packages, outside environment /users/subbiali/jupyterhub/tasmania/venv\n",
      "  Found existing installation: gt4py 0.1.dev14+gb9071ea\n",
      "    Uninstalling gt4py-0.1.dev14+gb9071ea:\n",
      "      Successfully uninstalled gt4py-0.1.dev14+gb9071ea\n",
      "  Running setup.py develop for gt4py\n",
      "Successfully installed gt4py pluggy-0.13.1 pytest-5.3.1\n",
      "\u001b[33mYou are using pip version 9.0.3, however version 19.3.1 is available.\n",
      "You should consider upgrading via the 'pip install --upgrade pip' command.\u001b[0m\n"
     ]
    }
   ],
   "source": [
    "# install tasmania\n",
    "!pip install -e ../\n",
    "\n",
    "# install gt4py\n",
    "!pip install -e ../docker/external/gt4py[cuda101]"
   ]
  },
  {
   "cell_type": "code",
   "execution_count": 106,
   "metadata": {},
   "outputs": [],
   "source": [
    "from copy import deepcopy\n",
    "from gt4py import gtscript, storage as gt_storage\n",
    "from tasmania.python.utils.gtscript_utils import (\n",
    "    set_annotations,\n",
    "    stencil_abs_defs,\n",
    "    stencil_iabs_defs,\n",
    "    stencil_copy_defs,\n",
    "    stencil_copychange_defs,\n",
    "    stencil_add_defs,\n",
    "    stencil_iadd_defs,\n",
    "    stencil_sub_defs,\n",
    "    stencil_isub_defs,\n",
    "    stencil_mul_defs,\n",
    "    stencil_imul_defs,\n",
    "    stencil_scale_defs,\n",
    "    stencil_iscale_defs,\n",
    "    stencil_addsub_defs,\n",
    "    stencil_iaddsub_defs,\n",
    "    stencil_fma_defs,\n",
    "    stencil_sts_rk2_0_defs,\n",
    "    stencil_sts_rk3ws_0_defs,\n",
    ")\n",
    "from tasmania.python.utils.storage_utils import zeros\n",
    "\n",
    "a = zeros(storage_shape, backend, dtype, default_origin)\n",
    "a[...] = np.random.rand(*storage_shape)\n",
    "a_dc = deepcopy(a)\n",
    "b = zeros(storage_shape, backend, dtype, default_origin)\n",
    "b[...] = np.random.rand(*storage_shape)\n",
    "c = zeros(storage_shape, backend, dtype, default_origin)\n",
    "c[...] = np.random.rand(*storage_shape)\n",
    "d = zeros(storage_shape, backend, dtype, default_origin)\n",
    "\n",
    "f = np.random.rand(1).item()"
   ]
  },
  {
   "cell_type": "markdown",
   "metadata": {},
   "source": [
    "## Serialization setup"
   ]
  },
  {
   "cell_type": "code",
   "execution_count": 107,
   "metadata": {},
   "outputs": [],
   "source": [
    "# install and import openpyxl\n",
    "is_installed = !pip list 2> /dev/null | grep 'openpyxl'\n",
    "if not is_installed:\n",
    "    !pip install openpyxl==2.6\n",
    "import openpyxl as xl\n",
    "\n",
    "# install and import pandas\n",
    "is_installed = !pip list 2> /dev/null | grep 'pandas'\n",
    "if not is_installed:\n",
    "    !pip install pandas\n",
    "import pandas as pd\n",
    "\n",
    "# install xlrd\n",
    "is_installed = !pip list 2> /dev/null | grep 'xlrd'\n",
    "if not is_installed:\n",
    "    !pip install xlrd"
   ]
  },
  {
   "cell_type": "code",
   "execution_count": 108,
   "metadata": {},
   "outputs": [],
   "source": [
    "# dataframe's indices and column\n",
    "index = [\n",
    "    \"copy\", \n",
    "    \"copychange\", \n",
    "    \"abs\", \n",
    "    \"iabs\", \n",
    "    \"add\", \n",
    "    \"iadd\", \n",
    "    \"sub\", \n",
    "    \"isub\", \n",
    "    \"mul\", \n",
    "    \"imul\",\n",
    "    \"addsub\",\n",
    "    \"iaddsub\",\n",
    "    \"fma\",\n",
    "    \"sts_rk2_0\",\n",
    "    \"sts_rk3ws_0\"\n",
    "]\n",
    "if backend == \"debug\":\n",
    "    column = \"gtdebug\"\n",
    "elif backend == \"numpy\":\n",
    "    column = \"gtnumpy\"\n",
    "else:\n",
    "    column = backend\n",
    "    \n",
    "if serialize:\n",
    "    # create the spreadsheet\n",
    "    import os\n",
    "    if not os.path.exists(filename):\n",
    "        wb = xl.Workbook()\n",
    "        wb.save(filename=filename)\n",
    "    else:\n",
    "        wb = xl.load_workbook(filename)\n",
    "        \n",
    "    # create an ExcelWriter object\n",
    "    with pd.ExcelWriter(filename, engine=\"openpyxl\") as writer:\n",
    "        writer.book = wb\n",
    "        # writer.sheets = dict((ws.title, ws) for ws in wb.worksheets)\n",
    "    \n",
    "    if sheetname not in wb.sheetnames:\n",
    "        # create an empty dataframe\n",
    "        df = pd.DataFrame(data=[None,]*len(index), index=index, columns=[column,])\n",
    "        df.to_excel(writer, sheet_name=sheetname)\n",
    "    else:\n",
    "        # load the dataframe\n",
    "        df = pd.read_excel(writer, sheet_name=sheetname, index_col=0)\n",
    "        \n",
    "        # remove the sheet\n",
    "        sheetid = wb.sheetnames.index(sheetname)\n",
    "        wb.remove(wb.worksheets[sheetid])\n",
    "else:\n",
    "    # create the dataframe\n",
    "    df = pd.DataFrame(data=[None,]*len(index), index=index, columns=[column,])"
   ]
  },
  {
   "cell_type": "markdown",
   "metadata": {},
   "source": [
    "## Timing"
   ]
  },
  {
   "cell_type": "code",
   "execution_count": 109,
   "metadata": {},
   "outputs": [
    {
     "name": "stdout",
     "output_type": "stream",
     "text": [
      "running build_ext\n",
      "building '_GT_.__main__.m_stencil_copy_defs__gtcuda_c1058d5bcb_pyext' extension\n",
      "creating /users/subbiali/jupyterhub/tasmania-prognostic-saturation/notebooks/.gt_cache/py36_1013/gtcuda/__main__/m_stencil_copy_defs__gtcuda_c1058d5bcb_pyext_BUILD/users\n",
      "creating /users/subbiali/jupyterhub/tasmania-prognostic-saturation/notebooks/.gt_cache/py36_1013/gtcuda/__main__/m_stencil_copy_defs__gtcuda_c1058d5bcb_pyext_BUILD/users/subbiali\n",
      "creating /users/subbiali/jupyterhub/tasmania-prognostic-saturation/notebooks/.gt_cache/py36_1013/gtcuda/__main__/m_stencil_copy_defs__gtcuda_c1058d5bcb_pyext_BUILD/users/subbiali/jupyterhub\n",
      "creating /users/subbiali/jupyterhub/tasmania-prognostic-saturation/notebooks/.gt_cache/py36_1013/gtcuda/__main__/m_stencil_copy_defs__gtcuda_c1058d5bcb_pyext_BUILD/users/subbiali/jupyterhub/tasmania-prognostic-saturation\n",
      "creating /users/subbiali/jupyterhub/tasmania-prognostic-saturation/notebooks/.gt_cache/py36_1013/gtcuda/__main__/m_stencil_copy_defs__gtcuda_c1058d5bcb_pyext_BUILD/users/subbiali/jupyterhub/tasmania-prognostic-saturation/notebooks\n",
      "creating /users/subbiali/jupyterhub/tasmania-prognostic-saturation/notebooks/.gt_cache/py36_1013/gtcuda/__main__/m_stencil_copy_defs__gtcuda_c1058d5bcb_pyext_BUILD/users/subbiali/jupyterhub/tasmania-prognostic-saturation/notebooks/.gt_cache\n",
      "creating /users/subbiali/jupyterhub/tasmania-prognostic-saturation/notebooks/.gt_cache/py36_1013/gtcuda/__main__/m_stencil_copy_defs__gtcuda_c1058d5bcb_pyext_BUILD/users/subbiali/jupyterhub/tasmania-prognostic-saturation/notebooks/.gt_cache/py36_1013\n",
      "creating /users/subbiali/jupyterhub/tasmania-prognostic-saturation/notebooks/.gt_cache/py36_1013/gtcuda/__main__/m_stencil_copy_defs__gtcuda_c1058d5bcb_pyext_BUILD/users/subbiali/jupyterhub/tasmania-prognostic-saturation/notebooks/.gt_cache/py36_1013/gtcuda\n",
      "creating /users/subbiali/jupyterhub/tasmania-prognostic-saturation/notebooks/.gt_cache/py36_1013/gtcuda/__main__/m_stencil_copy_defs__gtcuda_c1058d5bcb_pyext_BUILD/users/subbiali/jupyterhub/tasmania-prognostic-saturation/notebooks/.gt_cache/py36_1013/gtcuda/__main__\n",
      "creating /users/subbiali/jupyterhub/tasmania-prognostic-saturation/notebooks/.gt_cache/py36_1013/gtcuda/__main__/m_stencil_copy_defs__gtcuda_c1058d5bcb_pyext_BUILD/users/subbiali/jupyterhub/tasmania-prognostic-saturation/notebooks/.gt_cache/py36_1013/gtcuda/__main__/m_stencil_copy_defs__gtcuda_c1058d5bcb_pyext_BUILD\n",
      "/opt/nvidia/cudatoolkit10/10.1.105_3.27-7.0.1.1_4.1__ga311ce7/bin/nvcc -I/users/subbiali/jupyterhub/tasmania/venv/include/site/python3.6 -I/users/subbiali/jupyterhub/tasmania/venv/include/site/python3.6 -I/users/subbiali/boost_build/include -I/opt/nvidia/cudatoolkit10/10.1.105_3.27-7.0.1.1_4.1__ga311ce7/include -I/users/subbiali/jupyterhub/tasmania/venv/include -I/opt/python/3.6.5.7/include/python3.6m -c /users/subbiali/jupyterhub/tasmania-prognostic-saturation/notebooks/.gt_cache/py36_1013/gtcuda/__main__/m_stencil_copy_defs__gtcuda_c1058d5bcb_pyext_BUILD/computation.cu -o /users/subbiali/jupyterhub/tasmania-prognostic-saturation/notebooks/.gt_cache/py36_1013/gtcuda/__main__/m_stencil_copy_defs__gtcuda_c1058d5bcb_pyext_BUILD/users/subbiali/jupyterhub/tasmania-prognostic-saturation/notebooks/.gt_cache/py36_1013/gtcuda/__main__/m_stencil_copy_defs__gtcuda_c1058d5bcb_pyext_BUILD/computation.o -std=c++14 -isystem=/users/subbiali/jupyterhub/tasmania/docker/external/gt4py/src/gt4py/_external_src/gridtools/include -isystem=/users/subbiali/boost_build/include -DBOOST_PP_VARIADICS -DBOOST_OPTIONAL_CONFIG_USE_OLD_IMPLEMENTATION_OF_OPTIONAL -DBOOST_OPTIONAL_USE_OLD_DEFINITION_OF_NONE --expt-relaxed-constexpr --compiler-options -fPIC --compiler-options -fvisibility=hidden -O3 -DNDEBUG\n",
      "gcc -pthread -Wno-unused-result -Wsign-compare -fwrapv -Wall -march=x86-64 -march=x86-64 -fPIC -I/users/subbiali/jupyterhub/tasmania/venv/include/site/python3.6 -I/users/subbiali/jupyterhub/tasmania/venv/include/site/python3.6 -I/users/subbiali/boost_build/include -I/opt/nvidia/cudatoolkit10/10.1.105_3.27-7.0.1.1_4.1__ga311ce7/include -I/users/subbiali/jupyterhub/tasmania/venv/include -I/opt/python/3.6.5.7/include/python3.6m -c /users/subbiali/jupyterhub/tasmania-prognostic-saturation/notebooks/.gt_cache/py36_1013/gtcuda/__main__/m_stencil_copy_defs__gtcuda_c1058d5bcb_pyext_BUILD/bindings.cpp -o /users/subbiali/jupyterhub/tasmania-prognostic-saturation/notebooks/.gt_cache/py36_1013/gtcuda/__main__/m_stencil_copy_defs__gtcuda_c1058d5bcb_pyext_BUILD/users/subbiali/jupyterhub/tasmania-prognostic-saturation/notebooks/.gt_cache/py36_1013/gtcuda/__main__/m_stencil_copy_defs__gtcuda_c1058d5bcb_pyext_BUILD/bindings.o -std=c++14 -fvisibility=hidden -fopenmp -isystem/users/subbiali/jupyterhub/tasmania/docker/external/gt4py/src/gt4py/_external_src/gridtools/include -isystem/users/subbiali/boost_build/include -DBOOST_PP_VARIADICS -fPIC -O3 -DNDEBUG\n",
      "creating /users/subbiali/jupyterhub/tasmania-prognostic-saturation/notebooks/.gt_cache/py36_1013/gtcuda/__main__/m_stencil_copy_defs__gtcuda_c1058d5bcb_pyext_BUILD/_GT_\n",
      "creating /users/subbiali/jupyterhub/tasmania-prognostic-saturation/notebooks/.gt_cache/py36_1013/gtcuda/__main__/m_stencil_copy_defs__gtcuda_c1058d5bcb_pyext_BUILD/_GT_/__main__\n",
      "g++ -pthread -shared -Wl,-rpath,/opt/python/3.6.5.7/lib /users/subbiali/jupyterhub/tasmania-prognostic-saturation/notebooks/.gt_cache/py36_1013/gtcuda/__main__/m_stencil_copy_defs__gtcuda_c1058d5bcb_pyext_BUILD/users/subbiali/jupyterhub/tasmania-prognostic-saturation/notebooks/.gt_cache/py36_1013/gtcuda/__main__/m_stencil_copy_defs__gtcuda_c1058d5bcb_pyext_BUILD/computation.o /users/subbiali/jupyterhub/tasmania-prognostic-saturation/notebooks/.gt_cache/py36_1013/gtcuda/__main__/m_stencil_copy_defs__gtcuda_c1058d5bcb_pyext_BUILD/users/subbiali/jupyterhub/tasmania-prognostic-saturation/notebooks/.gt_cache/py36_1013/gtcuda/__main__/m_stencil_copy_defs__gtcuda_c1058d5bcb_pyext_BUILD/bindings.o -L/opt/nvidia/cudatoolkit10/10.1.105_3.27-7.0.1.1_4.1__ga311ce7/lib64 -L/opt/python/3.6.5.7/lib -lcudart -lpython3.6m -o /users/subbiali/jupyterhub/tasmania-prognostic-saturation/notebooks/.gt_cache/py36_1013/gtcuda/__main__/m_stencil_copy_defs__gtcuda_c1058d5bcb_pyext_BUILD/_GT_/__main__/m_stencil_copy_defs__gtcuda_c1058d5bcb_pyext.cpython-36m-x86_64-linux-gnu.so -O3 -DNDEBUG\n",
      "copying /users/subbiali/jupyterhub/tasmania-prognostic-saturation/notebooks/.gt_cache/py36_1013/gtcuda/__main__/m_stencil_copy_defs__gtcuda_c1058d5bcb_pyext_BUILD/_GT_/__main__/m_stencil_copy_defs__gtcuda_c1058d5bcb_pyext.cpython-36m-x86_64-linux-gnu.so -> /users/subbiali/jupyterhub/tasmania-prognostic-saturation/notebooks/.gt_cache/py36_1013/gtcuda/__main__\n",
      "698 µs ± 13.1 µs per loop (mean ± std. dev. of 7 runs, 1 loop each)\n"
     ]
    }
   ],
   "source": [
    "# copy\n",
    "set_annotations(stencil_copy_defs, dtype)\n",
    "stencil_copy = gtscript.stencil(backend=backend, definition=stencil_copy_defs, rebuild=False)\n",
    "out = %timeit -o stencil_copy(src=b, dst=a, origin=(0, 0, 0), domain=storage_shape)\n",
    "df.at[\"copy\", column] = 1000 * out.average"
   ]
  },
  {
   "cell_type": "code",
   "execution_count": 110,
   "metadata": {},
   "outputs": [
    {
     "name": "stdout",
     "output_type": "stream",
     "text": [
      "running build_ext\n",
      "building '_GT_.__main__.m_stencil_copychange_defs__gtcuda_bdf8e4770e_pyext' extension\n",
      "creating /users/subbiali/jupyterhub/tasmania-prognostic-saturation/notebooks/.gt_cache/py36_1013/gtcuda/__main__/m_stencil_copychange_defs__gtcuda_bdf8e4770e_pyext_BUILD/users\n",
      "creating /users/subbiali/jupyterhub/tasmania-prognostic-saturation/notebooks/.gt_cache/py36_1013/gtcuda/__main__/m_stencil_copychange_defs__gtcuda_bdf8e4770e_pyext_BUILD/users/subbiali\n",
      "creating /users/subbiali/jupyterhub/tasmania-prognostic-saturation/notebooks/.gt_cache/py36_1013/gtcuda/__main__/m_stencil_copychange_defs__gtcuda_bdf8e4770e_pyext_BUILD/users/subbiali/jupyterhub\n",
      "creating /users/subbiali/jupyterhub/tasmania-prognostic-saturation/notebooks/.gt_cache/py36_1013/gtcuda/__main__/m_stencil_copychange_defs__gtcuda_bdf8e4770e_pyext_BUILD/users/subbiali/jupyterhub/tasmania-prognostic-saturation\n",
      "creating /users/subbiali/jupyterhub/tasmania-prognostic-saturation/notebooks/.gt_cache/py36_1013/gtcuda/__main__/m_stencil_copychange_defs__gtcuda_bdf8e4770e_pyext_BUILD/users/subbiali/jupyterhub/tasmania-prognostic-saturation/notebooks\n",
      "creating /users/subbiali/jupyterhub/tasmania-prognostic-saturation/notebooks/.gt_cache/py36_1013/gtcuda/__main__/m_stencil_copychange_defs__gtcuda_bdf8e4770e_pyext_BUILD/users/subbiali/jupyterhub/tasmania-prognostic-saturation/notebooks/.gt_cache\n",
      "creating /users/subbiali/jupyterhub/tasmania-prognostic-saturation/notebooks/.gt_cache/py36_1013/gtcuda/__main__/m_stencil_copychange_defs__gtcuda_bdf8e4770e_pyext_BUILD/users/subbiali/jupyterhub/tasmania-prognostic-saturation/notebooks/.gt_cache/py36_1013\n",
      "creating /users/subbiali/jupyterhub/tasmania-prognostic-saturation/notebooks/.gt_cache/py36_1013/gtcuda/__main__/m_stencil_copychange_defs__gtcuda_bdf8e4770e_pyext_BUILD/users/subbiali/jupyterhub/tasmania-prognostic-saturation/notebooks/.gt_cache/py36_1013/gtcuda\n",
      "creating /users/subbiali/jupyterhub/tasmania-prognostic-saturation/notebooks/.gt_cache/py36_1013/gtcuda/__main__/m_stencil_copychange_defs__gtcuda_bdf8e4770e_pyext_BUILD/users/subbiali/jupyterhub/tasmania-prognostic-saturation/notebooks/.gt_cache/py36_1013/gtcuda/__main__\n",
      "creating /users/subbiali/jupyterhub/tasmania-prognostic-saturation/notebooks/.gt_cache/py36_1013/gtcuda/__main__/m_stencil_copychange_defs__gtcuda_bdf8e4770e_pyext_BUILD/users/subbiali/jupyterhub/tasmania-prognostic-saturation/notebooks/.gt_cache/py36_1013/gtcuda/__main__/m_stencil_copychange_defs__gtcuda_bdf8e4770e_pyext_BUILD\n",
      "/opt/nvidia/cudatoolkit10/10.1.105_3.27-7.0.1.1_4.1__ga311ce7/bin/nvcc -I/users/subbiali/jupyterhub/tasmania/venv/include/site/python3.6 -I/users/subbiali/jupyterhub/tasmania/venv/include/site/python3.6 -I/users/subbiali/boost_build/include -I/opt/nvidia/cudatoolkit10/10.1.105_3.27-7.0.1.1_4.1__ga311ce7/include -I/users/subbiali/jupyterhub/tasmania/venv/include -I/opt/python/3.6.5.7/include/python3.6m -c /users/subbiali/jupyterhub/tasmania-prognostic-saturation/notebooks/.gt_cache/py36_1013/gtcuda/__main__/m_stencil_copychange_defs__gtcuda_bdf8e4770e_pyext_BUILD/computation.cu -o /users/subbiali/jupyterhub/tasmania-prognostic-saturation/notebooks/.gt_cache/py36_1013/gtcuda/__main__/m_stencil_copychange_defs__gtcuda_bdf8e4770e_pyext_BUILD/users/subbiali/jupyterhub/tasmania-prognostic-saturation/notebooks/.gt_cache/py36_1013/gtcuda/__main__/m_stencil_copychange_defs__gtcuda_bdf8e4770e_pyext_BUILD/computation.o -std=c++14 -isystem=/users/subbiali/jupyterhub/tasmania/docker/external/gt4py/src/gt4py/_external_src/gridtools/include -isystem=/users/subbiali/boost_build/include -DBOOST_PP_VARIADICS -DBOOST_OPTIONAL_CONFIG_USE_OLD_IMPLEMENTATION_OF_OPTIONAL -DBOOST_OPTIONAL_USE_OLD_DEFINITION_OF_NONE --expt-relaxed-constexpr --compiler-options -fPIC --compiler-options -fvisibility=hidden -O3 -DNDEBUG\n",
      "gcc -pthread -Wno-unused-result -Wsign-compare -fwrapv -Wall -march=x86-64 -march=x86-64 -fPIC -I/users/subbiali/jupyterhub/tasmania/venv/include/site/python3.6 -I/users/subbiali/jupyterhub/tasmania/venv/include/site/python3.6 -I/users/subbiali/boost_build/include -I/opt/nvidia/cudatoolkit10/10.1.105_3.27-7.0.1.1_4.1__ga311ce7/include -I/users/subbiali/jupyterhub/tasmania/venv/include -I/opt/python/3.6.5.7/include/python3.6m -c /users/subbiali/jupyterhub/tasmania-prognostic-saturation/notebooks/.gt_cache/py36_1013/gtcuda/__main__/m_stencil_copychange_defs__gtcuda_bdf8e4770e_pyext_BUILD/bindings.cpp -o /users/subbiali/jupyterhub/tasmania-prognostic-saturation/notebooks/.gt_cache/py36_1013/gtcuda/__main__/m_stencil_copychange_defs__gtcuda_bdf8e4770e_pyext_BUILD/users/subbiali/jupyterhub/tasmania-prognostic-saturation/notebooks/.gt_cache/py36_1013/gtcuda/__main__/m_stencil_copychange_defs__gtcuda_bdf8e4770e_pyext_BUILD/bindings.o -std=c++14 -fvisibility=hidden -fopenmp -isystem/users/subbiali/jupyterhub/tasmania/docker/external/gt4py/src/gt4py/_external_src/gridtools/include -isystem/users/subbiali/boost_build/include -DBOOST_PP_VARIADICS -fPIC -O3 -DNDEBUG\n",
      "creating /users/subbiali/jupyterhub/tasmania-prognostic-saturation/notebooks/.gt_cache/py36_1013/gtcuda/__main__/m_stencil_copychange_defs__gtcuda_bdf8e4770e_pyext_BUILD/_GT_\n",
      "creating /users/subbiali/jupyterhub/tasmania-prognostic-saturation/notebooks/.gt_cache/py36_1013/gtcuda/__main__/m_stencil_copychange_defs__gtcuda_bdf8e4770e_pyext_BUILD/_GT_/__main__\n",
      "g++ -pthread -shared -Wl,-rpath,/opt/python/3.6.5.7/lib /users/subbiali/jupyterhub/tasmania-prognostic-saturation/notebooks/.gt_cache/py36_1013/gtcuda/__main__/m_stencil_copychange_defs__gtcuda_bdf8e4770e_pyext_BUILD/users/subbiali/jupyterhub/tasmania-prognostic-saturation/notebooks/.gt_cache/py36_1013/gtcuda/__main__/m_stencil_copychange_defs__gtcuda_bdf8e4770e_pyext_BUILD/computation.o /users/subbiali/jupyterhub/tasmania-prognostic-saturation/notebooks/.gt_cache/py36_1013/gtcuda/__main__/m_stencil_copychange_defs__gtcuda_bdf8e4770e_pyext_BUILD/users/subbiali/jupyterhub/tasmania-prognostic-saturation/notebooks/.gt_cache/py36_1013/gtcuda/__main__/m_stencil_copychange_defs__gtcuda_bdf8e4770e_pyext_BUILD/bindings.o -L/opt/nvidia/cudatoolkit10/10.1.105_3.27-7.0.1.1_4.1__ga311ce7/lib64 -L/opt/python/3.6.5.7/lib -lcudart -lpython3.6m -o /users/subbiali/jupyterhub/tasmania-prognostic-saturation/notebooks/.gt_cache/py36_1013/gtcuda/__main__/m_stencil_copychange_defs__gtcuda_bdf8e4770e_pyext_BUILD/_GT_/__main__/m_stencil_copychange_defs__gtcuda_bdf8e4770e_pyext.cpython-36m-x86_64-linux-gnu.so -O3 -DNDEBUG\n",
      "copying /users/subbiali/jupyterhub/tasmania-prognostic-saturation/notebooks/.gt_cache/py36_1013/gtcuda/__main__/m_stencil_copychange_defs__gtcuda_bdf8e4770e_pyext_BUILD/_GT_/__main__/m_stencil_copychange_defs__gtcuda_bdf8e4770e_pyext.cpython-36m-x86_64-linux-gnu.so -> /users/subbiali/jupyterhub/tasmania-prognostic-saturation/notebooks/.gt_cache/py36_1013/gtcuda/__main__\n",
      "689 µs ± 575 ns per loop (mean ± std. dev. of 7 runs, 1000 loops each)\n"
     ]
    }
   ],
   "source": [
    "# copychange\n",
    "set_annotations(stencil_copychange_defs, dtype)\n",
    "stencil_copychange = gtscript.stencil(backend=backend, definition=stencil_copychange_defs, rebuild=False)\n",
    "out = %timeit -o stencil_copychange(src=b, dst=a, origin=(0, 0, 0), domain=storage_shape)\n",
    "df.at[\"copychange\", column] = 1000 * out.average"
   ]
  },
  {
   "cell_type": "code",
   "execution_count": 111,
   "metadata": {},
   "outputs": [
    {
     "name": "stdout",
     "output_type": "stream",
     "text": [
      "running build_ext\n",
      "building '_GT_.__main__.m_stencil_abs_defs__gtcuda_67b485c90e_pyext' extension\n",
      "creating /users/subbiali/jupyterhub/tasmania-prognostic-saturation/notebooks/.gt_cache/py36_1013/gtcuda/__main__/m_stencil_abs_defs__gtcuda_67b485c90e_pyext_BUILD/users\n",
      "creating /users/subbiali/jupyterhub/tasmania-prognostic-saturation/notebooks/.gt_cache/py36_1013/gtcuda/__main__/m_stencil_abs_defs__gtcuda_67b485c90e_pyext_BUILD/users/subbiali\n",
      "creating /users/subbiali/jupyterhub/tasmania-prognostic-saturation/notebooks/.gt_cache/py36_1013/gtcuda/__main__/m_stencil_abs_defs__gtcuda_67b485c90e_pyext_BUILD/users/subbiali/jupyterhub\n",
      "creating /users/subbiali/jupyterhub/tasmania-prognostic-saturation/notebooks/.gt_cache/py36_1013/gtcuda/__main__/m_stencil_abs_defs__gtcuda_67b485c90e_pyext_BUILD/users/subbiali/jupyterhub/tasmania-prognostic-saturation\n",
      "creating /users/subbiali/jupyterhub/tasmania-prognostic-saturation/notebooks/.gt_cache/py36_1013/gtcuda/__main__/m_stencil_abs_defs__gtcuda_67b485c90e_pyext_BUILD/users/subbiali/jupyterhub/tasmania-prognostic-saturation/notebooks\n",
      "creating /users/subbiali/jupyterhub/tasmania-prognostic-saturation/notebooks/.gt_cache/py36_1013/gtcuda/__main__/m_stencil_abs_defs__gtcuda_67b485c90e_pyext_BUILD/users/subbiali/jupyterhub/tasmania-prognostic-saturation/notebooks/.gt_cache\n",
      "creating /users/subbiali/jupyterhub/tasmania-prognostic-saturation/notebooks/.gt_cache/py36_1013/gtcuda/__main__/m_stencil_abs_defs__gtcuda_67b485c90e_pyext_BUILD/users/subbiali/jupyterhub/tasmania-prognostic-saturation/notebooks/.gt_cache/py36_1013\n",
      "creating /users/subbiali/jupyterhub/tasmania-prognostic-saturation/notebooks/.gt_cache/py36_1013/gtcuda/__main__/m_stencil_abs_defs__gtcuda_67b485c90e_pyext_BUILD/users/subbiali/jupyterhub/tasmania-prognostic-saturation/notebooks/.gt_cache/py36_1013/gtcuda\n",
      "creating /users/subbiali/jupyterhub/tasmania-prognostic-saturation/notebooks/.gt_cache/py36_1013/gtcuda/__main__/m_stencil_abs_defs__gtcuda_67b485c90e_pyext_BUILD/users/subbiali/jupyterhub/tasmania-prognostic-saturation/notebooks/.gt_cache/py36_1013/gtcuda/__main__\n",
      "creating /users/subbiali/jupyterhub/tasmania-prognostic-saturation/notebooks/.gt_cache/py36_1013/gtcuda/__main__/m_stencil_abs_defs__gtcuda_67b485c90e_pyext_BUILD/users/subbiali/jupyterhub/tasmania-prognostic-saturation/notebooks/.gt_cache/py36_1013/gtcuda/__main__/m_stencil_abs_defs__gtcuda_67b485c90e_pyext_BUILD\n",
      "/opt/nvidia/cudatoolkit10/10.1.105_3.27-7.0.1.1_4.1__ga311ce7/bin/nvcc -I/users/subbiali/jupyterhub/tasmania/venv/include/site/python3.6 -I/users/subbiali/jupyterhub/tasmania/venv/include/site/python3.6 -I/users/subbiali/boost_build/include -I/opt/nvidia/cudatoolkit10/10.1.105_3.27-7.0.1.1_4.1__ga311ce7/include -I/users/subbiali/jupyterhub/tasmania/venv/include -I/opt/python/3.6.5.7/include/python3.6m -c /users/subbiali/jupyterhub/tasmania-prognostic-saturation/notebooks/.gt_cache/py36_1013/gtcuda/__main__/m_stencil_abs_defs__gtcuda_67b485c90e_pyext_BUILD/computation.cu -o /users/subbiali/jupyterhub/tasmania-prognostic-saturation/notebooks/.gt_cache/py36_1013/gtcuda/__main__/m_stencil_abs_defs__gtcuda_67b485c90e_pyext_BUILD/users/subbiali/jupyterhub/tasmania-prognostic-saturation/notebooks/.gt_cache/py36_1013/gtcuda/__main__/m_stencil_abs_defs__gtcuda_67b485c90e_pyext_BUILD/computation.o -std=c++14 -isystem=/users/subbiali/jupyterhub/tasmania/docker/external/gt4py/src/gt4py/_external_src/gridtools/include -isystem=/users/subbiali/boost_build/include -DBOOST_PP_VARIADICS -DBOOST_OPTIONAL_CONFIG_USE_OLD_IMPLEMENTATION_OF_OPTIONAL -DBOOST_OPTIONAL_USE_OLD_DEFINITION_OF_NONE --expt-relaxed-constexpr --compiler-options -fPIC --compiler-options -fvisibility=hidden -O3 -DNDEBUG\n",
      "gcc -pthread -Wno-unused-result -Wsign-compare -fwrapv -Wall -march=x86-64 -march=x86-64 -fPIC -I/users/subbiali/jupyterhub/tasmania/venv/include/site/python3.6 -I/users/subbiali/jupyterhub/tasmania/venv/include/site/python3.6 -I/users/subbiali/boost_build/include -I/opt/nvidia/cudatoolkit10/10.1.105_3.27-7.0.1.1_4.1__ga311ce7/include -I/users/subbiali/jupyterhub/tasmania/venv/include -I/opt/python/3.6.5.7/include/python3.6m -c /users/subbiali/jupyterhub/tasmania-prognostic-saturation/notebooks/.gt_cache/py36_1013/gtcuda/__main__/m_stencil_abs_defs__gtcuda_67b485c90e_pyext_BUILD/bindings.cpp -o /users/subbiali/jupyterhub/tasmania-prognostic-saturation/notebooks/.gt_cache/py36_1013/gtcuda/__main__/m_stencil_abs_defs__gtcuda_67b485c90e_pyext_BUILD/users/subbiali/jupyterhub/tasmania-prognostic-saturation/notebooks/.gt_cache/py36_1013/gtcuda/__main__/m_stencil_abs_defs__gtcuda_67b485c90e_pyext_BUILD/bindings.o -std=c++14 -fvisibility=hidden -fopenmp -isystem/users/subbiali/jupyterhub/tasmania/docker/external/gt4py/src/gt4py/_external_src/gridtools/include -isystem/users/subbiali/boost_build/include -DBOOST_PP_VARIADICS -fPIC -O3 -DNDEBUG\n",
      "creating /users/subbiali/jupyterhub/tasmania-prognostic-saturation/notebooks/.gt_cache/py36_1013/gtcuda/__main__/m_stencil_abs_defs__gtcuda_67b485c90e_pyext_BUILD/_GT_\n",
      "creating /users/subbiali/jupyterhub/tasmania-prognostic-saturation/notebooks/.gt_cache/py36_1013/gtcuda/__main__/m_stencil_abs_defs__gtcuda_67b485c90e_pyext_BUILD/_GT_/__main__\n",
      "g++ -pthread -shared -Wl,-rpath,/opt/python/3.6.5.7/lib /users/subbiali/jupyterhub/tasmania-prognostic-saturation/notebooks/.gt_cache/py36_1013/gtcuda/__main__/m_stencil_abs_defs__gtcuda_67b485c90e_pyext_BUILD/users/subbiali/jupyterhub/tasmania-prognostic-saturation/notebooks/.gt_cache/py36_1013/gtcuda/__main__/m_stencil_abs_defs__gtcuda_67b485c90e_pyext_BUILD/computation.o /users/subbiali/jupyterhub/tasmania-prognostic-saturation/notebooks/.gt_cache/py36_1013/gtcuda/__main__/m_stencil_abs_defs__gtcuda_67b485c90e_pyext_BUILD/users/subbiali/jupyterhub/tasmania-prognostic-saturation/notebooks/.gt_cache/py36_1013/gtcuda/__main__/m_stencil_abs_defs__gtcuda_67b485c90e_pyext_BUILD/bindings.o -L/opt/nvidia/cudatoolkit10/10.1.105_3.27-7.0.1.1_4.1__ga311ce7/lib64 -L/opt/python/3.6.5.7/lib -lcudart -lpython3.6m -o /users/subbiali/jupyterhub/tasmania-prognostic-saturation/notebooks/.gt_cache/py36_1013/gtcuda/__main__/m_stencil_abs_defs__gtcuda_67b485c90e_pyext_BUILD/_GT_/__main__/m_stencil_abs_defs__gtcuda_67b485c90e_pyext.cpython-36m-x86_64-linux-gnu.so -O3 -DNDEBUG\n",
      "copying /users/subbiali/jupyterhub/tasmania-prognostic-saturation/notebooks/.gt_cache/py36_1013/gtcuda/__main__/m_stencil_abs_defs__gtcuda_67b485c90e_pyext_BUILD/_GT_/__main__/m_stencil_abs_defs__gtcuda_67b485c90e_pyext.cpython-36m-x86_64-linux-gnu.so -> /users/subbiali/jupyterhub/tasmania-prognostic-saturation/notebooks/.gt_cache/py36_1013/gtcuda/__main__\n",
      "685 µs ± 835 ns per loop (mean ± std. dev. of 7 runs, 1000 loops each)\n"
     ]
    }
   ],
   "source": [
    "# abs\n",
    "set_annotations(stencil_abs_defs, dtype)\n",
    "stencil_abs = gtscript.stencil(backend=backend, definition=stencil_abs_defs, rebuild=False)\n",
    "out = %timeit -o stencil_abs(a, b, origin=(0, 0, 0), domain=storage_shape)\n",
    "df.at[\"abs\", column] = 1000 * out.average"
   ]
  },
  {
   "cell_type": "code",
   "execution_count": 112,
   "metadata": {},
   "outputs": [
    {
     "name": "stdout",
     "output_type": "stream",
     "text": [
      "660 µs ± 244 ns per loop (mean ± std. dev. of 7 runs, 1000 loops each)\n"
     ]
    }
   ],
   "source": [
    "# abs: make origin coincide with default_origin\n",
    "domain = tuple(s - 2*d for s, d in zip(storage_shape, default_origin))\n",
    "%timeit stencil_abs(a, b, origin=default_origin, domain=domain)"
   ]
  },
  {
   "cell_type": "code",
   "execution_count": 113,
   "metadata": {},
   "outputs": [
    {
     "name": "stdout",
     "output_type": "stream",
     "text": [
      "running build_ext\n",
      "building '_GT_.__main__.m_stencil_iabs_defs__gtcuda_608b64cd31_pyext' extension\n",
      "creating /users/subbiali/jupyterhub/tasmania-prognostic-saturation/notebooks/.gt_cache/py36_1013/gtcuda/__main__/m_stencil_iabs_defs__gtcuda_608b64cd31_pyext_BUILD/users\n",
      "creating /users/subbiali/jupyterhub/tasmania-prognostic-saturation/notebooks/.gt_cache/py36_1013/gtcuda/__main__/m_stencil_iabs_defs__gtcuda_608b64cd31_pyext_BUILD/users/subbiali\n",
      "creating /users/subbiali/jupyterhub/tasmania-prognostic-saturation/notebooks/.gt_cache/py36_1013/gtcuda/__main__/m_stencil_iabs_defs__gtcuda_608b64cd31_pyext_BUILD/users/subbiali/jupyterhub\n",
      "creating /users/subbiali/jupyterhub/tasmania-prognostic-saturation/notebooks/.gt_cache/py36_1013/gtcuda/__main__/m_stencil_iabs_defs__gtcuda_608b64cd31_pyext_BUILD/users/subbiali/jupyterhub/tasmania-prognostic-saturation\n",
      "creating /users/subbiali/jupyterhub/tasmania-prognostic-saturation/notebooks/.gt_cache/py36_1013/gtcuda/__main__/m_stencil_iabs_defs__gtcuda_608b64cd31_pyext_BUILD/users/subbiali/jupyterhub/tasmania-prognostic-saturation/notebooks\n",
      "creating /users/subbiali/jupyterhub/tasmania-prognostic-saturation/notebooks/.gt_cache/py36_1013/gtcuda/__main__/m_stencil_iabs_defs__gtcuda_608b64cd31_pyext_BUILD/users/subbiali/jupyterhub/tasmania-prognostic-saturation/notebooks/.gt_cache\n",
      "creating /users/subbiali/jupyterhub/tasmania-prognostic-saturation/notebooks/.gt_cache/py36_1013/gtcuda/__main__/m_stencil_iabs_defs__gtcuda_608b64cd31_pyext_BUILD/users/subbiali/jupyterhub/tasmania-prognostic-saturation/notebooks/.gt_cache/py36_1013\n",
      "creating /users/subbiali/jupyterhub/tasmania-prognostic-saturation/notebooks/.gt_cache/py36_1013/gtcuda/__main__/m_stencil_iabs_defs__gtcuda_608b64cd31_pyext_BUILD/users/subbiali/jupyterhub/tasmania-prognostic-saturation/notebooks/.gt_cache/py36_1013/gtcuda\n",
      "creating /users/subbiali/jupyterhub/tasmania-prognostic-saturation/notebooks/.gt_cache/py36_1013/gtcuda/__main__/m_stencil_iabs_defs__gtcuda_608b64cd31_pyext_BUILD/users/subbiali/jupyterhub/tasmania-prognostic-saturation/notebooks/.gt_cache/py36_1013/gtcuda/__main__\n",
      "creating /users/subbiali/jupyterhub/tasmania-prognostic-saturation/notebooks/.gt_cache/py36_1013/gtcuda/__main__/m_stencil_iabs_defs__gtcuda_608b64cd31_pyext_BUILD/users/subbiali/jupyterhub/tasmania-prognostic-saturation/notebooks/.gt_cache/py36_1013/gtcuda/__main__/m_stencil_iabs_defs__gtcuda_608b64cd31_pyext_BUILD\n",
      "/opt/nvidia/cudatoolkit10/10.1.105_3.27-7.0.1.1_4.1__ga311ce7/bin/nvcc -I/users/subbiali/jupyterhub/tasmania/venv/include/site/python3.6 -I/users/subbiali/jupyterhub/tasmania/venv/include/site/python3.6 -I/users/subbiali/boost_build/include -I/opt/nvidia/cudatoolkit10/10.1.105_3.27-7.0.1.1_4.1__ga311ce7/include -I/users/subbiali/jupyterhub/tasmania/venv/include -I/opt/python/3.6.5.7/include/python3.6m -c /users/subbiali/jupyterhub/tasmania-prognostic-saturation/notebooks/.gt_cache/py36_1013/gtcuda/__main__/m_stencil_iabs_defs__gtcuda_608b64cd31_pyext_BUILD/computation.cu -o /users/subbiali/jupyterhub/tasmania-prognostic-saturation/notebooks/.gt_cache/py36_1013/gtcuda/__main__/m_stencil_iabs_defs__gtcuda_608b64cd31_pyext_BUILD/users/subbiali/jupyterhub/tasmania-prognostic-saturation/notebooks/.gt_cache/py36_1013/gtcuda/__main__/m_stencil_iabs_defs__gtcuda_608b64cd31_pyext_BUILD/computation.o -std=c++14 -isystem=/users/subbiali/jupyterhub/tasmania/docker/external/gt4py/src/gt4py/_external_src/gridtools/include -isystem=/users/subbiali/boost_build/include -DBOOST_PP_VARIADICS -DBOOST_OPTIONAL_CONFIG_USE_OLD_IMPLEMENTATION_OF_OPTIONAL -DBOOST_OPTIONAL_USE_OLD_DEFINITION_OF_NONE --expt-relaxed-constexpr --compiler-options -fPIC --compiler-options -fvisibility=hidden -O3 -DNDEBUG\n",
      "gcc -pthread -Wno-unused-result -Wsign-compare -fwrapv -Wall -march=x86-64 -march=x86-64 -fPIC -I/users/subbiali/jupyterhub/tasmania/venv/include/site/python3.6 -I/users/subbiali/jupyterhub/tasmania/venv/include/site/python3.6 -I/users/subbiali/boost_build/include -I/opt/nvidia/cudatoolkit10/10.1.105_3.27-7.0.1.1_4.1__ga311ce7/include -I/users/subbiali/jupyterhub/tasmania/venv/include -I/opt/python/3.6.5.7/include/python3.6m -c /users/subbiali/jupyterhub/tasmania-prognostic-saturation/notebooks/.gt_cache/py36_1013/gtcuda/__main__/m_stencil_iabs_defs__gtcuda_608b64cd31_pyext_BUILD/bindings.cpp -o /users/subbiali/jupyterhub/tasmania-prognostic-saturation/notebooks/.gt_cache/py36_1013/gtcuda/__main__/m_stencil_iabs_defs__gtcuda_608b64cd31_pyext_BUILD/users/subbiali/jupyterhub/tasmania-prognostic-saturation/notebooks/.gt_cache/py36_1013/gtcuda/__main__/m_stencil_iabs_defs__gtcuda_608b64cd31_pyext_BUILD/bindings.o -std=c++14 -fvisibility=hidden -fopenmp -isystem/users/subbiali/jupyterhub/tasmania/docker/external/gt4py/src/gt4py/_external_src/gridtools/include -isystem/users/subbiali/boost_build/include -DBOOST_PP_VARIADICS -fPIC -O3 -DNDEBUG\n",
      "creating /users/subbiali/jupyterhub/tasmania-prognostic-saturation/notebooks/.gt_cache/py36_1013/gtcuda/__main__/m_stencil_iabs_defs__gtcuda_608b64cd31_pyext_BUILD/_GT_\n",
      "creating /users/subbiali/jupyterhub/tasmania-prognostic-saturation/notebooks/.gt_cache/py36_1013/gtcuda/__main__/m_stencil_iabs_defs__gtcuda_608b64cd31_pyext_BUILD/_GT_/__main__\n",
      "g++ -pthread -shared -Wl,-rpath,/opt/python/3.6.5.7/lib /users/subbiali/jupyterhub/tasmania-prognostic-saturation/notebooks/.gt_cache/py36_1013/gtcuda/__main__/m_stencil_iabs_defs__gtcuda_608b64cd31_pyext_BUILD/users/subbiali/jupyterhub/tasmania-prognostic-saturation/notebooks/.gt_cache/py36_1013/gtcuda/__main__/m_stencil_iabs_defs__gtcuda_608b64cd31_pyext_BUILD/computation.o /users/subbiali/jupyterhub/tasmania-prognostic-saturation/notebooks/.gt_cache/py36_1013/gtcuda/__main__/m_stencil_iabs_defs__gtcuda_608b64cd31_pyext_BUILD/users/subbiali/jupyterhub/tasmania-prognostic-saturation/notebooks/.gt_cache/py36_1013/gtcuda/__main__/m_stencil_iabs_defs__gtcuda_608b64cd31_pyext_BUILD/bindings.o -L/opt/nvidia/cudatoolkit10/10.1.105_3.27-7.0.1.1_4.1__ga311ce7/lib64 -L/opt/python/3.6.5.7/lib -lcudart -lpython3.6m -o /users/subbiali/jupyterhub/tasmania-prognostic-saturation/notebooks/.gt_cache/py36_1013/gtcuda/__main__/m_stencil_iabs_defs__gtcuda_608b64cd31_pyext_BUILD/_GT_/__main__/m_stencil_iabs_defs__gtcuda_608b64cd31_pyext.cpython-36m-x86_64-linux-gnu.so -O3 -DNDEBUG\n",
      "copying /users/subbiali/jupyterhub/tasmania-prognostic-saturation/notebooks/.gt_cache/py36_1013/gtcuda/__main__/m_stencil_iabs_defs__gtcuda_608b64cd31_pyext_BUILD/_GT_/__main__/m_stencil_iabs_defs__gtcuda_608b64cd31_pyext.cpython-36m-x86_64-linux-gnu.so -> /users/subbiali/jupyterhub/tasmania-prognostic-saturation/notebooks/.gt_cache/py36_1013/gtcuda/__main__\n",
      "575 µs ± 478 ns per loop (mean ± std. dev. of 7 runs, 1000 loops each)\n"
     ]
    }
   ],
   "source": [
    "# iabs\n",
    "a[...] = a_dc[...]\n",
    "set_annotations(stencil_iabs_defs, dtype)\n",
    "stencil_iabs = gtscript.stencil(backend=backend, definition=stencil_iabs_defs, rebuild=False)\n",
    "out = %timeit -o stencil_iabs(a, origin=(0, 0, 0), domain=storage_shape)\n",
    "df.at[\"iabs\", column] = 1000 * out.average"
   ]
  },
  {
   "cell_type": "code",
   "execution_count": 114,
   "metadata": {},
   "outputs": [
    {
     "name": "stdout",
     "output_type": "stream",
     "text": [
      "557 µs ± 984 ns per loop (mean ± std. dev. of 7 runs, 1000 loops each)\n"
     ]
    }
   ],
   "source": [
    "# iabs: make origin coincide with default_origin\n",
    "a[...] = a_dc[...]\n",
    "domain = tuple(s - 2*d for s, d in zip(storage_shape, default_origin))\n",
    "%timeit stencil_iabs(a, origin=default_origin, domain=domain)"
   ]
  },
  {
   "cell_type": "code",
   "execution_count": 115,
   "metadata": {
    "pycharm": {
     "name": "#%%\n"
    }
   },
   "outputs": [
    {
     "name": "stdout",
     "output_type": "stream",
     "text": [
      "running build_ext\n",
      "building '_GT_.__main__.m_stencil_add_defs__gtcuda_14fbd2645f_pyext' extension\n",
      "creating /users/subbiali/jupyterhub/tasmania-prognostic-saturation/notebooks/.gt_cache/py36_1013/gtcuda/__main__/m_stencil_add_defs__gtcuda_14fbd2645f_pyext_BUILD/users\n",
      "creating /users/subbiali/jupyterhub/tasmania-prognostic-saturation/notebooks/.gt_cache/py36_1013/gtcuda/__main__/m_stencil_add_defs__gtcuda_14fbd2645f_pyext_BUILD/users/subbiali\n",
      "creating /users/subbiali/jupyterhub/tasmania-prognostic-saturation/notebooks/.gt_cache/py36_1013/gtcuda/__main__/m_stencil_add_defs__gtcuda_14fbd2645f_pyext_BUILD/users/subbiali/jupyterhub\n",
      "creating /users/subbiali/jupyterhub/tasmania-prognostic-saturation/notebooks/.gt_cache/py36_1013/gtcuda/__main__/m_stencil_add_defs__gtcuda_14fbd2645f_pyext_BUILD/users/subbiali/jupyterhub/tasmania-prognostic-saturation\n",
      "creating /users/subbiali/jupyterhub/tasmania-prognostic-saturation/notebooks/.gt_cache/py36_1013/gtcuda/__main__/m_stencil_add_defs__gtcuda_14fbd2645f_pyext_BUILD/users/subbiali/jupyterhub/tasmania-prognostic-saturation/notebooks\n",
      "creating /users/subbiali/jupyterhub/tasmania-prognostic-saturation/notebooks/.gt_cache/py36_1013/gtcuda/__main__/m_stencil_add_defs__gtcuda_14fbd2645f_pyext_BUILD/users/subbiali/jupyterhub/tasmania-prognostic-saturation/notebooks/.gt_cache\n",
      "creating /users/subbiali/jupyterhub/tasmania-prognostic-saturation/notebooks/.gt_cache/py36_1013/gtcuda/__main__/m_stencil_add_defs__gtcuda_14fbd2645f_pyext_BUILD/users/subbiali/jupyterhub/tasmania-prognostic-saturation/notebooks/.gt_cache/py36_1013\n",
      "creating /users/subbiali/jupyterhub/tasmania-prognostic-saturation/notebooks/.gt_cache/py36_1013/gtcuda/__main__/m_stencil_add_defs__gtcuda_14fbd2645f_pyext_BUILD/users/subbiali/jupyterhub/tasmania-prognostic-saturation/notebooks/.gt_cache/py36_1013/gtcuda\n",
      "creating /users/subbiali/jupyterhub/tasmania-prognostic-saturation/notebooks/.gt_cache/py36_1013/gtcuda/__main__/m_stencil_add_defs__gtcuda_14fbd2645f_pyext_BUILD/users/subbiali/jupyterhub/tasmania-prognostic-saturation/notebooks/.gt_cache/py36_1013/gtcuda/__main__\n",
      "creating /users/subbiali/jupyterhub/tasmania-prognostic-saturation/notebooks/.gt_cache/py36_1013/gtcuda/__main__/m_stencil_add_defs__gtcuda_14fbd2645f_pyext_BUILD/users/subbiali/jupyterhub/tasmania-prognostic-saturation/notebooks/.gt_cache/py36_1013/gtcuda/__main__/m_stencil_add_defs__gtcuda_14fbd2645f_pyext_BUILD\n",
      "/opt/nvidia/cudatoolkit10/10.1.105_3.27-7.0.1.1_4.1__ga311ce7/bin/nvcc -I/users/subbiali/jupyterhub/tasmania/venv/include/site/python3.6 -I/users/subbiali/jupyterhub/tasmania/venv/include/site/python3.6 -I/users/subbiali/boost_build/include -I/opt/nvidia/cudatoolkit10/10.1.105_3.27-7.0.1.1_4.1__ga311ce7/include -I/users/subbiali/jupyterhub/tasmania/venv/include -I/opt/python/3.6.5.7/include/python3.6m -c /users/subbiali/jupyterhub/tasmania-prognostic-saturation/notebooks/.gt_cache/py36_1013/gtcuda/__main__/m_stencil_add_defs__gtcuda_14fbd2645f_pyext_BUILD/computation.cu -o /users/subbiali/jupyterhub/tasmania-prognostic-saturation/notebooks/.gt_cache/py36_1013/gtcuda/__main__/m_stencil_add_defs__gtcuda_14fbd2645f_pyext_BUILD/users/subbiali/jupyterhub/tasmania-prognostic-saturation/notebooks/.gt_cache/py36_1013/gtcuda/__main__/m_stencil_add_defs__gtcuda_14fbd2645f_pyext_BUILD/computation.o -std=c++14 -isystem=/users/subbiali/jupyterhub/tasmania/docker/external/gt4py/src/gt4py/_external_src/gridtools/include -isystem=/users/subbiali/boost_build/include -DBOOST_PP_VARIADICS -DBOOST_OPTIONAL_CONFIG_USE_OLD_IMPLEMENTATION_OF_OPTIONAL -DBOOST_OPTIONAL_USE_OLD_DEFINITION_OF_NONE --expt-relaxed-constexpr --compiler-options -fPIC --compiler-options -fvisibility=hidden -O3 -DNDEBUG\n",
      "gcc -pthread -Wno-unused-result -Wsign-compare -fwrapv -Wall -march=x86-64 -march=x86-64 -fPIC -I/users/subbiali/jupyterhub/tasmania/venv/include/site/python3.6 -I/users/subbiali/jupyterhub/tasmania/venv/include/site/python3.6 -I/users/subbiali/boost_build/include -I/opt/nvidia/cudatoolkit10/10.1.105_3.27-7.0.1.1_4.1__ga311ce7/include -I/users/subbiali/jupyterhub/tasmania/venv/include -I/opt/python/3.6.5.7/include/python3.6m -c /users/subbiali/jupyterhub/tasmania-prognostic-saturation/notebooks/.gt_cache/py36_1013/gtcuda/__main__/m_stencil_add_defs__gtcuda_14fbd2645f_pyext_BUILD/bindings.cpp -o /users/subbiali/jupyterhub/tasmania-prognostic-saturation/notebooks/.gt_cache/py36_1013/gtcuda/__main__/m_stencil_add_defs__gtcuda_14fbd2645f_pyext_BUILD/users/subbiali/jupyterhub/tasmania-prognostic-saturation/notebooks/.gt_cache/py36_1013/gtcuda/__main__/m_stencil_add_defs__gtcuda_14fbd2645f_pyext_BUILD/bindings.o -std=c++14 -fvisibility=hidden -fopenmp -isystem/users/subbiali/jupyterhub/tasmania/docker/external/gt4py/src/gt4py/_external_src/gridtools/include -isystem/users/subbiali/boost_build/include -DBOOST_PP_VARIADICS -fPIC -O3 -DNDEBUG\n",
      "creating /users/subbiali/jupyterhub/tasmania-prognostic-saturation/notebooks/.gt_cache/py36_1013/gtcuda/__main__/m_stencil_add_defs__gtcuda_14fbd2645f_pyext_BUILD/_GT_\n",
      "creating /users/subbiali/jupyterhub/tasmania-prognostic-saturation/notebooks/.gt_cache/py36_1013/gtcuda/__main__/m_stencil_add_defs__gtcuda_14fbd2645f_pyext_BUILD/_GT_/__main__\n",
      "g++ -pthread -shared -Wl,-rpath,/opt/python/3.6.5.7/lib /users/subbiali/jupyterhub/tasmania-prognostic-saturation/notebooks/.gt_cache/py36_1013/gtcuda/__main__/m_stencil_add_defs__gtcuda_14fbd2645f_pyext_BUILD/users/subbiali/jupyterhub/tasmania-prognostic-saturation/notebooks/.gt_cache/py36_1013/gtcuda/__main__/m_stencil_add_defs__gtcuda_14fbd2645f_pyext_BUILD/computation.o /users/subbiali/jupyterhub/tasmania-prognostic-saturation/notebooks/.gt_cache/py36_1013/gtcuda/__main__/m_stencil_add_defs__gtcuda_14fbd2645f_pyext_BUILD/users/subbiali/jupyterhub/tasmania-prognostic-saturation/notebooks/.gt_cache/py36_1013/gtcuda/__main__/m_stencil_add_defs__gtcuda_14fbd2645f_pyext_BUILD/bindings.o -L/opt/nvidia/cudatoolkit10/10.1.105_3.27-7.0.1.1_4.1__ga311ce7/lib64 -L/opt/python/3.6.5.7/lib -lcudart -lpython3.6m -o /users/subbiali/jupyterhub/tasmania-prognostic-saturation/notebooks/.gt_cache/py36_1013/gtcuda/__main__/m_stencil_add_defs__gtcuda_14fbd2645f_pyext_BUILD/_GT_/__main__/m_stencil_add_defs__gtcuda_14fbd2645f_pyext.cpython-36m-x86_64-linux-gnu.so -O3 -DNDEBUG\n",
      "copying /users/subbiali/jupyterhub/tasmania-prognostic-saturation/notebooks/.gt_cache/py36_1013/gtcuda/__main__/m_stencil_add_defs__gtcuda_14fbd2645f_pyext_BUILD/_GT_/__main__/m_stencil_add_defs__gtcuda_14fbd2645f_pyext.cpython-36m-x86_64-linux-gnu.so -> /users/subbiali/jupyterhub/tasmania-prognostic-saturation/notebooks/.gt_cache/py36_1013/gtcuda/__main__\n",
      "936 µs ± 224 ns per loop (mean ± std. dev. of 7 runs, 1000 loops each)\n"
     ]
    }
   ],
   "source": [
    "# add\n",
    "set_annotations(stencil_add_defs, dtype)\n",
    "stencil_add = gtscript.stencil(backend=backend, definition=stencil_add_defs, rebuild=False)\n",
    "out = %timeit -o stencil_add(in_a=a, in_b=b, out_c=c, origin=(0, 0, 0), domain=storage_shape)\n",
    "df.at[\"add\", column] = 1000 * out.average"
   ]
  },
  {
   "cell_type": "code",
   "execution_count": 116,
   "metadata": {},
   "outputs": [
    {
     "name": "stdout",
     "output_type": "stream",
     "text": [
      "908 µs ± 1.06 µs per loop (mean ± std. dev. of 7 runs, 1000 loops each)\n"
     ]
    }
   ],
   "source": [
    "# add: make origin coincide with default_origin\n",
    "domain = tuple(s - 2*d for s, d in zip(storage_shape, default_origin))\n",
    "%timeit stencil_add(in_a=a, in_b=b, out_c=c, origin=default_origin, domain=domain)"
   ]
  },
  {
   "cell_type": "code",
   "execution_count": 117,
   "metadata": {
    "pycharm": {
     "name": "#%%\n"
    }
   },
   "outputs": [
    {
     "name": "stdout",
     "output_type": "stream",
     "text": [
      "running build_ext\n",
      "building '_GT_.__main__.m_stencil_iadd_defs__gtcuda_e9d894558c_pyext' extension\n",
      "creating /users/subbiali/jupyterhub/tasmania-prognostic-saturation/notebooks/.gt_cache/py36_1013/gtcuda/__main__/m_stencil_iadd_defs__gtcuda_e9d894558c_pyext_BUILD/users\n",
      "creating /users/subbiali/jupyterhub/tasmania-prognostic-saturation/notebooks/.gt_cache/py36_1013/gtcuda/__main__/m_stencil_iadd_defs__gtcuda_e9d894558c_pyext_BUILD/users/subbiali\n",
      "creating /users/subbiali/jupyterhub/tasmania-prognostic-saturation/notebooks/.gt_cache/py36_1013/gtcuda/__main__/m_stencil_iadd_defs__gtcuda_e9d894558c_pyext_BUILD/users/subbiali/jupyterhub\n",
      "creating /users/subbiali/jupyterhub/tasmania-prognostic-saturation/notebooks/.gt_cache/py36_1013/gtcuda/__main__/m_stencil_iadd_defs__gtcuda_e9d894558c_pyext_BUILD/users/subbiali/jupyterhub/tasmania-prognostic-saturation\n",
      "creating /users/subbiali/jupyterhub/tasmania-prognostic-saturation/notebooks/.gt_cache/py36_1013/gtcuda/__main__/m_stencil_iadd_defs__gtcuda_e9d894558c_pyext_BUILD/users/subbiali/jupyterhub/tasmania-prognostic-saturation/notebooks\n",
      "creating /users/subbiali/jupyterhub/tasmania-prognostic-saturation/notebooks/.gt_cache/py36_1013/gtcuda/__main__/m_stencil_iadd_defs__gtcuda_e9d894558c_pyext_BUILD/users/subbiali/jupyterhub/tasmania-prognostic-saturation/notebooks/.gt_cache\n",
      "creating /users/subbiali/jupyterhub/tasmania-prognostic-saturation/notebooks/.gt_cache/py36_1013/gtcuda/__main__/m_stencil_iadd_defs__gtcuda_e9d894558c_pyext_BUILD/users/subbiali/jupyterhub/tasmania-prognostic-saturation/notebooks/.gt_cache/py36_1013\n",
      "creating /users/subbiali/jupyterhub/tasmania-prognostic-saturation/notebooks/.gt_cache/py36_1013/gtcuda/__main__/m_stencil_iadd_defs__gtcuda_e9d894558c_pyext_BUILD/users/subbiali/jupyterhub/tasmania-prognostic-saturation/notebooks/.gt_cache/py36_1013/gtcuda\n",
      "creating /users/subbiali/jupyterhub/tasmania-prognostic-saturation/notebooks/.gt_cache/py36_1013/gtcuda/__main__/m_stencil_iadd_defs__gtcuda_e9d894558c_pyext_BUILD/users/subbiali/jupyterhub/tasmania-prognostic-saturation/notebooks/.gt_cache/py36_1013/gtcuda/__main__\n",
      "creating /users/subbiali/jupyterhub/tasmania-prognostic-saturation/notebooks/.gt_cache/py36_1013/gtcuda/__main__/m_stencil_iadd_defs__gtcuda_e9d894558c_pyext_BUILD/users/subbiali/jupyterhub/tasmania-prognostic-saturation/notebooks/.gt_cache/py36_1013/gtcuda/__main__/m_stencil_iadd_defs__gtcuda_e9d894558c_pyext_BUILD\n",
      "/opt/nvidia/cudatoolkit10/10.1.105_3.27-7.0.1.1_4.1__ga311ce7/bin/nvcc -I/users/subbiali/jupyterhub/tasmania/venv/include/site/python3.6 -I/users/subbiali/jupyterhub/tasmania/venv/include/site/python3.6 -I/users/subbiali/boost_build/include -I/opt/nvidia/cudatoolkit10/10.1.105_3.27-7.0.1.1_4.1__ga311ce7/include -I/users/subbiali/jupyterhub/tasmania/venv/include -I/opt/python/3.6.5.7/include/python3.6m -c /users/subbiali/jupyterhub/tasmania-prognostic-saturation/notebooks/.gt_cache/py36_1013/gtcuda/__main__/m_stencil_iadd_defs__gtcuda_e9d894558c_pyext_BUILD/computation.cu -o /users/subbiali/jupyterhub/tasmania-prognostic-saturation/notebooks/.gt_cache/py36_1013/gtcuda/__main__/m_stencil_iadd_defs__gtcuda_e9d894558c_pyext_BUILD/users/subbiali/jupyterhub/tasmania-prognostic-saturation/notebooks/.gt_cache/py36_1013/gtcuda/__main__/m_stencil_iadd_defs__gtcuda_e9d894558c_pyext_BUILD/computation.o -std=c++14 -isystem=/users/subbiali/jupyterhub/tasmania/docker/external/gt4py/src/gt4py/_external_src/gridtools/include -isystem=/users/subbiali/boost_build/include -DBOOST_PP_VARIADICS -DBOOST_OPTIONAL_CONFIG_USE_OLD_IMPLEMENTATION_OF_OPTIONAL -DBOOST_OPTIONAL_USE_OLD_DEFINITION_OF_NONE --expt-relaxed-constexpr --compiler-options -fPIC --compiler-options -fvisibility=hidden -O3 -DNDEBUG\n",
      "gcc -pthread -Wno-unused-result -Wsign-compare -fwrapv -Wall -march=x86-64 -march=x86-64 -fPIC -I/users/subbiali/jupyterhub/tasmania/venv/include/site/python3.6 -I/users/subbiali/jupyterhub/tasmania/venv/include/site/python3.6 -I/users/subbiali/boost_build/include -I/opt/nvidia/cudatoolkit10/10.1.105_3.27-7.0.1.1_4.1__ga311ce7/include -I/users/subbiali/jupyterhub/tasmania/venv/include -I/opt/python/3.6.5.7/include/python3.6m -c /users/subbiali/jupyterhub/tasmania-prognostic-saturation/notebooks/.gt_cache/py36_1013/gtcuda/__main__/m_stencil_iadd_defs__gtcuda_e9d894558c_pyext_BUILD/bindings.cpp -o /users/subbiali/jupyterhub/tasmania-prognostic-saturation/notebooks/.gt_cache/py36_1013/gtcuda/__main__/m_stencil_iadd_defs__gtcuda_e9d894558c_pyext_BUILD/users/subbiali/jupyterhub/tasmania-prognostic-saturation/notebooks/.gt_cache/py36_1013/gtcuda/__main__/m_stencil_iadd_defs__gtcuda_e9d894558c_pyext_BUILD/bindings.o -std=c++14 -fvisibility=hidden -fopenmp -isystem/users/subbiali/jupyterhub/tasmania/docker/external/gt4py/src/gt4py/_external_src/gridtools/include -isystem/users/subbiali/boost_build/include -DBOOST_PP_VARIADICS -fPIC -O3 -DNDEBUG\n",
      "creating /users/subbiali/jupyterhub/tasmania-prognostic-saturation/notebooks/.gt_cache/py36_1013/gtcuda/__main__/m_stencil_iadd_defs__gtcuda_e9d894558c_pyext_BUILD/_GT_\n",
      "creating /users/subbiali/jupyterhub/tasmania-prognostic-saturation/notebooks/.gt_cache/py36_1013/gtcuda/__main__/m_stencil_iadd_defs__gtcuda_e9d894558c_pyext_BUILD/_GT_/__main__\n",
      "g++ -pthread -shared -Wl,-rpath,/opt/python/3.6.5.7/lib /users/subbiali/jupyterhub/tasmania-prognostic-saturation/notebooks/.gt_cache/py36_1013/gtcuda/__main__/m_stencil_iadd_defs__gtcuda_e9d894558c_pyext_BUILD/users/subbiali/jupyterhub/tasmania-prognostic-saturation/notebooks/.gt_cache/py36_1013/gtcuda/__main__/m_stencil_iadd_defs__gtcuda_e9d894558c_pyext_BUILD/computation.o /users/subbiali/jupyterhub/tasmania-prognostic-saturation/notebooks/.gt_cache/py36_1013/gtcuda/__main__/m_stencil_iadd_defs__gtcuda_e9d894558c_pyext_BUILD/users/subbiali/jupyterhub/tasmania-prognostic-saturation/notebooks/.gt_cache/py36_1013/gtcuda/__main__/m_stencil_iadd_defs__gtcuda_e9d894558c_pyext_BUILD/bindings.o -L/opt/nvidia/cudatoolkit10/10.1.105_3.27-7.0.1.1_4.1__ga311ce7/lib64 -L/opt/python/3.6.5.7/lib -lcudart -lpython3.6m -o /users/subbiali/jupyterhub/tasmania-prognostic-saturation/notebooks/.gt_cache/py36_1013/gtcuda/__main__/m_stencil_iadd_defs__gtcuda_e9d894558c_pyext_BUILD/_GT_/__main__/m_stencil_iadd_defs__gtcuda_e9d894558c_pyext.cpython-36m-x86_64-linux-gnu.so -O3 -DNDEBUG\n",
      "copying /users/subbiali/jupyterhub/tasmania-prognostic-saturation/notebooks/.gt_cache/py36_1013/gtcuda/__main__/m_stencil_iadd_defs__gtcuda_e9d894558c_pyext_BUILD/_GT_/__main__/m_stencil_iadd_defs__gtcuda_e9d894558c_pyext.cpython-36m-x86_64-linux-gnu.so -> /users/subbiali/jupyterhub/tasmania-prognostic-saturation/notebooks/.gt_cache/py36_1013/gtcuda/__main__\n",
      "841 µs ± 1.4 µs per loop (mean ± std. dev. of 7 runs, 1000 loops each)\n"
     ]
    }
   ],
   "source": [
    "# iadd\n",
    "a[...] = a_dc[...]\n",
    "set_annotations(stencil_iadd_defs, dtype)\n",
    "stencil_iadd = gtscript.stencil(backend=backend, definition=stencil_iadd_defs, rebuild=False)\n",
    "out = %timeit -o stencil_iadd(inout_a=a, in_b=b, origin=(0, 0, 0), domain=storage_shape)\n",
    "df.at[\"iadd\", column] = 1000 * out.average"
   ]
  },
  {
   "cell_type": "code",
   "execution_count": 118,
   "metadata": {},
   "outputs": [
    {
     "name": "stdout",
     "output_type": "stream",
     "text": [
      "810 µs ± 322 ns per loop (mean ± std. dev. of 7 runs, 1000 loops each)\n"
     ]
    }
   ],
   "source": [
    "# iadd: make origin coincide with default_origin\n",
    "a[...] = a_dc[...]\n",
    "domain = tuple(s - 2*d for s, d in zip(storage_shape, default_origin))\n",
    "%timeit stencil_iadd(inout_a=a, in_b=b, origin=default_origin, domain=domain)"
   ]
  },
  {
   "cell_type": "code",
   "execution_count": 119,
   "metadata": {},
   "outputs": [
    {
     "name": "stdout",
     "output_type": "stream",
     "text": [
      "running build_ext\n",
      "building '_GT_.__main__.m_stencil_sub_defs__gtcuda_2f238c1a6a_pyext' extension\n",
      "creating /users/subbiali/jupyterhub/tasmania-prognostic-saturation/notebooks/.gt_cache/py36_1013/gtcuda/__main__/m_stencil_sub_defs__gtcuda_2f238c1a6a_pyext_BUILD/users\n",
      "creating /users/subbiali/jupyterhub/tasmania-prognostic-saturation/notebooks/.gt_cache/py36_1013/gtcuda/__main__/m_stencil_sub_defs__gtcuda_2f238c1a6a_pyext_BUILD/users/subbiali\n",
      "creating /users/subbiali/jupyterhub/tasmania-prognostic-saturation/notebooks/.gt_cache/py36_1013/gtcuda/__main__/m_stencil_sub_defs__gtcuda_2f238c1a6a_pyext_BUILD/users/subbiali/jupyterhub\n",
      "creating /users/subbiali/jupyterhub/tasmania-prognostic-saturation/notebooks/.gt_cache/py36_1013/gtcuda/__main__/m_stencil_sub_defs__gtcuda_2f238c1a6a_pyext_BUILD/users/subbiali/jupyterhub/tasmania-prognostic-saturation\n",
      "creating /users/subbiali/jupyterhub/tasmania-prognostic-saturation/notebooks/.gt_cache/py36_1013/gtcuda/__main__/m_stencil_sub_defs__gtcuda_2f238c1a6a_pyext_BUILD/users/subbiali/jupyterhub/tasmania-prognostic-saturation/notebooks\n",
      "creating /users/subbiali/jupyterhub/tasmania-prognostic-saturation/notebooks/.gt_cache/py36_1013/gtcuda/__main__/m_stencil_sub_defs__gtcuda_2f238c1a6a_pyext_BUILD/users/subbiali/jupyterhub/tasmania-prognostic-saturation/notebooks/.gt_cache\n",
      "creating /users/subbiali/jupyterhub/tasmania-prognostic-saturation/notebooks/.gt_cache/py36_1013/gtcuda/__main__/m_stencil_sub_defs__gtcuda_2f238c1a6a_pyext_BUILD/users/subbiali/jupyterhub/tasmania-prognostic-saturation/notebooks/.gt_cache/py36_1013\n",
      "creating /users/subbiali/jupyterhub/tasmania-prognostic-saturation/notebooks/.gt_cache/py36_1013/gtcuda/__main__/m_stencil_sub_defs__gtcuda_2f238c1a6a_pyext_BUILD/users/subbiali/jupyterhub/tasmania-prognostic-saturation/notebooks/.gt_cache/py36_1013/gtcuda\n",
      "creating /users/subbiali/jupyterhub/tasmania-prognostic-saturation/notebooks/.gt_cache/py36_1013/gtcuda/__main__/m_stencil_sub_defs__gtcuda_2f238c1a6a_pyext_BUILD/users/subbiali/jupyterhub/tasmania-prognostic-saturation/notebooks/.gt_cache/py36_1013/gtcuda/__main__\n",
      "creating /users/subbiali/jupyterhub/tasmania-prognostic-saturation/notebooks/.gt_cache/py36_1013/gtcuda/__main__/m_stencil_sub_defs__gtcuda_2f238c1a6a_pyext_BUILD/users/subbiali/jupyterhub/tasmania-prognostic-saturation/notebooks/.gt_cache/py36_1013/gtcuda/__main__/m_stencil_sub_defs__gtcuda_2f238c1a6a_pyext_BUILD\n",
      "/opt/nvidia/cudatoolkit10/10.1.105_3.27-7.0.1.1_4.1__ga311ce7/bin/nvcc -I/users/subbiali/jupyterhub/tasmania/venv/include/site/python3.6 -I/users/subbiali/jupyterhub/tasmania/venv/include/site/python3.6 -I/users/subbiali/boost_build/include -I/opt/nvidia/cudatoolkit10/10.1.105_3.27-7.0.1.1_4.1__ga311ce7/include -I/users/subbiali/jupyterhub/tasmania/venv/include -I/opt/python/3.6.5.7/include/python3.6m -c /users/subbiali/jupyterhub/tasmania-prognostic-saturation/notebooks/.gt_cache/py36_1013/gtcuda/__main__/m_stencil_sub_defs__gtcuda_2f238c1a6a_pyext_BUILD/computation.cu -o /users/subbiali/jupyterhub/tasmania-prognostic-saturation/notebooks/.gt_cache/py36_1013/gtcuda/__main__/m_stencil_sub_defs__gtcuda_2f238c1a6a_pyext_BUILD/users/subbiali/jupyterhub/tasmania-prognostic-saturation/notebooks/.gt_cache/py36_1013/gtcuda/__main__/m_stencil_sub_defs__gtcuda_2f238c1a6a_pyext_BUILD/computation.o -std=c++14 -isystem=/users/subbiali/jupyterhub/tasmania/docker/external/gt4py/src/gt4py/_external_src/gridtools/include -isystem=/users/subbiali/boost_build/include -DBOOST_PP_VARIADICS -DBOOST_OPTIONAL_CONFIG_USE_OLD_IMPLEMENTATION_OF_OPTIONAL -DBOOST_OPTIONAL_USE_OLD_DEFINITION_OF_NONE --expt-relaxed-constexpr --compiler-options -fPIC --compiler-options -fvisibility=hidden -O3 -DNDEBUG\n",
      "gcc -pthread -Wno-unused-result -Wsign-compare -fwrapv -Wall -march=x86-64 -march=x86-64 -fPIC -I/users/subbiali/jupyterhub/tasmania/venv/include/site/python3.6 -I/users/subbiali/jupyterhub/tasmania/venv/include/site/python3.6 -I/users/subbiali/boost_build/include -I/opt/nvidia/cudatoolkit10/10.1.105_3.27-7.0.1.1_4.1__ga311ce7/include -I/users/subbiali/jupyterhub/tasmania/venv/include -I/opt/python/3.6.5.7/include/python3.6m -c /users/subbiali/jupyterhub/tasmania-prognostic-saturation/notebooks/.gt_cache/py36_1013/gtcuda/__main__/m_stencil_sub_defs__gtcuda_2f238c1a6a_pyext_BUILD/bindings.cpp -o /users/subbiali/jupyterhub/tasmania-prognostic-saturation/notebooks/.gt_cache/py36_1013/gtcuda/__main__/m_stencil_sub_defs__gtcuda_2f238c1a6a_pyext_BUILD/users/subbiali/jupyterhub/tasmania-prognostic-saturation/notebooks/.gt_cache/py36_1013/gtcuda/__main__/m_stencil_sub_defs__gtcuda_2f238c1a6a_pyext_BUILD/bindings.o -std=c++14 -fvisibility=hidden -fopenmp -isystem/users/subbiali/jupyterhub/tasmania/docker/external/gt4py/src/gt4py/_external_src/gridtools/include -isystem/users/subbiali/boost_build/include -DBOOST_PP_VARIADICS -fPIC -O3 -DNDEBUG\n",
      "creating /users/subbiali/jupyterhub/tasmania-prognostic-saturation/notebooks/.gt_cache/py36_1013/gtcuda/__main__/m_stencil_sub_defs__gtcuda_2f238c1a6a_pyext_BUILD/_GT_\n",
      "creating /users/subbiali/jupyterhub/tasmania-prognostic-saturation/notebooks/.gt_cache/py36_1013/gtcuda/__main__/m_stencil_sub_defs__gtcuda_2f238c1a6a_pyext_BUILD/_GT_/__main__\n",
      "g++ -pthread -shared -Wl,-rpath,/opt/python/3.6.5.7/lib /users/subbiali/jupyterhub/tasmania-prognostic-saturation/notebooks/.gt_cache/py36_1013/gtcuda/__main__/m_stencil_sub_defs__gtcuda_2f238c1a6a_pyext_BUILD/users/subbiali/jupyterhub/tasmania-prognostic-saturation/notebooks/.gt_cache/py36_1013/gtcuda/__main__/m_stencil_sub_defs__gtcuda_2f238c1a6a_pyext_BUILD/computation.o /users/subbiali/jupyterhub/tasmania-prognostic-saturation/notebooks/.gt_cache/py36_1013/gtcuda/__main__/m_stencil_sub_defs__gtcuda_2f238c1a6a_pyext_BUILD/users/subbiali/jupyterhub/tasmania-prognostic-saturation/notebooks/.gt_cache/py36_1013/gtcuda/__main__/m_stencil_sub_defs__gtcuda_2f238c1a6a_pyext_BUILD/bindings.o -L/opt/nvidia/cudatoolkit10/10.1.105_3.27-7.0.1.1_4.1__ga311ce7/lib64 -L/opt/python/3.6.5.7/lib -lcudart -lpython3.6m -o /users/subbiali/jupyterhub/tasmania-prognostic-saturation/notebooks/.gt_cache/py36_1013/gtcuda/__main__/m_stencil_sub_defs__gtcuda_2f238c1a6a_pyext_BUILD/_GT_/__main__/m_stencil_sub_defs__gtcuda_2f238c1a6a_pyext.cpython-36m-x86_64-linux-gnu.so -O3 -DNDEBUG\n",
      "copying /users/subbiali/jupyterhub/tasmania-prognostic-saturation/notebooks/.gt_cache/py36_1013/gtcuda/__main__/m_stencil_sub_defs__gtcuda_2f238c1a6a_pyext_BUILD/_GT_/__main__/m_stencil_sub_defs__gtcuda_2f238c1a6a_pyext.cpython-36m-x86_64-linux-gnu.so -> /users/subbiali/jupyterhub/tasmania-prognostic-saturation/notebooks/.gt_cache/py36_1013/gtcuda/__main__\n",
      "944 µs ± 8.61 µs per loop (mean ± std. dev. of 7 runs, 1 loop each)\n"
     ]
    }
   ],
   "source": [
    "# sub\n",
    "set_annotations(stencil_sub_defs, dtype)\n",
    "stencil_sub = gtscript.stencil(backend=backend, definition=stencil_sub_defs, rebuild=False)\n",
    "out = %timeit -o stencil_sub(in_a=a, in_b=b, out_c=c, origin=(0, 0, 0), domain=storage_shape)\n",
    "df.at[\"sub\", column] = 1000 * out.average"
   ]
  },
  {
   "cell_type": "code",
   "execution_count": 120,
   "metadata": {},
   "outputs": [
    {
     "name": "stdout",
     "output_type": "stream",
     "text": [
      "909 µs ± 1.04 µs per loop (mean ± std. dev. of 7 runs, 1000 loops each)\n"
     ]
    }
   ],
   "source": [
    "# sub: make origin coincide with default_origin\n",
    "domain = tuple(s - 2*d for s, d in zip(storage_shape, default_origin))\n",
    "%timeit stencil_sub(in_a=a, in_b=b, out_c=c, origin=default_origin, domain=domain)"
   ]
  },
  {
   "cell_type": "code",
   "execution_count": 121,
   "metadata": {},
   "outputs": [
    {
     "name": "stdout",
     "output_type": "stream",
     "text": [
      "running build_ext\n",
      "building '_GT_.__main__.m_stencil_isub_defs__gtcuda_8873429266_pyext' extension\n",
      "creating /users/subbiali/jupyterhub/tasmania-prognostic-saturation/notebooks/.gt_cache/py36_1013/gtcuda/__main__/m_stencil_isub_defs__gtcuda_8873429266_pyext_BUILD/users\n",
      "creating /users/subbiali/jupyterhub/tasmania-prognostic-saturation/notebooks/.gt_cache/py36_1013/gtcuda/__main__/m_stencil_isub_defs__gtcuda_8873429266_pyext_BUILD/users/subbiali\n",
      "creating /users/subbiali/jupyterhub/tasmania-prognostic-saturation/notebooks/.gt_cache/py36_1013/gtcuda/__main__/m_stencil_isub_defs__gtcuda_8873429266_pyext_BUILD/users/subbiali/jupyterhub\n",
      "creating /users/subbiali/jupyterhub/tasmania-prognostic-saturation/notebooks/.gt_cache/py36_1013/gtcuda/__main__/m_stencil_isub_defs__gtcuda_8873429266_pyext_BUILD/users/subbiali/jupyterhub/tasmania-prognostic-saturation\n",
      "creating /users/subbiali/jupyterhub/tasmania-prognostic-saturation/notebooks/.gt_cache/py36_1013/gtcuda/__main__/m_stencil_isub_defs__gtcuda_8873429266_pyext_BUILD/users/subbiali/jupyterhub/tasmania-prognostic-saturation/notebooks\n",
      "creating /users/subbiali/jupyterhub/tasmania-prognostic-saturation/notebooks/.gt_cache/py36_1013/gtcuda/__main__/m_stencil_isub_defs__gtcuda_8873429266_pyext_BUILD/users/subbiali/jupyterhub/tasmania-prognostic-saturation/notebooks/.gt_cache\n",
      "creating /users/subbiali/jupyterhub/tasmania-prognostic-saturation/notebooks/.gt_cache/py36_1013/gtcuda/__main__/m_stencil_isub_defs__gtcuda_8873429266_pyext_BUILD/users/subbiali/jupyterhub/tasmania-prognostic-saturation/notebooks/.gt_cache/py36_1013\n",
      "creating /users/subbiali/jupyterhub/tasmania-prognostic-saturation/notebooks/.gt_cache/py36_1013/gtcuda/__main__/m_stencil_isub_defs__gtcuda_8873429266_pyext_BUILD/users/subbiali/jupyterhub/tasmania-prognostic-saturation/notebooks/.gt_cache/py36_1013/gtcuda\n",
      "creating /users/subbiali/jupyterhub/tasmania-prognostic-saturation/notebooks/.gt_cache/py36_1013/gtcuda/__main__/m_stencil_isub_defs__gtcuda_8873429266_pyext_BUILD/users/subbiali/jupyterhub/tasmania-prognostic-saturation/notebooks/.gt_cache/py36_1013/gtcuda/__main__\n",
      "creating /users/subbiali/jupyterhub/tasmania-prognostic-saturation/notebooks/.gt_cache/py36_1013/gtcuda/__main__/m_stencil_isub_defs__gtcuda_8873429266_pyext_BUILD/users/subbiali/jupyterhub/tasmania-prognostic-saturation/notebooks/.gt_cache/py36_1013/gtcuda/__main__/m_stencil_isub_defs__gtcuda_8873429266_pyext_BUILD\n",
      "/opt/nvidia/cudatoolkit10/10.1.105_3.27-7.0.1.1_4.1__ga311ce7/bin/nvcc -I/users/subbiali/jupyterhub/tasmania/venv/include/site/python3.6 -I/users/subbiali/jupyterhub/tasmania/venv/include/site/python3.6 -I/users/subbiali/boost_build/include -I/opt/nvidia/cudatoolkit10/10.1.105_3.27-7.0.1.1_4.1__ga311ce7/include -I/users/subbiali/jupyterhub/tasmania/venv/include -I/opt/python/3.6.5.7/include/python3.6m -c /users/subbiali/jupyterhub/tasmania-prognostic-saturation/notebooks/.gt_cache/py36_1013/gtcuda/__main__/m_stencil_isub_defs__gtcuda_8873429266_pyext_BUILD/computation.cu -o /users/subbiali/jupyterhub/tasmania-prognostic-saturation/notebooks/.gt_cache/py36_1013/gtcuda/__main__/m_stencil_isub_defs__gtcuda_8873429266_pyext_BUILD/users/subbiali/jupyterhub/tasmania-prognostic-saturation/notebooks/.gt_cache/py36_1013/gtcuda/__main__/m_stencil_isub_defs__gtcuda_8873429266_pyext_BUILD/computation.o -std=c++14 -isystem=/users/subbiali/jupyterhub/tasmania/docker/external/gt4py/src/gt4py/_external_src/gridtools/include -isystem=/users/subbiali/boost_build/include -DBOOST_PP_VARIADICS -DBOOST_OPTIONAL_CONFIG_USE_OLD_IMPLEMENTATION_OF_OPTIONAL -DBOOST_OPTIONAL_USE_OLD_DEFINITION_OF_NONE --expt-relaxed-constexpr --compiler-options -fPIC --compiler-options -fvisibility=hidden -O3 -DNDEBUG\n",
      "gcc -pthread -Wno-unused-result -Wsign-compare -fwrapv -Wall -march=x86-64 -march=x86-64 -fPIC -I/users/subbiali/jupyterhub/tasmania/venv/include/site/python3.6 -I/users/subbiali/jupyterhub/tasmania/venv/include/site/python3.6 -I/users/subbiali/boost_build/include -I/opt/nvidia/cudatoolkit10/10.1.105_3.27-7.0.1.1_4.1__ga311ce7/include -I/users/subbiali/jupyterhub/tasmania/venv/include -I/opt/python/3.6.5.7/include/python3.6m -c /users/subbiali/jupyterhub/tasmania-prognostic-saturation/notebooks/.gt_cache/py36_1013/gtcuda/__main__/m_stencil_isub_defs__gtcuda_8873429266_pyext_BUILD/bindings.cpp -o /users/subbiali/jupyterhub/tasmania-prognostic-saturation/notebooks/.gt_cache/py36_1013/gtcuda/__main__/m_stencil_isub_defs__gtcuda_8873429266_pyext_BUILD/users/subbiali/jupyterhub/tasmania-prognostic-saturation/notebooks/.gt_cache/py36_1013/gtcuda/__main__/m_stencil_isub_defs__gtcuda_8873429266_pyext_BUILD/bindings.o -std=c++14 -fvisibility=hidden -fopenmp -isystem/users/subbiali/jupyterhub/tasmania/docker/external/gt4py/src/gt4py/_external_src/gridtools/include -isystem/users/subbiali/boost_build/include -DBOOST_PP_VARIADICS -fPIC -O3 -DNDEBUG\n",
      "creating /users/subbiali/jupyterhub/tasmania-prognostic-saturation/notebooks/.gt_cache/py36_1013/gtcuda/__main__/m_stencil_isub_defs__gtcuda_8873429266_pyext_BUILD/_GT_\n",
      "creating /users/subbiali/jupyterhub/tasmania-prognostic-saturation/notebooks/.gt_cache/py36_1013/gtcuda/__main__/m_stencil_isub_defs__gtcuda_8873429266_pyext_BUILD/_GT_/__main__\n",
      "g++ -pthread -shared -Wl,-rpath,/opt/python/3.6.5.7/lib /users/subbiali/jupyterhub/tasmania-prognostic-saturation/notebooks/.gt_cache/py36_1013/gtcuda/__main__/m_stencil_isub_defs__gtcuda_8873429266_pyext_BUILD/users/subbiali/jupyterhub/tasmania-prognostic-saturation/notebooks/.gt_cache/py36_1013/gtcuda/__main__/m_stencil_isub_defs__gtcuda_8873429266_pyext_BUILD/computation.o /users/subbiali/jupyterhub/tasmania-prognostic-saturation/notebooks/.gt_cache/py36_1013/gtcuda/__main__/m_stencil_isub_defs__gtcuda_8873429266_pyext_BUILD/users/subbiali/jupyterhub/tasmania-prognostic-saturation/notebooks/.gt_cache/py36_1013/gtcuda/__main__/m_stencil_isub_defs__gtcuda_8873429266_pyext_BUILD/bindings.o -L/opt/nvidia/cudatoolkit10/10.1.105_3.27-7.0.1.1_4.1__ga311ce7/lib64 -L/opt/python/3.6.5.7/lib -lcudart -lpython3.6m -o /users/subbiali/jupyterhub/tasmania-prognostic-saturation/notebooks/.gt_cache/py36_1013/gtcuda/__main__/m_stencil_isub_defs__gtcuda_8873429266_pyext_BUILD/_GT_/__main__/m_stencil_isub_defs__gtcuda_8873429266_pyext.cpython-36m-x86_64-linux-gnu.so -O3 -DNDEBUG\n",
      "copying /users/subbiali/jupyterhub/tasmania-prognostic-saturation/notebooks/.gt_cache/py36_1013/gtcuda/__main__/m_stencil_isub_defs__gtcuda_8873429266_pyext_BUILD/_GT_/__main__/m_stencil_isub_defs__gtcuda_8873429266_pyext.cpython-36m-x86_64-linux-gnu.so -> /users/subbiali/jupyterhub/tasmania-prognostic-saturation/notebooks/.gt_cache/py36_1013/gtcuda/__main__\n",
      "842 µs ± 850 ns per loop (mean ± std. dev. of 7 runs, 1000 loops each)\n"
     ]
    }
   ],
   "source": [
    "# isub\n",
    "a[...] = a_dc[...]\n",
    "set_annotations(stencil_isub_defs, dtype)\n",
    "stencil_isub = gtscript.stencil(backend=backend, definition=stencil_isub_defs, rebuild=False)\n",
    "out = %timeit -o stencil_isub(inout_a=a, in_b=b, origin=(0, 0, 0), domain=storage_shape)\n",
    "df.at[\"isub\", column] = 1000 * out.average"
   ]
  },
  {
   "cell_type": "code",
   "execution_count": 122,
   "metadata": {},
   "outputs": [
    {
     "name": "stdout",
     "output_type": "stream",
     "text": [
      "813 µs ± 578 ns per loop (mean ± std. dev. of 7 runs, 1000 loops each)\n"
     ]
    }
   ],
   "source": [
    "# isub: make origin coincide with default_origin\n",
    "a[...] = a_dc[...]\n",
    "domain = tuple(s - 2*d for s, d in zip(storage_shape, default_origin))\n",
    "%timeit stencil_isub(inout_a=a, in_b=b, origin=default_origin, domain=domain)"
   ]
  },
  {
   "cell_type": "code",
   "execution_count": 123,
   "metadata": {
    "pycharm": {
     "name": "#%%\n"
    }
   },
   "outputs": [
    {
     "name": "stdout",
     "output_type": "stream",
     "text": [
      "running build_ext\n",
      "building '_GT_.__main__.m_stencil_mul_defs__gtcuda_243139dfd7_pyext' extension\n",
      "creating /users/subbiali/jupyterhub/tasmania-prognostic-saturation/notebooks/.gt_cache/py36_1013/gtcuda/__main__/m_stencil_mul_defs__gtcuda_243139dfd7_pyext_BUILD/users\n",
      "creating /users/subbiali/jupyterhub/tasmania-prognostic-saturation/notebooks/.gt_cache/py36_1013/gtcuda/__main__/m_stencil_mul_defs__gtcuda_243139dfd7_pyext_BUILD/users/subbiali\n",
      "creating /users/subbiali/jupyterhub/tasmania-prognostic-saturation/notebooks/.gt_cache/py36_1013/gtcuda/__main__/m_stencil_mul_defs__gtcuda_243139dfd7_pyext_BUILD/users/subbiali/jupyterhub\n",
      "creating /users/subbiali/jupyterhub/tasmania-prognostic-saturation/notebooks/.gt_cache/py36_1013/gtcuda/__main__/m_stencil_mul_defs__gtcuda_243139dfd7_pyext_BUILD/users/subbiali/jupyterhub/tasmania-prognostic-saturation\n",
      "creating /users/subbiali/jupyterhub/tasmania-prognostic-saturation/notebooks/.gt_cache/py36_1013/gtcuda/__main__/m_stencil_mul_defs__gtcuda_243139dfd7_pyext_BUILD/users/subbiali/jupyterhub/tasmania-prognostic-saturation/notebooks\n",
      "creating /users/subbiali/jupyterhub/tasmania-prognostic-saturation/notebooks/.gt_cache/py36_1013/gtcuda/__main__/m_stencil_mul_defs__gtcuda_243139dfd7_pyext_BUILD/users/subbiali/jupyterhub/tasmania-prognostic-saturation/notebooks/.gt_cache\n",
      "creating /users/subbiali/jupyterhub/tasmania-prognostic-saturation/notebooks/.gt_cache/py36_1013/gtcuda/__main__/m_stencil_mul_defs__gtcuda_243139dfd7_pyext_BUILD/users/subbiali/jupyterhub/tasmania-prognostic-saturation/notebooks/.gt_cache/py36_1013\n",
      "creating /users/subbiali/jupyterhub/tasmania-prognostic-saturation/notebooks/.gt_cache/py36_1013/gtcuda/__main__/m_stencil_mul_defs__gtcuda_243139dfd7_pyext_BUILD/users/subbiali/jupyterhub/tasmania-prognostic-saturation/notebooks/.gt_cache/py36_1013/gtcuda\n",
      "creating /users/subbiali/jupyterhub/tasmania-prognostic-saturation/notebooks/.gt_cache/py36_1013/gtcuda/__main__/m_stencil_mul_defs__gtcuda_243139dfd7_pyext_BUILD/users/subbiali/jupyterhub/tasmania-prognostic-saturation/notebooks/.gt_cache/py36_1013/gtcuda/__main__\n",
      "creating /users/subbiali/jupyterhub/tasmania-prognostic-saturation/notebooks/.gt_cache/py36_1013/gtcuda/__main__/m_stencil_mul_defs__gtcuda_243139dfd7_pyext_BUILD/users/subbiali/jupyterhub/tasmania-prognostic-saturation/notebooks/.gt_cache/py36_1013/gtcuda/__main__/m_stencil_mul_defs__gtcuda_243139dfd7_pyext_BUILD\n",
      "/opt/nvidia/cudatoolkit10/10.1.105_3.27-7.0.1.1_4.1__ga311ce7/bin/nvcc -I/users/subbiali/jupyterhub/tasmania/venv/include/site/python3.6 -I/users/subbiali/jupyterhub/tasmania/venv/include/site/python3.6 -I/users/subbiali/boost_build/include -I/opt/nvidia/cudatoolkit10/10.1.105_3.27-7.0.1.1_4.1__ga311ce7/include -I/users/subbiali/jupyterhub/tasmania/venv/include -I/opt/python/3.6.5.7/include/python3.6m -c /users/subbiali/jupyterhub/tasmania-prognostic-saturation/notebooks/.gt_cache/py36_1013/gtcuda/__main__/m_stencil_mul_defs__gtcuda_243139dfd7_pyext_BUILD/computation.cu -o /users/subbiali/jupyterhub/tasmania-prognostic-saturation/notebooks/.gt_cache/py36_1013/gtcuda/__main__/m_stencil_mul_defs__gtcuda_243139dfd7_pyext_BUILD/users/subbiali/jupyterhub/tasmania-prognostic-saturation/notebooks/.gt_cache/py36_1013/gtcuda/__main__/m_stencil_mul_defs__gtcuda_243139dfd7_pyext_BUILD/computation.o -std=c++14 -isystem=/users/subbiali/jupyterhub/tasmania/docker/external/gt4py/src/gt4py/_external_src/gridtools/include -isystem=/users/subbiali/boost_build/include -DBOOST_PP_VARIADICS -DBOOST_OPTIONAL_CONFIG_USE_OLD_IMPLEMENTATION_OF_OPTIONAL -DBOOST_OPTIONAL_USE_OLD_DEFINITION_OF_NONE --expt-relaxed-constexpr --compiler-options -fPIC --compiler-options -fvisibility=hidden -O3 -DNDEBUG\n",
      "gcc -pthread -Wno-unused-result -Wsign-compare -fwrapv -Wall -march=x86-64 -march=x86-64 -fPIC -I/users/subbiali/jupyterhub/tasmania/venv/include/site/python3.6 -I/users/subbiali/jupyterhub/tasmania/venv/include/site/python3.6 -I/users/subbiali/boost_build/include -I/opt/nvidia/cudatoolkit10/10.1.105_3.27-7.0.1.1_4.1__ga311ce7/include -I/users/subbiali/jupyterhub/tasmania/venv/include -I/opt/python/3.6.5.7/include/python3.6m -c /users/subbiali/jupyterhub/tasmania-prognostic-saturation/notebooks/.gt_cache/py36_1013/gtcuda/__main__/m_stencil_mul_defs__gtcuda_243139dfd7_pyext_BUILD/bindings.cpp -o /users/subbiali/jupyterhub/tasmania-prognostic-saturation/notebooks/.gt_cache/py36_1013/gtcuda/__main__/m_stencil_mul_defs__gtcuda_243139dfd7_pyext_BUILD/users/subbiali/jupyterhub/tasmania-prognostic-saturation/notebooks/.gt_cache/py36_1013/gtcuda/__main__/m_stencil_mul_defs__gtcuda_243139dfd7_pyext_BUILD/bindings.o -std=c++14 -fvisibility=hidden -fopenmp -isystem/users/subbiali/jupyterhub/tasmania/docker/external/gt4py/src/gt4py/_external_src/gridtools/include -isystem/users/subbiali/boost_build/include -DBOOST_PP_VARIADICS -fPIC -O3 -DNDEBUG\n",
      "creating /users/subbiali/jupyterhub/tasmania-prognostic-saturation/notebooks/.gt_cache/py36_1013/gtcuda/__main__/m_stencil_mul_defs__gtcuda_243139dfd7_pyext_BUILD/_GT_\n",
      "creating /users/subbiali/jupyterhub/tasmania-prognostic-saturation/notebooks/.gt_cache/py36_1013/gtcuda/__main__/m_stencil_mul_defs__gtcuda_243139dfd7_pyext_BUILD/_GT_/__main__\n",
      "g++ -pthread -shared -Wl,-rpath,/opt/python/3.6.5.7/lib /users/subbiali/jupyterhub/tasmania-prognostic-saturation/notebooks/.gt_cache/py36_1013/gtcuda/__main__/m_stencil_mul_defs__gtcuda_243139dfd7_pyext_BUILD/users/subbiali/jupyterhub/tasmania-prognostic-saturation/notebooks/.gt_cache/py36_1013/gtcuda/__main__/m_stencil_mul_defs__gtcuda_243139dfd7_pyext_BUILD/computation.o /users/subbiali/jupyterhub/tasmania-prognostic-saturation/notebooks/.gt_cache/py36_1013/gtcuda/__main__/m_stencil_mul_defs__gtcuda_243139dfd7_pyext_BUILD/users/subbiali/jupyterhub/tasmania-prognostic-saturation/notebooks/.gt_cache/py36_1013/gtcuda/__main__/m_stencil_mul_defs__gtcuda_243139dfd7_pyext_BUILD/bindings.o -L/opt/nvidia/cudatoolkit10/10.1.105_3.27-7.0.1.1_4.1__ga311ce7/lib64 -L/opt/python/3.6.5.7/lib -lcudart -lpython3.6m -o /users/subbiali/jupyterhub/tasmania-prognostic-saturation/notebooks/.gt_cache/py36_1013/gtcuda/__main__/m_stencil_mul_defs__gtcuda_243139dfd7_pyext_BUILD/_GT_/__main__/m_stencil_mul_defs__gtcuda_243139dfd7_pyext.cpython-36m-x86_64-linux-gnu.so -O3 -DNDEBUG\n",
      "copying /users/subbiali/jupyterhub/tasmania-prognostic-saturation/notebooks/.gt_cache/py36_1013/gtcuda/__main__/m_stencil_mul_defs__gtcuda_243139dfd7_pyext_BUILD/_GT_/__main__/m_stencil_mul_defs__gtcuda_243139dfd7_pyext.cpython-36m-x86_64-linux-gnu.so -> /users/subbiali/jupyterhub/tasmania-prognostic-saturation/notebooks/.gt_cache/py36_1013/gtcuda/__main__\n",
      "935 µs ± 1.07 µs per loop (mean ± std. dev. of 7 runs, 1000 loops each)\n"
     ]
    }
   ],
   "source": [
    "# mul\n",
    "set_annotations(stencil_mul_defs, dtype)\n",
    "stencil_mul = gtscript.stencil(backend=backend, definition=stencil_mul_defs, rebuild=False)\n",
    "out = %timeit -o stencil_mul(in_a=a, in_b=b, out_c=c, origin=(0, 0, 0), domain=storage_shape)\n",
    "df.at[\"mul\", column] = 1000 * out.average"
   ]
  },
  {
   "cell_type": "code",
   "execution_count": 124,
   "metadata": {},
   "outputs": [
    {
     "name": "stdout",
     "output_type": "stream",
     "text": [
      "906 µs ± 146 ns per loop (mean ± std. dev. of 7 runs, 1000 loops each)\n"
     ]
    }
   ],
   "source": [
    "# mul: make origin coincide with default_origin\n",
    "domain = tuple(s - 2*d for s, d in zip(storage_shape, default_origin))\n",
    "%timeit stencil_mul(in_a=a, in_b=b, out_c=c, origin=default_origin, domain=domain)"
   ]
  },
  {
   "cell_type": "code",
   "execution_count": 125,
   "metadata": {
    "pycharm": {
     "name": "#%%\n"
    }
   },
   "outputs": [
    {
     "name": "stdout",
     "output_type": "stream",
     "text": [
      "running build_ext\n",
      "building '_GT_.__main__.m_stencil_imul_defs__gtcuda_bcb9ed5103_pyext' extension\n",
      "creating /users/subbiali/jupyterhub/tasmania-prognostic-saturation/notebooks/.gt_cache/py36_1013/gtcuda/__main__/m_stencil_imul_defs__gtcuda_bcb9ed5103_pyext_BUILD/users\n",
      "creating /users/subbiali/jupyterhub/tasmania-prognostic-saturation/notebooks/.gt_cache/py36_1013/gtcuda/__main__/m_stencil_imul_defs__gtcuda_bcb9ed5103_pyext_BUILD/users/subbiali\n",
      "creating /users/subbiali/jupyterhub/tasmania-prognostic-saturation/notebooks/.gt_cache/py36_1013/gtcuda/__main__/m_stencil_imul_defs__gtcuda_bcb9ed5103_pyext_BUILD/users/subbiali/jupyterhub\n",
      "creating /users/subbiali/jupyterhub/tasmania-prognostic-saturation/notebooks/.gt_cache/py36_1013/gtcuda/__main__/m_stencil_imul_defs__gtcuda_bcb9ed5103_pyext_BUILD/users/subbiali/jupyterhub/tasmania-prognostic-saturation\n",
      "creating /users/subbiali/jupyterhub/tasmania-prognostic-saturation/notebooks/.gt_cache/py36_1013/gtcuda/__main__/m_stencil_imul_defs__gtcuda_bcb9ed5103_pyext_BUILD/users/subbiali/jupyterhub/tasmania-prognostic-saturation/notebooks\n",
      "creating /users/subbiali/jupyterhub/tasmania-prognostic-saturation/notebooks/.gt_cache/py36_1013/gtcuda/__main__/m_stencil_imul_defs__gtcuda_bcb9ed5103_pyext_BUILD/users/subbiali/jupyterhub/tasmania-prognostic-saturation/notebooks/.gt_cache\n",
      "creating /users/subbiali/jupyterhub/tasmania-prognostic-saturation/notebooks/.gt_cache/py36_1013/gtcuda/__main__/m_stencil_imul_defs__gtcuda_bcb9ed5103_pyext_BUILD/users/subbiali/jupyterhub/tasmania-prognostic-saturation/notebooks/.gt_cache/py36_1013\n",
      "creating /users/subbiali/jupyterhub/tasmania-prognostic-saturation/notebooks/.gt_cache/py36_1013/gtcuda/__main__/m_stencil_imul_defs__gtcuda_bcb9ed5103_pyext_BUILD/users/subbiali/jupyterhub/tasmania-prognostic-saturation/notebooks/.gt_cache/py36_1013/gtcuda\n",
      "creating /users/subbiali/jupyterhub/tasmania-prognostic-saturation/notebooks/.gt_cache/py36_1013/gtcuda/__main__/m_stencil_imul_defs__gtcuda_bcb9ed5103_pyext_BUILD/users/subbiali/jupyterhub/tasmania-prognostic-saturation/notebooks/.gt_cache/py36_1013/gtcuda/__main__\n",
      "creating /users/subbiali/jupyterhub/tasmania-prognostic-saturation/notebooks/.gt_cache/py36_1013/gtcuda/__main__/m_stencil_imul_defs__gtcuda_bcb9ed5103_pyext_BUILD/users/subbiali/jupyterhub/tasmania-prognostic-saturation/notebooks/.gt_cache/py36_1013/gtcuda/__main__/m_stencil_imul_defs__gtcuda_bcb9ed5103_pyext_BUILD\n",
      "/opt/nvidia/cudatoolkit10/10.1.105_3.27-7.0.1.1_4.1__ga311ce7/bin/nvcc -I/users/subbiali/jupyterhub/tasmania/venv/include/site/python3.6 -I/users/subbiali/jupyterhub/tasmania/venv/include/site/python3.6 -I/users/subbiali/boost_build/include -I/opt/nvidia/cudatoolkit10/10.1.105_3.27-7.0.1.1_4.1__ga311ce7/include -I/users/subbiali/jupyterhub/tasmania/venv/include -I/opt/python/3.6.5.7/include/python3.6m -c /users/subbiali/jupyterhub/tasmania-prognostic-saturation/notebooks/.gt_cache/py36_1013/gtcuda/__main__/m_stencil_imul_defs__gtcuda_bcb9ed5103_pyext_BUILD/computation.cu -o /users/subbiali/jupyterhub/tasmania-prognostic-saturation/notebooks/.gt_cache/py36_1013/gtcuda/__main__/m_stencil_imul_defs__gtcuda_bcb9ed5103_pyext_BUILD/users/subbiali/jupyterhub/tasmania-prognostic-saturation/notebooks/.gt_cache/py36_1013/gtcuda/__main__/m_stencil_imul_defs__gtcuda_bcb9ed5103_pyext_BUILD/computation.o -std=c++14 -isystem=/users/subbiali/jupyterhub/tasmania/docker/external/gt4py/src/gt4py/_external_src/gridtools/include -isystem=/users/subbiali/boost_build/include -DBOOST_PP_VARIADICS -DBOOST_OPTIONAL_CONFIG_USE_OLD_IMPLEMENTATION_OF_OPTIONAL -DBOOST_OPTIONAL_USE_OLD_DEFINITION_OF_NONE --expt-relaxed-constexpr --compiler-options -fPIC --compiler-options -fvisibility=hidden -O3 -DNDEBUG\n",
      "gcc -pthread -Wno-unused-result -Wsign-compare -fwrapv -Wall -march=x86-64 -march=x86-64 -fPIC -I/users/subbiali/jupyterhub/tasmania/venv/include/site/python3.6 -I/users/subbiali/jupyterhub/tasmania/venv/include/site/python3.6 -I/users/subbiali/boost_build/include -I/opt/nvidia/cudatoolkit10/10.1.105_3.27-7.0.1.1_4.1__ga311ce7/include -I/users/subbiali/jupyterhub/tasmania/venv/include -I/opt/python/3.6.5.7/include/python3.6m -c /users/subbiali/jupyterhub/tasmania-prognostic-saturation/notebooks/.gt_cache/py36_1013/gtcuda/__main__/m_stencil_imul_defs__gtcuda_bcb9ed5103_pyext_BUILD/bindings.cpp -o /users/subbiali/jupyterhub/tasmania-prognostic-saturation/notebooks/.gt_cache/py36_1013/gtcuda/__main__/m_stencil_imul_defs__gtcuda_bcb9ed5103_pyext_BUILD/users/subbiali/jupyterhub/tasmania-prognostic-saturation/notebooks/.gt_cache/py36_1013/gtcuda/__main__/m_stencil_imul_defs__gtcuda_bcb9ed5103_pyext_BUILD/bindings.o -std=c++14 -fvisibility=hidden -fopenmp -isystem/users/subbiali/jupyterhub/tasmania/docker/external/gt4py/src/gt4py/_external_src/gridtools/include -isystem/users/subbiali/boost_build/include -DBOOST_PP_VARIADICS -fPIC -O3 -DNDEBUG\n",
      "creating /users/subbiali/jupyterhub/tasmania-prognostic-saturation/notebooks/.gt_cache/py36_1013/gtcuda/__main__/m_stencil_imul_defs__gtcuda_bcb9ed5103_pyext_BUILD/_GT_\n",
      "creating /users/subbiali/jupyterhub/tasmania-prognostic-saturation/notebooks/.gt_cache/py36_1013/gtcuda/__main__/m_stencil_imul_defs__gtcuda_bcb9ed5103_pyext_BUILD/_GT_/__main__\n",
      "g++ -pthread -shared -Wl,-rpath,/opt/python/3.6.5.7/lib /users/subbiali/jupyterhub/tasmania-prognostic-saturation/notebooks/.gt_cache/py36_1013/gtcuda/__main__/m_stencil_imul_defs__gtcuda_bcb9ed5103_pyext_BUILD/users/subbiali/jupyterhub/tasmania-prognostic-saturation/notebooks/.gt_cache/py36_1013/gtcuda/__main__/m_stencil_imul_defs__gtcuda_bcb9ed5103_pyext_BUILD/computation.o /users/subbiali/jupyterhub/tasmania-prognostic-saturation/notebooks/.gt_cache/py36_1013/gtcuda/__main__/m_stencil_imul_defs__gtcuda_bcb9ed5103_pyext_BUILD/users/subbiali/jupyterhub/tasmania-prognostic-saturation/notebooks/.gt_cache/py36_1013/gtcuda/__main__/m_stencil_imul_defs__gtcuda_bcb9ed5103_pyext_BUILD/bindings.o -L/opt/nvidia/cudatoolkit10/10.1.105_3.27-7.0.1.1_4.1__ga311ce7/lib64 -L/opt/python/3.6.5.7/lib -lcudart -lpython3.6m -o /users/subbiali/jupyterhub/tasmania-prognostic-saturation/notebooks/.gt_cache/py36_1013/gtcuda/__main__/m_stencil_imul_defs__gtcuda_bcb9ed5103_pyext_BUILD/_GT_/__main__/m_stencil_imul_defs__gtcuda_bcb9ed5103_pyext.cpython-36m-x86_64-linux-gnu.so -O3 -DNDEBUG\n",
      "copying /users/subbiali/jupyterhub/tasmania-prognostic-saturation/notebooks/.gt_cache/py36_1013/gtcuda/__main__/m_stencil_imul_defs__gtcuda_bcb9ed5103_pyext_BUILD/_GT_/__main__/m_stencil_imul_defs__gtcuda_bcb9ed5103_pyext.cpython-36m-x86_64-linux-gnu.so -> /users/subbiali/jupyterhub/tasmania-prognostic-saturation/notebooks/.gt_cache/py36_1013/gtcuda/__main__\n",
      "841 µs ± 365 ns per loop (mean ± std. dev. of 7 runs, 1000 loops each)\n"
     ]
    }
   ],
   "source": [
    "# imul\n",
    "a[...] = a_dc[...]\n",
    "set_annotations(stencil_imul_defs, dtype)\n",
    "stencil_imul = gtscript.stencil(backend=backend, definition=stencil_imul_defs, rebuild=False)\n",
    "out = %timeit -o stencil_imul(inout_a=a, in_b=b, origin=(0, 0, 0), domain=storage_shape)\n",
    "df.at[\"imul\", column] = 1000 * out.average"
   ]
  },
  {
   "cell_type": "code",
   "execution_count": 126,
   "metadata": {},
   "outputs": [
    {
     "name": "stdout",
     "output_type": "stream",
     "text": [
      "810 µs ± 1.54 µs per loop (mean ± std. dev. of 7 runs, 1000 loops each)\n"
     ]
    }
   ],
   "source": [
    "# imul: make origin coincide with default_origin\n",
    "a[...] = a_dc[...]\n",
    "domain = tuple(s - 2*d for s, d in zip(storage_shape, default_origin))\n",
    "%timeit stencil_imul(inout_a=a, in_b=b, origin=default_origin, domain=domain)"
   ]
  },
  {
   "cell_type": "code",
   "execution_count": 127,
   "metadata": {},
   "outputs": [
    {
     "name": "stdout",
     "output_type": "stream",
     "text": [
      "running build_ext\n",
      "building '_GT_.__main__.m_stencil_addsub_defs__gtcuda_e36e6a2b52_pyext' extension\n",
      "creating /users/subbiali/jupyterhub/tasmania-prognostic-saturation/notebooks/.gt_cache/py36_1013/gtcuda/__main__/m_stencil_addsub_defs__gtcuda_e36e6a2b52_pyext_BUILD/users\n",
      "creating /users/subbiali/jupyterhub/tasmania-prognostic-saturation/notebooks/.gt_cache/py36_1013/gtcuda/__main__/m_stencil_addsub_defs__gtcuda_e36e6a2b52_pyext_BUILD/users/subbiali\n",
      "creating /users/subbiali/jupyterhub/tasmania-prognostic-saturation/notebooks/.gt_cache/py36_1013/gtcuda/__main__/m_stencil_addsub_defs__gtcuda_e36e6a2b52_pyext_BUILD/users/subbiali/jupyterhub\n",
      "creating /users/subbiali/jupyterhub/tasmania-prognostic-saturation/notebooks/.gt_cache/py36_1013/gtcuda/__main__/m_stencil_addsub_defs__gtcuda_e36e6a2b52_pyext_BUILD/users/subbiali/jupyterhub/tasmania-prognostic-saturation\n",
      "creating /users/subbiali/jupyterhub/tasmania-prognostic-saturation/notebooks/.gt_cache/py36_1013/gtcuda/__main__/m_stencil_addsub_defs__gtcuda_e36e6a2b52_pyext_BUILD/users/subbiali/jupyterhub/tasmania-prognostic-saturation/notebooks\n",
      "creating /users/subbiali/jupyterhub/tasmania-prognostic-saturation/notebooks/.gt_cache/py36_1013/gtcuda/__main__/m_stencil_addsub_defs__gtcuda_e36e6a2b52_pyext_BUILD/users/subbiali/jupyterhub/tasmania-prognostic-saturation/notebooks/.gt_cache\n",
      "creating /users/subbiali/jupyterhub/tasmania-prognostic-saturation/notebooks/.gt_cache/py36_1013/gtcuda/__main__/m_stencil_addsub_defs__gtcuda_e36e6a2b52_pyext_BUILD/users/subbiali/jupyterhub/tasmania-prognostic-saturation/notebooks/.gt_cache/py36_1013\n",
      "creating /users/subbiali/jupyterhub/tasmania-prognostic-saturation/notebooks/.gt_cache/py36_1013/gtcuda/__main__/m_stencil_addsub_defs__gtcuda_e36e6a2b52_pyext_BUILD/users/subbiali/jupyterhub/tasmania-prognostic-saturation/notebooks/.gt_cache/py36_1013/gtcuda\n",
      "creating /users/subbiali/jupyterhub/tasmania-prognostic-saturation/notebooks/.gt_cache/py36_1013/gtcuda/__main__/m_stencil_addsub_defs__gtcuda_e36e6a2b52_pyext_BUILD/users/subbiali/jupyterhub/tasmania-prognostic-saturation/notebooks/.gt_cache/py36_1013/gtcuda/__main__\n",
      "creating /users/subbiali/jupyterhub/tasmania-prognostic-saturation/notebooks/.gt_cache/py36_1013/gtcuda/__main__/m_stencil_addsub_defs__gtcuda_e36e6a2b52_pyext_BUILD/users/subbiali/jupyterhub/tasmania-prognostic-saturation/notebooks/.gt_cache/py36_1013/gtcuda/__main__/m_stencil_addsub_defs__gtcuda_e36e6a2b52_pyext_BUILD\n",
      "/opt/nvidia/cudatoolkit10/10.1.105_3.27-7.0.1.1_4.1__ga311ce7/bin/nvcc -I/users/subbiali/jupyterhub/tasmania/venv/include/site/python3.6 -I/users/subbiali/jupyterhub/tasmania/venv/include/site/python3.6 -I/users/subbiali/boost_build/include -I/opt/nvidia/cudatoolkit10/10.1.105_3.27-7.0.1.1_4.1__ga311ce7/include -I/users/subbiali/jupyterhub/tasmania/venv/include -I/opt/python/3.6.5.7/include/python3.6m -c /users/subbiali/jupyterhub/tasmania-prognostic-saturation/notebooks/.gt_cache/py36_1013/gtcuda/__main__/m_stencil_addsub_defs__gtcuda_e36e6a2b52_pyext_BUILD/computation.cu -o /users/subbiali/jupyterhub/tasmania-prognostic-saturation/notebooks/.gt_cache/py36_1013/gtcuda/__main__/m_stencil_addsub_defs__gtcuda_e36e6a2b52_pyext_BUILD/users/subbiali/jupyterhub/tasmania-prognostic-saturation/notebooks/.gt_cache/py36_1013/gtcuda/__main__/m_stencil_addsub_defs__gtcuda_e36e6a2b52_pyext_BUILD/computation.o -std=c++14 -isystem=/users/subbiali/jupyterhub/tasmania/docker/external/gt4py/src/gt4py/_external_src/gridtools/include -isystem=/users/subbiali/boost_build/include -DBOOST_PP_VARIADICS -DBOOST_OPTIONAL_CONFIG_USE_OLD_IMPLEMENTATION_OF_OPTIONAL -DBOOST_OPTIONAL_USE_OLD_DEFINITION_OF_NONE --expt-relaxed-constexpr --compiler-options -fPIC --compiler-options -fvisibility=hidden -O3 -DNDEBUG\n",
      "gcc -pthread -Wno-unused-result -Wsign-compare -fwrapv -Wall -march=x86-64 -march=x86-64 -fPIC -I/users/subbiali/jupyterhub/tasmania/venv/include/site/python3.6 -I/users/subbiali/jupyterhub/tasmania/venv/include/site/python3.6 -I/users/subbiali/boost_build/include -I/opt/nvidia/cudatoolkit10/10.1.105_3.27-7.0.1.1_4.1__ga311ce7/include -I/users/subbiali/jupyterhub/tasmania/venv/include -I/opt/python/3.6.5.7/include/python3.6m -c /users/subbiali/jupyterhub/tasmania-prognostic-saturation/notebooks/.gt_cache/py36_1013/gtcuda/__main__/m_stencil_addsub_defs__gtcuda_e36e6a2b52_pyext_BUILD/bindings.cpp -o /users/subbiali/jupyterhub/tasmania-prognostic-saturation/notebooks/.gt_cache/py36_1013/gtcuda/__main__/m_stencil_addsub_defs__gtcuda_e36e6a2b52_pyext_BUILD/users/subbiali/jupyterhub/tasmania-prognostic-saturation/notebooks/.gt_cache/py36_1013/gtcuda/__main__/m_stencil_addsub_defs__gtcuda_e36e6a2b52_pyext_BUILD/bindings.o -std=c++14 -fvisibility=hidden -fopenmp -isystem/users/subbiali/jupyterhub/tasmania/docker/external/gt4py/src/gt4py/_external_src/gridtools/include -isystem/users/subbiali/boost_build/include -DBOOST_PP_VARIADICS -fPIC -O3 -DNDEBUG\n",
      "creating /users/subbiali/jupyterhub/tasmania-prognostic-saturation/notebooks/.gt_cache/py36_1013/gtcuda/__main__/m_stencil_addsub_defs__gtcuda_e36e6a2b52_pyext_BUILD/_GT_\n",
      "creating /users/subbiali/jupyterhub/tasmania-prognostic-saturation/notebooks/.gt_cache/py36_1013/gtcuda/__main__/m_stencil_addsub_defs__gtcuda_e36e6a2b52_pyext_BUILD/_GT_/__main__\n",
      "g++ -pthread -shared -Wl,-rpath,/opt/python/3.6.5.7/lib /users/subbiali/jupyterhub/tasmania-prognostic-saturation/notebooks/.gt_cache/py36_1013/gtcuda/__main__/m_stencil_addsub_defs__gtcuda_e36e6a2b52_pyext_BUILD/users/subbiali/jupyterhub/tasmania-prognostic-saturation/notebooks/.gt_cache/py36_1013/gtcuda/__main__/m_stencil_addsub_defs__gtcuda_e36e6a2b52_pyext_BUILD/computation.o /users/subbiali/jupyterhub/tasmania-prognostic-saturation/notebooks/.gt_cache/py36_1013/gtcuda/__main__/m_stencil_addsub_defs__gtcuda_e36e6a2b52_pyext_BUILD/users/subbiali/jupyterhub/tasmania-prognostic-saturation/notebooks/.gt_cache/py36_1013/gtcuda/__main__/m_stencil_addsub_defs__gtcuda_e36e6a2b52_pyext_BUILD/bindings.o -L/opt/nvidia/cudatoolkit10/10.1.105_3.27-7.0.1.1_4.1__ga311ce7/lib64 -L/opt/python/3.6.5.7/lib -lcudart -lpython3.6m -o /users/subbiali/jupyterhub/tasmania-prognostic-saturation/notebooks/.gt_cache/py36_1013/gtcuda/__main__/m_stencil_addsub_defs__gtcuda_e36e6a2b52_pyext_BUILD/_GT_/__main__/m_stencil_addsub_defs__gtcuda_e36e6a2b52_pyext.cpython-36m-x86_64-linux-gnu.so -O3 -DNDEBUG\n",
      "copying /users/subbiali/jupyterhub/tasmania-prognostic-saturation/notebooks/.gt_cache/py36_1013/gtcuda/__main__/m_stencil_addsub_defs__gtcuda_e36e6a2b52_pyext_BUILD/_GT_/__main__/m_stencil_addsub_defs__gtcuda_e36e6a2b52_pyext.cpython-36m-x86_64-linux-gnu.so -> /users/subbiali/jupyterhub/tasmania-prognostic-saturation/notebooks/.gt_cache/py36_1013/gtcuda/__main__\n",
      "1.21 ms ± 8.1 µs per loop (mean ± std. dev. of 7 runs, 1 loop each)\n"
     ]
    }
   ],
   "source": [
    "# addsub\n",
    "set_annotations(stencil_addsub_defs, dtype)\n",
    "stencil_addsub = gtscript.stencil(backend=backend, definition=stencil_addsub_defs, rebuild=False)\n",
    "out = %timeit -o stencil_addsub(in_a=a, in_b=b, in_c=c, out_d=d, origin=(0, 0, 0), domain=storage_shape)\n",
    "df.at[\"addsub\", column] = 1000 * out.average"
   ]
  },
  {
   "cell_type": "code",
   "execution_count": 128,
   "metadata": {},
   "outputs": [
    {
     "name": "stdout",
     "output_type": "stream",
     "text": [
      "1.17 ms ± 705 ns per loop (mean ± std. dev. of 7 runs, 1000 loops each)\n"
     ]
    }
   ],
   "source": [
    "# addsub: make origin coincide with default_origin\n",
    "domain = tuple(s - 2*d for s, d in zip(storage_shape, default_origin))\n",
    "%timeit stencil_addsub(in_a=a, in_b=b, in_c=c, out_d=d, origin=default_origin, domain=domain)"
   ]
  },
  {
   "cell_type": "code",
   "execution_count": 129,
   "metadata": {},
   "outputs": [
    {
     "name": "stdout",
     "output_type": "stream",
     "text": [
      "running build_ext\n",
      "building '_GT_.__main__.m_stencil_iaddsub_defs__gtcuda_5fd43daecc_pyext' extension\n",
      "creating /users/subbiali/jupyterhub/tasmania-prognostic-saturation/notebooks/.gt_cache/py36_1013/gtcuda/__main__/m_stencil_iaddsub_defs__gtcuda_5fd43daecc_pyext_BUILD/users\n",
      "creating /users/subbiali/jupyterhub/tasmania-prognostic-saturation/notebooks/.gt_cache/py36_1013/gtcuda/__main__/m_stencil_iaddsub_defs__gtcuda_5fd43daecc_pyext_BUILD/users/subbiali\n",
      "creating /users/subbiali/jupyterhub/tasmania-prognostic-saturation/notebooks/.gt_cache/py36_1013/gtcuda/__main__/m_stencil_iaddsub_defs__gtcuda_5fd43daecc_pyext_BUILD/users/subbiali/jupyterhub\n",
      "creating /users/subbiali/jupyterhub/tasmania-prognostic-saturation/notebooks/.gt_cache/py36_1013/gtcuda/__main__/m_stencil_iaddsub_defs__gtcuda_5fd43daecc_pyext_BUILD/users/subbiali/jupyterhub/tasmania-prognostic-saturation\n",
      "creating /users/subbiali/jupyterhub/tasmania-prognostic-saturation/notebooks/.gt_cache/py36_1013/gtcuda/__main__/m_stencil_iaddsub_defs__gtcuda_5fd43daecc_pyext_BUILD/users/subbiali/jupyterhub/tasmania-prognostic-saturation/notebooks\n",
      "creating /users/subbiali/jupyterhub/tasmania-prognostic-saturation/notebooks/.gt_cache/py36_1013/gtcuda/__main__/m_stencil_iaddsub_defs__gtcuda_5fd43daecc_pyext_BUILD/users/subbiali/jupyterhub/tasmania-prognostic-saturation/notebooks/.gt_cache\n",
      "creating /users/subbiali/jupyterhub/tasmania-prognostic-saturation/notebooks/.gt_cache/py36_1013/gtcuda/__main__/m_stencil_iaddsub_defs__gtcuda_5fd43daecc_pyext_BUILD/users/subbiali/jupyterhub/tasmania-prognostic-saturation/notebooks/.gt_cache/py36_1013\n",
      "creating /users/subbiali/jupyterhub/tasmania-prognostic-saturation/notebooks/.gt_cache/py36_1013/gtcuda/__main__/m_stencil_iaddsub_defs__gtcuda_5fd43daecc_pyext_BUILD/users/subbiali/jupyterhub/tasmania-prognostic-saturation/notebooks/.gt_cache/py36_1013/gtcuda\n",
      "creating /users/subbiali/jupyterhub/tasmania-prognostic-saturation/notebooks/.gt_cache/py36_1013/gtcuda/__main__/m_stencil_iaddsub_defs__gtcuda_5fd43daecc_pyext_BUILD/users/subbiali/jupyterhub/tasmania-prognostic-saturation/notebooks/.gt_cache/py36_1013/gtcuda/__main__\n",
      "creating /users/subbiali/jupyterhub/tasmania-prognostic-saturation/notebooks/.gt_cache/py36_1013/gtcuda/__main__/m_stencil_iaddsub_defs__gtcuda_5fd43daecc_pyext_BUILD/users/subbiali/jupyterhub/tasmania-prognostic-saturation/notebooks/.gt_cache/py36_1013/gtcuda/__main__/m_stencil_iaddsub_defs__gtcuda_5fd43daecc_pyext_BUILD\n",
      "/opt/nvidia/cudatoolkit10/10.1.105_3.27-7.0.1.1_4.1__ga311ce7/bin/nvcc -I/users/subbiali/jupyterhub/tasmania/venv/include/site/python3.6 -I/users/subbiali/jupyterhub/tasmania/venv/include/site/python3.6 -I/users/subbiali/boost_build/include -I/opt/nvidia/cudatoolkit10/10.1.105_3.27-7.0.1.1_4.1__ga311ce7/include -I/users/subbiali/jupyterhub/tasmania/venv/include -I/opt/python/3.6.5.7/include/python3.6m -c /users/subbiali/jupyterhub/tasmania-prognostic-saturation/notebooks/.gt_cache/py36_1013/gtcuda/__main__/m_stencil_iaddsub_defs__gtcuda_5fd43daecc_pyext_BUILD/computation.cu -o /users/subbiali/jupyterhub/tasmania-prognostic-saturation/notebooks/.gt_cache/py36_1013/gtcuda/__main__/m_stencil_iaddsub_defs__gtcuda_5fd43daecc_pyext_BUILD/users/subbiali/jupyterhub/tasmania-prognostic-saturation/notebooks/.gt_cache/py36_1013/gtcuda/__main__/m_stencil_iaddsub_defs__gtcuda_5fd43daecc_pyext_BUILD/computation.o -std=c++14 -isystem=/users/subbiali/jupyterhub/tasmania/docker/external/gt4py/src/gt4py/_external_src/gridtools/include -isystem=/users/subbiali/boost_build/include -DBOOST_PP_VARIADICS -DBOOST_OPTIONAL_CONFIG_USE_OLD_IMPLEMENTATION_OF_OPTIONAL -DBOOST_OPTIONAL_USE_OLD_DEFINITION_OF_NONE --expt-relaxed-constexpr --compiler-options -fPIC --compiler-options -fvisibility=hidden -O3 -DNDEBUG\n",
      "gcc -pthread -Wno-unused-result -Wsign-compare -fwrapv -Wall -march=x86-64 -march=x86-64 -fPIC -I/users/subbiali/jupyterhub/tasmania/venv/include/site/python3.6 -I/users/subbiali/jupyterhub/tasmania/venv/include/site/python3.6 -I/users/subbiali/boost_build/include -I/opt/nvidia/cudatoolkit10/10.1.105_3.27-7.0.1.1_4.1__ga311ce7/include -I/users/subbiali/jupyterhub/tasmania/venv/include -I/opt/python/3.6.5.7/include/python3.6m -c /users/subbiali/jupyterhub/tasmania-prognostic-saturation/notebooks/.gt_cache/py36_1013/gtcuda/__main__/m_stencil_iaddsub_defs__gtcuda_5fd43daecc_pyext_BUILD/bindings.cpp -o /users/subbiali/jupyterhub/tasmania-prognostic-saturation/notebooks/.gt_cache/py36_1013/gtcuda/__main__/m_stencil_iaddsub_defs__gtcuda_5fd43daecc_pyext_BUILD/users/subbiali/jupyterhub/tasmania-prognostic-saturation/notebooks/.gt_cache/py36_1013/gtcuda/__main__/m_stencil_iaddsub_defs__gtcuda_5fd43daecc_pyext_BUILD/bindings.o -std=c++14 -fvisibility=hidden -fopenmp -isystem/users/subbiali/jupyterhub/tasmania/docker/external/gt4py/src/gt4py/_external_src/gridtools/include -isystem/users/subbiali/boost_build/include -DBOOST_PP_VARIADICS -fPIC -O3 -DNDEBUG\n",
      "creating /users/subbiali/jupyterhub/tasmania-prognostic-saturation/notebooks/.gt_cache/py36_1013/gtcuda/__main__/m_stencil_iaddsub_defs__gtcuda_5fd43daecc_pyext_BUILD/_GT_\n",
      "creating /users/subbiali/jupyterhub/tasmania-prognostic-saturation/notebooks/.gt_cache/py36_1013/gtcuda/__main__/m_stencil_iaddsub_defs__gtcuda_5fd43daecc_pyext_BUILD/_GT_/__main__\n",
      "g++ -pthread -shared -Wl,-rpath,/opt/python/3.6.5.7/lib /users/subbiali/jupyterhub/tasmania-prognostic-saturation/notebooks/.gt_cache/py36_1013/gtcuda/__main__/m_stencil_iaddsub_defs__gtcuda_5fd43daecc_pyext_BUILD/users/subbiali/jupyterhub/tasmania-prognostic-saturation/notebooks/.gt_cache/py36_1013/gtcuda/__main__/m_stencil_iaddsub_defs__gtcuda_5fd43daecc_pyext_BUILD/computation.o /users/subbiali/jupyterhub/tasmania-prognostic-saturation/notebooks/.gt_cache/py36_1013/gtcuda/__main__/m_stencil_iaddsub_defs__gtcuda_5fd43daecc_pyext_BUILD/users/subbiali/jupyterhub/tasmania-prognostic-saturation/notebooks/.gt_cache/py36_1013/gtcuda/__main__/m_stencil_iaddsub_defs__gtcuda_5fd43daecc_pyext_BUILD/bindings.o -L/opt/nvidia/cudatoolkit10/10.1.105_3.27-7.0.1.1_4.1__ga311ce7/lib64 -L/opt/python/3.6.5.7/lib -lcudart -lpython3.6m -o /users/subbiali/jupyterhub/tasmania-prognostic-saturation/notebooks/.gt_cache/py36_1013/gtcuda/__main__/m_stencil_iaddsub_defs__gtcuda_5fd43daecc_pyext_BUILD/_GT_/__main__/m_stencil_iaddsub_defs__gtcuda_5fd43daecc_pyext.cpython-36m-x86_64-linux-gnu.so -O3 -DNDEBUG\n",
      "copying /users/subbiali/jupyterhub/tasmania-prognostic-saturation/notebooks/.gt_cache/py36_1013/gtcuda/__main__/m_stencil_iaddsub_defs__gtcuda_5fd43daecc_pyext_BUILD/_GT_/__main__/m_stencil_iaddsub_defs__gtcuda_5fd43daecc_pyext.cpython-36m-x86_64-linux-gnu.so -> /users/subbiali/jupyterhub/tasmania-prognostic-saturation/notebooks/.gt_cache/py36_1013/gtcuda/__main__\n",
      "1.13 ms ± 177 ns per loop (mean ± std. dev. of 7 runs, 1000 loops each)\n"
     ]
    }
   ],
   "source": [
    "# iaddsub\n",
    "a[...] = a_dc[...]\n",
    "stencil_iaddsub = gtscript.stencil(backend=backend, definition=stencil_iaddsub_defs, rebuild=False)\n",
    "out = %timeit -o stencil_iaddsub(inout_a=a, in_b=b, in_c=c, origin=(0, 0, 0), domain=storage_shape)\n",
    "df.at[\"iaddsub\", column] = 1000 * out.average"
   ]
  },
  {
   "cell_type": "code",
   "execution_count": 130,
   "metadata": {},
   "outputs": [
    {
     "name": "stdout",
     "output_type": "stream",
     "text": [
      "1.08 ms ± 480 ns per loop (mean ± std. dev. of 7 runs, 1000 loops each)\n"
     ]
    }
   ],
   "source": [
    "# iaddsub: make origin coincide with default_origin\n",
    "a[...] = a_dc[...]\n",
    "domain = tuple(s - 2*d for s, d in zip(storage_shape, default_origin))\n",
    "%timeit stencil_iaddsub(inout_a=a, in_b=b, in_c=c, origin=default_origin, domain=domain)"
   ]
  },
  {
   "cell_type": "code",
   "execution_count": 131,
   "metadata": {},
   "outputs": [
    {
     "name": "stdout",
     "output_type": "stream",
     "text": [
      "running build_ext\n",
      "building '_GT_.__main__.m_stencil_fma_defs__gtcuda_c205107450_pyext' extension\n",
      "creating /users/subbiali/jupyterhub/tasmania-prognostic-saturation/notebooks/.gt_cache/py36_1013/gtcuda/__main__/m_stencil_fma_defs__gtcuda_c205107450_pyext_BUILD/users\n",
      "creating /users/subbiali/jupyterhub/tasmania-prognostic-saturation/notebooks/.gt_cache/py36_1013/gtcuda/__main__/m_stencil_fma_defs__gtcuda_c205107450_pyext_BUILD/users/subbiali\n",
      "creating /users/subbiali/jupyterhub/tasmania-prognostic-saturation/notebooks/.gt_cache/py36_1013/gtcuda/__main__/m_stencil_fma_defs__gtcuda_c205107450_pyext_BUILD/users/subbiali/jupyterhub\n",
      "creating /users/subbiali/jupyterhub/tasmania-prognostic-saturation/notebooks/.gt_cache/py36_1013/gtcuda/__main__/m_stencil_fma_defs__gtcuda_c205107450_pyext_BUILD/users/subbiali/jupyterhub/tasmania-prognostic-saturation\n",
      "creating /users/subbiali/jupyterhub/tasmania-prognostic-saturation/notebooks/.gt_cache/py36_1013/gtcuda/__main__/m_stencil_fma_defs__gtcuda_c205107450_pyext_BUILD/users/subbiali/jupyterhub/tasmania-prognostic-saturation/notebooks\n",
      "creating /users/subbiali/jupyterhub/tasmania-prognostic-saturation/notebooks/.gt_cache/py36_1013/gtcuda/__main__/m_stencil_fma_defs__gtcuda_c205107450_pyext_BUILD/users/subbiali/jupyterhub/tasmania-prognostic-saturation/notebooks/.gt_cache\n",
      "creating /users/subbiali/jupyterhub/tasmania-prognostic-saturation/notebooks/.gt_cache/py36_1013/gtcuda/__main__/m_stencil_fma_defs__gtcuda_c205107450_pyext_BUILD/users/subbiali/jupyterhub/tasmania-prognostic-saturation/notebooks/.gt_cache/py36_1013\n",
      "creating /users/subbiali/jupyterhub/tasmania-prognostic-saturation/notebooks/.gt_cache/py36_1013/gtcuda/__main__/m_stencil_fma_defs__gtcuda_c205107450_pyext_BUILD/users/subbiali/jupyterhub/tasmania-prognostic-saturation/notebooks/.gt_cache/py36_1013/gtcuda\n",
      "creating /users/subbiali/jupyterhub/tasmania-prognostic-saturation/notebooks/.gt_cache/py36_1013/gtcuda/__main__/m_stencil_fma_defs__gtcuda_c205107450_pyext_BUILD/users/subbiali/jupyterhub/tasmania-prognostic-saturation/notebooks/.gt_cache/py36_1013/gtcuda/__main__\n",
      "creating /users/subbiali/jupyterhub/tasmania-prognostic-saturation/notebooks/.gt_cache/py36_1013/gtcuda/__main__/m_stencil_fma_defs__gtcuda_c205107450_pyext_BUILD/users/subbiali/jupyterhub/tasmania-prognostic-saturation/notebooks/.gt_cache/py36_1013/gtcuda/__main__/m_stencil_fma_defs__gtcuda_c205107450_pyext_BUILD\n",
      "/opt/nvidia/cudatoolkit10/10.1.105_3.27-7.0.1.1_4.1__ga311ce7/bin/nvcc -I/users/subbiali/jupyterhub/tasmania/venv/include/site/python3.6 -I/users/subbiali/jupyterhub/tasmania/venv/include/site/python3.6 -I/users/subbiali/boost_build/include -I/opt/nvidia/cudatoolkit10/10.1.105_3.27-7.0.1.1_4.1__ga311ce7/include -I/users/subbiali/jupyterhub/tasmania/venv/include -I/opt/python/3.6.5.7/include/python3.6m -c /users/subbiali/jupyterhub/tasmania-prognostic-saturation/notebooks/.gt_cache/py36_1013/gtcuda/__main__/m_stencil_fma_defs__gtcuda_c205107450_pyext_BUILD/computation.cu -o /users/subbiali/jupyterhub/tasmania-prognostic-saturation/notebooks/.gt_cache/py36_1013/gtcuda/__main__/m_stencil_fma_defs__gtcuda_c205107450_pyext_BUILD/users/subbiali/jupyterhub/tasmania-prognostic-saturation/notebooks/.gt_cache/py36_1013/gtcuda/__main__/m_stencil_fma_defs__gtcuda_c205107450_pyext_BUILD/computation.o -std=c++14 -isystem=/users/subbiali/jupyterhub/tasmania/docker/external/gt4py/src/gt4py/_external_src/gridtools/include -isystem=/users/subbiali/boost_build/include -DBOOST_PP_VARIADICS -DBOOST_OPTIONAL_CONFIG_USE_OLD_IMPLEMENTATION_OF_OPTIONAL -DBOOST_OPTIONAL_USE_OLD_DEFINITION_OF_NONE --expt-relaxed-constexpr --compiler-options -fPIC --compiler-options -fvisibility=hidden -O3 -DNDEBUG\n",
      "gcc -pthread -Wno-unused-result -Wsign-compare -fwrapv -Wall -march=x86-64 -march=x86-64 -fPIC -I/users/subbiali/jupyterhub/tasmania/venv/include/site/python3.6 -I/users/subbiali/jupyterhub/tasmania/venv/include/site/python3.6 -I/users/subbiali/boost_build/include -I/opt/nvidia/cudatoolkit10/10.1.105_3.27-7.0.1.1_4.1__ga311ce7/include -I/users/subbiali/jupyterhub/tasmania/venv/include -I/opt/python/3.6.5.7/include/python3.6m -c /users/subbiali/jupyterhub/tasmania-prognostic-saturation/notebooks/.gt_cache/py36_1013/gtcuda/__main__/m_stencil_fma_defs__gtcuda_c205107450_pyext_BUILD/bindings.cpp -o /users/subbiali/jupyterhub/tasmania-prognostic-saturation/notebooks/.gt_cache/py36_1013/gtcuda/__main__/m_stencil_fma_defs__gtcuda_c205107450_pyext_BUILD/users/subbiali/jupyterhub/tasmania-prognostic-saturation/notebooks/.gt_cache/py36_1013/gtcuda/__main__/m_stencil_fma_defs__gtcuda_c205107450_pyext_BUILD/bindings.o -std=c++14 -fvisibility=hidden -fopenmp -isystem/users/subbiali/jupyterhub/tasmania/docker/external/gt4py/src/gt4py/_external_src/gridtools/include -isystem/users/subbiali/boost_build/include -DBOOST_PP_VARIADICS -fPIC -O3 -DNDEBUG\n",
      "creating /users/subbiali/jupyterhub/tasmania-prognostic-saturation/notebooks/.gt_cache/py36_1013/gtcuda/__main__/m_stencil_fma_defs__gtcuda_c205107450_pyext_BUILD/_GT_\n",
      "creating /users/subbiali/jupyterhub/tasmania-prognostic-saturation/notebooks/.gt_cache/py36_1013/gtcuda/__main__/m_stencil_fma_defs__gtcuda_c205107450_pyext_BUILD/_GT_/__main__\n",
      "g++ -pthread -shared -Wl,-rpath,/opt/python/3.6.5.7/lib /users/subbiali/jupyterhub/tasmania-prognostic-saturation/notebooks/.gt_cache/py36_1013/gtcuda/__main__/m_stencil_fma_defs__gtcuda_c205107450_pyext_BUILD/users/subbiali/jupyterhub/tasmania-prognostic-saturation/notebooks/.gt_cache/py36_1013/gtcuda/__main__/m_stencil_fma_defs__gtcuda_c205107450_pyext_BUILD/computation.o /users/subbiali/jupyterhub/tasmania-prognostic-saturation/notebooks/.gt_cache/py36_1013/gtcuda/__main__/m_stencil_fma_defs__gtcuda_c205107450_pyext_BUILD/users/subbiali/jupyterhub/tasmania-prognostic-saturation/notebooks/.gt_cache/py36_1013/gtcuda/__main__/m_stencil_fma_defs__gtcuda_c205107450_pyext_BUILD/bindings.o -L/opt/nvidia/cudatoolkit10/10.1.105_3.27-7.0.1.1_4.1__ga311ce7/lib64 -L/opt/python/3.6.5.7/lib -lcudart -lpython3.6m -o /users/subbiali/jupyterhub/tasmania-prognostic-saturation/notebooks/.gt_cache/py36_1013/gtcuda/__main__/m_stencil_fma_defs__gtcuda_c205107450_pyext_BUILD/_GT_/__main__/m_stencil_fma_defs__gtcuda_c205107450_pyext.cpython-36m-x86_64-linux-gnu.so -O3 -DNDEBUG\n",
      "copying /users/subbiali/jupyterhub/tasmania-prognostic-saturation/notebooks/.gt_cache/py36_1013/gtcuda/__main__/m_stencil_fma_defs__gtcuda_c205107450_pyext_BUILD/_GT_/__main__/m_stencil_fma_defs__gtcuda_c205107450_pyext.cpython-36m-x86_64-linux-gnu.so -> /users/subbiali/jupyterhub/tasmania-prognostic-saturation/notebooks/.gt_cache/py36_1013/gtcuda/__main__\n",
      "943 µs ± 275 ns per loop (mean ± std. dev. of 7 runs, 1000 loops each)\n"
     ]
    }
   ],
   "source": [
    "# fma\n",
    "set_annotations(stencil_fma_defs, dtype)\n",
    "stencil_fma = gtscript.stencil(backend=backend, definition=stencil_fma_defs, rebuild=False)\n",
    "out = %timeit -o stencil_fma(in_a=a, in_b=b, out_c=c, f=f, origin=(0, 0, 0), domain=storage_shape)\n",
    "df.at[\"fma\", column] = 1000 * out.average"
   ]
  },
  {
   "cell_type": "code",
   "execution_count": 132,
   "metadata": {},
   "outputs": [
    {
     "name": "stdout",
     "output_type": "stream",
     "text": [
      "914 µs ± 708 ns per loop (mean ± std. dev. of 7 runs, 1000 loops each)\n"
     ]
    }
   ],
   "source": [
    "# fma: make origin coincide with default_origin\n",
    "domain = tuple(s - 2*d for s, d in zip(storage_shape, default_origin))\n",
    "%timeit stencil_fma(in_a=a, in_b=b, out_c=c, f=f, origin=default_origin, domain=domain)"
   ]
  },
  {
   "cell_type": "code",
   "execution_count": 133,
   "metadata": {},
   "outputs": [
    {
     "name": "stdout",
     "output_type": "stream",
     "text": [
      "running build_ext\n",
      "building '_GT_.__main__.m_stencil_sts_rk2_0_defs__gtcuda_83665f6809_pyext' extension\n",
      "creating /users/subbiali/jupyterhub/tasmania-prognostic-saturation/notebooks/.gt_cache/py36_1013/gtcuda/__main__/m_stencil_sts_rk2_0_defs__gtcuda_83665f6809_pyext_BUILD/users\n",
      "creating /users/subbiali/jupyterhub/tasmania-prognostic-saturation/notebooks/.gt_cache/py36_1013/gtcuda/__main__/m_stencil_sts_rk2_0_defs__gtcuda_83665f6809_pyext_BUILD/users/subbiali\n",
      "creating /users/subbiali/jupyterhub/tasmania-prognostic-saturation/notebooks/.gt_cache/py36_1013/gtcuda/__main__/m_stencil_sts_rk2_0_defs__gtcuda_83665f6809_pyext_BUILD/users/subbiali/jupyterhub\n",
      "creating /users/subbiali/jupyterhub/tasmania-prognostic-saturation/notebooks/.gt_cache/py36_1013/gtcuda/__main__/m_stencil_sts_rk2_0_defs__gtcuda_83665f6809_pyext_BUILD/users/subbiali/jupyterhub/tasmania-prognostic-saturation\n",
      "creating /users/subbiali/jupyterhub/tasmania-prognostic-saturation/notebooks/.gt_cache/py36_1013/gtcuda/__main__/m_stencil_sts_rk2_0_defs__gtcuda_83665f6809_pyext_BUILD/users/subbiali/jupyterhub/tasmania-prognostic-saturation/notebooks\n",
      "creating /users/subbiali/jupyterhub/tasmania-prognostic-saturation/notebooks/.gt_cache/py36_1013/gtcuda/__main__/m_stencil_sts_rk2_0_defs__gtcuda_83665f6809_pyext_BUILD/users/subbiali/jupyterhub/tasmania-prognostic-saturation/notebooks/.gt_cache\n",
      "creating /users/subbiali/jupyterhub/tasmania-prognostic-saturation/notebooks/.gt_cache/py36_1013/gtcuda/__main__/m_stencil_sts_rk2_0_defs__gtcuda_83665f6809_pyext_BUILD/users/subbiali/jupyterhub/tasmania-prognostic-saturation/notebooks/.gt_cache/py36_1013\n",
      "creating /users/subbiali/jupyterhub/tasmania-prognostic-saturation/notebooks/.gt_cache/py36_1013/gtcuda/__main__/m_stencil_sts_rk2_0_defs__gtcuda_83665f6809_pyext_BUILD/users/subbiali/jupyterhub/tasmania-prognostic-saturation/notebooks/.gt_cache/py36_1013/gtcuda\n",
      "creating /users/subbiali/jupyterhub/tasmania-prognostic-saturation/notebooks/.gt_cache/py36_1013/gtcuda/__main__/m_stencil_sts_rk2_0_defs__gtcuda_83665f6809_pyext_BUILD/users/subbiali/jupyterhub/tasmania-prognostic-saturation/notebooks/.gt_cache/py36_1013/gtcuda/__main__\n",
      "creating /users/subbiali/jupyterhub/tasmania-prognostic-saturation/notebooks/.gt_cache/py36_1013/gtcuda/__main__/m_stencil_sts_rk2_0_defs__gtcuda_83665f6809_pyext_BUILD/users/subbiali/jupyterhub/tasmania-prognostic-saturation/notebooks/.gt_cache/py36_1013/gtcuda/__main__/m_stencil_sts_rk2_0_defs__gtcuda_83665f6809_pyext_BUILD\n",
      "/opt/nvidia/cudatoolkit10/10.1.105_3.27-7.0.1.1_4.1__ga311ce7/bin/nvcc -I/users/subbiali/jupyterhub/tasmania/venv/include/site/python3.6 -I/users/subbiali/jupyterhub/tasmania/venv/include/site/python3.6 -I/users/subbiali/boost_build/include -I/opt/nvidia/cudatoolkit10/10.1.105_3.27-7.0.1.1_4.1__ga311ce7/include -I/users/subbiali/jupyterhub/tasmania/venv/include -I/opt/python/3.6.5.7/include/python3.6m -c /users/subbiali/jupyterhub/tasmania-prognostic-saturation/notebooks/.gt_cache/py36_1013/gtcuda/__main__/m_stencil_sts_rk2_0_defs__gtcuda_83665f6809_pyext_BUILD/computation.cu -o /users/subbiali/jupyterhub/tasmania-prognostic-saturation/notebooks/.gt_cache/py36_1013/gtcuda/__main__/m_stencil_sts_rk2_0_defs__gtcuda_83665f6809_pyext_BUILD/users/subbiali/jupyterhub/tasmania-prognostic-saturation/notebooks/.gt_cache/py36_1013/gtcuda/__main__/m_stencil_sts_rk2_0_defs__gtcuda_83665f6809_pyext_BUILD/computation.o -std=c++14 -isystem=/users/subbiali/jupyterhub/tasmania/docker/external/gt4py/src/gt4py/_external_src/gridtools/include -isystem=/users/subbiali/boost_build/include -DBOOST_PP_VARIADICS -DBOOST_OPTIONAL_CONFIG_USE_OLD_IMPLEMENTATION_OF_OPTIONAL -DBOOST_OPTIONAL_USE_OLD_DEFINITION_OF_NONE --expt-relaxed-constexpr --compiler-options -fPIC --compiler-options -fvisibility=hidden -O3 -DNDEBUG\n",
      "gcc -pthread -Wno-unused-result -Wsign-compare -fwrapv -Wall -march=x86-64 -march=x86-64 -fPIC -I/users/subbiali/jupyterhub/tasmania/venv/include/site/python3.6 -I/users/subbiali/jupyterhub/tasmania/venv/include/site/python3.6 -I/users/subbiali/boost_build/include -I/opt/nvidia/cudatoolkit10/10.1.105_3.27-7.0.1.1_4.1__ga311ce7/include -I/users/subbiali/jupyterhub/tasmania/venv/include -I/opt/python/3.6.5.7/include/python3.6m -c /users/subbiali/jupyterhub/tasmania-prognostic-saturation/notebooks/.gt_cache/py36_1013/gtcuda/__main__/m_stencil_sts_rk2_0_defs__gtcuda_83665f6809_pyext_BUILD/bindings.cpp -o /users/subbiali/jupyterhub/tasmania-prognostic-saturation/notebooks/.gt_cache/py36_1013/gtcuda/__main__/m_stencil_sts_rk2_0_defs__gtcuda_83665f6809_pyext_BUILD/users/subbiali/jupyterhub/tasmania-prognostic-saturation/notebooks/.gt_cache/py36_1013/gtcuda/__main__/m_stencil_sts_rk2_0_defs__gtcuda_83665f6809_pyext_BUILD/bindings.o -std=c++14 -fvisibility=hidden -fopenmp -isystem/users/subbiali/jupyterhub/tasmania/docker/external/gt4py/src/gt4py/_external_src/gridtools/include -isystem/users/subbiali/boost_build/include -DBOOST_PP_VARIADICS -fPIC -O3 -DNDEBUG\n",
      "creating /users/subbiali/jupyterhub/tasmania-prognostic-saturation/notebooks/.gt_cache/py36_1013/gtcuda/__main__/m_stencil_sts_rk2_0_defs__gtcuda_83665f6809_pyext_BUILD/_GT_\n",
      "creating /users/subbiali/jupyterhub/tasmania-prognostic-saturation/notebooks/.gt_cache/py36_1013/gtcuda/__main__/m_stencil_sts_rk2_0_defs__gtcuda_83665f6809_pyext_BUILD/_GT_/__main__\n",
      "g++ -pthread -shared -Wl,-rpath,/opt/python/3.6.5.7/lib /users/subbiali/jupyterhub/tasmania-prognostic-saturation/notebooks/.gt_cache/py36_1013/gtcuda/__main__/m_stencil_sts_rk2_0_defs__gtcuda_83665f6809_pyext_BUILD/users/subbiali/jupyterhub/tasmania-prognostic-saturation/notebooks/.gt_cache/py36_1013/gtcuda/__main__/m_stencil_sts_rk2_0_defs__gtcuda_83665f6809_pyext_BUILD/computation.o /users/subbiali/jupyterhub/tasmania-prognostic-saturation/notebooks/.gt_cache/py36_1013/gtcuda/__main__/m_stencil_sts_rk2_0_defs__gtcuda_83665f6809_pyext_BUILD/users/subbiali/jupyterhub/tasmania-prognostic-saturation/notebooks/.gt_cache/py36_1013/gtcuda/__main__/m_stencil_sts_rk2_0_defs__gtcuda_83665f6809_pyext_BUILD/bindings.o -L/opt/nvidia/cudatoolkit10/10.1.105_3.27-7.0.1.1_4.1__ga311ce7/lib64 -L/opt/python/3.6.5.7/lib -lcudart -lpython3.6m -o /users/subbiali/jupyterhub/tasmania-prognostic-saturation/notebooks/.gt_cache/py36_1013/gtcuda/__main__/m_stencil_sts_rk2_0_defs__gtcuda_83665f6809_pyext_BUILD/_GT_/__main__/m_stencil_sts_rk2_0_defs__gtcuda_83665f6809_pyext.cpython-36m-x86_64-linux-gnu.so -O3 -DNDEBUG\n",
      "copying /users/subbiali/jupyterhub/tasmania-prognostic-saturation/notebooks/.gt_cache/py36_1013/gtcuda/__main__/m_stencil_sts_rk2_0_defs__gtcuda_83665f6809_pyext_BUILD/_GT_/__main__/m_stencil_sts_rk2_0_defs__gtcuda_83665f6809_pyext.cpython-36m-x86_64-linux-gnu.so -> /users/subbiali/jupyterhub/tasmania-prognostic-saturation/notebooks/.gt_cache/py36_1013/gtcuda/__main__\n",
      "1.26 ms ± 24.7 µs per loop (mean ± std. dev. of 7 runs, 1 loop each)\n"
     ]
    }
   ],
   "source": [
    "# sts_rk2_0\n",
    "set_annotations(stencil_sts_rk2_0_defs, dtype)\n",
    "stencil_sts_rk2_0 = gtscript.stencil(backend=backend, definition=stencil_sts_rk2_0_defs, rebuild=False)\n",
    "out = %timeit -o stencil_sts_rk2_0(a, b, c, d, dt=f, origin=(0, 0, 0), domain=storage_shape)\n",
    "df.at[\"sts_rk2_0\", column] = 1000 * out.average"
   ]
  },
  {
   "cell_type": "code",
   "execution_count": 134,
   "metadata": {},
   "outputs": [
    {
     "name": "stdout",
     "output_type": "stream",
     "text": [
      "1.17 ms ± 756 ns per loop (mean ± std. dev. of 7 runs, 1000 loops each)\n"
     ]
    }
   ],
   "source": [
    "# sts_rk2_0: make origin coincide with default_origin\n",
    "domain = tuple(s - 2*d for s, d in zip(storage_shape, default_origin))\n",
    "%timeit stencil_sts_rk2_0(a, b, c, d, dt=f, origin=default_origin, domain=domain)"
   ]
  },
  {
   "cell_type": "code",
   "execution_count": 135,
   "metadata": {},
   "outputs": [
    {
     "name": "stdout",
     "output_type": "stream",
     "text": [
      "running build_ext\n",
      "building '_GT_.__main__.m_stencil_sts_rk3ws_0_defs__gtcuda_13e4bd224e_pyext' extension\n",
      "creating /users/subbiali/jupyterhub/tasmania-prognostic-saturation/notebooks/.gt_cache/py36_1013/gtcuda/__main__/m_stencil_sts_rk3ws_0_defs__gtcuda_13e4bd224e_pyext_BUILD/users\n",
      "creating /users/subbiali/jupyterhub/tasmania-prognostic-saturation/notebooks/.gt_cache/py36_1013/gtcuda/__main__/m_stencil_sts_rk3ws_0_defs__gtcuda_13e4bd224e_pyext_BUILD/users/subbiali\n",
      "creating /users/subbiali/jupyterhub/tasmania-prognostic-saturation/notebooks/.gt_cache/py36_1013/gtcuda/__main__/m_stencil_sts_rk3ws_0_defs__gtcuda_13e4bd224e_pyext_BUILD/users/subbiali/jupyterhub\n",
      "creating /users/subbiali/jupyterhub/tasmania-prognostic-saturation/notebooks/.gt_cache/py36_1013/gtcuda/__main__/m_stencil_sts_rk3ws_0_defs__gtcuda_13e4bd224e_pyext_BUILD/users/subbiali/jupyterhub/tasmania-prognostic-saturation\n",
      "creating /users/subbiali/jupyterhub/tasmania-prognostic-saturation/notebooks/.gt_cache/py36_1013/gtcuda/__main__/m_stencil_sts_rk3ws_0_defs__gtcuda_13e4bd224e_pyext_BUILD/users/subbiali/jupyterhub/tasmania-prognostic-saturation/notebooks\n",
      "creating /users/subbiali/jupyterhub/tasmania-prognostic-saturation/notebooks/.gt_cache/py36_1013/gtcuda/__main__/m_stencil_sts_rk3ws_0_defs__gtcuda_13e4bd224e_pyext_BUILD/users/subbiali/jupyterhub/tasmania-prognostic-saturation/notebooks/.gt_cache\n",
      "creating /users/subbiali/jupyterhub/tasmania-prognostic-saturation/notebooks/.gt_cache/py36_1013/gtcuda/__main__/m_stencil_sts_rk3ws_0_defs__gtcuda_13e4bd224e_pyext_BUILD/users/subbiali/jupyterhub/tasmania-prognostic-saturation/notebooks/.gt_cache/py36_1013\n",
      "creating /users/subbiali/jupyterhub/tasmania-prognostic-saturation/notebooks/.gt_cache/py36_1013/gtcuda/__main__/m_stencil_sts_rk3ws_0_defs__gtcuda_13e4bd224e_pyext_BUILD/users/subbiali/jupyterhub/tasmania-prognostic-saturation/notebooks/.gt_cache/py36_1013/gtcuda\n",
      "creating /users/subbiali/jupyterhub/tasmania-prognostic-saturation/notebooks/.gt_cache/py36_1013/gtcuda/__main__/m_stencil_sts_rk3ws_0_defs__gtcuda_13e4bd224e_pyext_BUILD/users/subbiali/jupyterhub/tasmania-prognostic-saturation/notebooks/.gt_cache/py36_1013/gtcuda/__main__\n",
      "creating /users/subbiali/jupyterhub/tasmania-prognostic-saturation/notebooks/.gt_cache/py36_1013/gtcuda/__main__/m_stencil_sts_rk3ws_0_defs__gtcuda_13e4bd224e_pyext_BUILD/users/subbiali/jupyterhub/tasmania-prognostic-saturation/notebooks/.gt_cache/py36_1013/gtcuda/__main__/m_stencil_sts_rk3ws_0_defs__gtcuda_13e4bd224e_pyext_BUILD\n",
      "/opt/nvidia/cudatoolkit10/10.1.105_3.27-7.0.1.1_4.1__ga311ce7/bin/nvcc -I/users/subbiali/jupyterhub/tasmania/venv/include/site/python3.6 -I/users/subbiali/jupyterhub/tasmania/venv/include/site/python3.6 -I/users/subbiali/boost_build/include -I/opt/nvidia/cudatoolkit10/10.1.105_3.27-7.0.1.1_4.1__ga311ce7/include -I/users/subbiali/jupyterhub/tasmania/venv/include -I/opt/python/3.6.5.7/include/python3.6m -c /users/subbiali/jupyterhub/tasmania-prognostic-saturation/notebooks/.gt_cache/py36_1013/gtcuda/__main__/m_stencil_sts_rk3ws_0_defs__gtcuda_13e4bd224e_pyext_BUILD/computation.cu -o /users/subbiali/jupyterhub/tasmania-prognostic-saturation/notebooks/.gt_cache/py36_1013/gtcuda/__main__/m_stencil_sts_rk3ws_0_defs__gtcuda_13e4bd224e_pyext_BUILD/users/subbiali/jupyterhub/tasmania-prognostic-saturation/notebooks/.gt_cache/py36_1013/gtcuda/__main__/m_stencil_sts_rk3ws_0_defs__gtcuda_13e4bd224e_pyext_BUILD/computation.o -std=c++14 -isystem=/users/subbiali/jupyterhub/tasmania/docker/external/gt4py/src/gt4py/_external_src/gridtools/include -isystem=/users/subbiali/boost_build/include -DBOOST_PP_VARIADICS -DBOOST_OPTIONAL_CONFIG_USE_OLD_IMPLEMENTATION_OF_OPTIONAL -DBOOST_OPTIONAL_USE_OLD_DEFINITION_OF_NONE --expt-relaxed-constexpr --compiler-options -fPIC --compiler-options -fvisibility=hidden -O3 -DNDEBUG\n",
      "gcc -pthread -Wno-unused-result -Wsign-compare -fwrapv -Wall -march=x86-64 -march=x86-64 -fPIC -I/users/subbiali/jupyterhub/tasmania/venv/include/site/python3.6 -I/users/subbiali/jupyterhub/tasmania/venv/include/site/python3.6 -I/users/subbiali/boost_build/include -I/opt/nvidia/cudatoolkit10/10.1.105_3.27-7.0.1.1_4.1__ga311ce7/include -I/users/subbiali/jupyterhub/tasmania/venv/include -I/opt/python/3.6.5.7/include/python3.6m -c /users/subbiali/jupyterhub/tasmania-prognostic-saturation/notebooks/.gt_cache/py36_1013/gtcuda/__main__/m_stencil_sts_rk3ws_0_defs__gtcuda_13e4bd224e_pyext_BUILD/bindings.cpp -o /users/subbiali/jupyterhub/tasmania-prognostic-saturation/notebooks/.gt_cache/py36_1013/gtcuda/__main__/m_stencil_sts_rk3ws_0_defs__gtcuda_13e4bd224e_pyext_BUILD/users/subbiali/jupyterhub/tasmania-prognostic-saturation/notebooks/.gt_cache/py36_1013/gtcuda/__main__/m_stencil_sts_rk3ws_0_defs__gtcuda_13e4bd224e_pyext_BUILD/bindings.o -std=c++14 -fvisibility=hidden -fopenmp -isystem/users/subbiali/jupyterhub/tasmania/docker/external/gt4py/src/gt4py/_external_src/gridtools/include -isystem/users/subbiali/boost_build/include -DBOOST_PP_VARIADICS -fPIC -O3 -DNDEBUG\n",
      "creating /users/subbiali/jupyterhub/tasmania-prognostic-saturation/notebooks/.gt_cache/py36_1013/gtcuda/__main__/m_stencil_sts_rk3ws_0_defs__gtcuda_13e4bd224e_pyext_BUILD/_GT_\n",
      "creating /users/subbiali/jupyterhub/tasmania-prognostic-saturation/notebooks/.gt_cache/py36_1013/gtcuda/__main__/m_stencil_sts_rk3ws_0_defs__gtcuda_13e4bd224e_pyext_BUILD/_GT_/__main__\n",
      "g++ -pthread -shared -Wl,-rpath,/opt/python/3.6.5.7/lib /users/subbiali/jupyterhub/tasmania-prognostic-saturation/notebooks/.gt_cache/py36_1013/gtcuda/__main__/m_stencil_sts_rk3ws_0_defs__gtcuda_13e4bd224e_pyext_BUILD/users/subbiali/jupyterhub/tasmania-prognostic-saturation/notebooks/.gt_cache/py36_1013/gtcuda/__main__/m_stencil_sts_rk3ws_0_defs__gtcuda_13e4bd224e_pyext_BUILD/computation.o /users/subbiali/jupyterhub/tasmania-prognostic-saturation/notebooks/.gt_cache/py36_1013/gtcuda/__main__/m_stencil_sts_rk3ws_0_defs__gtcuda_13e4bd224e_pyext_BUILD/users/subbiali/jupyterhub/tasmania-prognostic-saturation/notebooks/.gt_cache/py36_1013/gtcuda/__main__/m_stencil_sts_rk3ws_0_defs__gtcuda_13e4bd224e_pyext_BUILD/bindings.o -L/opt/nvidia/cudatoolkit10/10.1.105_3.27-7.0.1.1_4.1__ga311ce7/lib64 -L/opt/python/3.6.5.7/lib -lcudart -lpython3.6m -o /users/subbiali/jupyterhub/tasmania-prognostic-saturation/notebooks/.gt_cache/py36_1013/gtcuda/__main__/m_stencil_sts_rk3ws_0_defs__gtcuda_13e4bd224e_pyext_BUILD/_GT_/__main__/m_stencil_sts_rk3ws_0_defs__gtcuda_13e4bd224e_pyext.cpython-36m-x86_64-linux-gnu.so -O3 -DNDEBUG\n",
      "copying /users/subbiali/jupyterhub/tasmania-prognostic-saturation/notebooks/.gt_cache/py36_1013/gtcuda/__main__/m_stencil_sts_rk3ws_0_defs__gtcuda_13e4bd224e_pyext_BUILD/_GT_/__main__/m_stencil_sts_rk3ws_0_defs__gtcuda_13e4bd224e_pyext.cpython-36m-x86_64-linux-gnu.so -> /users/subbiali/jupyterhub/tasmania-prognostic-saturation/notebooks/.gt_cache/py36_1013/gtcuda/__main__\n",
      "1.23 ms ± 26.4 µs per loop (mean ± std. dev. of 7 runs, 1 loop each)\n"
     ]
    }
   ],
   "source": [
    "# sts_rk3ws_0\n",
    "set_annotations(stencil_sts_rk3ws_0_defs, dtype)\n",
    "stencil_sts_rk3ws_0 = gtscript.stencil(backend=backend, definition=stencil_sts_rk3ws_0_defs, rebuild=False)\n",
    "out = %timeit -o stencil_sts_rk3ws_0(a, b, c, d, dt=f, origin=(0, 0, 0), domain=storage_shape)\n",
    "df.at[\"sts_rk3ws_0\", column] = 1000 * out.average"
   ]
  },
  {
   "cell_type": "code",
   "execution_count": 136,
   "metadata": {},
   "outputs": [
    {
     "name": "stdout",
     "output_type": "stream",
     "text": [
      "1.18 ms ± 553 ns per loop (mean ± std. dev. of 7 runs, 1000 loops each)\n"
     ]
    }
   ],
   "source": [
    "# sts_rk3ws_0: make origin coincide with default_origin\n",
    "domain = tuple(s - 2*d for s, d in zip(storage_shape, default_origin))\n",
    "%timeit stencil_sts_rk3ws_0(a, b, c, d, dt=f, origin=default_origin, domain=domain)"
   ]
  },
  {
   "cell_type": "markdown",
   "metadata": {},
   "source": [
    "## Serialization"
   ]
  },
  {
   "cell_type": "code",
   "execution_count": 137,
   "metadata": {},
   "outputs": [],
   "source": [
    "if serialize:\n",
    "    df.to_excel(writer, sheet_name=sheetname)\n",
    "    writer.save()"
   ]
  },
  {
   "cell_type": "code",
   "execution_count": 138,
   "metadata": {},
   "outputs": [
    {
     "data": {
      "text/html": [
       "<div>\n",
       "<style scoped>\n",
       "    .dataframe tbody tr th:only-of-type {\n",
       "        vertical-align: middle;\n",
       "    }\n",
       "\n",
       "    .dataframe tbody tr th {\n",
       "        vertical-align: top;\n",
       "    }\n",
       "\n",
       "    .dataframe thead th {\n",
       "        text-align: right;\n",
       "    }\n",
       "</style>\n",
       "<table border=\"1\" class=\"dataframe\">\n",
       "  <thead>\n",
       "    <tr style=\"text-align: right;\">\n",
       "      <th></th>\n",
       "      <th>numpy</th>\n",
       "      <th>numexpr</th>\n",
       "      <th>cupy</th>\n",
       "      <th>gtnumpy</th>\n",
       "      <th>gtx86</th>\n",
       "      <th>gtmc</th>\n",
       "      <th>gtcuda</th>\n",
       "    </tr>\n",
       "  </thead>\n",
       "  <tbody>\n",
       "    <tr>\n",
       "      <th>copy</th>\n",
       "      <td>9.449362</td>\n",
       "      <td>NaN</td>\n",
       "      <td>0.383272</td>\n",
       "      <td>9.594794</td>\n",
       "      <td>5.698168</td>\n",
       "      <td>5.819955</td>\n",
       "      <td>0.698259</td>\n",
       "    </tr>\n",
       "    <tr>\n",
       "      <th>copychange</th>\n",
       "      <td>50.337060</td>\n",
       "      <td>20.007233</td>\n",
       "      <td>0.751502</td>\n",
       "      <td>50.932797</td>\n",
       "      <td>5.709338</td>\n",
       "      <td>5.804095</td>\n",
       "      <td>0.688785</td>\n",
       "    </tr>\n",
       "    <tr>\n",
       "      <th>abs</th>\n",
       "      <td>49.926181</td>\n",
       "      <td>NaN</td>\n",
       "      <td>0.751421</td>\n",
       "      <td>392.239569</td>\n",
       "      <td>5.711308</td>\n",
       "      <td>5.775692</td>\n",
       "      <td>0.684715</td>\n",
       "    </tr>\n",
       "    <tr>\n",
       "      <th>iabs</th>\n",
       "      <td>50.135189</td>\n",
       "      <td>NaN</td>\n",
       "      <td>0.751514</td>\n",
       "      <td>393.190949</td>\n",
       "      <td>4.188860</td>\n",
       "      <td>4.271356</td>\n",
       "      <td>0.575475</td>\n",
       "    </tr>\n",
       "    <tr>\n",
       "      <th>add</th>\n",
       "      <td>55.094303</td>\n",
       "      <td>20.875209</td>\n",
       "      <td>0.920538</td>\n",
       "      <td>56.124910</td>\n",
       "      <td>7.492006</td>\n",
       "      <td>7.604230</td>\n",
       "      <td>0.936050</td>\n",
       "    </tr>\n",
       "    <tr>\n",
       "      <th>iadd</th>\n",
       "      <td>15.295182</td>\n",
       "      <td>NaN</td>\n",
       "      <td>0.535888</td>\n",
       "      <td>55.475913</td>\n",
       "      <td>5.686629</td>\n",
       "      <td>5.784183</td>\n",
       "      <td>0.840824</td>\n",
       "    </tr>\n",
       "    <tr>\n",
       "      <th>sub</th>\n",
       "      <td>54.904362</td>\n",
       "      <td>20.907313</td>\n",
       "      <td>0.920541</td>\n",
       "      <td>55.537502</td>\n",
       "      <td>7.509593</td>\n",
       "      <td>7.607268</td>\n",
       "      <td>0.944390</td>\n",
       "    </tr>\n",
       "    <tr>\n",
       "      <th>isub</th>\n",
       "      <td>15.501360</td>\n",
       "      <td>NaN</td>\n",
       "      <td>0.535892</td>\n",
       "      <td>55.636531</td>\n",
       "      <td>5.709430</td>\n",
       "      <td>5.784922</td>\n",
       "      <td>0.841926</td>\n",
       "    </tr>\n",
       "    <tr>\n",
       "      <th>mul</th>\n",
       "      <td>55.079714</td>\n",
       "      <td>22.223766</td>\n",
       "      <td>0.920547</td>\n",
       "      <td>55.781595</td>\n",
       "      <td>7.475459</td>\n",
       "      <td>7.607106</td>\n",
       "      <td>0.935196</td>\n",
       "    </tr>\n",
       "    <tr>\n",
       "      <th>imul</th>\n",
       "      <td>18.344740</td>\n",
       "      <td>NaN</td>\n",
       "      <td>0.535890</td>\n",
       "      <td>55.760560</td>\n",
       "      <td>5.695319</td>\n",
       "      <td>5.871720</td>\n",
       "      <td>0.841497</td>\n",
       "    </tr>\n",
       "    <tr>\n",
       "      <th>addsub</th>\n",
       "      <td>70.138277</td>\n",
       "      <td>24.001181</td>\n",
       "      <td>1.599906</td>\n",
       "      <td>70.921017</td>\n",
       "      <td>9.298152</td>\n",
       "      <td>9.452237</td>\n",
       "      <td>1.213181</td>\n",
       "    </tr>\n",
       "    <tr>\n",
       "      <th>iaddsub</th>\n",
       "      <td>60.744616</td>\n",
       "      <td>NaN</td>\n",
       "      <td>1.072198</td>\n",
       "      <td>71.134072</td>\n",
       "      <td>7.495171</td>\n",
       "      <td>7.627162</td>\n",
       "      <td>1.125490</td>\n",
       "    </tr>\n",
       "    <tr>\n",
       "      <th>fma</th>\n",
       "      <td>65.136639</td>\n",
       "      <td>23.211880</td>\n",
       "      <td>1.287835</td>\n",
       "      <td>65.993196</td>\n",
       "      <td>7.479689</td>\n",
       "      <td>7.608599</td>\n",
       "      <td>0.943183</td>\n",
       "    </tr>\n",
       "    <tr>\n",
       "      <th>sts_rk2_0</th>\n",
       "      <td>121.033543</td>\n",
       "      <td>25.934712</td>\n",
       "      <td>2.235584</td>\n",
       "      <td>122.630229</td>\n",
       "      <td>9.299762</td>\n",
       "      <td>9.460763</td>\n",
       "      <td>1.264594</td>\n",
       "    </tr>\n",
       "    <tr>\n",
       "      <th>sts_rk3ws_0</th>\n",
       "      <td>146.867368</td>\n",
       "      <td>26.473103</td>\n",
       "      <td>2.560530</td>\n",
       "      <td>148.417041</td>\n",
       "      <td>9.312762</td>\n",
       "      <td>9.506296</td>\n",
       "      <td>1.229621</td>\n",
       "    </tr>\n",
       "  </tbody>\n",
       "</table>\n",
       "</div>"
      ],
      "text/plain": [
       "                  numpy    numexpr      cupy     gtnumpy     gtx86      gtmc  \\\n",
       "copy           9.449362        NaN  0.383272    9.594794  5.698168  5.819955   \n",
       "copychange    50.337060  20.007233  0.751502   50.932797  5.709338  5.804095   \n",
       "abs           49.926181        NaN  0.751421  392.239569  5.711308  5.775692   \n",
       "iabs          50.135189        NaN  0.751514  393.190949  4.188860  4.271356   \n",
       "add           55.094303  20.875209  0.920538   56.124910  7.492006  7.604230   \n",
       "iadd          15.295182        NaN  0.535888   55.475913  5.686629  5.784183   \n",
       "sub           54.904362  20.907313  0.920541   55.537502  7.509593  7.607268   \n",
       "isub          15.501360        NaN  0.535892   55.636531  5.709430  5.784922   \n",
       "mul           55.079714  22.223766  0.920547   55.781595  7.475459  7.607106   \n",
       "imul          18.344740        NaN  0.535890   55.760560  5.695319  5.871720   \n",
       "addsub        70.138277  24.001181  1.599906   70.921017  9.298152  9.452237   \n",
       "iaddsub       60.744616        NaN  1.072198   71.134072  7.495171  7.627162   \n",
       "fma           65.136639  23.211880  1.287835   65.993196  7.479689  7.608599   \n",
       "sts_rk2_0    121.033543  25.934712  2.235584  122.630229  9.299762  9.460763   \n",
       "sts_rk3ws_0  146.867368  26.473103  2.560530  148.417041  9.312762  9.506296   \n",
       "\n",
       "               gtcuda  \n",
       "copy         0.698259  \n",
       "copychange   0.688785  \n",
       "abs          0.684715  \n",
       "iabs         0.575475  \n",
       "add          0.936050  \n",
       "iadd         0.840824  \n",
       "sub          0.944390  \n",
       "isub         0.841926  \n",
       "mul          0.935196  \n",
       "imul         0.841497  \n",
       "addsub       1.213181  \n",
       "iaddsub      1.125490  \n",
       "fma          0.943183  \n",
       "sts_rk2_0    1.264594  \n",
       "sts_rk3ws_0  1.229621  "
      ]
     },
     "execution_count": 138,
     "metadata": {},
     "output_type": "execute_result"
    }
   ],
   "source": [
    "df"
   ]
  }
 ],
 "metadata": {
  "kernelspec": {
   "display_name": "tazkernel",
   "language": "python",
   "name": "tazkernel"
  },
  "language_info": {
   "codemirror_mode": {
    "name": "ipython",
    "version": 3
   },
   "file_extension": ".py",
   "mimetype": "text/x-python",
   "name": "python",
   "nbconvert_exporter": "python",
   "pygments_lexer": "ipython3",
   "version": "3.6.5"
  },
  "pycharm": {
   "stem_cell": {
    "cell_type": "raw",
    "metadata": {
     "collapsed": false
    },
    "source": []
   }
  }
 },
 "nbformat": 4,
 "nbformat_minor": 4
}
