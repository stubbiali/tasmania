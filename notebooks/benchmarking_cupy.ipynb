{
 "cells": [
  {
   "cell_type": "markdown",
   "metadata": {},
   "source": [
    "# Benchmarking: cupy\n",
    "\n",
    "Timing a cupy implementation of some basic mathematical operations."
   ]
  },
  {
   "cell_type": "markdown",
   "metadata": {},
   "source": [
    "## User input"
   ]
  },
  {
   "cell_type": "code",
   "execution_count": 1,
   "metadata": {},
   "outputs": [],
   "source": [
    "import numpy as np\n",
    "\n",
    "# storage\n",
    "dtype = np.float64\n",
    "storage_shape = (321, 321, 120)\n",
    "\n",
    "# serialization\n",
    "serialize = True\n",
    "filename = \"timings_daint.xlsx\"\n",
    "sheetname = \"{} x {} x {}\".format(*storage_shape)"
   ]
  },
  {
   "cell_type": "markdown",
   "metadata": {},
   "source": [
    "## Data initialization"
   ]
  },
  {
   "cell_type": "code",
   "execution_count": 2,
   "metadata": {},
   "outputs": [],
   "source": [
    "# install and import cupy\n",
    "is_installed = !pip list 2> /dev/null | grep 'cupy'\n",
    "if not is_installed:\n",
    "    !pip install cupy-cuda101\n",
    "import cupy as cp"
   ]
  },
  {
   "cell_type": "code",
   "execution_count": 3,
   "metadata": {},
   "outputs": [],
   "source": [
    "from copy import deepcopy\n",
    "\n",
    "a = cp.zeros(storage_shape, dtype=dtype)\n",
    "a[...] = cp.random.rand(*storage_shape)\n",
    "a_dc = deepcopy(a)\n",
    "b = cp.zeros(storage_shape, dtype=dtype)\n",
    "b[...] = cp.random.rand(*storage_shape)\n",
    "c = cp.zeros(storage_shape, dtype=dtype)\n",
    "c[...] = cp.random.rand(*storage_shape)\n",
    "d = cp.zeros(storage_shape, dtype=dtype)\n",
    "\n",
    "f = cp.random.rand(1).item()"
   ]
  },
  {
   "cell_type": "markdown",
   "metadata": {},
   "source": [
    "## Serialization setup"
   ]
  },
  {
   "cell_type": "code",
   "execution_count": 4,
   "metadata": {},
   "outputs": [],
   "source": [
    "# install and import openpyxl\n",
    "is_installed = !pip list 2> /dev/null | grep 'openpyxl'\n",
    "if not is_installed:\n",
    "    !pip install openpyxl==2.6\n",
    "import openpyxl as xl\n",
    "\n",
    "# install and import pandas\n",
    "is_installed = !pip list 2> /dev/null | grep 'pandas'\n",
    "if not is_installed:\n",
    "    !pip install pandas\n",
    "import pandas as pd\n",
    "\n",
    "# install xlrd\n",
    "is_installed = !pip list 2> /dev/null | grep 'xlrd'\n",
    "if not is_installed:\n",
    "    !pip install xlrd"
   ]
  },
  {
   "cell_type": "code",
   "execution_count": 5,
   "metadata": {},
   "outputs": [],
   "source": [
    "# dataframe's indices and column\n",
    "index = [\n",
    "    \"copy\", \n",
    "    \"copychange\", \n",
    "    \"abs\", \n",
    "    \"iabs\", \n",
    "    \"add\", \n",
    "    \"iadd\", \n",
    "    \"sub\", \n",
    "    \"isub\", \n",
    "    \"mul\", \n",
    "    \"imul\",\n",
    "    \"addsub\",\n",
    "    \"iaddsub\",\n",
    "    \"fma\",\n",
    "    \"sts_rk2_0\",\n",
    "    \"sts_rk3ws_0\"\n",
    "]\n",
    "column = \"cupy\"\n",
    "    \n",
    "if serialize:\n",
    "    # create the spreadsheet\n",
    "    import os\n",
    "    if not os.path.exists(filename):\n",
    "        wb = xl.Workbook()\n",
    "        wb.save(filename=filename)\n",
    "    else:\n",
    "        wb = xl.load_workbook(filename)\n",
    "        \n",
    "    # create an ExcelWriter object\n",
    "    with pd.ExcelWriter(filename, engine=\"openpyxl\") as writer:\n",
    "        writer.book = wb\n",
    "        # writer.sheets = dict((ws.title, ws) for ws in wb.worksheets)\n",
    "    \n",
    "    if sheetname not in wb.sheetnames:\n",
    "        # create an empty dataframe\n",
    "        df = pd.DataFrame(data=[None,]*len(index), index=index, columns=[column,])\n",
    "        df.to_excel(writer, sheet_name=sheetname)\n",
    "    else:\n",
    "        # load the dataframe\n",
    "        df = pd.read_excel(writer, sheet_name=sheetname, index_col=0)\n",
    "        \n",
    "        # remove the sheet\n",
    "        sheetid = wb.sheetnames.index(sheetname)\n",
    "        wb.remove(wb.worksheets[sheetid])\n",
    "else:\n",
    "    # create the dataframe\n",
    "    df = pd.DataFrame(data=[None,]*len(index), index=index, columns=[column,])"
   ]
  },
  {
   "cell_type": "markdown",
   "metadata": {},
   "source": [
    "## Timing"
   ]
  },
  {
   "cell_type": "code",
   "execution_count": 6,
   "metadata": {},
   "outputs": [
    {
     "name": "stdout",
     "output_type": "stream",
     "text": [
      "383 µs ± 10.7 ns per loop (mean ± std. dev. of 7 runs, 1000 loops each)\n"
     ]
    }
   ],
   "source": [
    "# copy\n",
    "out = %timeit -o a[...] = b[...]\n",
    "df.at[\"copy\", column] = 1000 * out.average"
   ]
  },
  {
   "cell_type": "code",
   "execution_count": 7,
   "metadata": {},
   "outputs": [
    {
     "name": "stdout",
     "output_type": "stream",
     "text": [
      "20.3 µs ± 11.6 µs per loop (mean ± std. dev. of 7 runs, 1 loop each)\n"
     ]
    }
   ],
   "source": [
    "# copychange\n",
    "out = %timeit -o a = - b"
   ]
  },
  {
   "cell_type": "code",
   "execution_count": 8,
   "metadata": {},
   "outputs": [
    {
     "name": "stdout",
     "output_type": "stream",
     "text": [
      "752 µs ± 40.1 ns per loop (mean ± std. dev. of 7 runs, 1000 loops each)\n"
     ]
    }
   ],
   "source": [
    "# copychange with assignment\n",
    "out = %timeit -o a[...] = - b[...]\n",
    "df.at[\"copychange\", column] = 1000 * out.average"
   ]
  },
  {
   "cell_type": "code",
   "execution_count": 9,
   "metadata": {},
   "outputs": [
    {
     "name": "stdout",
     "output_type": "stream",
     "text": [
      "25.7 µs ± 13.1 µs per loop (mean ± std. dev. of 7 runs, 1 loop each)\n"
     ]
    }
   ],
   "source": [
    "# abs\n",
    "out = %timeit -o b = cp.abs(a)"
   ]
  },
  {
   "cell_type": "code",
   "execution_count": 10,
   "metadata": {},
   "outputs": [
    {
     "name": "stdout",
     "output_type": "stream",
     "text": [
      "751 µs ± 31 ns per loop (mean ± std. dev. of 7 runs, 1000 loops each)\n"
     ]
    }
   ],
   "source": [
    "# abs with assignment\n",
    "out = %timeit -o b[...] = cp.abs(a)\n",
    "df.at[\"abs\", column] = 1000 * out.average"
   ]
  },
  {
   "cell_type": "code",
   "execution_count": 11,
   "metadata": {},
   "outputs": [
    {
     "name": "stdout",
     "output_type": "stream",
     "text": [
      "752 µs ± 9.87 ns per loop (mean ± std. dev. of 7 runs, 1000 loops each)\n"
     ]
    }
   ],
   "source": [
    "# iabs with assignment\n",
    "out = %timeit -o a[...] = cp.abs(a)\n",
    "df.at[\"iabs\", column] = 1000 * out.average"
   ]
  },
  {
   "cell_type": "code",
   "execution_count": 12,
   "metadata": {
    "pycharm": {
     "name": "#%%\n"
    }
   },
   "outputs": [
    {
     "name": "stdout",
     "output_type": "stream",
     "text": [
      "23.3 µs ± 11.6 µs per loop (mean ± std. dev. of 7 runs, 1 loop each)\n"
     ]
    }
   ],
   "source": [
    "# add\n",
    "out = %timeit -o c = a + b"
   ]
  },
  {
   "cell_type": "code",
   "execution_count": 13,
   "metadata": {
    "pycharm": {
     "name": "#%%\n"
    }
   },
   "outputs": [
    {
     "name": "stdout",
     "output_type": "stream",
     "text": [
      "921 µs ± 20.6 ns per loop (mean ± std. dev. of 7 runs, 1000 loops each)\n"
     ]
    }
   ],
   "source": [
    "# add with assignment\n",
    "out = %timeit -o c[...] = a[...] + b[...]\n",
    "df.at[\"add\", column] = 1000 * out.average"
   ]
  },
  {
   "cell_type": "code",
   "execution_count": 14,
   "metadata": {
    "pycharm": {
     "name": "#%%\n"
    }
   },
   "outputs": [
    {
     "name": "stdout",
     "output_type": "stream",
     "text": [
      "536 µs ± 12.7 ns per loop (mean ± std. dev. of 7 runs, 1000 loops each)\n"
     ]
    }
   ],
   "source": [
    "# iadd with assignment\n",
    "out = %timeit -o a[...] += b[...]\n",
    "df.at[\"iadd\", column] = 1000 * out.average"
   ]
  },
  {
   "cell_type": "code",
   "execution_count": 15,
   "metadata": {},
   "outputs": [
    {
     "name": "stdout",
     "output_type": "stream",
     "text": [
      "20.2 µs ± 11.2 µs per loop (mean ± std. dev. of 7 runs, 1 loop each)\n"
     ]
    }
   ],
   "source": [
    "# sub\n",
    "out = %timeit -o c = a - b"
   ]
  },
  {
   "cell_type": "code",
   "execution_count": 16,
   "metadata": {},
   "outputs": [
    {
     "name": "stdout",
     "output_type": "stream",
     "text": [
      "921 µs ± 20 ns per loop (mean ± std. dev. of 7 runs, 1000 loops each)\n"
     ]
    }
   ],
   "source": [
    "# sub with assignment\n",
    "out = %timeit -o c[...] = a[...] - b[...]\n",
    "df.at[\"sub\", column] = 1000 * out.average"
   ]
  },
  {
   "cell_type": "code",
   "execution_count": 17,
   "metadata": {},
   "outputs": [
    {
     "name": "stdout",
     "output_type": "stream",
     "text": [
      "536 µs ± 15.1 ns per loop (mean ± std. dev. of 7 runs, 1000 loops each)\n"
     ]
    }
   ],
   "source": [
    "# isub with assignment\n",
    "out = %timeit -o a[...] -= b[...]\n",
    "df.at[\"isub\", column] = 1000 * out.average"
   ]
  },
  {
   "cell_type": "code",
   "execution_count": 18,
   "metadata": {
    "pycharm": {
     "name": "#%%\n"
    }
   },
   "outputs": [
    {
     "name": "stdout",
     "output_type": "stream",
     "text": [
      "19.9 µs ± 10.9 µs per loop (mean ± std. dev. of 7 runs, 1 loop each)\n"
     ]
    }
   ],
   "source": [
    "# mul\n",
    "out = %timeit -o c = a * b"
   ]
  },
  {
   "cell_type": "code",
   "execution_count": 19,
   "metadata": {
    "pycharm": {
     "name": "#%%\n"
    }
   },
   "outputs": [
    {
     "name": "stdout",
     "output_type": "stream",
     "text": [
      "921 µs ± 17.3 ns per loop (mean ± std. dev. of 7 runs, 1000 loops each)\n"
     ]
    }
   ],
   "source": [
    "# mul with assignment\n",
    "out = %timeit -o c[...] = a[...] * b[...]\n",
    "df.at[\"mul\", column] = 1000 * out.average"
   ]
  },
  {
   "cell_type": "code",
   "execution_count": 20,
   "metadata": {
    "pycharm": {
     "name": "#%%\n"
    }
   },
   "outputs": [
    {
     "name": "stdout",
     "output_type": "stream",
     "text": [
      "536 µs ± 10.5 ns per loop (mean ± std. dev. of 7 runs, 1000 loops each)\n"
     ]
    }
   ],
   "source": [
    "# imul with assignment\n",
    "out = %timeit -o a[...] *= b[...]\n",
    "df.at[\"imul\", column] = 1000 * out.average"
   ]
  },
  {
   "cell_type": "code",
   "execution_count": 21,
   "metadata": {},
   "outputs": [
    {
     "name": "stdout",
     "output_type": "stream",
     "text": [
      "1.07 ms ± 16.8 ns per loop (mean ± std. dev. of 7 runs, 1000 loops each)\n"
     ]
    }
   ],
   "source": [
    "# addsub\n",
    "out = %timeit -o d = a + b - c"
   ]
  },
  {
   "cell_type": "code",
   "execution_count": 22,
   "metadata": {},
   "outputs": [
    {
     "name": "stdout",
     "output_type": "stream",
     "text": [
      "1.6 ms ± 249 µs per loop (mean ± std. dev. of 7 runs, 100 loops each)\n"
     ]
    }
   ],
   "source": [
    "# addsub with assignment\n",
    "out = %timeit -o d[...] = a[...] + b[...] - c[...]\n",
    "df.at[\"addsub\", column] = 1000 * out.average"
   ]
  },
  {
   "cell_type": "code",
   "execution_count": 23,
   "metadata": {},
   "outputs": [
    {
     "name": "stdout",
     "output_type": "stream",
     "text": [
      "1.07 ms ± 21.3 ns per loop (mean ± std. dev. of 7 runs, 1000 loops each)\n"
     ]
    }
   ],
   "source": [
    "# iaddsub with assignment\n",
    "out = %timeit -o a[...] += b[...] - c[...]\n",
    "df.at[\"iaddsub\", column] = 1000 * out.average"
   ]
  },
  {
   "cell_type": "code",
   "execution_count": 24,
   "metadata": {},
   "outputs": [
    {
     "name": "stdout",
     "output_type": "stream",
     "text": [
      "74.8 µs ± 13.6 µs per loop (mean ± std. dev. of 7 runs, 1 loop each)\n"
     ]
    }
   ],
   "source": [
    "# fma\n",
    "out = %timeit -o c = a + f * b"
   ]
  },
  {
   "cell_type": "code",
   "execution_count": 25,
   "metadata": {},
   "outputs": [
    {
     "name": "stdout",
     "output_type": "stream",
     "text": [
      "1.29 ms ± 39.3 ns per loop (mean ± std. dev. of 7 runs, 1000 loops each)\n"
     ]
    }
   ],
   "source": [
    "# fma with assignment\n",
    "out = %timeit -o c[...] = a[...] + f * b[...]\n",
    "df.at[\"fma\", column] = 1000 * out.average"
   ]
  },
  {
   "cell_type": "code",
   "execution_count": 26,
   "metadata": {},
   "outputs": [
    {
     "name": "stdout",
     "output_type": "stream",
     "text": [
      "1.81 ms ± 49.2 ns per loop (mean ± std. dev. of 7 runs, 1000 loops each)\n"
     ]
    }
   ],
   "source": [
    "# sts_rk2_0\n",
    "out = %timeit -o d = 0.5 * (a + b + f * c)"
   ]
  },
  {
   "cell_type": "code",
   "execution_count": 27,
   "metadata": {},
   "outputs": [
    {
     "name": "stdout",
     "output_type": "stream",
     "text": [
      "2.24 ms ± 110 µs per loop (mean ± std. dev. of 7 runs, 100 loops each)\n"
     ]
    }
   ],
   "source": [
    "# sts_rk2_0 with assignment\n",
    "out = %timeit -o d[...] = 0.5 * (a[...] + b[...] + f * c[...])\n",
    "df.at[\"sts_rk2_0\", column] = 1000 * out.average"
   ]
  },
  {
   "cell_type": "code",
   "execution_count": 28,
   "metadata": {},
   "outputs": [
    {
     "name": "stdout",
     "output_type": "stream",
     "text": [
      "181 µs ± 25.7 µs per loop (mean ± std. dev. of 7 runs, 1 loop each)\n"
     ]
    }
   ],
   "source": [
    "# sts_rk3ws_0\n",
    "out = %timeit -o d = (2.0 * a + b + f * c) / 3.0"
   ]
  },
  {
   "cell_type": "code",
   "execution_count": 29,
   "metadata": {},
   "outputs": [
    {
     "name": "stdout",
     "output_type": "stream",
     "text": [
      "2.56 ms ± 41.8 ns per loop (mean ± std. dev. of 7 runs, 1000 loops each)\n"
     ]
    }
   ],
   "source": [
    "# sts_rk3ws_0 with assignment\n",
    "out = %timeit -o d[...] = (2.0 * a[...] + b[...] + f * c[...]) / 3.0\n",
    "df.at[\"sts_rk3ws_0\", column] = 1000 * out.average"
   ]
  },
  {
   "cell_type": "markdown",
   "metadata": {},
   "source": [
    "## Serialization"
   ]
  },
  {
   "cell_type": "code",
   "execution_count": 30,
   "metadata": {},
   "outputs": [],
   "source": [
    "if serialize:\n",
    "    df.to_excel(writer, sheet_name=sheetname)\n",
    "    writer.save()"
   ]
  },
  {
   "cell_type": "code",
   "execution_count": 31,
   "metadata": {},
   "outputs": [
    {
     "data": {
      "text/html": [
       "<div>\n",
       "<style scoped>\n",
       "    .dataframe tbody tr th:only-of-type {\n",
       "        vertical-align: middle;\n",
       "    }\n",
       "\n",
       "    .dataframe tbody tr th {\n",
       "        vertical-align: top;\n",
       "    }\n",
       "\n",
       "    .dataframe thead th {\n",
       "        text-align: right;\n",
       "    }\n",
       "</style>\n",
       "<table border=\"1\" class=\"dataframe\">\n",
       "  <thead>\n",
       "    <tr style=\"text-align: right;\">\n",
       "      <th></th>\n",
       "      <th>numpy</th>\n",
       "      <th>numexpr</th>\n",
       "      <th>cupy</th>\n",
       "    </tr>\n",
       "  </thead>\n",
       "  <tbody>\n",
       "    <tr>\n",
       "      <th>copy</th>\n",
       "      <td>9.449362</td>\n",
       "      <td>NaN</td>\n",
       "      <td>0.383272</td>\n",
       "    </tr>\n",
       "    <tr>\n",
       "      <th>copychange</th>\n",
       "      <td>50.337060</td>\n",
       "      <td>20.007233</td>\n",
       "      <td>0.751502</td>\n",
       "    </tr>\n",
       "    <tr>\n",
       "      <th>abs</th>\n",
       "      <td>49.926181</td>\n",
       "      <td>NaN</td>\n",
       "      <td>0.751421</td>\n",
       "    </tr>\n",
       "    <tr>\n",
       "      <th>iabs</th>\n",
       "      <td>50.135189</td>\n",
       "      <td>NaN</td>\n",
       "      <td>0.751514</td>\n",
       "    </tr>\n",
       "    <tr>\n",
       "      <th>add</th>\n",
       "      <td>55.094303</td>\n",
       "      <td>20.875209</td>\n",
       "      <td>0.920538</td>\n",
       "    </tr>\n",
       "    <tr>\n",
       "      <th>iadd</th>\n",
       "      <td>15.295182</td>\n",
       "      <td>NaN</td>\n",
       "      <td>0.535888</td>\n",
       "    </tr>\n",
       "    <tr>\n",
       "      <th>sub</th>\n",
       "      <td>54.904362</td>\n",
       "      <td>20.907313</td>\n",
       "      <td>0.920541</td>\n",
       "    </tr>\n",
       "    <tr>\n",
       "      <th>isub</th>\n",
       "      <td>15.501360</td>\n",
       "      <td>NaN</td>\n",
       "      <td>0.535892</td>\n",
       "    </tr>\n",
       "    <tr>\n",
       "      <th>mul</th>\n",
       "      <td>55.079714</td>\n",
       "      <td>22.223766</td>\n",
       "      <td>0.920547</td>\n",
       "    </tr>\n",
       "    <tr>\n",
       "      <th>imul</th>\n",
       "      <td>18.344740</td>\n",
       "      <td>NaN</td>\n",
       "      <td>0.535890</td>\n",
       "    </tr>\n",
       "    <tr>\n",
       "      <th>addsub</th>\n",
       "      <td>70.138277</td>\n",
       "      <td>24.001181</td>\n",
       "      <td>1.599906</td>\n",
       "    </tr>\n",
       "    <tr>\n",
       "      <th>iaddsub</th>\n",
       "      <td>60.744616</td>\n",
       "      <td>NaN</td>\n",
       "      <td>1.072198</td>\n",
       "    </tr>\n",
       "    <tr>\n",
       "      <th>fma</th>\n",
       "      <td>65.136639</td>\n",
       "      <td>23.211880</td>\n",
       "      <td>1.287835</td>\n",
       "    </tr>\n",
       "    <tr>\n",
       "      <th>sts_rk2_0</th>\n",
       "      <td>121.033543</td>\n",
       "      <td>25.934712</td>\n",
       "      <td>2.235584</td>\n",
       "    </tr>\n",
       "    <tr>\n",
       "      <th>sts_rk3ws_0</th>\n",
       "      <td>146.867368</td>\n",
       "      <td>26.473103</td>\n",
       "      <td>2.560530</td>\n",
       "    </tr>\n",
       "  </tbody>\n",
       "</table>\n",
       "</div>"
      ],
      "text/plain": [
       "                  numpy    numexpr      cupy\n",
       "copy           9.449362        NaN  0.383272\n",
       "copychange    50.337060  20.007233  0.751502\n",
       "abs           49.926181        NaN  0.751421\n",
       "iabs          50.135189        NaN  0.751514\n",
       "add           55.094303  20.875209  0.920538\n",
       "iadd          15.295182        NaN  0.535888\n",
       "sub           54.904362  20.907313  0.920541\n",
       "isub          15.501360        NaN  0.535892\n",
       "mul           55.079714  22.223766  0.920547\n",
       "imul          18.344740        NaN  0.535890\n",
       "addsub        70.138277  24.001181  1.599906\n",
       "iaddsub       60.744616        NaN  1.072198\n",
       "fma           65.136639  23.211880  1.287835\n",
       "sts_rk2_0    121.033543  25.934712  2.235584\n",
       "sts_rk3ws_0  146.867368  26.473103  2.560530"
      ]
     },
     "execution_count": 31,
     "metadata": {},
     "output_type": "execute_result"
    }
   ],
   "source": [
    "df"
   ]
  }
 ],
 "metadata": {
  "kernelspec": {
   "display_name": "Python 3",
   "language": "python",
   "name": "python3"
  },
  "language_info": {
   "codemirror_mode": {
    "name": "ipython",
    "version": 3
   },
   "file_extension": ".py",
   "mimetype": "text/x-python",
   "name": "python",
   "nbconvert_exporter": "python",
   "pygments_lexer": "ipython3",
   "version": "3.6.5"
  },
  "pycharm": {
   "stem_cell": {
    "cell_type": "raw",
    "metadata": {
     "collapsed": false
    },
    "source": []
   }
  }
 },
 "nbformat": 4,
 "nbformat_minor": 4
}
