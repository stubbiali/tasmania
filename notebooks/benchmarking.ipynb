{
 "cells": [
  {
   "cell_type": "markdown",
   "metadata": {},
   "source": [
    "# Benchmarking GT4Py\n",
    "\n",
    "Compare a vanilla Numpy and a GT4Py-powered implementation of some basic mathematical \n",
    "operations."
   ]
  },
  {
   "cell_type": "markdown",
   "metadata": {},
   "source": [
    "## User input"
   ]
  },
  {
   "cell_type": "code",
   "execution_count": null,
   "metadata": {},
   "outputs": [],
   "source": [
    "import numpy as np\n",
    "\n",
    "# gt4py\n",
    "backend = \"gtx86\"\n",
    "dtype = np.float64\n",
    "storage_shape = (321, 321, 120)\n",
    "default_origin = (3, 3, 0)\n",
    "\n",
    "# serialization\n",
    "serialize = True\n",
    "filename = \"timings_mac.xlsx\"\n",
    "sheetname = \"{} x {} x {}\".format(*storage_shape)\n",
    "sheetidx = 0"
   ]
  },
  {
   "cell_type": "markdown",
   "metadata": {},
   "source": [
    "## Data initialization"
   ]
  },
  {
   "cell_type": "code",
   "execution_count": null,
   "metadata": {
    "pycharm": {
     "name": "#%%\n"
    }
   },
   "outputs": [],
   "source": [
    "# install numexpr if needed\n",
    "is_installed = !pip list 2> /dev/null | grep 'numexpr'\n",
    "if not is_installed:\n",
    "    !pip install numexpr"
   ]
  },
  {
   "cell_type": "code",
   "execution_count": null,
   "metadata": {},
   "outputs": [],
   "source": [
    "from copy import deepcopy\n",
    "from gt4py import gtscript, storage as gt_storage\n",
    "import numexpr as ne\n",
    "import numpy as np\n",
    "from tasmania.python.utils.gtscript_utils import (\n",
    "    set_annotations,\n",
    "    stencil_abs_defs,\n",
    "    stencil_iabs_defs,\n",
    "    stencil_copy_defs,\n",
    "    stencil_copychange_defs,\n",
    "    stencil_add_defs,\n",
    "    stencil_iadd_defs,\n",
    "    stencil_sub_defs,\n",
    "    stencil_isub_defs,\n",
    "    stencil_mul_defs,\n",
    "    stencil_imul_defs,\n",
    "    stencil_scale_defs,\n",
    "    stencil_iscale_defs,\n",
    "    stencil_addsub_defs,\n",
    "    stencil_iaddsub_defs,\n",
    "    stencil_fma_defs,\n",
    "    stencil_sts_rk2_0_defs,\n",
    "    stencil_sts_rk3ws_0_defs,\n",
    ")\n",
    "from tasmania.python.utils.storage_utils import zeros\n",
    "\n",
    "a = zeros(storage_shape, backend, dtype, default_origin)\n",
    "a[...] = np.random.rand(*storage_shape)\n",
    "a_dc = deepcopy(a)\n",
    "b = zeros(storage_shape, backend, dtype, default_origin)\n",
    "b[...] = np.random.rand(*storage_shape)\n",
    "c = zeros(storage_shape, backend, dtype, default_origin)\n",
    "c[...] = np.random.rand(*storage_shape)\n",
    "d = zeros(storage_shape, backend, dtype, default_origin)\n",
    "\n",
    "f = np.random.rand(1).item()"
   ]
  },
  {
   "cell_type": "code",
   "execution_count": null,
   "metadata": {
    "pycharm": {
     "name": "#%%\n"
    }
   },
   "outputs": [],
   "source": [
    "# monkey-patching numpy\n",
    "gt_storage.prepare_numpy()"
   ]
  },
  {
   "cell_type": "markdown",
   "metadata": {},
   "source": [
    "## Serialization setup"
   ]
  },
  {
   "cell_type": "code",
   "execution_count": null,
   "metadata": {},
   "outputs": [],
   "source": [
    "if serialize:\n",
    "    # install openpyxl if needed\n",
    "    is_installed = !pip list 2> /dev/null | grep 'openpyxl'\n",
    "    if not is_installed:\n",
    "        !pip install openpyxl==2.6\n",
    "        \n",
    "    from openpyxl import Workbook, load_workbook\n",
    "    from openpyxl.styles import Alignment, Font\n",
    "\n",
    "    # create the spreadsheet if needed\n",
    "    import os\n",
    "    if not os.path.exists(filename):\n",
    "        wb = Workbook()\n",
    "        wb.save(filename=filename)\n",
    "    else:\n",
    "        wb = load_workbook(filename=filename)\n",
    "        \n",
    "    # create the sheet if needed\n",
    "    if sheetname not in wb.sheetnames:\n",
    "        wb.create_sheet(sheetname, sheetidx)\n",
    "        \n",
    "    sheet = wb[sheetname]\n",
    "    \n",
    "    for row in sheet[\"A1:H16\"]:\n",
    "        for cell in row:\n",
    "            cell.alignment = Alignment(horizontal=\"center\")\n",
    "            cell.font = Font(name=\"Calibri\", size=\"14\")\n",
    "\n",
    "    sheet.column_dimensions[\"A\"].width = 20\n",
    "    sheet[\"A2\"]  = \"copy\"\n",
    "    sheet[\"A3\"]  = \"copychange\"\n",
    "    sheet[\"A4\"]  = \"abs\"\n",
    "    sheet[\"A5\"]  = \"iabs\"\n",
    "    sheet[\"A6\"]  = \"add\"\n",
    "    sheet[\"A7\"]  = \"iadd\"\n",
    "    sheet[\"A8\"]  = \"sub\"\n",
    "    sheet[\"A9\"]  = \"isub\"\n",
    "    sheet[\"A10\"] = \"mul\"\n",
    "    sheet[\"A11\"] = \"imul\"\n",
    "    sheet[\"A12\"] = \"addsub\"\n",
    "    sheet[\"A13\"] = \"iaddsub\"\n",
    "    sheet[\"A14\"] = \"fma\"\n",
    "    sheet[\"A15\"] = \"sts_rk2_0\"\n",
    "    sheet[\"A16\"] = \"sts_rk3ws_0\"\n",
    "\n",
    "    sheet.column_dimensions[\"B\"].width = 20\n",
    "    sheet[\"B1\"] = \"numpy\"\n",
    "    sheet.column_dimensions[\"C\"].width = 20\n",
    "    sheet[\"C1\"] = \"numexpr\"\n",
    "    sheet.column_dimensions[\"D\"].width = 20\n",
    "    sheet[\"D1\"] = \"gtdebug\"\n",
    "    sheet.column_dimensions[\"E\"].width = 20\n",
    "    sheet[\"E1\"] = \"gtnumpy\"\n",
    "    sheet.column_dimensions[\"F\"].width = 20\n",
    "    sheet[\"F1\"] = \"gtx86\"\n",
    "    sheet.column_dimensions[\"G\"].width = 20\n",
    "    sheet[\"G1\"] = \"gtmc\"\n",
    "    sheet.column_dimensions[\"H\"].width = 20\n",
    "    sheet[\"H1\"] = \"gtcuda\"\n",
    "    \n",
    "    # save\n",
    "    wb.save(filename=filename)"
   ]
  },
  {
   "cell_type": "code",
   "execution_count": null,
   "metadata": {},
   "outputs": [],
   "source": [
    "rows = {\n",
    "    \"copy\":         2,\n",
    "    \"copychange\":   3,\n",
    "    \"abs\":          4,\n",
    "    \"iabs\":         5,\n",
    "    \"add\":          6,\n",
    "    \"iadd\":         7,\n",
    "    \"sub\":          8,\n",
    "    \"isub\":         9,\n",
    "    \"mul\":         10,\n",
    "    \"imul\":        11,\n",
    "    \"addsub\":      12,\n",
    "    \"iaddsub\":     13,\n",
    "    \"fma\":         14,\n",
    "    \"sts_rk2_0\":   15,\n",
    "    \"sts_rk3ws_0\": 16\n",
    "}\n",
    "cols = {\n",
    "    \"vanilla_numpy\": \"B\",\n",
    "    \"numexpr\":       \"C\",\n",
    "    \"debug\":         \"D\",\n",
    "    \"numpy\":         \"E\",\n",
    "    \"gtx86\":         \"F\",\n",
    "    \"gtmc\":          \"G\",\n",
    "    \"gtcuda\":        \"H\"\n",
    "}"
   ]
  },
  {
   "cell_type": "markdown",
   "metadata": {},
   "source": [
    "## copy"
   ]
  },
  {
   "cell_type": "code",
   "execution_count": null,
   "metadata": {},
   "outputs": [],
   "source": [
    "# numpy\n",
    "out = %timeit -o a[...] = b[...]\n",
    "out\n",
    "\n",
    "if serialize:\n",
    "    sheet[\"{}{}\".format(cols[\"vanilla_numpy\"], rows[\"copy\"])].value = 1000. * out.average\n",
    "    wb.save(filename=filename)"
   ]
  },
  {
   "cell_type": "code",
   "execution_count": null,
   "metadata": {},
   "outputs": [],
   "source": [
    "# gt4py\n",
    "set_annotations(stencil_copy_defs, dtype)\n",
    "stencil_copy = gtscript.stencil(\n",
    "    backend=backend, definition=stencil_copy_defs, rebuild=False\n",
    ")\n",
    "\n",
    "out = %timeit -o stencil_copy(src=b, dst=a, origin=(0, 0, 0), domain=storage_shape)\n",
    "out\n",
    "\n",
    "if serialize:\n",
    "    sheet[\"{}{}\".format(cols[backend], rows[\"copy\"])].value = 1000. * out.average\n",
    "    wb.save(filename=filename)"
   ]
  },
  {
   "cell_type": "markdown",
   "metadata": {},
   "source": [
    "## copychange"
   ]
  },
  {
   "cell_type": "code",
   "execution_count": null,
   "metadata": {},
   "outputs": [],
   "source": [
    "# numpy\n",
    "out = %timeit -o a[...] = - b[...]\n",
    "out\n",
    "\n",
    "if serialize:\n",
    "    sheet[\"{}{}\".format(cols[\"vanilla_numpy\"], rows[\"copychange\"])].value = 1000. * out.average\n",
    "    wb.save(filename=filename)"
   ]
  },
  {
   "cell_type": "code",
   "execution_count": null,
   "metadata": {
    "pycharm": {
     "name": "#%%\n"
    }
   },
   "outputs": [],
   "source": [
    "# numexpr with assignment\n",
    "%timeit c[...] = ne.evaluate(\"-b\")"
   ]
  },
  {
   "cell_type": "code",
   "execution_count": null,
   "metadata": {
    "pycharm": {
     "name": "#%%\n"
    }
   },
   "outputs": [],
   "source": [
    "# numexpr\n",
    "out = %timeit -o c = ne.evaluate(\"-b\")\n",
    "out\n",
    "\n",
    "if serialize:\n",
    "    sheet[\"{}{}\".format(cols[\"numexpr\"], rows[\"copychange\"])].value = 1000. * out.average\n",
    "    wb.save(filename=filename)"
   ]
  },
  {
   "cell_type": "code",
   "execution_count": null,
   "metadata": {},
   "outputs": [],
   "source": [
    "# gt4py\n",
    "set_annotations(stencil_copychange_defs, dtype)\n",
    "stencil_copychange = gtscript.stencil(\n",
    "    backend=backend, definition=stencil_copychange_defs, rebuild=False\n",
    ")\n",
    "\n",
    "out = %timeit -o stencil_copychange(src=b, dst=a, origin=(0, 0, 0), domain=storage_shape)\n",
    "out\n",
    "\n",
    "if serialize:\n",
    "    sheet[\"{}{}\".format(cols[backend], rows[\"copychange\"])].value = 1000. * out.average\n",
    "    wb.save(filename=filename)"
   ]
  },
  {
   "cell_type": "markdown",
   "metadata": {},
   "source": [
    "## abs"
   ]
  },
  {
   "cell_type": "code",
   "execution_count": null,
   "metadata": {},
   "outputs": [],
   "source": [
    "# numpy\n",
    "out = %timeit -o b[...] = np.abs(a.data)\n",
    "out\n",
    "\n",
    "if serialize:\n",
    "    sheet[\"{}{}\".format(cols[\"vanilla_numpy\"], rows[\"abs\"])].value = 1000. * out.average\n",
    "    wb.save(filename=filename)"
   ]
  },
  {
   "cell_type": "code",
   "execution_count": null,
   "metadata": {
    "scrolled": true
   },
   "outputs": [],
   "source": [
    "# gt4py\n",
    "set_annotations(stencil_abs_defs, dtype)\n",
    "stencil_abs = gtscript.stencil(\n",
    "    backend=backend, definition=stencil_abs_defs, rebuild=False\n",
    ")\n",
    "\n",
    "out = %timeit -o stencil_abs(a, b, origin=(0, 0, 0), domain=storage_shape)\n",
    "out\n",
    "\n",
    "if serialize:\n",
    "    sheet[\"{}{}\".format(cols[backend], rows[\"abs\"])].value = 1000. * out.average\n",
    "    wb.save(filename=filename)"
   ]
  },
  {
   "cell_type": "code",
   "execution_count": null,
   "metadata": {},
   "outputs": [],
   "source": [
    "# gt4py: make origin coincide with default_origin\n",
    "domain = tuple(s - 2*d for s, d in zip(storage_shape, default_origin))\n",
    "%timeit stencil_abs(a, b, origin=default_origin, domain=domain)"
   ]
  },
  {
   "cell_type": "markdown",
   "metadata": {},
   "source": [
    "## iabs"
   ]
  },
  {
   "cell_type": "code",
   "execution_count": null,
   "metadata": {},
   "outputs": [],
   "source": [
    "# numpy\n",
    "out = %timeit -o a[...] = np.abs(a.data)\n",
    "out\n",
    "\n",
    "if serialize:\n",
    "    sheet[\"{}{}\".format(cols[\"vanilla_numpy\"], rows[\"iabs\"])].value = 1000. * out.average\n",
    "    wb.save(filename=filename)"
   ]
  },
  {
   "cell_type": "code",
   "execution_count": null,
   "metadata": {
    "scrolled": true
   },
   "outputs": [],
   "source": [
    "# gt4py\n",
    "a[...] = a_dc[...]\n",
    "\n",
    "set_annotations(stencil_iabs_defs, dtype)\n",
    "stencil_iabs = gtscript.stencil(\n",
    "    backend=backend, definition=stencil_iabs_defs, rebuild=False\n",
    ")\n",
    "\n",
    "out = %timeit -o stencil_iabs(a, origin=(0, 0, 0), domain=storage_shape)\n",
    "out\n",
    "\n",
    "if serialize:\n",
    "    sheet[\"{}{}\".format(cols[backend], rows[\"iabs\"])].value = 1000. * out.average\n",
    "    wb.save(filename=filename)"
   ]
  },
  {
   "cell_type": "code",
   "execution_count": null,
   "metadata": {},
   "outputs": [],
   "source": [
    "# gt4py: make origin coincide with default_origin\n",
    "a[...] = a_dc[...]\n",
    "domain = tuple(s - 2*d for s, d in zip(storage_shape, default_origin))\n",
    "%timeit stencil_iabs(a, origin=default_origin, domain=domain)"
   ]
  },
  {
   "cell_type": "markdown",
   "metadata": {},
   "source": [
    "## add"
   ]
  },
  {
   "cell_type": "code",
   "execution_count": null,
   "metadata": {
    "pycharm": {
     "name": "#%%\n"
    }
   },
   "outputs": [],
   "source": [
    "# numpy\n",
    "out = %timeit -o c[...] = a[...] + b[...]\n",
    "out\n",
    "\n",
    "if serialize:\n",
    "    sheet[\"{}{}\".format(cols[\"vanilla_numpy\"], rows[\"add\"])].value = 1000. * out.average\n",
    "    wb.save(filename=filename)"
   ]
  },
  {
   "cell_type": "code",
   "execution_count": null,
   "metadata": {
    "pycharm": {
     "name": "#%%\n"
    }
   },
   "outputs": [],
   "source": [
    "# numexpr with assignment\n",
    "%timeit c[...] = ne.evaluate(\"a + b\")"
   ]
  },
  {
   "cell_type": "code",
   "execution_count": null,
   "metadata": {
    "pycharm": {
     "name": "#%%\n"
    }
   },
   "outputs": [],
   "source": [
    "# numexpr\n",
    "out = %timeit -o c = ne.evaluate(\"a + b\")\n",
    "out\n",
    "\n",
    "if serialize:\n",
    "    sheet[\"{}{}\".format(cols[\"numexpr\"], rows[\"add\"])].value = 1000. * out.average\n",
    "    wb.save(filename=filename)"
   ]
  },
  {
   "cell_type": "code",
   "execution_count": null,
   "metadata": {
    "pycharm": {
     "name": "#%%\n"
    }
   },
   "outputs": [],
   "source": [
    "# gt4py\n",
    "set_annotations(stencil_add_defs, dtype)\n",
    "stencil_add = gtscript.stencil(\n",
    "    backend=backend, definition=stencil_add_defs, rebuild=False\n",
    ")\n",
    "\n",
    "out = %timeit -o stencil_add(in_a=a, in_b=b, out_c=c, origin=(0, 0, 0), domain=storage_shape)\n",
    "out\n",
    "\n",
    "if serialize:\n",
    "    sheet[\"{}{}\".format(cols[backend], rows[\"add\"])].value = 1000. * out.average\n",
    "    wb.save(filename=filename)"
   ]
  },
  {
   "cell_type": "code",
   "execution_count": null,
   "metadata": {
    "pycharm": {
     "name": "#%%\n"
    }
   },
   "outputs": [],
   "source": [
    "# gt4py: make origin coincide with default_origin\n",
    "domain = tuple(s - 2*d for s, d in zip(storage_shape, default_origin))\n",
    "%timeit stencil_add(in_a=a, in_b=b, out_c=c, origin=default_origin, domain=domain)"
   ]
  },
  {
   "cell_type": "markdown",
   "metadata": {},
   "source": [
    "## iadd"
   ]
  },
  {
   "cell_type": "code",
   "execution_count": null,
   "metadata": {
    "pycharm": {
     "name": "#%%\n"
    }
   },
   "outputs": [],
   "source": [
    "# numpy\n",
    "out = %timeit -o a[...] += b[...]\n",
    "out\n",
    "\n",
    "if serialize:\n",
    "    sheet[\"{}{}\".format(cols[\"vanilla_numpy\"], rows[\"iadd\"])].value = 1000. * out.average\n",
    "    wb.save(filename=filename)"
   ]
  },
  {
   "cell_type": "code",
   "execution_count": null,
   "metadata": {
    "pycharm": {
     "name": "#%%\n"
    }
   },
   "outputs": [],
   "source": [
    "# gt4py\n",
    "a[...] = a_dc[...]\n",
    "\n",
    "set_annotations(stencil_iadd_defs, dtype)\n",
    "stencil_iadd = gtscript.stencil(\n",
    "    backend=backend, definition=stencil_iadd_defs, rebuild=False\n",
    ")\n",
    "\n",
    "out = %timeit -o stencil_iadd(inout_a=a, in_b=b, origin=(0, 0, 0), domain=storage_shape)\n",
    "out\n",
    "\n",
    "if serialize:\n",
    "    sheet[\"{}{}\".format(cols[backend], rows[\"iadd\"])].value = 1000. * out.average\n",
    "    wb.save(filename=filename)"
   ]
  },
  {
   "cell_type": "code",
   "execution_count": null,
   "metadata": {
    "pycharm": {
     "name": "#%%\n"
    }
   },
   "outputs": [],
   "source": [
    "# gt4py: make origin coincide with default_origin\n",
    "a[...] = a_dc[...]\n",
    "domain = tuple(s - 2*d for s, d in zip(storage_shape, default_origin))\n",
    "%timeit stencil_iadd(inout_a=a, in_b=b, origin=default_origin, domain=domain)"
   ]
  },
  {
   "cell_type": "markdown",
   "metadata": {},
   "source": [
    "## sub"
   ]
  },
  {
   "cell_type": "code",
   "execution_count": null,
   "metadata": {},
   "outputs": [],
   "source": [
    "# numpy\n",
    "out = %timeit -o c[...] = a[...] - b[...]\n",
    "out\n",
    "\n",
    "if serialize:\n",
    "    sheet[\"{}{}\".format(cols[\"vanilla_numpy\"], rows[\"sub\"])].value = 1000. * out.average\n",
    "    wb.save(filename=filename)"
   ]
  },
  {
   "cell_type": "code",
   "execution_count": null,
   "metadata": {
    "pycharm": {
     "name": "#%%\n"
    }
   },
   "outputs": [],
   "source": [
    "# numexpr with assignment\n",
    "%timeit c[...] = ne.evaluate(\"a - b\")"
   ]
  },
  {
   "cell_type": "code",
   "execution_count": null,
   "metadata": {
    "pycharm": {
     "name": "#%%\n"
    }
   },
   "outputs": [],
   "source": [
    "# numexpr\n",
    "out = %timeit -o c = ne.evaluate(\"a - b\")\n",
    "out\n",
    "\n",
    "if serialize:\n",
    "    sheet[\"{}{}\".format(cols[\"numexpr\"], rows[\"sub\"])].value = 1000. * out.average\n",
    "    wb.save(filename=filename)"
   ]
  },
  {
   "cell_type": "code",
   "execution_count": null,
   "metadata": {
    "pycharm": {
     "name": "#%%\n"
    }
   },
   "outputs": [],
   "source": [
    "# gt4py\n",
    "set_annotations(stencil_sub_defs, dtype)\n",
    "stencil_sub = gtscript.stencil(\n",
    "    backend=backend, definition=stencil_sub_defs, rebuild=False\n",
    ")\n",
    "\n",
    "out = %timeit -o stencil_sub(in_a=a, in_b=b, out_c=c, origin=(0, 0, 0), domain=storage_shape)\n",
    "out\n",
    "\n",
    "if serialize:\n",
    "    sheet[\"{}{}\".format(cols[backend], rows[\"sub\"])].value = 1000. * out.average\n",
    "    wb.save(filename=filename)"
   ]
  },
  {
   "cell_type": "code",
   "execution_count": null,
   "metadata": {},
   "outputs": [],
   "source": [
    "# gt4py: make origin coincide with default_origin\n",
    "domain = tuple(s - 2*d for s, d in zip(storage_shape, default_origin))\n",
    "%timeit stencil_sub(in_a=a, in_b=b, out_c=c, origin=default_origin, domain=domain)"
   ]
  },
  {
   "cell_type": "markdown",
   "metadata": {},
   "source": [
    "## isub"
   ]
  },
  {
   "cell_type": "code",
   "execution_count": null,
   "metadata": {},
   "outputs": [],
   "source": [
    "# numpy\n",
    "out = %timeit -o a[...] -= b[...]\n",
    "out\n",
    "\n",
    "if serialize:\n",
    "    sheet[\"{}{}\".format(cols[\"vanilla_numpy\"], rows[\"isub\"])].value = 1000. * out.average\n",
    "    wb.save(filename=filename)"
   ]
  },
  {
   "cell_type": "code",
   "execution_count": null,
   "metadata": {},
   "outputs": [],
   "source": [
    "# gt4py\n",
    "a[...] = a_dc[...]\n",
    "\n",
    "set_annotations(stencil_isub_defs, dtype)\n",
    "stencil_isub = gtscript.stencil(\n",
    "    backend=backend, definition=stencil_isub_defs, rebuild=False\n",
    ")\n",
    "\n",
    "out = %timeit -o stencil_isub(inout_a=a, in_b=b, origin=(0, 0, 0), domain=storage_shape)\n",
    "out\n",
    "\n",
    "if serialize:\n",
    "    sheet[\"{}{}\".format(cols[backend], rows[\"isub\"])].value = 1000. * out.average\n",
    "    wb.save(filename=filename)"
   ]
  },
  {
   "cell_type": "code",
   "execution_count": null,
   "metadata": {
    "pycharm": {
     "name": "#%%\n"
    }
   },
   "outputs": [],
   "source": [
    "# gt4py: make origin coincide with default_origin\n",
    "a[...] = a_dc[...]\n",
    "domain = tuple(s - 2*d for s, d in zip(storage_shape, default_origin))\n",
    "%timeit stencil_isub(inout_a=a, in_b=b, origin=default_origin, domain=domain)"
   ]
  },
  {
   "cell_type": "markdown",
   "metadata": {},
   "source": [
    "## mul"
   ]
  },
  {
   "cell_type": "code",
   "execution_count": null,
   "metadata": {
    "pycharm": {
     "name": "#%%\n"
    }
   },
   "outputs": [],
   "source": [
    "# numpy\n",
    "out = %timeit -o c[...] = a[...] * b[...]\n",
    "out\n",
    "\n",
    "if serialize:\n",
    "    sheet[\"{}{}\".format(cols[\"vanilla_numpy\"], rows[\"mul\"])].value = 1000. * out.average\n",
    "    wb.save(filename=filename)"
   ]
  },
  {
   "cell_type": "code",
   "execution_count": null,
   "metadata": {
    "pycharm": {
     "name": "#%%\n"
    }
   },
   "outputs": [],
   "source": [
    "# numexpr with assignment\n",
    "%timeit c[...] = ne.evaluate(\"a * b\")"
   ]
  },
  {
   "cell_type": "code",
   "execution_count": null,
   "metadata": {
    "pycharm": {
     "name": "#%%\n"
    }
   },
   "outputs": [],
   "source": [
    "# numexpr\n",
    "out = %timeit -o c = ne.evaluate(\"a * b\")\n",
    "out\n",
    "\n",
    "if serialize:\n",
    "    sheet[\"{}{}\".format(cols[\"numexpr\"], rows[\"mul\"])].value = 1000. * out.average\n",
    "    wb.save(filename=filename)"
   ]
  },
  {
   "cell_type": "code",
   "execution_count": null,
   "metadata": {
    "pycharm": {
     "name": "#%%\n"
    }
   },
   "outputs": [],
   "source": [
    "# gt4py\n",
    "set_annotations(stencil_mul_defs, dtype)\n",
    "stencil_mul = gtscript.stencil(\n",
    "    backend=backend, definition=stencil_mul_defs, rebuild=False\n",
    ")\n",
    "\n",
    "out = %timeit -o stencil_mul(in_a=a, in_b=b, out_c=c, origin=(0, 0, 0), domain=storage_shape)\n",
    "out\n",
    "\n",
    "if serialize:\n",
    "    sheet[\"{}{}\".format(cols[backend], rows[\"mul\"])].value = 1000. * out.average\n",
    "    wb.save(filename=filename)"
   ]
  },
  {
   "cell_type": "code",
   "execution_count": null,
   "metadata": {
    "pycharm": {
     "name": "#%%\n"
    }
   },
   "outputs": [],
   "source": [
    "# gt4py: make origin coincide with default_origin\n",
    "domain = tuple(s - 2*d for s, d in zip(storage_shape, default_origin))\n",
    "%timeit stencil_mul(in_a=a, in_b=b, out_c=c, origin=default_origin, domain=domain)"
   ]
  },
  {
   "cell_type": "markdown",
   "metadata": {},
   "source": [
    "## imul"
   ]
  },
  {
   "cell_type": "code",
   "execution_count": null,
   "metadata": {
    "pycharm": {
     "name": "#%%\n"
    }
   },
   "outputs": [],
   "source": [
    "# numpy\n",
    "out = %timeit -o a[...] *= b[...]\n",
    "out\n",
    "\n",
    "if serialize:\n",
    "    sheet[\"{}{}\".format(cols[\"vanilla_numpy\"], rows[\"imul\"])].value = 1000. * out.average\n",
    "    wb.save(filename=filename)"
   ]
  },
  {
   "cell_type": "code",
   "execution_count": null,
   "metadata": {
    "pycharm": {
     "name": "#%%\n"
    }
   },
   "outputs": [],
   "source": [
    "# gt4py\n",
    "a[...] = a_dc[...]\n",
    "\n",
    "set_annotations(stencil_imul_defs, dtype)\n",
    "stencil_imul = gtscript.stencil(\n",
    "    backend=backend, definition=stencil_imul_defs, rebuild=False\n",
    ")\n",
    "\n",
    "out = %timeit -o stencil_imul(inout_a=a, in_b=b, origin=(0, 0, 0), domain=storage_shape)\n",
    "out\n",
    "\n",
    "if serialize:\n",
    "    sheet[\"{}{}\".format(cols[backend], rows[\"imul\"])].value = 1000. * out.average\n",
    "    wb.save(filename=filename)"
   ]
  },
  {
   "cell_type": "code",
   "execution_count": null,
   "metadata": {
    "pycharm": {
     "name": "#%%\n"
    }
   },
   "outputs": [],
   "source": [
    "# gt4py: make origin coincide with default_origin\n",
    "a[...] = a_dc[...]\n",
    "domain = tuple(s - 2*d for s, d in zip(storage_shape, default_origin))\n",
    "%timeit stencil_imul(inout_a=a, in_b=b, origin=default_origin, domain=domain)"
   ]
  },
  {
   "cell_type": "markdown",
   "metadata": {},
   "source": [
    "## addsub"
   ]
  },
  {
   "cell_type": "code",
   "execution_count": null,
   "metadata": {},
   "outputs": [],
   "source": [
    "# numpy\n",
    "out = %timeit -o d[...] = a[...] + b[...] - c[...]\n",
    "out\n",
    "\n",
    "if serialize:\n",
    "    sheet[\"{}{}\".format(cols[\"vanilla_numpy\"], rows[\"addsub\"])].value = 1000. * out.average\n",
    "    wb.save(filename=filename)"
   ]
  },
  {
   "cell_type": "code",
   "execution_count": null,
   "metadata": {
    "pycharm": {
     "name": "#%%\n"
    }
   },
   "outputs": [],
   "source": [
    "# numexpr with assignment\n",
    "%timeit d[...] = ne.evaluate(\"a + b - c\")"
   ]
  },
  {
   "cell_type": "code",
   "execution_count": null,
   "metadata": {
    "pycharm": {
     "name": "#%%\n"
    }
   },
   "outputs": [],
   "source": [
    "# numexpr\n",
    "out = %timeit -o d = ne.evaluate(\"a + b - c\")\n",
    "out\n",
    "\n",
    "if serialize:\n",
    "    sheet[\"{}{}\".format(cols[\"numexpr\"], rows[\"addsub\"])].value = 1000. * out.average\n",
    "    wb.save(filename=filename)"
   ]
  },
  {
   "cell_type": "code",
   "execution_count": null,
   "metadata": {},
   "outputs": [],
   "source": [
    "# gt4py\n",
    "set_annotations(stencil_addsub_defs, dtype)\n",
    "stencil_addsub = gtscript.stencil(\n",
    "    backend=backend, definition=stencil_addsub_defs, rebuild=False\n",
    ")\n",
    "\n",
    "out = %timeit -o stencil_addsub(in_a=a, in_b=b, in_c=c, out_d=d, origin=(0, 0, 0), domain=storage_shape)\n",
    "out\n",
    "\n",
    "if serialize:\n",
    "    sheet[\"{}{}\".format(cols[backend], rows[\"addsub\"])].value = 1000. * out.average\n",
    "    wb.save(filename=filename)"
   ]
  },
  {
   "cell_type": "code",
   "execution_count": null,
   "metadata": {},
   "outputs": [],
   "source": [
    "# gt4py: make origin coincide with default_origin\n",
    "domain = tuple(s - 2*d for s, d in zip(storage_shape, default_origin))\n",
    "%timeit stencil_addsub(in_a=a, in_b=b, in_c=c, out_d=d, origin=default_origin, domain=domain)"
   ]
  },
  {
   "cell_type": "markdown",
   "metadata": {},
   "source": [
    "## iaddsub"
   ]
  },
  {
   "cell_type": "code",
   "execution_count": null,
   "metadata": {},
   "outputs": [],
   "source": [
    "# numpy\n",
    "out = %timeit -o a[...] += b[...] - c[...]\n",
    "out\n",
    "\n",
    "if serialize:\n",
    "    sheet[\"{}{}\".format(cols[\"vanilla_numpy\"], rows[\"iaddsub\"])].value = 1000. * out.average\n",
    "    wb.save(filename=filename)"
   ]
  },
  {
   "cell_type": "code",
   "execution_count": null,
   "metadata": {},
   "outputs": [],
   "source": [
    "# gt4py\n",
    "a[...] = a_dc[...]\n",
    "\n",
    "stencil_iaddsub = gtscript.stencil(\n",
    "    backend=backend, definition=stencil_iaddsub_defs, rebuild=False\n",
    ")\n",
    "\n",
    "out = %timeit -o stencil_iaddsub(inout_a=a, in_b=b, in_c=c, origin=(0, 0, 0), domain=storage_shape)\n",
    "out\n",
    "\n",
    "if serialize:\n",
    "    sheet[\"{}{}\".format(cols[backend], rows[\"iaddsub\"])].value = 1000. * out.average\n",
    "    wb.save(filename=filename)"
   ]
  },
  {
   "cell_type": "code",
   "execution_count": null,
   "metadata": {},
   "outputs": [],
   "source": [
    "# gt4py: make origin coincide with default_origin\n",
    "a[...] = a_dc[...]\n",
    "domain = tuple(s - 2*d for s, d in zip(storage_shape, default_origin))\n",
    "%timeit stencil_iaddsub(inout_a=a, in_b=b, in_c=c, origin=default_origin, domain=domain)"
   ]
  },
  {
   "cell_type": "markdown",
   "metadata": {},
   "source": [
    "## fma"
   ]
  },
  {
   "cell_type": "code",
   "execution_count": null,
   "metadata": {},
   "outputs": [],
   "source": [
    "# numpy\n",
    "out = %timeit -o c[...] = a[...] + f * b[...]\n",
    "out\n",
    "\n",
    "if serialize:\n",
    "    sheet[\"{}{}\".format(cols[\"vanilla_numpy\"], rows[\"fma\"])].value = 1000. * out.average\n",
    "    wb.save(filename=filename)"
   ]
  },
  {
   "cell_type": "code",
   "execution_count": null,
   "metadata": {
    "pycharm": {
     "name": "#%%\n"
    }
   },
   "outputs": [],
   "source": [
    "# numexpr with assignment\n",
    "%timeit c[...] = ne.evaluate(\"a + f * b\")"
   ]
  },
  {
   "cell_type": "code",
   "execution_count": null,
   "metadata": {
    "pycharm": {
     "name": "#%%\n"
    }
   },
   "outputs": [],
   "source": [
    "# numexpr\n",
    "out = %timeit -o c = ne.evaluate(\"a + f * b\")\n",
    "out\n",
    "\n",
    "if serialize:\n",
    "    sheet[\"{}{}\".format(cols[\"numexpr\"], rows[\"fma\"])].value = 1000. * out.average\n",
    "    wb.save(filename=filename)"
   ]
  },
  {
   "cell_type": "code",
   "execution_count": null,
   "metadata": {},
   "outputs": [],
   "source": [
    "# gt4py\n",
    "set_annotations(stencil_fma_defs, dtype)\n",
    "stencil_fma = gtscript.stencil(\n",
    "    backend=backend, definition=stencil_fma_defs, rebuild=False\n",
    ")\n",
    "\n",
    "out = %timeit -o stencil_fma(in_a=a, in_b=b, out_c=c, f=f, origin=(0, 0, 0), domain=storage_shape)\n",
    "out\n",
    "\n",
    "if serialize:\n",
    "    sheet[\"{}{}\".format(cols[backend], rows[\"fma\"])].value = 1000. * out.average\n",
    "    wb.save(filename=filename)"
   ]
  },
  {
   "cell_type": "code",
   "execution_count": null,
   "metadata": {},
   "outputs": [],
   "source": [
    "# gt4py: make origin coincide with default_origin\n",
    "domain = tuple(s - 2*d for s, d in zip(storage_shape, default_origin))\n",
    "%timeit stencil_fma(in_a=a, in_b=b, out_c=c, f=f, origin=default_origin, domain=domain)"
   ]
  },
  {
   "cell_type": "markdown",
   "metadata": {},
   "source": [
    "## sts_rk2_0"
   ]
  },
  {
   "cell_type": "code",
   "execution_count": null,
   "metadata": {},
   "outputs": [],
   "source": [
    "# numpy\n",
    "out = %timeit -o d[...] = 0.5 * (a[...] + b[...] + f * c[...])\n",
    "out\n",
    "\n",
    "if serialize:\n",
    "    sheet[\"{}{}\".format(cols[\"vanilla_numpy\"], rows[\"sts_rk2_0\"])].value = 1000. * out.average\n",
    "    wb.save(filename=filename)"
   ]
  },
  {
   "cell_type": "code",
   "execution_count": null,
   "metadata": {
    "pycharm": {
     "name": "#%%\n"
    }
   },
   "outputs": [],
   "source": [
    "# numexpr with assignment\n",
    "%timeit d[...] = ne.evaluate(\"0.5 * (a + b + f * c)\")"
   ]
  },
  {
   "cell_type": "code",
   "execution_count": null,
   "metadata": {
    "pycharm": {
     "name": "#%%\n"
    }
   },
   "outputs": [],
   "source": [
    "# numexpr\n",
    "out = %timeit -o d = ne.evaluate(\"0.5 * (a + b + f * c)\")\n",
    "out\n",
    "\n",
    "if serialize:\n",
    "    sheet[\"{}{}\".format(cols[\"numexpr\"], rows[\"sts_rk2_0\"])].value = 1000. * out.average\n",
    "    wb.save(filename=filename)"
   ]
  },
  {
   "cell_type": "code",
   "execution_count": null,
   "metadata": {},
   "outputs": [],
   "source": [
    "# gt4py\n",
    "set_annotations(stencil_sts_rk2_0_defs, dtype)\n",
    "stencil_sts_rk2_0 = gtscript.stencil(\n",
    "    backend=backend, definition=stencil_sts_rk2_0_defs, rebuild=False\n",
    ")\n",
    "\n",
    "out = %timeit -o stencil_sts_rk2_0(a, b, c, d, dt=f, origin=(0, 0, 0), domain=storage_shape)\n",
    "out\n",
    "\n",
    "if serialize:\n",
    "    sheet[\"{}{}\".format(cols[backend], rows[\"sts_rk2_0\"])].value = 1000. * out.average\n",
    "    wb.save(filename=filename)"
   ]
  },
  {
   "cell_type": "code",
   "execution_count": null,
   "metadata": {},
   "outputs": [],
   "source": [
    "# gt4py: make origin coincide with default_origin\n",
    "domain = tuple(s - 2*d for s, d in zip(storage_shape, default_origin))\n",
    "%timeit stencil_sts_rk2_0(a, b, c, d, dt=f, origin=default_origin, domain=domain)"
   ]
  },
  {
   "cell_type": "markdown",
   "metadata": {},
   "source": [
    "## sts_rk3ws_0"
   ]
  },
  {
   "cell_type": "code",
   "execution_count": null,
   "metadata": {},
   "outputs": [],
   "source": [
    "# numpy\n",
    "out = %timeit -o d[...] = (2.0 * a[...] + b[...] + f * c[...]) / 3.0\n",
    "out\n",
    "\n",
    "if serialize:\n",
    "    sheet[\"{}{}\".format(cols[\"vanilla_numpy\"], rows[\"sts_rk3ws_0\"])].value = 1000. * out.average\n",
    "    wb.save(filename=filename)"
   ]
  },
  {
   "cell_type": "code",
   "execution_count": null,
   "metadata": {
    "pycharm": {
     "name": "#%%\n"
    }
   },
   "outputs": [],
   "source": [
    "# numexpr with assignment\n",
    "%timeit d[...] = ne.evaluate(\"(2.0 * a + b + f * c) / 3.0\")"
   ]
  },
  {
   "cell_type": "code",
   "execution_count": null,
   "metadata": {
    "pycharm": {
     "name": "#%%\n"
    }
   },
   "outputs": [],
   "source": [
    "# numexpr\n",
    "out = %timeit -o d = ne.evaluate(\"(2.0 * a + b + f * c) / 3.0\")\n",
    "out\n",
    "\n",
    "if serialize:\n",
    "    sheet[\"{}{}\".format(cols[\"numexpr\"], rows[\"sts_rk3ws_0\"])].value = 1000. * out.average\n",
    "    wb.save(filename=filename)"
   ]
  },
  {
   "cell_type": "code",
   "execution_count": null,
   "metadata": {},
   "outputs": [],
   "source": [
    "# gt4py\n",
    "set_annotations(stencil_sts_rk3ws_0_defs, dtype)\n",
    "stencil_sts_rk3ws_0 = gtscript.stencil(\n",
    "    backend=backend, definition=stencil_sts_rk3ws_0_defs, rebuild=False\n",
    ")\n",
    "\n",
    "out = %timeit -o stencil_sts_rk3ws_0(a, b, c, d, dt=f, origin=(0, 0, 0), domain=storage_shape)\n",
    "out\n",
    "\n",
    "if serialize:\n",
    "    sheet[\"{}{}\".format(cols[backend], rows[\"sts_rk3ws_0\"])].value = 1000. * out.average\n",
    "    wb.save(filename=filename)"
   ]
  },
  {
   "cell_type": "code",
   "execution_count": null,
   "metadata": {
    "pycharm": {
     "name": "#%%\n"
    }
   },
   "outputs": [],
   "source": [
    "# gt4py: make origin coincide with default_origin\n",
    "domain = tuple(s - 2*d for s, d in zip(storage_shape, default_origin))\n",
    "%timeit stencil_sts_rk3ws_0(a, b, c, d, dt=f, origin=default_origin, domain=domain)\n"
   ]
  }
 ],
 "metadata": {
  "kernelspec": {
   "display_name": "Python 3",
   "language": "python",
   "name": "python3"
  },
  "language_info": {
   "codemirror_mode": {
    "name": "ipython",
    "version": 3
   },
   "file_extension": ".py",
   "mimetype": "text/x-python",
   "name": "python",
   "nbconvert_exporter": "python",
   "pygments_lexer": "ipython3",
   "version": "3.7.5"
  },
  "pycharm": {
   "stem_cell": {
    "cell_type": "raw",
    "metadata": {
     "collapsed": false
    },
    "source": []
   }
  }
 },
 "nbformat": 4,
 "nbformat_minor": 2
}
