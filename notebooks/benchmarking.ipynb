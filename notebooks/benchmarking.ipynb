{
 "cells": [
  {
   "cell_type": "markdown",
   "metadata": {},
   "source": [
    "# Benchmarking GT4Py\n",
    "\n",
    "Compare a vanilla Numpy and a GT4Py-powered implementation of some basic mathematical \n",
    "operations."
   ]
  },
  {
   "cell_type": "markdown",
   "metadata": {},
   "source": [
    "## Data initialization"
   ]
  },
  {
   "cell_type": "code",
   "execution_count": 1,
   "metadata": {},
   "outputs": [
    {
     "name": "stderr",
     "output_type": "stream",
     "text": [
      "/Users/subbiali/Desktop/phd/tasmania-develop/docker/external/sympl/sympl/_core/dataarray.py:6: FutureWarning: xarray subclass DataArray should explicitly define __slots__\n",
      "  class DataArray(xr.DataArray):\n"
     ]
    }
   ],
   "source": [
    "from copy import deepcopy\n",
    "from gt4py import gtscript\n",
    "import numpy as np\n",
    "from tasmania.python.utils.gtscript_utils import (\n",
    "    set_annotations,\n",
    "    stencil_add_defs,\n",
    "    stencil_iadd_defs,\n",
    "    stencil_sub_defs,\n",
    "    stencil_isub_defs,\n",
    "    stencil_mul_defs,\n",
    "    stencil_imul_defs,\n",
    "    stencil_scale_defs,\n",
    "    stencil_iscale_defs,\n",
    "    stencil_copy_defs,\n",
    "    stencil_copychange_defs,\n",
    "    stencil_addsub_defs,\n",
    "    stencil_iaddsub_defs,\n",
    "    stencil_fma_defs,\n",
    "    stencil_sts_rk2_0_defs,\n",
    "    stencil_sts_rk3ws_0_defs\n",
    ")\n",
    "from tasmania.python.utils.storage_utils import zeros\n",
    "\n",
    "# customizable settings\n",
    "backend = \"gtx86\"\n",
    "dtype = np.float64\n",
    "storage_shape = (321, 321, 120)\n",
    "default_origin = (3, 3, 0)\n",
    "\n",
    "a = zeros(storage_shape, backend, dtype, default_origin)\n",
    "a[...] = np.random.rand(*storage_shape)\n",
    "a_dc = deepcopy(a)\n",
    "b = zeros(storage_shape, backend, dtype, default_origin)\n",
    "b[...] = np.random.rand(*storage_shape)\n",
    "c = zeros(storage_shape, backend, dtype, default_origin)\n",
    "c[...] = np.random.rand(*storage_shape)\n",
    "d = zeros(storage_shape, backend, dtype, default_origin)\n",
    "\n",
    "f = np.random.rand(1).item()"
   ]
  },
  {
   "cell_type": "markdown",
   "metadata": {},
   "source": [
    "## add"
   ]
  },
  {
   "cell_type": "code",
   "execution_count": 2,
   "metadata": {
    "pycharm": {
     "name": "#%%\n"
    }
   },
   "outputs": [
    {
     "name": "stdout",
     "output_type": "stream",
     "text": [
      "40.4 ms ± 554 µs per loop (mean ± std. dev. of 7 runs, 10 loops each)\n"
     ]
    }
   ],
   "source": [
    "# numpy\n",
    "%timeit c[...] = a[...] + b[...]"
   ]
  },
  {
   "cell_type": "code",
   "execution_count": 3,
   "metadata": {
    "pycharm": {
     "name": "#%%\n"
    }
   },
   "outputs": [
    {
     "name": "stdout",
     "output_type": "stream",
     "text": [
      "18.6 ms ± 73.3 µs per loop (mean ± std. dev. of 7 runs, 100 loops each)\n"
     ]
    }
   ],
   "source": [
    "# gt4py\n",
    "set_annotations(stencil_add_defs, dtype)\n",
    "stencil_add = gtscript.stencil(\n",
    "    backend=backend, definition=stencil_add_defs, rebuild=False\n",
    ")\n",
    "%timeit stencil_add(in_a=a, in_b=b, out_c=c, origin=(0, 0, 0), domain=storage_shape)"
   ]
  },
  {
   "cell_type": "code",
   "execution_count": 4,
   "metadata": {
    "pycharm": {
     "name": "#%%\n"
    }
   },
   "outputs": [
    {
     "name": "stdout",
     "output_type": "stream",
     "text": [
      "18 ms ± 62.3 µs per loop (mean ± std. dev. of 7 runs, 100 loops each)\n"
     ]
    }
   ],
   "source": [
    "# gt4py: make origin coincide with default_origin\n",
    "domain = tuple(s - 2*d for s, d in zip(storage_shape, default_origin))\n",
    "%timeit stencil_add(in_a=a, in_b=b, out_c=c, origin=default_origin, domain=domain)"
   ]
  },
  {
   "cell_type": "markdown",
   "metadata": {},
   "source": [
    "## iadd"
   ]
  },
  {
   "cell_type": "code",
   "execution_count": 5,
   "metadata": {
    "pycharm": {
     "name": "#%%\n"
    }
   },
   "outputs": [
    {
     "name": "stdout",
     "output_type": "stream",
     "text": [
      "13.2 ms ± 79.7 µs per loop (mean ± std. dev. of 7 runs, 100 loops each)\n"
     ]
    }
   ],
   "source": [
    "# numpy\n",
    "%timeit a[...] += b[...]"
   ]
  },
  {
   "cell_type": "code",
   "execution_count": 6,
   "metadata": {
    "pycharm": {
     "name": "#%%\n"
    }
   },
   "outputs": [
    {
     "name": "stdout",
     "output_type": "stream",
     "text": [
      "11 ms ± 95 µs per loop (mean ± std. dev. of 7 runs, 100 loops each)\n"
     ]
    }
   ],
   "source": [
    "# gt4py\n",
    "a[...] = a_dc[...]\n",
    "set_annotations(stencil_iadd_defs, dtype)\n",
    "stencil_iadd = gtscript.stencil(\n",
    "    backend=backend, definition=stencil_iadd_defs, rebuild=False\n",
    ")\n",
    "%timeit stencil_iadd(inout_a=a, in_b=b, origin=(0, 0, 0), domain=storage_shape)"
   ]
  },
  {
   "cell_type": "code",
   "execution_count": 7,
   "metadata": {
    "pycharm": {
     "name": "#%%\n"
    }
   },
   "outputs": [
    {
     "name": "stdout",
     "output_type": "stream",
     "text": [
      "10.3 ms ± 101 µs per loop (mean ± std. dev. of 7 runs, 100 loops each)\n"
     ]
    }
   ],
   "source": [
    "# gt4py: make origin coincide with default_origin\n",
    "a[...] = a_dc[...]\n",
    "domain = tuple(s - 2*d for s, d in zip(storage_shape, default_origin))\n",
    "%timeit stencil_iadd(inout_a=a, in_b=b, origin=default_origin, domain=domain)"
   ]
  },
  {
   "cell_type": "markdown",
   "metadata": {},
   "source": [
    "## sub"
   ]
  },
  {
   "cell_type": "code",
   "execution_count": 8,
   "metadata": {},
   "outputs": [
    {
     "name": "stdout",
     "output_type": "stream",
     "text": [
      "40.9 ms ± 773 µs per loop (mean ± std. dev. of 7 runs, 10 loops each)\n"
     ]
    }
   ],
   "source": [
    "# numpy\n",
    "%timeit c[...] = a[...] - b[...]"
   ]
  },
  {
   "cell_type": "code",
   "execution_count": 9,
   "metadata": {
    "pycharm": {
     "name": "#%%\n"
    }
   },
   "outputs": [
    {
     "name": "stdout",
     "output_type": "stream",
     "text": [
      "18.7 ms ± 64.7 µs per loop (mean ± std. dev. of 7 runs, 100 loops each)\n"
     ]
    }
   ],
   "source": [
    "# gt4py\n",
    "set_annotations(stencil_sub_defs, dtype)\n",
    "stencil_sub = gtscript.stencil(\n",
    "    backend=backend, definition=stencil_sub_defs, rebuild=False\n",
    ")\n",
    "%timeit stencil_sub(in_a=a, in_b=b, out_c=c, origin=(0, 0, 0), domain=storage_shape)"
   ]
  },
  {
   "cell_type": "code",
   "execution_count": 10,
   "metadata": {},
   "outputs": [
    {
     "name": "stdout",
     "output_type": "stream",
     "text": [
      "18 ms ± 61.1 µs per loop (mean ± std. dev. of 7 runs, 100 loops each)\n"
     ]
    }
   ],
   "source": [
    "# gt4py: make origin coincide with default_origin\n",
    "domain = tuple(s - 2*d for s, d in zip(storage_shape, default_origin))\n",
    "%timeit stencil_sub(in_a=a, in_b=b, out_c=c, origin=default_origin, domain=domain)"
   ]
  },
  {
   "cell_type": "markdown",
   "metadata": {},
   "source": [
    "## isub"
   ]
  },
  {
   "cell_type": "code",
   "execution_count": 11,
   "metadata": {},
   "outputs": [
    {
     "name": "stdout",
     "output_type": "stream",
     "text": [
      "13.3 ms ± 120 µs per loop (mean ± std. dev. of 7 runs, 100 loops each)\n"
     ]
    }
   ],
   "source": [
    "# numpy\n",
    "%timeit a[...] -= b[...]"
   ]
  },
  {
   "cell_type": "code",
   "execution_count": 12,
   "metadata": {},
   "outputs": [
    {
     "name": "stdout",
     "output_type": "stream",
     "text": [
      "11 ms ± 91 µs per loop (mean ± std. dev. of 7 runs, 100 loops each)\n"
     ]
    }
   ],
   "source": [
    "# gt4py\n",
    "a[...] = a_dc[...]\n",
    "set_annotations(stencil_isub_defs, dtype)\n",
    "stencil_isub = gtscript.stencil(\n",
    "    backend=backend, definition=stencil_isub_defs, rebuild=False\n",
    ")\n",
    "%timeit stencil_isub(inout_a=a, in_b=b, origin=(0, 0, 0), domain=storage_shape)"
   ]
  },
  {
   "cell_type": "code",
   "execution_count": 13,
   "metadata": {
    "pycharm": {
     "name": "#%%\n"
    }
   },
   "outputs": [
    {
     "name": "stdout",
     "output_type": "stream",
     "text": [
      "10.3 ms ± 84.1 µs per loop (mean ± std. dev. of 7 runs, 100 loops each)\n"
     ]
    }
   ],
   "source": [
    "# gt4py: make origin coincide with default_origin\n",
    "a[...] = a_dc[...]\n",
    "domain = tuple(s - 2*d for s, d in zip(storage_shape, default_origin))\n",
    "%timeit stencil_isub(inout_a=a, in_b=b, origin=default_origin, domain=domain)"
   ]
  },
  {
   "cell_type": "markdown",
   "metadata": {},
   "source": [
    "## mul"
   ]
  },
  {
   "cell_type": "code",
   "execution_count": 14,
   "metadata": {
    "pycharm": {
     "name": "#%%\n"
    }
   },
   "outputs": [
    {
     "name": "stdout",
     "output_type": "stream",
     "text": [
      "40.4 ms ± 479 µs per loop (mean ± std. dev. of 7 runs, 10 loops each)\n"
     ]
    }
   ],
   "source": [
    "# numpy\n",
    "%timeit c[...] = a[...] * b[...]"
   ]
  },
  {
   "cell_type": "code",
   "execution_count": 15,
   "metadata": {
    "pycharm": {
     "name": "#%%\n"
    }
   },
   "outputs": [
    {
     "name": "stdout",
     "output_type": "stream",
     "text": [
      "18.6 ms ± 90.6 µs per loop (mean ± std. dev. of 7 runs, 100 loops each)\n"
     ]
    }
   ],
   "source": [
    "# gt4py\n",
    "set_annotations(stencil_mul_defs, dtype)\n",
    "stencil_mul = gtscript.stencil(\n",
    "    backend=backend, definition=stencil_mul_defs, rebuild=False\n",
    ")\n",
    "%timeit stencil_mul(in_a=a, in_b=b, out_c=c, origin=(0, 0, 0), domain=storage_shape)"
   ]
  },
  {
   "cell_type": "code",
   "execution_count": 16,
   "metadata": {
    "pycharm": {
     "name": "#%%\n"
    }
   },
   "outputs": [
    {
     "name": "stdout",
     "output_type": "stream",
     "text": [
      "18 ms ± 38.3 µs per loop (mean ± std. dev. of 7 runs, 100 loops each)\n"
     ]
    }
   ],
   "source": [
    "# gt4py: make origin coincide with default_origin\n",
    "domain = tuple(s - 2*d for s, d in zip(storage_shape, default_origin))\n",
    "%timeit stencil_mul(in_a=a, in_b=b, out_c=c, origin=default_origin, domain=domain)"
   ]
  },
  {
   "cell_type": "markdown",
   "metadata": {},
   "source": [
    "## imul"
   ]
  },
  {
   "cell_type": "code",
   "execution_count": 17,
   "metadata": {
    "pycharm": {
     "name": "#%%\n"
    }
   },
   "outputs": [
    {
     "name": "stdout",
     "output_type": "stream",
     "text": [
      "17 ms ± 1.75 ms per loop (mean ± std. dev. of 7 runs, 100 loops each)\n"
     ]
    }
   ],
   "source": [
    "# numpy\n",
    "%timeit a[...] *= b[...]"
   ]
  },
  {
   "cell_type": "code",
   "execution_count": 18,
   "metadata": {
    "pycharm": {
     "name": "#%%\n"
    }
   },
   "outputs": [
    {
     "name": "stdout",
     "output_type": "stream",
     "text": [
      "10.8 ms ± 102 µs per loop (mean ± std. dev. of 7 runs, 100 loops each)\n"
     ]
    }
   ],
   "source": [
    "# gt4py\n",
    "a[...] = a_dc[...]\n",
    "set_annotations(stencil_imul_defs, dtype)\n",
    "stencil_imul = gtscript.stencil(\n",
    "    backend=backend, definition=stencil_imul_defs, rebuild=False\n",
    ")\n",
    "%timeit stencil_imul(inout_a=a, in_b=b, origin=(0, 0, 0), domain=storage_shape)"
   ]
  },
  {
   "cell_type": "code",
   "execution_count": 19,
   "metadata": {
    "pycharm": {
     "name": "#%%\n"
    }
   },
   "outputs": [
    {
     "name": "stdout",
     "output_type": "stream",
     "text": [
      "10.2 ms ± 159 µs per loop (mean ± std. dev. of 7 runs, 100 loops each)\n"
     ]
    }
   ],
   "source": [
    "# gt4py: make origin coincide with default_origin\n",
    "a[...] = a_dc[...]\n",
    "domain = tuple(s - 2*d for s, d in zip(storage_shape, default_origin))\n",
    "%timeit stencil_imul(inout_a=a, in_b=b, origin=default_origin, domain=domain)"
   ]
  },
  {
   "cell_type": "markdown",
   "metadata": {},
   "source": [
    "## copy"
   ]
  },
  {
   "cell_type": "code",
   "execution_count": 20,
   "metadata": {},
   "outputs": [
    {
     "name": "stdout",
     "output_type": "stream",
     "text": [
      "11.7 ms ± 45.4 µs per loop (mean ± std. dev. of 7 runs, 100 loops each)\n"
     ]
    }
   ],
   "source": [
    "# numpy\n",
    "%timeit a[...] = b[...]"
   ]
  },
  {
   "cell_type": "code",
   "execution_count": 21,
   "metadata": {},
   "outputs": [
    {
     "name": "stdout",
     "output_type": "stream",
     "text": [
      "11 ms ± 57.7 µs per loop (mean ± std. dev. of 7 runs, 100 loops each)\n"
     ]
    }
   ],
   "source": [
    "# gt4py\n",
    "set_annotations(stencil_copy_defs, dtype)\n",
    "stencil_copy = gtscript.stencil(\n",
    "    backend=backend, definition=stencil_copy_defs, rebuild=False\n",
    ")\n",
    "%timeit stencil_copy(src=b, dst=a, origin=(0, 0, 0), domain=storage_shape)"
   ]
  },
  {
   "cell_type": "markdown",
   "metadata": {},
   "source": [
    "## copychange"
   ]
  },
  {
   "cell_type": "code",
   "execution_count": 4,
   "metadata": {},
   "outputs": [
    {
     "name": "stdout",
     "output_type": "stream",
     "text": [
      "36.1 ms ± 682 µs per loop (mean ± std. dev. of 7 runs, 10 loops each)\n"
     ]
    }
   ],
   "source": [
    "# numpy\n",
    "%timeit a[...] = - b[...]"
   ]
  },
  {
   "cell_type": "code",
   "execution_count": 5,
   "metadata": {},
   "outputs": [
    {
     "name": "stdout",
     "output_type": "stream",
     "text": [
      "10.9 ms ± 97.9 µs per loop (mean ± std. dev. of 7 runs, 100 loops each)\n"
     ]
    }
   ],
   "source": [
    "# gt4py\n",
    "set_annotations(stencil_copychange_defs, dtype)\n",
    "stencil_copychange = gtscript.stencil(\n",
    "    backend=backend, definition=stencil_copychange_defs, rebuild=False\n",
    ")\n",
    "%timeit stencil_copychange(src=b, dst=a, origin=(0, 0, 0), domain=storage_shape)"
   ]
  },
  {
   "cell_type": "markdown",
   "metadata": {},
   "source": [
    "## addsub"
   ]
  },
  {
   "cell_type": "code",
   "execution_count": 22,
   "metadata": {},
   "outputs": [
    {
     "name": "stdout",
     "output_type": "stream",
     "text": [
      "67.5 ms ± 256 µs per loop (mean ± std. dev. of 7 runs, 10 loops each)\n"
     ]
    }
   ],
   "source": [
    "# numpy\n",
    "%timeit d[...] = a[...] + b[...] - c[...]"
   ]
  },
  {
   "cell_type": "code",
   "execution_count": 23,
   "metadata": {},
   "outputs": [
    {
     "name": "stdout",
     "output_type": "stream",
     "text": [
      "24 ms ± 201 µs per loop (mean ± std. dev. of 7 runs, 10 loops each)\n"
     ]
    }
   ],
   "source": [
    "# gt4py\n",
    "set_annotations(stencil_addsub_defs, dtype)\n",
    "stencil_addsub = gtscript.stencil(\n",
    "    backend=backend, definition=stencil_addsub_defs, rebuild=False\n",
    ")\n",
    "%timeit stencil_addsub(in_a=a, in_b=b, in_c=c, out_d=d, origin=(0, 0, 0), domain=storage_shape)"
   ]
  },
  {
   "cell_type": "code",
   "execution_count": 24,
   "metadata": {},
   "outputs": [
    {
     "name": "stdout",
     "output_type": "stream",
     "text": [
      "23.3 ms ± 158 µs per loop (mean ± std. dev. of 7 runs, 10 loops each)\n"
     ]
    }
   ],
   "source": [
    "# gt4py: make origin coincide with default_origin\n",
    "domain = tuple(s - 2*d for s, d in zip(storage_shape, default_origin))\n",
    "%timeit stencil_addsub(in_a=a, in_b=b, in_c=c, out_d=d, origin=default_origin, domain=domain)"
   ]
  },
  {
   "cell_type": "markdown",
   "metadata": {},
   "source": [
    "## iaddsub"
   ]
  },
  {
   "cell_type": "code",
   "execution_count": 25,
   "metadata": {},
   "outputs": [
    {
     "name": "stdout",
     "output_type": "stream",
     "text": [
      "42.1 ms ± 621 µs per loop (mean ± std. dev. of 7 runs, 10 loops each)\n"
     ]
    }
   ],
   "source": [
    "# numpy\n",
    "%timeit a[...] += b[...] - c[...]"
   ]
  },
  {
   "cell_type": "code",
   "execution_count": 26,
   "metadata": {},
   "outputs": [
    {
     "name": "stdout",
     "output_type": "stream",
     "text": [
      "18.3 ms ± 43.2 µs per loop (mean ± std. dev. of 7 runs, 100 loops each)\n"
     ]
    }
   ],
   "source": [
    "# gt4py\n",
    "a[...] = a_dc[...]\n",
    "stencil_iaddsub = gtscript.stencil(\n",
    "    backend=backend, definition=stencil_iaddsub_defs, rebuild=False\n",
    ")\n",
    "%timeit stencil_iaddsub(inout_a=a, in_b=b, in_c=c, origin=(0, 0, 0), domain=storage_shape)"
   ]
  },
  {
   "cell_type": "code",
   "execution_count": 27,
   "metadata": {},
   "outputs": [
    {
     "name": "stdout",
     "output_type": "stream",
     "text": [
      "17.5 ms ± 392 µs per loop (mean ± std. dev. of 7 runs, 100 loops each)\n"
     ]
    }
   ],
   "source": [
    "# gt4py: make origin coincide with default_origin\n",
    "a[...] = a_dc[...]\n",
    "domain = tuple(s - 2*d for s, d in zip(storage_shape, default_origin))\n",
    "%timeit stencil_iaddsub(inout_a=a, in_b=b, in_c=c, origin=default_origin, domain=domain)"
   ]
  },
  {
   "cell_type": "markdown",
   "metadata": {},
   "source": [
    "## fma"
   ]
  },
  {
   "cell_type": "code",
   "execution_count": 28,
   "metadata": {},
   "outputs": [
    {
     "name": "stdout",
     "output_type": "stream",
     "text": [
      "62.7 ms ± 498 µs per loop (mean ± std. dev. of 7 runs, 10 loops each)\n"
     ]
    }
   ],
   "source": [
    "# numpy\n",
    "%timeit c[...] = a[...] + f * b[...]"
   ]
  },
  {
   "cell_type": "code",
   "execution_count": 29,
   "metadata": {},
   "outputs": [
    {
     "name": "stdout",
     "output_type": "stream",
     "text": [
      "18.4 ms ± 47.1 µs per loop (mean ± std. dev. of 7 runs, 100 loops each)\n"
     ]
    }
   ],
   "source": [
    "# gt4py\n",
    "set_annotations(stencil_fma_defs, dtype)\n",
    "stencil_fma = gtscript.stencil(\n",
    "    backend=backend, definition=stencil_fma_defs, rebuild=False\n",
    ")\n",
    "%timeit stencil_fma(in_a=a, in_b=b, out_c=c, f=f, origin=(0, 0, 0), domain=storage_shape)"
   ]
  },
  {
   "cell_type": "code",
   "execution_count": 30,
   "metadata": {},
   "outputs": [
    {
     "name": "stdout",
     "output_type": "stream",
     "text": [
      "17.7 ms ± 60.4 µs per loop (mean ± std. dev. of 7 runs, 100 loops each)\n"
     ]
    }
   ],
   "source": [
    "# gt4py: make origin coincide with default_origin\n",
    "domain = tuple(s - 2*d for s, d in zip(storage_shape, default_origin))\n",
    "%timeit stencil_fma(in_a=a, in_b=b, out_c=c, f=f, origin=default_origin, domain=domain)"
   ]
  },
  {
   "cell_type": "markdown",
   "metadata": {},
   "source": [
    "## sts_rk2_0"
   ]
  },
  {
   "cell_type": "code",
   "execution_count": 31,
   "metadata": {},
   "outputs": [
    {
     "name": "stdout",
     "output_type": "stream",
     "text": [
      "112 ms ± 210 µs per loop (mean ± std. dev. of 7 runs, 10 loops each)\n"
     ]
    }
   ],
   "source": [
    "# numpy\n",
    "%timeit d[...] = 0.5 * (a[...] + b[...] + f * c[...])"
   ]
  },
  {
   "cell_type": "code",
   "execution_count": 32,
   "metadata": {},
   "outputs": [
    {
     "name": "stdout",
     "output_type": "stream",
     "text": [
      "23.3 ms ± 101 µs per loop (mean ± std. dev. of 7 runs, 10 loops each)\n"
     ]
    }
   ],
   "source": [
    "# gt4py\n",
    "set_annotations(stencil_sts_rk2_0_defs, dtype)\n",
    "stencil_sts_rk2_0 = gtscript.stencil(\n",
    "    backend=backend, definition=stencil_sts_rk2_0_defs, rebuild=False\n",
    ")\n",
    "%timeit stencil_sts_rk2_0(a, b, c, d, dt=f, origin=(0, 0, 0), domain=storage_shape)"
   ]
  },
  {
   "cell_type": "code",
   "execution_count": 33,
   "metadata": {},
   "outputs": [
    {
     "name": "stdout",
     "output_type": "stream",
     "text": [
      "22.7 ms ± 112 µs per loop (mean ± std. dev. of 7 runs, 10 loops each)\n"
     ]
    }
   ],
   "source": [
    "# gt4py: make origin coincide with default_origin\n",
    "domain = tuple(s - 2*d for s, d in zip(storage_shape, default_origin))\n",
    "%timeit stencil_sts_rk2_0(a, b, c, d, dt=f, origin=default_origin, domain=domain)"
   ]
  },
  {
   "cell_type": "markdown",
   "metadata": {},
   "source": [
    "## sts_rk3ws_0"
   ]
  },
  {
   "cell_type": "code",
   "execution_count": 34,
   "metadata": {},
   "outputs": [
    {
     "name": "stdout",
     "output_type": "stream",
     "text": [
      "135 ms ± 1.79 ms per loop (mean ± std. dev. of 7 runs, 10 loops each)\n"
     ]
    }
   ],
   "source": [
    "# numpy\n",
    "%timeit d[...] = (2.0 * a[...] + b[...] + f * c[...]) / 3.0"
   ]
  },
  {
   "cell_type": "code",
   "execution_count": 35,
   "metadata": {},
   "outputs": [
    {
     "name": "stdout",
     "output_type": "stream",
     "text": [
      "23 ms ± 361 µs per loop (mean ± std. dev. of 7 runs, 10 loops each)\n"
     ]
    }
   ],
   "source": [
    "# gt4py\n",
    "set_annotations(stencil_sts_rk3ws_0_defs, dtype)\n",
    "stencil_sts_rk3ws_0 = gtscript.stencil(\n",
    "    backend=backend, definition=stencil_sts_rk3ws_0_defs, rebuild=False\n",
    ")\n",
    "%timeit stencil_sts_rk3ws_0(a, b, c, d, dt=f, origin=(0, 0, 0), domain=storage_shape)"
   ]
  },
  {
   "cell_type": "code",
   "execution_count": 36,
   "metadata": {},
   "outputs": [
    {
     "name": "stdout",
     "output_type": "stream",
     "text": [
      "22.5 ms ± 1.23 ms per loop (mean ± std. dev. of 7 runs, 10 loops each)\n"
     ]
    }
   ],
   "source": [
    "# gt4py: make origin coincide with default_origin\n",
    "domain = tuple(s - 2*d for s, d in zip(storage_shape, default_origin))\n",
    "%timeit stencil_sts_rk3ws_0(a, b, c, d, dt=f, origin=default_origin, domain=domain)"
   ]
  },
  {
   "cell_type": "code",
   "execution_count": null,
   "metadata": {},
   "outputs": [],
   "source": []
  }
 ],
 "metadata": {
  "kernelspec": {
   "display_name": "Python 3",
   "language": "python",
   "name": "python3"
  },
  "language_info": {
   "codemirror_mode": {
    "name": "ipython",
    "version": 3
   },
   "file_extension": ".py",
   "mimetype": "text/x-python",
   "name": "python",
   "nbconvert_exporter": "python",
   "pygments_lexer": "ipython3",
   "version": "3.7.5"
  },
  "pycharm": {
   "stem_cell": {
    "cell_type": "raw",
    "metadata": {
     "collapsed": false
    },
    "source": []
   }
  }
 },
 "nbformat": 4,
 "nbformat_minor": 2
}
