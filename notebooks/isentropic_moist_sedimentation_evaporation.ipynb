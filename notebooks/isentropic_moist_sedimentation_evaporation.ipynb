{
 "cells": [
  {
   "cell_type": "markdown",
   "metadata": {},
   "source": [
    "A hydrostatic, inviscid, adiabatic, and moist system in isentropic coordinates \n",
    "=="
   ]
  },
  {
   "cell_type": "code",
   "execution_count": null,
   "metadata": {},
   "outputs": [],
   "source": [
    "from datetime import datetime, timedelta\n",
    "import gridtools as gt\n",
    "import numpy as np\n",
    "import os\n",
    "import sympl\n",
    "import tasmania as taz\n",
    "\n",
    "# For interactive plotting\n",
    "from IPython import display\n",
    "%matplotlib nbagg"
   ]
  },
  {
   "cell_type": "markdown",
   "metadata": {},
   "source": [
    "Load the computational grid and the initial state\n",
    "--"
   ]
  },
  {
   "cell_type": "code",
   "execution_count": null,
   "metadata": {},
   "outputs": [],
   "source": [
    "domain_x, nx = sympl.DataArray([0., 500.], dims='x', attrs={'units': 'km'}).to_units('m'), 101\n",
    "domain_y, ny = sympl.DataArray([-1., 1.], dims='y', attrs={'units': 'km'}).to_units('m'), 1\n",
    "domain_z, nz = sympl.DataArray([340., 280.], dims='air_potential_temperature', attrs={'units': 'K'}), 60\n",
    "\n",
    "grid = taz.GridXYZ(domain_x, nx, domain_y, ny, domain_z, nz,\n",
    "                   topo_type='gaussian', topo_time=timedelta(seconds=1800),\n",
    "                   topo_kwargs={'topo_max_height': sympl.DataArray(1000.0, attrs={'units': 'm'}),\n",
    "                                'topo_width_x': sympl.DataArray(25.0, attrs={'units': 'km'})})\n",
    "\n",
    "time          = datetime(year=1992, month=2, day=20)\n",
    "x_velocity    = sympl.DataArray(15., attrs={'units': 'm s^-1'})\n",
    "y_velocity    = sympl.DataArray(0., attrs={'units': 'm s^-1'})\n",
    "brunt_vaisala = sympl.DataArray(0.01, attrs={'units': 's^-1'})\n",
    "\n",
    "state = taz.get_default_isentropic_state(grid, time, x_velocity, y_velocity, brunt_vaisala, \n",
    "                                         moist_on=True, dtype=np.float64)\n",
    "\n",
    "# Enrich the state with the accumulated and instantaneous precipitation\n",
    "state['accumulated_precipitation'] = taz.make_data_array_3d(\n",
    "    np.zeros((grid.nx, grid.ny, 1)), grid, 'mm')\n",
    "state['precipitation'] = taz.make_data_array_3d(\n",
    "    np.zeros((grid.nx, grid.ny, 1)), grid, 'mm h^-1')"
   ]
  },
  {
   "cell_type": "markdown",
   "metadata": {},
   "source": [
    "Initialize the microphysical parameterizations\n",
    "--"
   ]
  },
  {
   "cell_type": "code",
   "execution_count": null,
   "metadata": {},
   "outputs": [],
   "source": [
    "# The component calculating the microphysical sources/sinks \n",
    "# prescribed by the Kessler scheme; do consider the evaporation of\n",
    "# rain in the subcloud layers\n",
    "a = sympl.DataArray(0.1, attrs={'units': 'g kg^-1'})\n",
    "kessler = taz.Kessler(grid, air_pressure_on_interface_levels=True,\n",
    "                      rain_evaporation=True, backend=gt.mode.NUMPY,\n",
    "                      autoconversion_threshold=a)\n",
    "\n",
    "# The component calculating the raindrop fall velocity\n",
    "rfv = taz.RaindropFallVelocity(grid, backend=gt.mode.NUMPY)\n",
    "\n",
    "# The component performing the saturation adjustment \n",
    "# as prescribed by the Kessler scheme\n",
    "saturation = taz.SaturationAdjustmentKessler(grid, air_pressure_on_interface_levels=True,\n",
    "                                             backend=gt.mode.NUMPY)"
   ]
  },
  {
   "cell_type": "markdown",
   "metadata": {},
   "source": [
    "Instantiate the dynamical core\n",
    "--"
   ]
  },
  {
   "cell_type": "code",
   "execution_count": null,
   "metadata": {},
   "outputs": [],
   "source": [
    "# Adopt the flux form of the leapfrog time integration method,\n",
    "# with the horizontal numerical fluxes calculated via a centered scheme;\n",
    "# the sedimentation flux is discretized with the help of the second-order upwind scheme\n",
    "dycore = taz.IsentropicDynamicalCore(grid, moist_on=True,\n",
    "                                     time_integration_scheme='centered',\n",
    "                                     horizontal_flux_scheme='centered',\n",
    "                                     horizontal_boundary_type='relaxed',\n",
    "                                     smooth_on=True, smooth_type='first_order',\n",
    "                                     smooth_coeff=0.20, smooth_at_every_stage=True,\n",
    "                                     adiabatic_flow=True, sedimentation_on=True,\n",
    "                                     sedimentation_flux_type='second_order_upwind',\n",
    "                                     sedimentation_substeps=2,\n",
    "                                     raindrop_fall_velocity_diagnostic=rfv,\n",
    "                                     backend=gt.mode.NUMPY, dtype=np.float64)"
   ]
  },
  {
   "cell_type": "markdown",
   "metadata": {},
   "source": [
    "Create a monitor for interactive visualization\n",
    "---------------------------------------------------------------"
   ]
  },
  {
   "cell_type": "code",
   "execution_count": null,
   "metadata": {},
   "outputs": [],
   "source": [
    "# The drawer and the artist generating the left subplot\n",
    "drawer1_properties = {\n",
    "    'fontsize': 16, 'cmap_name': 'Blues', 'cbar_on': True, \n",
    "    'cbar_levels': 18, 'cbar_ticks_step': 4, \n",
    "    'cbar_orientation': 'horizontal',\n",
    "    'draw_vertical_levels': True,\n",
    "}\n",
    "drawer1 = taz.Contourf(\n",
    "    grid, 'mass_fraction_of_cloud_liquid_water_in_air', 'g kg^-1', y=0,  \n",
    "    xaxis_units='km', zaxis_name='height', zaxis_units='km',\n",
    "    properties=drawer1_properties,\n",
    ")\n",
    "topo_drawer = taz.LineProfile(\n",
    "    grid, 'topography', 'km', y=0, z=-1, axis_units='km',\n",
    "    properties={'linecolor': 'black', 'linewidth': 1.3}\n",
    ")\n",
    "axes1_properties = {\n",
    "    'fontsize': 16, 'title_left': 'Cloud liquid water [g kg$^{-1}$]',\n",
    "    'x_label': '$x$ [km]', 'x_lim': [0, 500],\n",
    "    'y_label': '$z$ [km]', 'y_lim': [0, 14],\n",
    "}\n",
    "plot1 = taz.Plot((drawer1, topo_drawer), axes_properties=axes1_properties)\n",
    "\n",
    "# The drawers and the artist generating the right subplot\n",
    "drawer2_properties = {\n",
    "    'fontsize': 16, 'linecolor': 'blue', 'linewidth': 1.5,\n",
    "    'legend_label': 'Precipitation [mm h$^{-1}$]'\n",
    "}\n",
    "drawer2 = taz.LineProfile(\n",
    "    grid, 'precipitation', 'mm h^-1',\n",
    "    y=0, z=0, axis_units='km', properties=drawer2_properties,\n",
    ")\n",
    "drawer3_properties = {\n",
    "    'fontsize': 16, 'linecolor': 'red', 'linewidth': 1.5,\n",
    "    'legend_label': 'Accumulated precipitation [mm]'\n",
    "}\n",
    "drawer3 = taz.LineProfile(\n",
    "    grid, 'accumulated_precipitation', 'mm',\n",
    "    y=0, z=0, axis_units='km', properties=drawer3_properties,\n",
    ")\n",
    "axes2_properties = {\n",
    "    'fontsize': 16, 'x_label': '$x$ [km]', 'x_lim': [0, 500], 'y_lim': [0, 2],\n",
    "    'legend_on': True, 'legend_framealpha': 1.0, 'grid_on': True,\n",
    "}\n",
    "plot2 = taz.Plot((drawer2, drawer3), axes_properties=axes2_properties)\n",
    "\n",
    "# The monitor encompassing and coordinating the two artists\n",
    "figure_properties = {'fontsize': 16, 'figsize': (12, 7), 'tight_layout': True}\n",
    "plot_monitor = taz.PlotComposite(\n",
    "    nrows=1, ncols=2, artists=(plot1, plot2), interactive=False, figure_properties=figure_properties\n",
    ")"
   ]
  },
  {
   "cell_type": "markdown",
   "metadata": {},
   "source": [
    "Create a monitor to write the solution into a NetCDF file\n",
    "--"
   ]
  },
  {
   "cell_type": "code",
   "execution_count": null,
   "metadata": {},
   "outputs": [],
   "source": [
    "filename = '../tests/baseline_datasets/isentropic_moist_sedimentation_evaporation.nc'\n",
    "if os.path.exists(filename):\n",
    "    os.remove(filename)\n",
    "netcdf_monitor = taz.NetCDFMonitor(filename, grid)\n",
    "netcdf_monitor.store(state)"
   ]
  },
  {
   "cell_type": "markdown",
   "metadata": {},
   "source": [
    "Run the simulation\n",
    "---------------------------"
   ]
  },
  {
   "cell_type": "code",
   "execution_count": null,
   "metadata": {
    "scrolled": false
   },
   "outputs": [],
   "source": [
    "# Simulation settings\n",
    "timestep = timedelta(seconds=10)\n",
    "niter    = 2160\n",
    "\n",
    "for i in range(niter):\n",
    "    # Update the (time-dependent) topography\n",
    "    dycore.update_topography((i+1)*timestep)\n",
    "    \n",
    "    # Calculate the microphysical tendencies\n",
    "    tendencies, _ = kessler(state)\n",
    "    \n",
    "    # Step the solution\n",
    "    state_new = dycore(state, tendencies, timestep)\n",
    "    state.update(state_new)\n",
    "    \n",
    "    # Perform the saturation adjustment\n",
    "    state_new = saturation(state)\n",
    "    state.update(state_new)\n",
    "\n",
    "    if (i+1) % 60 == 0:\n",
    "        # Plot the solution\n",
    "        plot1.axes_properties['title_right'] = str((i+1)*timestep)\n",
    "        plot2.axes_properties['title_right'] = str((i+1)*timestep)\n",
    "        fig = plot_monitor.store(((state, state), (state, state)), show=False)\n",
    "        display.clear_output(wait=True)\n",
    "        display.display(fig)\n",
    "        \n",
    "        # Cache the solution\n",
    "        netcdf_monitor.store(state)\n",
    "            \n",
    "# Write chached states to file\n",
    "netcdf_monitor.write()\n",
    "\n",
    "print('Simulation successfully completed. HOORAY!')"
   ]
  },
  {
   "cell_type": "code",
   "execution_count": null,
   "metadata": {},
   "outputs": [],
   "source": []
  }
 ],
 "metadata": {
  "kernelspec": {
   "display_name": "Python 3",
   "language": "python",
   "name": "python3"
  },
  "language_info": {
   "codemirror_mode": {
    "name": "ipython",
    "version": 3
   },
   "file_extension": ".py",
   "mimetype": "text/x-python",
   "name": "python",
   "nbconvert_exporter": "python",
   "pygments_lexer": "ipython3",
   "version": "3.5.6"
  }
 },
 "nbformat": 4,
 "nbformat_minor": 2
}
