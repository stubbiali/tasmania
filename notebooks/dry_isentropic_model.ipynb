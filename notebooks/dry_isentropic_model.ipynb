{
 "cells": [
  {
   "cell_type": "markdown",
   "metadata": {},
   "source": [
    "# GT4Py's implementation of the three-dimensional dry isentropic model"
   ]
  },
  {
   "cell_type": "markdown",
   "metadata": {},
   "source": [
    "## 1. Isentropic coordinates\n",
    "\n",
    "Let $(x, y, \\theta, t)$ be an isentropic, terrain-following coordinate system, where $x$ and $y$ are horizontal Cartesian coordinates, $\\theta$ is the potential temperature, and $t$ is the time. The potential temperature is defined by\n",
    "\\begin{equation} \n",
    "    \\theta = T \\left( \\dfrac{p}{p_{\\text{ref}}} \\right)^{R \\, / \\, c_p} \\, ,\n",
    "\\end{equation}\n",
    "with $T$ being the temperature, $p$ the pressure, $p_{\\text{ref}} = 1000$ hPa, $R$ the gas constant, and $c_p$ the specific heat at constant pressure for dry air. In the isentropic reference system, the vertical velocity is given by\n",
    "\\begin{equation*} \n",
    "    \\dot{\\theta} = \\dfrac{D \\theta}{D t} \\, ,\n",
    "\\end{equation*}\n",
    "where $D / D t$ denotes the total (i.e., Lagrangian) derivative.\n",
    "\n",
    "## 2. Governing equations in isentropic coordinates\n",
    "\n",
    "Let us introduce the horizontal velocity vector $\\boldsymbol{v} = (u, v)$, with $u$ and $v$ representing the $x$- and $y$-components, respectively, and the *isentropic density* $\\sigma$,\n",
    "\\begin{equation*}\n",
    "    \\sigma = - \\dfrac{1}{g} \\dfrac{\\partial p}{\\partial \\theta} \\, ,\n",
    "\\end{equation*}\n",
    "where $g$ is the gravitational constant. Upon assuming the atmosphere to be *adiabatic*, i.e.,\n",
    "\\begin{equation*}\n",
    "    \\dot{\\theta} = 0 \\, ,\n",
    "\\end{equation*}\n",
    "the Euler equations for the isentropic density and the velocity components can be written in isentropic coordinates as:\n",
    "\\begin{align}\n",
    "    \\label{eq:continuity_nonconservative}\n",
    "    \\dfrac{\\partial \\sigma}{\\partial t} + u \\dfrac{\\partial \\sigma}{\\partial x} + v \\dfrac{\\partial \\sigma}{\\partial y} & = 0 \\, , \\\\\n",
    "    \\label{eq:x_momentum_nonconservative}\n",
    "    \\dfrac{\\partial u}{\\partial t} + u \\dfrac{\\partial u}{\\partial x} + v \\dfrac{\\partial u}{\\partial y} & = - \\dfrac{\\partial M}{\\partial x} \\, , \\\\\n",
    "    \\label{eq:y_momentum_nonconservative}\n",
    "    \\dfrac{\\partial v}{\\partial t} + u \\dfrac{\\partial v}{\\partial x} + v \\dfrac{\\partial v}{\\partial y} & = - \\dfrac{\\partial M}{\\partial y} \\, .\n",
    "\\end{align}\n",
    "Here, $M$ is the Montgomery potential, defined by\n",
    "\\begin{equation*}\n",
    "    M = c_p \\, T + g \\, z \\, ,\n",
    "\\end{equation*}\n",
    "with $z = z(x, y, \\theta, t)$ the geometric height over sea level. The Montgomery potential occurs in the hydrostatic relation in isentropic coordinates, which read\n",
    "\\begin{equation}\n",
    "    \\label{eq:hydrostatic_relation}\n",
    "    \\dfrac{\\partial M}{\\partial \\theta} = \\Pi \\, , \\\\\n",
    "\\end{equation}\n",
    "where $\\Pi$ is the Exner function, defined by\n",
    "\\begin{equation}\n",
    "    \\label{eq:exner_function}\n",
    "    \\Pi = c_p \\left( \\dfrac{p}{p_{\\text{ref}}} \\right)^{R / c_p} = \\dfrac{c_p T}{\\theta} \\, .\n",
    "\\end{equation}\n",
    "The hyperbolic system \\eqref{eq:continuity_nonconservative}-\\eqref{eq:y_momentum_nonconservative} is said to be in *non-conservative* form. The corresponding *conservative* version reads:\n",
    "\\begin{align}\n",
    "    \\label{eq:continuity_conservative}\n",
    "    \\dfrac{\\partial \\sigma}{\\partial t} + \\dfrac{\\partial U}{\\partial x} + \\dfrac{\\partial V}{\\partial y} & = 0 \\, , \\\\\n",
    "    \\label{eq:x_momentum_conservative}\n",
    "    \\dfrac{\\partial U}{\\partial t} + \\dfrac{\\partial u U}{\\partial x} + \\dfrac{\\partial v U}{\\partial y} & = - \\sigma \\dfrac{\\partial M}{\\partial x} \\, , \\\\\n",
    "    \\label{eq:y_momentum_conservative}\n",
    "    \\dfrac{\\partial V}{\\partial t} + \\dfrac{\\partial u V}{\\partial x} + \\dfrac{\\partial v V}{\\partial y} & = - \\sigma \\dfrac{\\partial M}{\\partial y} \\, .\n",
    "\\end{align}\n",
    "where we have defined $U := \\sigma u$ and $V := \\sigma v$.\n",
    "\n",
    "## 3. Numerical model\n",
    "\n",
    "Consider a rectangular and uniform grid $(x_i, y_j, \\theta_k)$ embedded in the $(x, y, \\theta)$ computational domain $\\Omega = [x_w, \\, x_e] \\times [y_s, \\, y_n] \\times [\\theta_s, \\, \\theta_t]$. The location of the grid points is given by\n",
    "\\begin{equation*}\n",
    "    \\begin{aligned}\n",
    "        x_i & = x_w + (i - 1) \\Delta x = x_w + (i - 1) \\dfrac{x_e - x_w}{N_x - 1} \\, , && i = 1, \\, \\ldots \\, , N_x \\, , \\\\\n",
    "        y_j & = y_s + (j - 1) \\Delta y = y_s + (j - 1) \\dfrac{y_n - y_s}{N_y - 1} \\, , && j = 1, \\, \\ldots \\, , N_y \\, , \\\\\n",
    "        \\theta_k & = \\theta_s + (k - 1/2) \\Delta \\theta = \\theta_s + (k - 1/2) \\dfrac{\\theta_t - \\theta_s}{N_{\\theta}} \\, , && k = 1, \\, \\ldots \\, , N_{\\theta} \\, , \\\\\n",
    "    \\end{aligned}\n",
    "\\end{equation*}\n",
    "Here, $N_x$, $N_y$ and $N_{\\theta}$ are the number of grid points in the $x$-, $y$- and $\\theta$-direction, respectively. The model variables are staggered on a $C$-grid, whereby:\n",
    "\n",
    "-  the $x$-velocity $u$ is defined at the $x$-staggered grid points $(x_{i+1/2}, y_j, \\theta_k)$, with $x_{i+1/2} = x_w + (i - 1/2) \\Delta x$, $i = 0, \\, \\ldots \\, , N_x$;\n",
    "-  the $y$-velocity $v$ is defined at the $y$-staggered grid points $(x_i, y_{j+1/2}, \\theta_k)$, with $y_{j+1/2} = y_s + (j - 1/2) \\Delta y$, $j = 0, \\, \\ldots \\, , N_y$;\n",
    "-  the pressure and the Exner function are defined at the vertical half levels $\\theta_{k+1/2} = \\theta_s + k \\Delta \\theta$, $k = 0, \\, \\ldots \\, , N_{\\theta}$;\n",
    "-  any other field is defined at the mass points $(x_i, y_j, \\theta_k)$.\n",
    "\n",
    "At the generic $n$-th timestep $t_n = n \\Delta_t$, where $\\Delta_t$ is the timestep size, the prognostic equations \\eqref{eq:continuity_conservative}-\\eqref{eq:y_momentum_conservative} are discretized using space- and time-centered finite differences:\n",
    "\\begin{align}\n",
    "    \\dfrac{s_{i,j,k}^{n+1} - s_{i,j,k}^{n-1}}{\\Delta}\n",
    "\\end{align}"
   ]
  },
  {
   "cell_type": "markdown",
   "metadata": {},
   "source": [
    "## 4. Simulation using GT4Py"
   ]
  },
  {
   "cell_type": "code",
   "execution_count": null,
   "metadata": {},
   "outputs": [],
   "source": [
    "# Import built-in modules and classes\n",
    "from datetime import datetime, timedelta\n",
    "import os\n",
    "import pickle\n",
    "import sys\n",
    "import time\n",
    "\n",
    "# Import modules and classes from GT4Py and Tasmania libraries\n",
    "import gridtools as gt\n",
    "from tasmania.grids.grid_xyz import GridXYZ as Grid\n",
    "from tasmania.dycore.dycore import DynamicalCore\n",
    "from tasmania.model import Model\n"
   ]
  },
  {
   "cell_type": "code",
   "execution_count": null,
   "metadata": {},
   "outputs": [],
   "source": [
    "# Create the grid\n",
    "start = time.time()\n",
    "grid = Grid(domain_x = [0, 500.e3], nx = 51, domain_y = [-250.e3, 250.e3], ny = 51, domain_z = [400, 300], nz = 50,\n",
    "            units_x = 'm', dims_x = 'x', units_y = 'm', dims_y = 'm', units_z = 'K', dims_z = 'air_potential_temperature',\n",
    "            topo_type = 'gaussian', topo_time = timedelta(seconds = 1800), topo_max_height = 1000., \n",
    "            topo_width_x = 50.e3, topo_width_y = 50.e3)\n",
    "stop = time.time()\n",
    "print('Grid created in {} ms.\\n'.format((stop - start) * 1000.))"
   ]
  },
  {
   "cell_type": "code",
   "execution_count": null,
   "metadata": {},
   "outputs": [],
   "source": [
    "# Instantiate the dycore\n",
    "start = time.time()\n",
    "dycore = DynamicalCore.factory(model = 'isentropic', time_scheme = 'centered', flux_scheme = 'centered', \n",
    "                               horizontal_boundary_type = 'relaxed', grid = grid, moist_on = False, backend = gt.mode.NUMPY, \n",
    "                               damp_on = True, damp_type = 'rayleigh', damp_depth = 15, damp_max = 0.0002,\n",
    "                               smooth_on = True, smooth_type = 'first_order', smooth_coeff = 0.03)\n",
    "stop = time.time()\n",
    "print('Dycore instantiated in {} ms.\\n'.format((stop-start) * 1000.))"
   ]
  },
  {
   "cell_type": "code",
   "execution_count": null,
   "metadata": {},
   "outputs": [],
   "source": [
    "# Instantiate the model\n",
    "start = time.time()\n",
    "model = Model(dycore)\n",
    "stop = time.time()\n",
    "print('Model instantiated in {} ms.\\n'.format((stop-start) * 1000.))"
   ]
  },
  {
   "cell_type": "code",
   "execution_count": null,
   "metadata": {},
   "outputs": [],
   "source": [
    "# Compute the initial state\n",
    "start = time.time()\n",
    "state = dycore.get_initial_state(initial_time = datetime(year = 2018, month = 3, day = 15), initial_state_type = 0, \n",
    "                                 x_velocity_initial = 15., y_velocity_initial = 0., brunt_vaisala_initial = 0.01)\n",
    "stop = time.time()\n",
    "print('Initial state computed in {} ms.\\n'.format((stop-start) * 1000.))"
   ]
  },
  {
   "cell_type": "code",
   "execution_count": null,
   "metadata": {},
   "outputs": [],
   "source": [
    "# Let's run!\n",
    "print('Start the simulation ...\\n')\n",
    "start = time.time()\n",
    "state_out, state_save = model(dt = timedelta(seconds = 24), simulation_time = timedelta(hours = 12), state = state)\n",
    "stop = time.time()\n",
    "print('\\nSimulation completed in {} s.\\n'.format(stop-start))"
   ]
  },
  {
   "cell_type": "markdown",
   "metadata": {},
   "source": [
    "## 5. Post-processing"
   ]
  },
  {
   "cell_type": "code",
   "execution_count": null,
   "metadata": {},
   "outputs": [],
   "source": [
    "# Some post-processing: generate the contourf plot for the x-velocity at y = 0\n",
    "state_save.contourf_xz(field_to_plot = 'x_velocity', y_level = 25, time_level = -1,\n",
    "                       fontsize = 16, figsize = [7,8], title = '', \n",
    "                       x_factor = 1.e-3, x_label = '$x$ [km]',\n",
    "                       z_factor = 1.e-3, z_label = '$z$ [km]', z_lim = [0,20], \n",
    "                       cmap_name = 'BuRd',\n",
    "                       cbar_levels = 14, cbar_ticks_step = 2, cbar_center = 15., cbar_half_width = 6.5,\n",
    "                       cbar_x_label = '$x$-velocity [m s$^{-1}$]', cbar_orientation = 'horizontal',\n",
    "                       text = '$y = 0$', text_loc = 'upper right')"
   ]
  },
  {
   "cell_type": "code",
   "execution_count": null,
   "metadata": {},
   "outputs": [],
   "source": [
    "# Some further post-processing: generate the contourf plot for the horizontal velocity at the surface layer\n",
    "state_save.contourf_xy(field_to_plot = 'horizontal_velocity', z_level = -1, time_level = -1,\n",
    "                       fontsize = 16, figsize = [7,8], title = '', \n",
    "                       x_factor = 1.e-3, x_label = '$x$ [km]',\n",
    "                       y_factor = 1.e-3, y_label = '$y$ [km]', \n",
    "                       cmap_name = 'BuRd',\n",
    "                       cbar_levels = 14, cbar_ticks_step = 2, cbar_center = 15., cbar_half_width = 6.5,\n",
    "                       cbar_x_label = 'Horizontal velocity [m s$^{-1}$]', cbar_orientation = 'horizontal',\n",
    "                       text = '$\\\\theta = \\\\theta_s$', text_loc = 'upper right')"
   ]
  },
  {
   "cell_type": "code",
   "execution_count": null,
   "metadata": {},
   "outputs": [],
   "source": []
  }
 ],
 "metadata": {
  "kernelspec": {
   "display_name": "Python 3",
   "language": "python",
   "name": "python3"
  },
  "language_info": {
   "codemirror_mode": {
    "name": "ipython",
    "version": 3
   },
   "file_extension": ".py",
   "mimetype": "text/x-python",
   "name": "python",
   "nbconvert_exporter": "python",
   "pygments_lexer": "ipython3",
   "version": "3.4.2"
  }
 },
 "nbformat": 4,
 "nbformat_minor": 2
}
