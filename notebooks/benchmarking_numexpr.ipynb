{
 "cells": [
  {
   "cell_type": "markdown",
   "metadata": {},
   "source": [
    "# Benchmarking: numexpr\n",
    "\n",
    "Timing a numexpr implementation of some basic mathematical operations."
   ]
  },
  {
   "cell_type": "markdown",
   "metadata": {},
   "source": [
    "## User input"
   ]
  },
  {
   "cell_type": "code",
   "execution_count": 1,
   "metadata": {},
   "outputs": [],
   "source": [
    "import numpy as np\n",
    "\n",
    "# storage\n",
    "dtype = np.float64\n",
    "storage_shape = (321, 321, 120)\n",
    "\n",
    "# serialization\n",
    "serialize = True\n",
    "filename = \"timings_daint.xlsx\"\n",
    "sheetname = \"{} x {} x {}\".format(*storage_shape)"
   ]
  },
  {
   "cell_type": "markdown",
   "metadata": {},
   "source": [
    "## Data initialization"
   ]
  },
  {
   "cell_type": "code",
   "execution_count": 2,
   "metadata": {},
   "outputs": [],
   "source": [
    "# install and import numexpr\n",
    "is_installed = !pip list 2> /dev/null | grep 'numexpr'\n",
    "if not is_installed:\n",
    "    !pip install numexpr\n",
    "import numexpr as ne"
   ]
  },
  {
   "cell_type": "code",
   "execution_count": 3,
   "metadata": {},
   "outputs": [],
   "source": [
    "from copy import deepcopy\n",
    "\n",
    "a = np.zeros(storage_shape, dtype=dtype)\n",
    "a[...] = np.random.rand(*storage_shape)\n",
    "a_dc = deepcopy(a)\n",
    "b = np.zeros(storage_shape, dtype=dtype)\n",
    "b[...] = np.random.rand(*storage_shape)\n",
    "c = np.zeros(storage_shape, dtype=dtype)\n",
    "c[...] = np.random.rand(*storage_shape)\n",
    "d = np.zeros(storage_shape, dtype=dtype)\n",
    "\n",
    "f = np.random.rand(1).item()"
   ]
  },
  {
   "cell_type": "markdown",
   "metadata": {},
   "source": [
    "## Serialization setup"
   ]
  },
  {
   "cell_type": "code",
   "execution_count": 4,
   "metadata": {},
   "outputs": [],
   "source": [
    "# install and import openpyxl\n",
    "is_installed = !pip list 2> /dev/null | grep 'openpyxl'\n",
    "if not is_installed:\n",
    "    !pip install openpyxl==2.6\n",
    "import openpyxl as xl\n",
    "\n",
    "# install and import pandas\n",
    "is_installed = !pip list 2> /dev/null | grep 'pandas'\n",
    "if not is_installed:\n",
    "    !pip install pandas\n",
    "import pandas as pd\n",
    "\n",
    "# install xlrd\n",
    "is_installed = !pip list 2> /dev/null | grep 'xlrd'\n",
    "if not is_installed:\n",
    "    !pip install xlrd"
   ]
  },
  {
   "cell_type": "code",
   "execution_count": 5,
   "metadata": {},
   "outputs": [],
   "source": [
    "# dataframe's indices and column\n",
    "index = [\n",
    "    \"copychange\", \n",
    "    \"add\", \n",
    "    \"sub\", \n",
    "    \"mul\", \n",
    "    \"addsub\",\n",
    "    \"fma\",\n",
    "    \"sts_rk2_0\",\n",
    "    \"sts_rk3ws_0\"\n",
    "]\n",
    "column = \"numexpr\"\n",
    "    \n",
    "if serialize:\n",
    "    # create the spreadsheet\n",
    "    import os\n",
    "    if not os.path.exists(filename):\n",
    "        wb = xl.Workbook()\n",
    "        wb.save(filename=filename)\n",
    "    else:\n",
    "        wb = xl.load_workbook(filename)\n",
    "        \n",
    "    # create an ExcelWriter object\n",
    "    with pd.ExcelWriter(filename, engine=\"openpyxl\") as writer:\n",
    "        writer.book = wb\n",
    "        # writer.sheets = dict((ws.title, ws) for ws in wb.worksheets)\n",
    "    \n",
    "    if sheetname not in wb.sheetnames:\n",
    "        # create an empty dataframe\n",
    "        df = pd.DataFrame(data=[None,]*len(index), index=index, columns=[column,])\n",
    "        df.to_excel(writer, sheet_name=sheetname)\n",
    "    else:\n",
    "        # load the dataframe\n",
    "        df = pd.read_excel(writer, sheet_name=sheetname, index_col=0)\n",
    "        \n",
    "        # remove the sheet\n",
    "        sheetid = wb.sheetnames.index(sheetname)\n",
    "        wb.remove(wb.worksheets[sheetid])\n",
    "else:\n",
    "    # create the dataframe\n",
    "    df = pd.DataFrame(data=[None,]*len(index), index=index, columns=[column,])"
   ]
  },
  {
   "cell_type": "markdown",
   "metadata": {},
   "source": [
    "## Timing"
   ]
  },
  {
   "cell_type": "code",
   "execution_count": 6,
   "metadata": {},
   "outputs": [
    {
     "name": "stdout",
     "output_type": "stream",
     "text": [
      "10.8 ms ± 24.6 µs per loop (mean ± std. dev. of 7 runs, 100 loops each)\n"
     ]
    }
   ],
   "source": [
    "# copychange\n",
    "out = %timeit -o c = ne.evaluate(\"-b\")"
   ]
  },
  {
   "cell_type": "code",
   "execution_count": 7,
   "metadata": {},
   "outputs": [
    {
     "name": "stdout",
     "output_type": "stream",
     "text": [
      "20 ms ± 21.3 µs per loop (mean ± std. dev. of 7 runs, 10 loops each)\n"
     ]
    }
   ],
   "source": [
    "# copychange with assignment\n",
    "out = %timeit -o c[...] = ne.evaluate(\"-b\")\n",
    "df.at[\"copychange\", column] = 1000 * out.average"
   ]
  },
  {
   "cell_type": "code",
   "execution_count": 8,
   "metadata": {
    "pycharm": {
     "name": "#%%\n"
    }
   },
   "outputs": [
    {
     "name": "stdout",
     "output_type": "stream",
     "text": [
      "11.6 ms ± 10.9 µs per loop (mean ± std. dev. of 7 runs, 100 loops each)\n"
     ]
    }
   ],
   "source": [
    "# add\n",
    "out = %timeit -o c = ne.evaluate(\"a + b\")"
   ]
  },
  {
   "cell_type": "code",
   "execution_count": 9,
   "metadata": {
    "pycharm": {
     "name": "#%%\n"
    }
   },
   "outputs": [
    {
     "name": "stdout",
     "output_type": "stream",
     "text": [
      "20.9 ms ± 81.2 µs per loop (mean ± std. dev. of 7 runs, 10 loops each)\n"
     ]
    }
   ],
   "source": [
    "# add with assignment\n",
    "out = %timeit -o c[...] = ne.evaluate(\"a + b\")\n",
    "df.at[\"add\", column] = 1000 * out.average"
   ]
  },
  {
   "cell_type": "code",
   "execution_count": 10,
   "metadata": {},
   "outputs": [
    {
     "name": "stdout",
     "output_type": "stream",
     "text": [
      "11.6 ms ± 14.8 µs per loop (mean ± std. dev. of 7 runs, 100 loops each)\n"
     ]
    }
   ],
   "source": [
    "# sub\n",
    "out = %timeit -o c = ne.evaluate(\"a - b\")"
   ]
  },
  {
   "cell_type": "code",
   "execution_count": 11,
   "metadata": {},
   "outputs": [
    {
     "name": "stdout",
     "output_type": "stream",
     "text": [
      "20.9 ms ± 77.6 µs per loop (mean ± std. dev. of 7 runs, 10 loops each)\n"
     ]
    }
   ],
   "source": [
    "# sub with assignment\n",
    "out = %timeit -o c[...] = ne.evaluate(\"a - b\")\n",
    "df.at[\"sub\", column] = 1000 * out.average"
   ]
  },
  {
   "cell_type": "code",
   "execution_count": 12,
   "metadata": {
    "pycharm": {
     "name": "#%%\n"
    }
   },
   "outputs": [
    {
     "name": "stdout",
     "output_type": "stream",
     "text": [
      "12.2 ms ± 63.3 µs per loop (mean ± std. dev. of 7 runs, 100 loops each)\n"
     ]
    }
   ],
   "source": [
    "# mul\n",
    "out = %timeit -o c = ne.evaluate(\"a + b\")"
   ]
  },
  {
   "cell_type": "code",
   "execution_count": 13,
   "metadata": {
    "pycharm": {
     "name": "#%%\n"
    }
   },
   "outputs": [
    {
     "name": "stdout",
     "output_type": "stream",
     "text": [
      "22.2 ms ± 113 µs per loop (mean ± std. dev. of 7 runs, 10 loops each)\n"
     ]
    }
   ],
   "source": [
    "# mul with assignment\n",
    "out = %timeit -o c[...] = ne.evaluate(\"a + b\")\n",
    "df.at[\"mul\", column] = 1000 * out.average"
   ]
  },
  {
   "cell_type": "code",
   "execution_count": 14,
   "metadata": {},
   "outputs": [
    {
     "name": "stdout",
     "output_type": "stream",
     "text": [
      "14.1 ms ± 31.5 µs per loop (mean ± std. dev. of 7 runs, 100 loops each)\n"
     ]
    }
   ],
   "source": [
    "# addsub\n",
    "out = %timeit -o d = ne.evaluate(\"a + b - c\")"
   ]
  },
  {
   "cell_type": "code",
   "execution_count": 15,
   "metadata": {},
   "outputs": [
    {
     "name": "stdout",
     "output_type": "stream",
     "text": [
      "24 ms ± 66.7 µs per loop (mean ± std. dev. of 7 runs, 10 loops each)\n"
     ]
    }
   ],
   "source": [
    "# addsub with assignment\n",
    "out = %timeit -o d[...] = ne.evaluate(\"a + b - c\")\n",
    "df.at[\"addsub\", column] = 1000 * out.average"
   ]
  },
  {
   "cell_type": "code",
   "execution_count": 16,
   "metadata": {},
   "outputs": [
    {
     "name": "stdout",
     "output_type": "stream",
     "text": [
      "13.1 ms ± 15.7 µs per loop (mean ± std. dev. of 7 runs, 100 loops each)\n"
     ]
    }
   ],
   "source": [
    "# fma\n",
    "out = %timeit -o c = ne.evaluate(\"a + f * b\")"
   ]
  },
  {
   "cell_type": "code",
   "execution_count": 17,
   "metadata": {},
   "outputs": [
    {
     "name": "stdout",
     "output_type": "stream",
     "text": [
      "23.2 ms ± 168 µs per loop (mean ± std. dev. of 7 runs, 10 loops each)\n"
     ]
    }
   ],
   "source": [
    "# fma with assignment\n",
    "out = %timeit -o c[...] = ne.evaluate(\"a + f * b\")\n",
    "df.at[\"fma\", column] = 1000 * out.average"
   ]
  },
  {
   "cell_type": "code",
   "execution_count": 18,
   "metadata": {},
   "outputs": [
    {
     "name": "stdout",
     "output_type": "stream",
     "text": [
      "15.8 ms ± 23.5 µs per loop (mean ± std. dev. of 7 runs, 100 loops each)\n"
     ]
    }
   ],
   "source": [
    "# sts_rk2_0\n",
    "out = %timeit -o d = ne.evaluate(\"0.5 * (a + b + f * c)\")"
   ]
  },
  {
   "cell_type": "code",
   "execution_count": 19,
   "metadata": {},
   "outputs": [
    {
     "name": "stdout",
     "output_type": "stream",
     "text": [
      "25.9 ms ± 70 µs per loop (mean ± std. dev. of 7 runs, 10 loops each)\n"
     ]
    }
   ],
   "source": [
    "# sts_rk2_0 with assignment\n",
    "out = %timeit -o d[...] = ne.evaluate(\"0.5 * (a + b + f * c)\")\n",
    "df.at[\"sts_rk2_0\", column] = 1000 * out.average"
   ]
  },
  {
   "cell_type": "code",
   "execution_count": 20,
   "metadata": {},
   "outputs": [
    {
     "name": "stdout",
     "output_type": "stream",
     "text": [
      "16.4 ms ± 35.2 µs per loop (mean ± std. dev. of 7 runs, 100 loops each)\n"
     ]
    }
   ],
   "source": [
    "# sts_rk3ws_0\n",
    "out = %timeit -o d = ne.evaluate(\"2.0 * (a + b + f * c) / 3.0\")"
   ]
  },
  {
   "cell_type": "code",
   "execution_count": 21,
   "metadata": {},
   "outputs": [
    {
     "name": "stdout",
     "output_type": "stream",
     "text": [
      "26.5 ms ± 246 µs per loop (mean ± std. dev. of 7 runs, 10 loops each)\n"
     ]
    }
   ],
   "source": [
    "# sts_rk3ws_0 with assignment\n",
    "out = %timeit -o d[...] = ne.evaluate(\"2.0 * (a + b + f * c) / 3.0\")\n",
    "df.at[\"sts_rk3ws_0\", column] = 1000 * out.average"
   ]
  },
  {
   "cell_type": "markdown",
   "metadata": {},
   "source": [
    "## Serialization"
   ]
  },
  {
   "cell_type": "code",
   "execution_count": 22,
   "metadata": {},
   "outputs": [],
   "source": [
    "if serialize:\n",
    "    df.to_excel(writer, sheet_name=sheetname)\n",
    "    writer.save()"
   ]
  },
  {
   "cell_type": "code",
   "execution_count": 23,
   "metadata": {},
   "outputs": [
    {
     "data": {
      "text/html": [
       "<div>\n",
       "<style scoped>\n",
       "    .dataframe tbody tr th:only-of-type {\n",
       "        vertical-align: middle;\n",
       "    }\n",
       "\n",
       "    .dataframe tbody tr th {\n",
       "        vertical-align: top;\n",
       "    }\n",
       "\n",
       "    .dataframe thead th {\n",
       "        text-align: right;\n",
       "    }\n",
       "</style>\n",
       "<table border=\"1\" class=\"dataframe\">\n",
       "  <thead>\n",
       "    <tr style=\"text-align: right;\">\n",
       "      <th></th>\n",
       "      <th>numpy</th>\n",
       "      <th>numexpr</th>\n",
       "    </tr>\n",
       "  </thead>\n",
       "  <tbody>\n",
       "    <tr>\n",
       "      <th>copy</th>\n",
       "      <td>9.449362</td>\n",
       "      <td>NaN</td>\n",
       "    </tr>\n",
       "    <tr>\n",
       "      <th>copychange</th>\n",
       "      <td>50.337060</td>\n",
       "      <td>20.007233</td>\n",
       "    </tr>\n",
       "    <tr>\n",
       "      <th>abs</th>\n",
       "      <td>49.926181</td>\n",
       "      <td>NaN</td>\n",
       "    </tr>\n",
       "    <tr>\n",
       "      <th>iabs</th>\n",
       "      <td>50.135189</td>\n",
       "      <td>NaN</td>\n",
       "    </tr>\n",
       "    <tr>\n",
       "      <th>add</th>\n",
       "      <td>55.094303</td>\n",
       "      <td>20.875209</td>\n",
       "    </tr>\n",
       "    <tr>\n",
       "      <th>iadd</th>\n",
       "      <td>15.295182</td>\n",
       "      <td>NaN</td>\n",
       "    </tr>\n",
       "    <tr>\n",
       "      <th>sub</th>\n",
       "      <td>54.904362</td>\n",
       "      <td>20.907313</td>\n",
       "    </tr>\n",
       "    <tr>\n",
       "      <th>isub</th>\n",
       "      <td>15.501360</td>\n",
       "      <td>NaN</td>\n",
       "    </tr>\n",
       "    <tr>\n",
       "      <th>mul</th>\n",
       "      <td>55.079714</td>\n",
       "      <td>22.223766</td>\n",
       "    </tr>\n",
       "    <tr>\n",
       "      <th>imul</th>\n",
       "      <td>18.344740</td>\n",
       "      <td>NaN</td>\n",
       "    </tr>\n",
       "    <tr>\n",
       "      <th>addsub</th>\n",
       "      <td>70.138277</td>\n",
       "      <td>24.001181</td>\n",
       "    </tr>\n",
       "    <tr>\n",
       "      <th>iaddsub</th>\n",
       "      <td>60.744616</td>\n",
       "      <td>NaN</td>\n",
       "    </tr>\n",
       "    <tr>\n",
       "      <th>fma</th>\n",
       "      <td>65.136639</td>\n",
       "      <td>23.211880</td>\n",
       "    </tr>\n",
       "    <tr>\n",
       "      <th>sts_rk2_0</th>\n",
       "      <td>121.033543</td>\n",
       "      <td>25.934712</td>\n",
       "    </tr>\n",
       "    <tr>\n",
       "      <th>sts_rk3ws_0</th>\n",
       "      <td>146.867368</td>\n",
       "      <td>26.473103</td>\n",
       "    </tr>\n",
       "  </tbody>\n",
       "</table>\n",
       "</div>"
      ],
      "text/plain": [
       "                  numpy    numexpr\n",
       "copy           9.449362        NaN\n",
       "copychange    50.337060  20.007233\n",
       "abs           49.926181        NaN\n",
       "iabs          50.135189        NaN\n",
       "add           55.094303  20.875209\n",
       "iadd          15.295182        NaN\n",
       "sub           54.904362  20.907313\n",
       "isub          15.501360        NaN\n",
       "mul           55.079714  22.223766\n",
       "imul          18.344740        NaN\n",
       "addsub        70.138277  24.001181\n",
       "iaddsub       60.744616        NaN\n",
       "fma           65.136639  23.211880\n",
       "sts_rk2_0    121.033543  25.934712\n",
       "sts_rk3ws_0  146.867368  26.473103"
      ]
     },
     "execution_count": 23,
     "metadata": {},
     "output_type": "execute_result"
    }
   ],
   "source": [
    "df"
   ]
  }
 ],
 "metadata": {
  "kernelspec": {
   "display_name": "tazkernel",
   "language": "python",
   "name": "tazkernel"
  },
  "language_info": {
   "codemirror_mode": {
    "name": "ipython",
    "version": 3
   },
   "file_extension": ".py",
   "mimetype": "text/x-python",
   "name": "python",
   "nbconvert_exporter": "python",
   "pygments_lexer": "ipython3",
   "version": "3.6.5"
  },
  "pycharm": {
   "stem_cell": {
    "cell_type": "raw",
    "metadata": {
     "collapsed": false
    },
    "source": []
   }
  }
 },
 "nbformat": 4,
 "nbformat_minor": 4
}
