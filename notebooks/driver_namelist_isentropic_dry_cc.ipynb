{
 "cells": [
  {
   "cell_type": "markdown",
   "metadata": {},
   "source": [
    "A hydrostatic model in isentropic coordinates implementing the concurrent coupling method\n",
    "=="
   ]
  },
  {
   "cell_type": "code",
   "execution_count": 1,
   "metadata": {},
   "outputs": [],
   "source": [
    "from datetime import timedelta\n",
    "import gridtools as gt\n",
    "import numpy as np\n",
    "import os\n",
    "import tasmania as taz\n",
    "\n",
    "# Interactive plotting\n",
    "from IPython import display\n",
    "%matplotlib nbagg\n",
    "\n",
    "import namelist_isentropic_dry as nl"
   ]
  },
  {
   "cell_type": "markdown",
   "metadata": {},
   "source": [
    "The underlying grid\n",
    "--"
   ]
  },
  {
   "cell_type": "code",
   "execution_count": 2,
   "metadata": {},
   "outputs": [],
   "source": [
    "grid = taz.GridXYZ(\n",
    "    nl.domain_x, nl.nx, nl.domain_y, nl.ny, nl.domain_z, nl.nz,\n",
    "    topo_type=nl.topo_type, topo_time=nl.topo_time, topo_kwargs=nl.topo_kwargs,\n",
    "    dtype=nl.dtype\n",
    ")"
   ]
  },
  {
   "cell_type": "markdown",
   "metadata": {},
   "source": [
    "The initial state\n",
    "--"
   ]
  },
  {
   "cell_type": "code",
   "execution_count": 3,
   "metadata": {},
   "outputs": [],
   "source": [
    "if nl.isothermal:  # uniform temperature\n",
    "    state = taz.get_isothermal_isentropic_state(\n",
    "        grid, nl.init_time, nl.init_x_velocity, nl.init_y_velocity,\n",
    "        nl.init_temperature, dtype=nl.dtype\n",
    "    )\n",
    "else:  # uniform brunt-vaisala frequency\n",
    "    state = taz.get_default_isentropic_state(\n",
    "        grid, nl.init_time, nl.init_x_velocity, nl.init_y_velocity,\n",
    "        nl.init_brunt_vaisala, dtype=nl.dtype\n",
    "    )"
   ]
  },
  {
   "cell_type": "markdown",
   "metadata": {},
   "source": [
    "The intermediate tendencies\n",
    "--"
   ]
  },
  {
   "cell_type": "code",
   "execution_count": 4,
   "metadata": {},
   "outputs": [],
   "source": [
    "# Component calculating the pressure gradient in isentropic coordinates\n",
    "order = 4 if nl.horizontal_flux_scheme == 'fifth_order_upwind' else 2\n",
    "pg = taz.ConservativeIsentropicPressureGradient(\n",
    "    grid, order=order,\n",
    "    horizontal_boundary_type=nl.horizontal_boundary_type,\n",
    "    backend=nl.backend, dtype=nl.dtype\n",
    ")\n",
    "\n",
    "if nl.coriolis:\n",
    "    # Component calculating the Coriolis acceleration\n",
    "    cf = taz.ConservativeIsentropicCoriolis(\n",
    "        grid, coriolis_parameter=nl.coriolis_parameter, dtype=nl.dtype\n",
    "    )\n",
    "\n",
    "    # Wrap the components in a ConcurrentCoupling object\n",
    "    inter_tends = taz.ConcurrentCoupling(pg, cf, execution_policy='serial')\n",
    "else:\n",
    "    # Wrap the components in a ConcurrentCoupling object\n",
    "    inter_tends = taz.ConcurrentCoupling(pg, execution_policy='serial')"
   ]
  },
  {
   "cell_type": "markdown",
   "metadata": {},
   "source": [
    "The intermediate diagnostics\n",
    "--"
   ]
  },
  {
   "cell_type": "code",
   "execution_count": 5,
   "metadata": {},
   "outputs": [],
   "source": [
    "# Component retrieving the diagnostic variables\n",
    "pt = state['air_pressure_on_interface_levels'][0, 0, 0]\n",
    "dv = taz.IsentropicDiagnostics(\n",
    "    grid, moist=True, pt=pt, backend=nl.backend, dtype=nl.dtype\n",
    ")\n",
    "\n",
    "# Wrap the components in a TasmaniaDiagnosticComponentComposite object\n",
    "inter_diags = taz.DiagnosticComponentComposite(dv)"
   ]
  },
  {
   "cell_type": "markdown",
   "metadata": {},
   "source": [
    "The slow diagnostics\n",
    "--"
   ]
  },
  {
   "cell_type": "code",
   "execution_count": 6,
   "metadata": {},
   "outputs": [
    {
     "ename": "AttributeError",
     "evalue": "module 'tasmania' has no attribute 'IsentropicHorizontalSmoothing'",
     "output_type": "error",
     "traceback": [
      "\u001b[0;31m---------------------------------------------------------------------------\u001b[0m",
      "\u001b[0;31mAttributeError\u001b[0m                            Traceback (most recent call last)",
      "\u001b[0;32m<ipython-input-6-34728ac62f40>\u001b[0m in \u001b[0;36m<module>\u001b[0;34m()\u001b[0m\n\u001b[1;32m      3\u001b[0m \u001b[0;32mif\u001b[0m \u001b[0mnl\u001b[0m\u001b[0;34m.\u001b[0m\u001b[0msmooth\u001b[0m\u001b[0;34m:\u001b[0m\u001b[0;34m\u001b[0m\u001b[0;34m\u001b[0m\u001b[0m\n\u001b[1;32m      4\u001b[0m     \u001b[0;31m# Component performing the horizontal smoothing\u001b[0m\u001b[0;34m\u001b[0m\u001b[0;34m\u001b[0m\u001b[0;34m\u001b[0m\u001b[0m\n\u001b[0;32m----> 5\u001b[0;31m     hs = taz.IsentropicHorizontalSmoothing(\n\u001b[0m\u001b[1;32m      6\u001b[0m         \u001b[0mnl\u001b[0m\u001b[0;34m.\u001b[0m\u001b[0msmooth_type\u001b[0m\u001b[0;34m,\u001b[0m \u001b[0mgrid\u001b[0m\u001b[0;34m,\u001b[0m \u001b[0mnl\u001b[0m\u001b[0;34m.\u001b[0m\u001b[0msmooth_damp_depth\u001b[0m\u001b[0;34m,\u001b[0m \u001b[0mnl\u001b[0m\u001b[0;34m.\u001b[0m\u001b[0msmooth_coeff\u001b[0m\u001b[0;34m,\u001b[0m \u001b[0mnl\u001b[0m\u001b[0;34m.\u001b[0m\u001b[0msmooth_coeff_max\u001b[0m\u001b[0;34m,\u001b[0m\u001b[0;34m\u001b[0m\u001b[0;34m\u001b[0m\u001b[0m\n\u001b[1;32m      7\u001b[0m         \u001b[0mbackend\u001b[0m\u001b[0;34m=\u001b[0m\u001b[0mnl\u001b[0m\u001b[0;34m.\u001b[0m\u001b[0mbackend\u001b[0m\u001b[0;34m,\u001b[0m \u001b[0mdtype\u001b[0m\u001b[0;34m=\u001b[0m\u001b[0mnl\u001b[0m\u001b[0;34m.\u001b[0m\u001b[0mdtype\u001b[0m\u001b[0;34m\u001b[0m\u001b[0;34m\u001b[0m\u001b[0m\n",
      "\u001b[0;31mAttributeError\u001b[0m: module 'tasmania' has no attribute 'IsentropicHorizontalSmoothing'"
     ]
    }
   ],
   "source": [
    "args = []\n",
    "\n",
    "if nl.smooth:\n",
    "    # Component performing the horizontal smoothing\n",
    "    hs = taz.IsentropicHorizontalSmoothing(\n",
    "        nl.smooth_type, grid, nl.smooth_damp_depth, nl.smooth_coeff, nl.smooth_coeff_max,\n",
    "        backend=nl.backend, dtype=nl.dtype\n",
    "    )\n",
    "    args.append(hs)\n",
    "\n",
    "# The component calculating the velocity components\n",
    "vc = taz.IsentropicVelocityComponents(\n",
    "    grid, horizontal_boundary_type=nl.horizontal_boundary_type, \n",
    "    reference_state=state, backend=nl.backend, dtype=nl.dtype\n",
    ")\n",
    "args.append(vc)\n",
    "\n",
    "# Wrap the components in a DiagnosticComponentComposite object\n",
    "args.append(dv)\n",
    "slow_diags = taz.DiagnosticComponentComposite(*args)"
   ]
  },
  {
   "cell_type": "markdown",
   "metadata": {},
   "source": [
    "The dynamical core\n",
    "--"
   ]
  },
  {
   "cell_type": "code",
   "execution_count": null,
   "metadata": {},
   "outputs": [],
   "source": [
    "dycore = taz.HomogeneousIsentropicDynamicalCore(\n",
    "    grid, time_units='s', moist=False,\n",
    "    # parameterizations\n",
    "    intermediate_tendencies=inter_tends, intermediate_diagnostics=inter_diags,\n",
    "    substeps=nl.substeps, fast_tendencies=None, fast_diagnostics=None,\n",
    "    # numerical scheme\n",
    "    time_integration_scheme=nl.time_integration_scheme,\n",
    "    horizontal_flux_scheme=nl.horizontal_flux_scheme,\n",
    "    horizontal_boundary_type=nl.horizontal_boundary_type,\n",
    "    # horizontal smoothing\n",
    "    smooth=False,\n",
    "    # vertical damping\n",
    "    damp=nl.damp, damp_type=nl.damp_type, damp_depth=nl.damp_depth,\n",
    "    damp_max=nl.damp_max, damp_at_every_stage=nl.damp_at_every_stage,\n",
    "    # backend settings\n",
    "    backend=nl.backend, dtype=nl.dtype\n",
    ")"
   ]
  },
  {
   "cell_type": "markdown",
   "metadata": {},
   "source": [
    "A NetCDF monitor\n",
    "--"
   ]
  },
  {
   "cell_type": "code",
   "execution_count": null,
   "metadata": {},
   "outputs": [],
   "source": [
    "if nl.filename is not None:\n",
    "    if os.path.exists(nl.filename):\n",
    "        os.remove(nl.filename)\n",
    "    netcdf_monitor = taz.NetCDFMonitor(nl.filename, grid)\n",
    "    netcdf_monitor.store(state)"
   ]
  },
  {
   "cell_type": "markdown",
   "metadata": {},
   "source": [
    "A visualization monitor\n",
    "--"
   ]
  },
  {
   "cell_type": "code",
   "execution_count": null,
   "metadata": {},
   "outputs": [],
   "source": [
    "# The drawers and the artist generating the left subplot\n",
    "drawer1_properties = {\n",
    "    'fontsize': 16, 'cmap_name': 'BuRd', 'cbar_on': True, \n",
    "    'cbar_levels': 18, 'cbar_ticks_step': 4, 'cbar_center': 15,\n",
    "    'cbar_orientation': 'horizontal',\n",
    "    'cbar_x_label': 'Horizontal velocity [m s$^{-1}$]',\n",
    "    'draw_vertical_levels': False,\n",
    "}\n",
    "drawer1 = taz.Contourf(\n",
    "    grid, 'horizontal_velocity', 'm s^-1', z=-1,  \n",
    "    xaxis_units='km', yaxis_units='km', properties=drawer1_properties,\n",
    ")\n",
    "drawer2_properties = {\n",
    "    'fontsize': 16, 'x_step': 2, 'y_step': 2, 'colors': 'black',\n",
    "    'draw_vertical_levels': False, 'alpha': 0.5,\n",
    "}\n",
    "drawer2 = taz.Quiver(\n",
    "    grid, z=-1, xaxis_units='km', yaxis_units='km',\n",
    "    xcomp_name='x_velocity', xcomp_units='m s^-1',\n",
    "    ycomp_name='y_velocity', ycomp_units='m s^-1',\n",
    "    properties=drawer2_properties\n",
    ")\n",
    "axes1_properties = {\n",
    "    'fontsize': 16, 'title_left': '$\\\\theta = 280$ K',\n",
    "    'x_label': '$x$ [km]', 'x_lim': [-400, 400],\n",
    "    'y_label': '$y$ [km]', 'y_lim': [-400, 400],\n",
    "}\n",
    "topo_drawer = taz.Contour(\n",
    "    grid, 'topography', 'm', z=-1,\n",
    "    xaxis_units='km', yaxis_units='km', properties={'colors': 'darkgray'}\n",
    ")\n",
    "plot1 = taz.Plot((drawer1, drawer2, topo_drawer), axes_properties=axes1_properties)\n",
    "\n",
    "# The drawer and the artist generating the right subplot\n",
    "drawer3_properties = {\n",
    "    'fontsize': 16, 'cmap_name': 'BuRd', 'cbar_on': True, \n",
    "    'cbar_levels': 18, 'cbar_ticks_step': 4, 'cbar_center': 15,\n",
    "    'cbar_orientation': 'horizontal',\n",
    "    'cbar_x_label': '$x$-velocity [m s$^{-1}$]',\n",
    "    'draw_vertical_levels': True,\n",
    "}\n",
    "drawer3 = taz.Contourf(\n",
    "    grid, 'x_velocity', 'm s^-1', y=int(nl.ny/2), \n",
    "    xaxis_units='km', zaxis_name='z', zaxis_units='K',\n",
    "    properties=drawer3_properties,\n",
    ")\n",
    "axes3_properties = {\n",
    "    'fontsize': 16, 'title_left': '$y = 0$ km',\n",
    "    'x_label': '$x$ [km]', 'x_lim': [-400, 400],\n",
    "    'y_label': '$\\\\theta$ [K]', 'y_lim': [280, 340],\n",
    "}\n",
    "topo_drawer = taz.LineProfile(\n",
    "    grid, 'topography', 'km', y=int(nl.ny/2), z=-1, axis_units='km', \n",
    "    properties={'linecolor': 'black', 'linewidth': 1.3}\n",
    ")\n",
    "plot2 = taz.Plot((drawer3, topo_drawer), axes_properties=axes3_properties)\n",
    "\n",
    "# The monitor encompassing and coordinating the two artists\n",
    "figure_properties = {'fontsize': 16, 'figsize': (12, 7), 'tight_layout': True}\n",
    "plot_monitor = taz.PlotComposite(\n",
    "    nrows=1, ncols=2, artists=(plot1, plot2), interactive=False, figure_properties=figure_properties\n",
    ")"
   ]
  },
  {
   "cell_type": "markdown",
   "metadata": {},
   "source": [
    "Simulation\n",
    "--"
   ]
  },
  {
   "cell_type": "code",
   "execution_count": null,
   "metadata": {
    "scrolled": false
   },
   "outputs": [],
   "source": [
    "# Simulation settings\n",
    "dt = nl.timestep\n",
    "nt = nl.niter\n",
    " \n",
    "# Integrate\n",
    "for i in range(nt):\n",
    "    # Update the (time-dependent) topography\n",
    "    dycore.update_topography((i+1) * dt)\n",
    "  \n",
    "    # Step the solution\n",
    "    state.update(dycore(state, {}, dt))\n",
    "    \n",
    "    # Run the slow diagnostics\n",
    "    state.update(slow_diags(state))\n",
    "    \n",
    "    #taz.dict_update(state, state_new)\n",
    "    \n",
    "    if (nl.print_frequency > 0) and ((i + 1) % nl.print_frequency == 0):\n",
    "        u = state['x_velocity_at_u_locations'].to_units('m s^-1').values[...]\n",
    "        v = state['y_velocity_at_v_locations'].to_units('m s^-1').values[...]\n",
    "  \n",
    "        umax, umin = u.max(), u.min()\n",
    "        vmax, vmin = v.max(), v.min()\n",
    "        cfl = max(umax * dt.total_seconds() / grid.dx.to_units('m').values.item(),\n",
    "                  vmax * dt.total_seconds() / grid.dy.to_units('m').values.item())\n",
    " \n",
    "        # Print useful info\n",
    "        print('Iteration {:6d}: CFL = {:4f}, umax = {:8.4f} m/s, umin = {:8.4f} m/s, '\n",
    "              'vmax = {:8.4f} m/s, vmin = {:8.4f} m/s'.format(i+1, cfl, umax, umin, vmax, vmin))\n",
    "        \n",
    "    # Shortcuts\n",
    "    to_save = (nl.filename is not None) and \\\n",
    "              (((nl.save_frequency > 0) and \\\n",
    "              ((i + 1) % nl.save_frequency == 0)) or i + 1 == nt)\n",
    "    to_plot = (nl.plot_frequency > 0) and ((i+1) % nl.plot_frequency == 0)\n",
    "    \n",
    "    if to_save:\n",
    "        # Save the solution\n",
    "        netcdf_monitor.store(state)\n",
    "\n",
    "    if to_plot:\n",
    "        # Plot the solution\n",
    "        plot1.axes_properties['title_right'] = str((i+1)*dt)\n",
    "        plot2.axes_properties['title_right'] = str((i+1)*dt)\n",
    "        fig = plot_monitor.store(((state, state, state), (state, state)), show=False)\n",
    "        display.clear_output(wait=True)\n",
    "        display.display(fig)\n",
    "        \n",
    "print('Simulation successfully completed. HOORAY!')"
   ]
  },
  {
   "cell_type": "markdown",
   "metadata": {},
   "source": [
    "Post-processing\n",
    "--"
   ]
  },
  {
   "cell_type": "code",
   "execution_count": null,
   "metadata": {},
   "outputs": [],
   "source": [
    "if nl.filename is not None:\n",
    "    netcdf_monitor.write()"
   ]
  }
 ],
 "metadata": {
  "kernelspec": {
   "display_name": "Python 3",
   "language": "python",
   "name": "python3"
  },
  "language_info": {
   "codemirror_mode": {
    "name": "ipython",
    "version": 3
   },
   "file_extension": ".py",
   "mimetype": "text/x-python",
   "name": "python",
   "nbconvert_exporter": "python",
   "pygments_lexer": "ipython3",
   "version": "3.6.7"
  }
 },
 "nbformat": 4,
 "nbformat_minor": 2
}
