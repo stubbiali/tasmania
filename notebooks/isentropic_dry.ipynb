{
 "cells": [
  {
   "cell_type": "markdown",
   "metadata": {},
   "source": [
    "A hydrostatic, inviscid, adiabatic, and dry system in isentropic coordinates\n",
    "=="
   ]
  },
  {
   "cell_type": "code",
   "execution_count": null,
   "metadata": {},
   "outputs": [],
   "source": [
    "from datetime import timedelta\n",
    "import gridtools as gt\n",
    "import numpy as np\n",
    "import os\n",
    "import tasmania as taz\n",
    "\n",
    "# For interactive plotting\n",
    "from IPython import display\n",
    "%matplotlib nbagg"
   ]
  },
  {
   "cell_type": "markdown",
   "metadata": {},
   "source": [
    "Load the computational grid and the initial state\n",
    "--"
   ]
  },
  {
   "cell_type": "code",
   "execution_count": null,
   "metadata": {},
   "outputs": [],
   "source": [
    "grid, states = taz.load_netcdf_dataset('../tests/baseline_datasets/isentropic_dry.nc')\n",
    "state = states[0]"
   ]
  },
  {
   "cell_type": "code",
   "execution_count": null,
   "metadata": {},
   "outputs": [],
   "source": []
  },
  {
   "cell_type": "markdown",
   "metadata": {},
   "source": [
    "Instantiate the dynamical core\n",
    "--"
   ]
  },
  {
   "cell_type": "code",
   "execution_count": null,
   "metadata": {},
   "outputs": [],
   "source": [
    "# Adopt the flux form of the forward Euler time integration method,\n",
    "# with the horizontal numerical fluxes calculated via the MacCormack scheme\n",
    "dycore = taz.IsentropicDynamicalCore(\n",
    "    grid, moist_on=False, time_integration_scheme='forward_euler',\n",
    "    horizontal_flux_scheme='maccormack', horizontal_boundary_type='relaxed',\n",
    "    damp_on=True, damp_type='rayleigh', damp_depth=15, damp_max=0.0002, damp_at_every_stage=True,\n",
    "    smooth_on=True, smooth_type='second_order', smooth_coeff=0.12, smooth_at_every_stage=True,\n",
    "    backend=gt.mode.NUMPY, dtype=np.float32,\n",
    ")"
   ]
  },
  {
   "cell_type": "markdown",
   "metadata": {},
   "source": [
    "Create a monitor for interactive visualization\n",
    "--"
   ]
  },
  {
   "cell_type": "code",
   "execution_count": null,
   "metadata": {},
   "outputs": [],
   "source": [
    "# The drawers and the artist generating the left subplot\n",
    "drawer1_properties = {\n",
    "    'fontsize': 16, 'cmap_name': 'BuRd', 'cbar_on': True, \n",
    "    'cbar_levels': 18, 'cbar_ticks_step': 4, \n",
    "    'cbar_center': 15, 'cbar_half_width': 8.5,\n",
    "    'cbar_orientation': 'horizontal',\n",
    "    'cbar_x_label': 'Horizontal velocity [m s$^{-1}$]',\n",
    "    'draw_vertical_levels': False,\n",
    "}\n",
    "drawer1 = taz.Contourf(\n",
    "    grid, 'horizontal_velocity', 'm s^-1', z=-1,  \n",
    "    xaxis_units='km', yaxis_units='km', properties=drawer1_properties,\n",
    ")\n",
    "drawer2_properties = {\n",
    "    'fontsize': 16, 'x_step': 2, 'y_step': 2, 'colors': 'black',\n",
    "    'draw_vertical_levels': False, 'alpha': 0.5,\n",
    "}\n",
    "drawer2 = taz.Quiver(\n",
    "    grid, z=-1, xaxis_units='km', yaxis_units='km',\n",
    "    xcomp_name='x_velocity', xcomp_units='m s^-1',\n",
    "    ycomp_name='y_velocity', ycomp_units='m s^-1',\n",
    "    properties=drawer2_properties\n",
    ")\n",
    "topo_drawer = taz.Contour(\n",
    "    grid, 'topography', 'km', z=-1, xaxis_units='km', yaxis_units='km',\n",
    "    properties={'colors': 'darkgray'}\n",
    ")\n",
    "axes1_properties = {\n",
    "    'fontsize': 16, 'title_left': '$\\\\theta = 300$ K',\n",
    "    'x_label': '$x$ [km]', 'x_lim': [0, 500],\n",
    "    'y_label': '$y$ [km]', 'y_lim': [-250, 250],\n",
    "}\n",
    "plot1 = taz.Plot((drawer1, drawer2, topo_drawer), axes_properties=axes1_properties)\n",
    "\n",
    "# The drawer and the artist generating the right subplot\n",
    "drawer3_properties = {\n",
    "    'fontsize': 16, 'cmap_name': 'BuRd', 'cbar_on': True, \n",
    "    'cbar_levels': 18, 'cbar_ticks_step': 4, \n",
    "    'cbar_center': 15, 'cbar_half_width': 8.5,\n",
    "    'cbar_orientation': 'horizontal',\n",
    "    'cbar_x_label': '$x$-velocity [m s$^{-1}$]',\n",
    "    'draw_vertical_levels': True,\n",
    "}\n",
    "drawer3 = taz.Contourf(\n",
    "    grid, 'x_velocity_at_u_locations', 'm s^-1', y=25,  \n",
    "    xaxis_units='km', zaxis_name='height', zaxis_units='km',\n",
    "    properties=drawer3_properties,\n",
    ")\n",
    "topo_drawer = taz.LineProfile(\n",
    "    grid, 'topography', 'km', y=25, z=-1, axis_units='km',\n",
    "    properties={'linecolor': 'black', 'linewidth': 1.3}\n",
    ")\n",
    "axes3_properties = {\n",
    "    'fontsize': 16, 'title_left': '$y = 0$ km',\n",
    "    'x_label': '$x$ [km]', 'x_lim': [0, 500],\n",
    "    'y_label': '$z$ [km]', 'y_lim': [0, 14],\n",
    "}\n",
    "plot2 = taz.Plot((drawer3, topo_drawer), axes_properties=axes3_properties)\n",
    "\n",
    "# The monitor encompassing and coordinating the two artists\n",
    "figure_properties = {'fontsize': 16, 'figsize': (12, 7), 'tight_layout': True}\n",
    "monitor = taz.PlotComposite(\n",
    "    nrows=1, ncols=2, artists=(plot1, plot2), interactive=False, figure_properties=figure_properties\n",
    ")"
   ]
  },
  {
   "cell_type": "markdown",
   "metadata": {},
   "source": [
    "Create a monitor to dump the solution into a NetCDF file\n",
    "--"
   ]
  },
  {
   "cell_type": "code",
   "execution_count": null,
   "metadata": {},
   "outputs": [],
   "source": [
    "filename = '../tests/baseline_datasets/isentropic_dry_1.nc'\n",
    "if os.path.exists(filename):\n",
    "    os.remove(filename)\n",
    "netcdf_monitor = taz.NetCDFMonitor(filename, grid)\n",
    "netcdf_monitor.store(state)"
   ]
  },
  {
   "cell_type": "markdown",
   "metadata": {},
   "source": [
    "Run the simulation\n",
    "--"
   ]
  },
  {
   "cell_type": "code",
   "execution_count": null,
   "metadata": {},
   "outputs": [],
   "source": [
    "# Simulation settings\n",
    "timestep = timedelta(seconds=24)\n",
    "niter    = 1800\n",
    "\n",
    "for i in range(niter):\n",
    "    # Update the (time-dependent) topography\n",
    "    dycore.update_topography((i+1)*timestep)\n",
    "    \n",
    "    # Step the solution\n",
    "    state_new = dycore(state, {}, timestep)\n",
    "    state.update(state_new)\n",
    "\n",
    "    if (i+1) % 60 == 0:\n",
    "        # Plot the solution\n",
    "        plot1.axes_properties['title_right'] = str((i+1)*timestep)\n",
    "        plot2.axes_properties['title_right'] = str((i+1)*timestep)\n",
    "        fig = monitor.store(((state, state, state), (state, state)), show=False)\n",
    "        display.clear_output(wait=True)\n",
    "        display.display(fig)\n",
    "        \n",
    "        # Save the solution\n",
    "        netcdf_monitor.store(state)\n",
    "        \n",
    "print('Simulation successfully completed. HOORAY!')"
   ]
  },
  {
   "cell_type": "markdown",
   "metadata": {},
   "source": [
    "Write the solution to file\n",
    "--"
   ]
  },
  {
   "cell_type": "code",
   "execution_count": null,
   "metadata": {},
   "outputs": [],
   "source": [
    "netcdf_monitor.write()"
   ]
  },
  {
   "cell_type": "markdown",
   "metadata": {},
   "source": [
    "Results validation\n",
    "--"
   ]
  },
  {
   "cell_type": "code",
   "execution_count": null,
   "metadata": {},
   "outputs": [],
   "source": [
    "for name in state.keys():\n",
    "    if name != 'time':\n",
    "        assert np.allclose(states[-1][name].values, state[name].values), \\\n",
    "               'Variable {} not validated.'.format(name)\n",
    "print('Results validated. HOORAY! HOORAY!')"
   ]
  }
 ],
 "metadata": {
  "kernelspec": {
   "display_name": "Python 3",
   "language": "python",
   "name": "python3"
  },
  "language_info": {
   "codemirror_mode": {
    "name": "ipython",
    "version": 3
   },
   "file_extension": ".py",
   "mimetype": "text/x-python",
   "name": "python",
   "nbconvert_exporter": "python",
   "pygments_lexer": "ipython3",
   "version": "3.5.6"
  }
 },
 "nbformat": 4,
 "nbformat_minor": 2
}
