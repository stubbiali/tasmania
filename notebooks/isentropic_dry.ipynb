{
 "cells": [
  {
   "cell_type": "markdown",
   "metadata": {},
   "source": [
    "A hydrostatic, inviscid, adiabatic, and dry atmospheric system in isentropic coordinates \n",
    "=="
   ]
  },
  {
   "cell_type": "code",
   "execution_count": null,
   "metadata": {},
   "outputs": [],
   "source": [
    "from datetime import timedelta\n",
    "import gridtools as gt\n",
    "from IPython import display\n",
    "import numpy as np\n",
    "import tasmania as taz\n",
    "%matplotlib nbagg"
   ]
  },
  {
   "cell_type": "markdown",
   "metadata": {},
   "source": [
    "Load the computational grid and the initial state\n",
    "--"
   ]
  },
  {
   "cell_type": "code",
   "execution_count": null,
   "metadata": {},
   "outputs": [],
   "source": [
    "grid, states = taz.load_netcdf_dataset('../tests/baseline_datasets/isentropic_dry.nc')\n",
    "state = states[0]"
   ]
  },
  {
   "cell_type": "markdown",
   "metadata": {},
   "source": [
    "Instantiate the dynamical core\n",
    "--"
   ]
  },
  {
   "cell_type": "code",
   "execution_count": null,
   "metadata": {},
   "outputs": [],
   "source": [
    "# Adopt the flux form of the forward Euler time integration method,\n",
    "# with the horizontal numerical fluxes calculated via the MacCormack scheme\n",
    "dycore = taz.IsentropicDynamicalCore(grid, moist_on=False,\n",
    "                                     time_integration_scheme='forward_euler',\n",
    "                                     horizontal_flux_scheme='maccormack',\n",
    "                                     horizontal_boundary_type='relaxed',\n",
    "                                     damp_on=True, damp_type='rayleigh', damp_depth=15,\n",
    "                                     damp_max=0.0002, damp_at_every_stage=True,\n",
    "                                     smooth_on=True, smooth_type='first_order',\n",
    "                                     smooth_coeff=0.03, smooth_at_every_stage=True,\n",
    "                                     backend=gt.mode.NUMPY, dtype=np.float32)"
   ]
  },
  {
   "cell_type": "markdown",
   "metadata": {},
   "source": [
    "Create a monitor for interactive visualization\n",
    "--"
   ]
  },
  {
   "cell_type": "code",
   "execution_count": null,
   "metadata": {},
   "outputs": [],
   "source": [
    "# The artist and its collaborators generating the left subplot\n",
    "coll1 = taz.Plot2d(grid, plot_function=taz.make_contourf_xy, \n",
    "                   field_to_plot='horizontal_velocity', level=-1,\n",
    "                   plot_function_kwargs={'fontsize': 16, \n",
    "                                         'x_factor': 1e-3, 'y_factor': 1e-3,\n",
    "                                         'cmap_name': 'BuRd', 'cbar_on': True, \n",
    "                                         'cbar_levels': 14, 'cbar_ticks_step': 2, \n",
    "                                         'cbar_center': 15, 'cbar_half_width': 6.5,\n",
    "                                         'cbar_orientation': 'horizontal',\n",
    "                                         'cbar_x_label': 'Horizontal velocity [m s$^{-1}$]'})\n",
    "coll2 = taz.Plot2d(grid, plot_function=taz.make_quiver_xy, \n",
    "                   field_to_plot='horizontal_velocity', level=-1, \n",
    "                   plot_function_kwargs={'fontsize': 16, \n",
    "                                         'x_factor': 1e-3, 'x_step': 2,\n",
    "                                         'y_factor': 1e-3, 'y_step': 2})\n",
    "subplot1 = taz.PlotsOverlapper((coll1, coll2), fontsize=16, \n",
    "                               plot_properties={'fontsize': 16,\n",
    "                                                'title_left': '$\\\\theta = 300$ K',\n",
    "                                                'x_label': '$x$ [km]', 'x_lim': [0, 500],\n",
    "                                                'y_label': '$y$ [km]', 'y_lim': [-250, 250]})\n",
    "\n",
    "# The artist generating the right subplot\n",
    "subplot2 = taz.Plot2d(grid, plot_function=taz.make_contourf_xz, \n",
    "                      field_to_plot='x_velocity_at_u_locations', level=25, fontsize=16, \n",
    "                      plot_properties={'fontsize': 16, 'title_left': '$y = 0$ km',\n",
    "                                       'x_label': '$x$ [km]', 'x_lim': [0, 500],\n",
    "                                       'y_label': '$z$ [km]', 'y_lim': [0, 14]},\n",
    "                      plot_function_kwargs={'fontsize': 16, \n",
    "                                            'x_factor': 1e-3, 'z_factor': 1e-3,\n",
    "                                            'cmap_name': 'BuRd', 'cbar_on': True, \n",
    "                                            'cbar_levels': 14, 'cbar_ticks_step': 2, \n",
    "                                            'cbar_center': 15, 'cbar_half_width': 6.5,\n",
    "                                            'cbar_orientation': 'horizontal',\n",
    "                                            'cbar_x_label': '$x$-velocity [m s$^{-1}$]'})\n",
    "\n",
    "# The monitor encompassing and coordinating the two artists\n",
    "monitor = taz.SubplotsAssembler(nrows=1, ncols=2, artists=(subplot1, subplot2), \n",
    "                                interactive=False, figsize=(12, 7), fontsize=16, \n",
    "                                tight_layout=True)"
   ]
  },
  {
   "cell_type": "markdown",
   "metadata": {},
   "source": [
    "Run the simulation\n",
    "--"
   ]
  },
  {
   "cell_type": "code",
   "execution_count": null,
   "metadata": {},
   "outputs": [],
   "source": [
    "# Simulation settings\n",
    "timestep = timedelta(seconds=24)\n",
    "niter    = 1800\n",
    "\n",
    "for i in range(niter):\n",
    "    # Update the (time-dependent) topography\n",
    "    dycore.update_topography((i+1)*timestep)\n",
    "    \n",
    "    # Step the solution\n",
    "    state_new = dycore(state, {}, timestep)\n",
    "    state.update(state_new)\n",
    "\n",
    "    if (i+1) % 60 == 0:\n",
    "        # Plot the solution\n",
    "        subplot1.plot_properties['title_right'] = str((i+1)*timestep)\n",
    "        subplot2.plot_properties['title_right'] = str((i+1)*timestep)\n",
    "        fig = monitor.store(((state, state), state), show=False)\n",
    "        display.clear_output(wait=True)\n",
    "        display.display(fig)\n",
    "        \n",
    "print('Simulation successfully completed. HOORAY!')"
   ]
  },
  {
   "cell_type": "markdown",
   "metadata": {},
   "source": [
    "Results validation\n",
    "--"
   ]
  },
  {
   "cell_type": "code",
   "execution_count": null,
   "metadata": {},
   "outputs": [],
   "source": [
    "for name in state.keys():\n",
    "    if name != 'time':\n",
    "        assert np.allclose(states[-1][name].values, state[name].values), \\\n",
    "               'Variable {} not validated.'.format(name)\n",
    "print('Results validated. HOORAY!')"
   ]
  },
  {
   "cell_type": "code",
   "execution_count": null,
   "metadata": {},
   "outputs": [],
   "source": []
  }
 ],
 "metadata": {
  "kernelspec": {
   "display_name": "Python 3",
   "language": "python",
   "name": "python3"
  },
  "language_info": {
   "codemirror_mode": {
    "name": "ipython",
    "version": 3
   },
   "file_extension": ".py",
   "mimetype": "text/x-python",
   "name": "python",
   "nbconvert_exporter": "python",
   "pygments_lexer": "ipython3",
   "version": "3.5.2"
  }
 },
 "nbformat": 4,
 "nbformat_minor": 2
}
