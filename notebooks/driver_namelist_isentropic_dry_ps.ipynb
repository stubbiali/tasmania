{
 "cells": [
  {
   "cell_type": "markdown",
   "metadata": {},
   "source": [
    "A hydrostatic, inviscid, adiabatic, and dry system in isentropic coordinates\n",
    "=="
   ]
  },
  {
   "cell_type": "code",
   "execution_count": 1,
   "metadata": {},
   "outputs": [],
   "source": [
    "from datetime import timedelta\n",
    "import gridtools as gt\n",
    "import numpy as np\n",
    "import os\n",
    "import tasmania as taz\n",
    "\n",
    "# For interactive plotting\n",
    "from IPython import display\n",
    "%matplotlib nbagg\n",
    "\n",
    "import namelist_isentropic_dry as nl"
   ]
  },
  {
   "cell_type": "markdown",
   "metadata": {},
   "source": [
    "Pre-processing\n",
    "--"
   ]
  },
  {
   "cell_type": "code",
   "execution_count": 2,
   "metadata": {},
   "outputs": [],
   "source": [
    "# Create the underlying grid\n",
    "grid = taz.GridXYZ(nl.domain_x, nl.nx, nl.domain_y, nl.ny, nl.domain_z, nl.nz,\n",
    "                   topo_type=nl.topo_type, topo_time=nl.topo_time, topo_kwargs=nl.topo_kwargs,\n",
    "                   dtype=nl.dtype)\n",
    "\n",
    "# Instantiate the initial state\n",
    "state = taz.get_isothermal_isentropic_state(grid, nl.init_time,\n",
    "                                            nl.init_x_velocity, nl.init_y_velocity,\n",
    "                                            nl.init_temperature, dtype=nl.dtype)\n",
    "\n",
    "# Instantiate the component retrieving the diagnostic variables\n",
    "pt = state['air_pressure_on_interface_levels'][0, 0, 0]\n",
    "dv = taz.IsentropicDiagnostics(grid, moist_on=False, pt=pt,\n",
    "                               backend=nl.backend, dtype=nl.dtype)\n",
    "\n",
    "# Instantiate the component calculating the pressure gradient in isentropic coordinates\n",
    "order = 4 if nl.horizontal_flux_scheme == 'fifth_order_upwind' else 2\n",
    "pg = taz.ConservativeIsentropicPressureGradient(grid, order=order,\n",
    "                                                horizontal_boundary_type=nl.horizontal_boundary_type, \n",
    "                                                backend=nl.backend, dtype=nl.dtype)\n",
    "\n",
    "# Instantiate the component retrieving the velocity components\n",
    "vc = taz.IsentropicVelocityComponents(grid, horizontal_boundary_type=nl.horizontal_boundary_type,\n",
    "                                      reference_state=state, backend=nl.backend, dtype=nl.dtype)\n",
    "\n",
    "# Wrap the physical components in a ParallelSplitting object\n",
    "ps = taz.ParallelSplitting(dv, pg, vc, mode='serial',\n",
    "                           time_integration_scheme=nl.time_integration_scheme,\n",
    "                           retrieve_diagnostics_from_provisional_state=True)\n",
    "\n",
    "# Instatiate the dynamical core\n",
    "dycore = taz.HomogeneousIsentropicDynamicalCore(grid, moist_on=False,\n",
    "                                                time_integration_scheme=nl.time_integration_scheme,\n",
    "                                                horizontal_flux_scheme=nl.horizontal_flux_scheme,\n",
    "                                                horizontal_boundary_type=nl.horizontal_boundary_type,\n",
    "                                                damp_on=nl.damp_on, damp_type=nl.damp_type,\n",
    "                                                damp_depth=nl.damp_depth, damp_max=nl.damp_max,\n",
    "                                                damp_at_every_stage=nl.damp_at_every_stage,\n",
    "                                                smooth_on=nl.smooth_on, smooth_type=nl.smooth_type,\n",
    "                                                smooth_coeff=nl.smooth_coeff,\n",
    "                                                smooth_at_every_stage=nl.smooth_at_every_stage,\n",
    "                                                backend=nl.backend, dtype=nl.dtype)\n",
    "\n",
    "# Create a monitor for interactive visualization\n",
    "monitor = taz.Plot2d(grid, plot_function=taz.make_contourf_xz, \n",
    "                     interactive=False, field_to_plot='x_velocity_at_u_locations', level=0, \n",
    "                     figsize=(7, 8), fontsize=16, tight_layout=True,\n",
    "                     plot_properties={'fontsize': 16, 'title_left': '$u'' = u - \\\\bar{u}$ [10$^{-4}$ m s$^{-1}$]',\n",
    "                                      'x_label': '$x$ [km]', 'x_lim': [-237.6, 237.6],\n",
    "                                      'y_label': '$z$ [km]', 'y_lim': [0, 20]},\n",
    "                     plot_function_kwargs={'fontsize': 16, \n",
    "                                           'x_factor': 1e-3, 'z_factor': 1e-3,\n",
    "                                           'field_bias': 10, 'field_factor': 1e4,\n",
    "                                           'cmap_name': 'BuRd', 'cbar_on': True, \n",
    "                                           'cbar_levels': 16, 'cbar_ticks_step': 2, \n",
    "                                           'cbar_center': 0, #'cbar_half_width': 4.5,\n",
    "                                           'cbar_orientation': 'horizontal',\n",
    "                                           'draw_grid': False})\n",
    "\n",
    "# Create a monitor to dump to the solution into a NetCDF file\n",
    "if nl.filename is not None:\n",
    "    if os.path.exists(nl.filename):\n",
    "        os.remove(nl.filename)\n",
    "    netcdf_monitor = taz.NetCDFMonitor(nl.filename, grid)\n",
    "    netcdf_monitor.store(state)"
   ]
  },
  {
   "cell_type": "markdown",
   "metadata": {},
   "source": [
    "Simulation\n",
    "--"
   ]
  },
  {
   "cell_type": "code",
   "execution_count": null,
   "metadata": {
    "scrolled": false
   },
   "outputs": [
    {
     "data": {
      "image/png": "[encoded data removed]",
      "text/plain": [
       "<Figure size 504x576 with 2 Axes>"
      ]
     },
     "metadata": {},
     "output_type": "display_data"
    }
   ],
   "source": [
    "# Simulation settings\n",
    "dt = nl.timestep\n",
    "nt = nl.niter\n",
    " \n",
    "# Integrate\n",
    "for i in range(nt):\n",
    "    # Update the (time-dependent) topography\n",
    "    dycore.update_topography((i+1) * dt)\n",
    "  \n",
    "    # Compute the dynamics\n",
    "    state_prv = dycore(state, {}, dt)\n",
    "    \n",
    "    # Compute the physics, and couple it with the dynamics\n",
    "    _ = ps(state=state, state_prv=state_prv, timestep=dt)\n",
    "    \n",
    "    # Step the state\n",
    "    state.update(state_prv)\n",
    "  \n",
    "    if (nl.print_frequency > 0) and ((i + 1) % nl.print_frequency == 0):\n",
    "        u = state['x_velocity_at_u_locations'].to_units('m s^-1').values[...]\n",
    "        v = state['y_velocity_at_v_locations'].to_units('m s^-1').values[...]\n",
    "  \n",
    "        umax, umin = u.max(), u.min()\n",
    "        vmax, vmin = v.max(), v.min()\n",
    "        cfl = max(umax * dt.total_seconds() / grid.dx.to_units('m').values.item(),\n",
    "                  vmax * dt.total_seconds() / grid.dy.to_units('m').values.item())\n",
    " \n",
    "        # Print useful info\n",
    "        print('Iteration {:6d}: CFL = {:4f}, umax = {:8.4f} m/s, umin = {:8.4f} m/s, '\n",
    "              'vmax = {:8.4f} m/s, vmin = {:8.4f} m/s'.format(i+1, cfl, umax, umin, vmax, vmin))\n",
    " \n",
    "    if (nl.filename is not None) and (((nl.save_frequency > 0) and ((i + 1) % nl.save_frequency == 0)) or i + 1 == nt):\n",
    "        # Save the solution\n",
    "        netcdf_monitor.store(state)\n",
    "\n",
    "    if (nl.plot_frequency > 0) and ((i+1) % nl.plot_frequency == 0):\n",
    "        # Plot the solution\n",
    "        monitor.plot_properties['title_right'] = str((i+1)*dt)\n",
    "        fig, _ = monitor.store(state, show=False)\n",
    "        display.clear_output(wait=True)\n",
    "        display.display(fig)\n",
    "        \n",
    "print('Simulation successfully completed. HOORAY!')"
   ]
  },
  {
   "cell_type": "markdown",
   "metadata": {},
   "source": [
    "Post-processing\n",
    "--"
   ]
  },
  {
   "cell_type": "code",
   "execution_count": null,
   "metadata": {},
   "outputs": [],
   "source": [
    "if nl.filename is not None:\n",
    "    netcdf_monitor.write()"
   ]
  },
  {
   "cell_type": "code",
   "execution_count": null,
   "metadata": {},
   "outputs": [],
   "source": []
  }
 ],
 "metadata": {
  "kernelspec": {
   "display_name": "Python 3",
   "language": "python",
   "name": "python3"
  },
  "language_info": {
   "codemirror_mode": {
    "name": "ipython",
    "version": 3
   },
   "file_extension": ".py",
   "mimetype": "text/x-python",
   "name": "python",
   "nbconvert_exporter": "python",
   "pygments_lexer": "ipython3",
   "version": "3.5.6"
  }
 },
 "nbformat": 4,
 "nbformat_minor": 2
}
