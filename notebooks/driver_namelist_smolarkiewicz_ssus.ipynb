{
 "cells": [
  {
   "cell_type": "markdown",
   "metadata": {},
   "source": [
    "Thermally forced low Froude number flow past an isolated obstacle\n",
    "=="
   ]
  },
  {
   "cell_type": "code",
   "execution_count": 1,
   "metadata": {},
   "outputs": [],
   "source": [
    "from datetime import timedelta\n",
    "import gridtools as gt\n",
    "import numpy as np\n",
    "import os\n",
    "import tasmania as taz\n",
    "\n",
    "# Interactive plotting\n",
    "from IPython import display\n",
    "%matplotlib nbagg\n",
    "\n",
    "import namelist_smolarkiewicz as nl"
   ]
  },
  {
   "cell_type": "markdown",
   "metadata": {},
   "source": [
    "The underlying grid\n",
    "--"
   ]
  },
  {
   "cell_type": "code",
   "execution_count": 2,
   "metadata": {},
   "outputs": [],
   "source": [
    "grid = taz.GridXYZ(\n",
    "    nl.domain_x, nl.nx, nl.domain_y, nl.ny, nl.domain_z, nl.nz,\n",
    "    topo_type=nl.topo_type, topo_time=nl.topo_time, topo_kwargs=nl.topo_kwargs,\n",
    "    dtype=nl.dtype\n",
    ")"
   ]
  },
  {
   "cell_type": "markdown",
   "metadata": {},
   "source": [
    "The initial state\n",
    "--"
   ]
  },
  {
   "cell_type": "code",
   "execution_count": 3,
   "metadata": {},
   "outputs": [],
   "source": [
    "if nl.isothermal:\n",
    "    state = taz.get_isothermal_isentropic_state(\n",
    "        grid, nl.init_time, nl.init_x_velocity, nl.init_y_velocity,\n",
    "        nl.init_temperature, moist=nl.moist, precipitation=nl.precipitation, \n",
    "        dtype=nl.dtype\n",
    "    )\n",
    "else:\n",
    "    state = taz.get_default_isentropic_state(\n",
    "        grid, nl.init_time, nl.init_x_velocity, nl.init_y_velocity,\n",
    "        nl.init_brunt_vaisala, moist=nl.moist, precipitation=nl.precipitation, \n",
    "        dtype=nl.dtype\n",
    "    )"
   ]
  },
  {
   "cell_type": "markdown",
   "metadata": {},
   "source": [
    "The physics\n",
    "--"
   ]
  },
  {
   "cell_type": "code",
   "execution_count": 8,
   "metadata": {},
   "outputs": [
    {
     "name": "stdout",
     "output_type": "stream",
     "text": [
      "(<class 'tasmania.python.physics.coriolis.ConservativeIsentropicCoriolis'>, <class 'tasmania.python.physics.isentropic_tendencies.PrescribedSurfaceHeating'>, <class 'tasmania.python.physics.isentropic_tendencies.VerticalIsentropicAdvection'>, <class 'tasmania.python.physics.isentropic_tendencies.ConservativeIsentropicPressureGradient'>)\n",
      "(<class 'tasmania.python.physics.isentropic_diagnostics.IsentropicDiagnostics'>, <class 'tasmania.python.physics.isentropic_tendencies.ConservativeIsentropicPressureGradient'>, <class 'tasmania.python.physics.isentropic_tendencies.PrescribedSurfaceHeating'>, <class 'tasmania.python.physics.isentropic_tendencies.VerticalIsentropicAdvection'>, <class 'tasmania.python.physics.coriolis.ConservativeIsentropicCoriolis'>)\n"
     ]
    }
   ],
   "source": [
    "args_before_dynamics = []\n",
    "args_after_dynamics  = []\n",
    "\n",
    "# Component retrieving the diagnostic variables\n",
    "pt = state['air_pressure_on_interface_levels'][0, 0, 0]\n",
    "dv = taz.IsentropicDiagnostics(\n",
    "    grid, moist=True, pt=pt, backend=nl.backend, dtype=nl.dtype\n",
    ")\n",
    "args_after_dynamics.append({'component': dv})\n",
    "\n",
    "if nl.moist:\n",
    "    # Component performing the saturation adjustment\n",
    "    sa = taz.SaturationAdjustmentKessler(\n",
    "        grid, air_pressure_on_interface_levels=True, backend=nl.backend\n",
    "    )\n",
    "    args_after_dynamics.append({'component': sa})\n",
    "\n",
    "# Component calculating the pressure gradient in isentropic coordinates\n",
    "order = 4 if nl.horizontal_flux_scheme == 'fifth_order_upwind' else 2\n",
    "pg = taz.ConservativeIsentropicPressureGradient(\n",
    "    grid, order=order,\n",
    "    horizontal_boundary_type=nl.horizontal_boundary_type,\n",
    "    backend=nl.backend, dtype=nl.dtype\n",
    ")\n",
    "args_before_dynamics.append({'component': pg, 'time_integrator': 'rk2', 'substeps': 1})\n",
    "args_after_dynamics.append({'component': pg, 'time_integrator': 'rk2', 'substeps': 1})\n",
    "\n",
    "if nl.moist:\n",
    "    # Component calculating the microphysics\n",
    "    ke = taz.Kessler(\n",
    "        grid, air_pressure_on_interface_levels=True,\n",
    "        rain_evaporation=nl.rain_evaporation, backend=nl.backend\n",
    "    )\n",
    "    args_before_dynamics.append({'component': ke, 'time_integrator': 'rk2', 'substeps': 1})\n",
    "    args_after_dynamics.append({'component': ke, 'time_integrator': 'rk2', 'substeps': 1})\n",
    "\n",
    "# Component providing the thermal forcing\n",
    "psh = taz.PrescribedSurfaceHeating(\n",
    "    grid, \n",
    "    tendency_of_air_potential_temperature_in_diagnostics=True,\n",
    "    tendency_of_air_potential_temperature_on_interface_levels=True,\n",
    "    air_pressure_on_interface_levels=True,\n",
    "    amplitude_at_day_sw=nl.amplitude_at_day_sw,\n",
    "    amplitude_at_day_fw=nl.amplitude_at_day_fw,\n",
    "    amplitude_at_night_sw=nl.amplitude_at_night_sw,\n",
    "    amplitude_at_night_fw=nl.amplitude_at_night_fw,\n",
    "    attenuation_coefficient_at_day=nl.attenuation_coefficient_at_day,\n",
    "    attenuation_coefficient_at_night=nl.attenuation_coefficient_at_night,\n",
    "    frequency_sw=nl.frequency_sw,\n",
    "    frequency_fw=nl.frequency_fw,\n",
    "    characteristic_length=nl.characteristic_length,\n",
    "    starting_time=nl.starting_time, backend=nl.backend\n",
    ")\n",
    "args_after_dynamics.append({'component': psh})\n",
    "\n",
    "# Component integrating the vertical flux\n",
    "vf = taz.VerticalIsentropicAdvection(\n",
    "    grid, moist=nl.moist, flux_scheme=nl.vertical_flux_scheme,\n",
    "    tendency_of_air_potential_temperature_on_interface_levels=True,\n",
    "    backend=nl.backend\n",
    ")\n",
    "args_before_dynamics.append({'component': vf, 'time_integrator': 'rk2', 'substeps': 1})\n",
    "args_before_dynamics.append({'component': psh})\n",
    "args_after_dynamics.append({'component': vf, 'time_integrator': 'rk2', 'substeps': 1})\n",
    "\n",
    "if nl.coriolis:\n",
    "    # Component calculating the Coriolis acceleration\n",
    "    cf = taz.ConservativeIsentropicCoriolis(\n",
    "        grid, coriolis_parameter=nl.coriolis_parameter, dtype=nl.dtype\n",
    "    )\n",
    "    args_before_dynamics.append({'component': cf, 'time_integrator': 'rk2', 'substeps': 1})\n",
    "    args_after_dynamics.append({'component': cf, 'time_integrator': 'rk2', 'substeps': 1})\n",
    "    \n",
    "if nl.moist and nl.precipitation:\n",
    "    # Component estimating the raindrop fall velocity\n",
    "    rfv = taz.RaindropFallVelocity(grid, backend=nl.backend)\n",
    "    args_after_dynamics.append({'component': rfv})\n",
    "    \n",
    "    # Component integrating the sedimentation flux\n",
    "    sd = taz.Sedimentation(\n",
    "        grid, sedimentation_flux_scheme='second_order_upwind',\n",
    "        backend=nl.backend\n",
    "    )\n",
    "    args_before_dynamics.append({'component': sd, 'time_integrator': 'rk2', 'substeps': int(nl.substeps/2)})\n",
    "    args_before_dynamics.append({'component': rfv})\n",
    "    args_after_dynamics.append({'component': sd, 'time_integrator': 'rk2', 'substeps': int(nl.substeps/2)})\n",
    "\n",
    "# Wrap the components in two SequentialUpdateSplitting objects\n",
    "physics_before_dynamics = taz.SequentialUpdateSplitting(*args_before_dynamics[::-1])\n",
    "physics_after_dynamics = taz.SequentialUpdateSplitting(*args_after_dynamics)\n",
    "\n",
    "f = tuple(type(arg['component']) for arg in args_before_dynamics[::-1])\n",
    "print(f)\n",
    "g = tuple(type(arg['component']) for arg in args_after_dynamics)\n",
    "print(g)"
   ]
  },
  {
   "cell_type": "markdown",
   "metadata": {},
   "source": [
    "The dynamical core\n",
    "--"
   ]
  },
  {
   "cell_type": "code",
   "execution_count": null,
   "metadata": {},
   "outputs": [],
   "source": [
    "dycore = taz.HomogeneousIsentropicDynamicalCore(\n",
    "    grid, time_units='s', moist=nl.moist,\n",
    "    # numerical scheme\n",
    "    time_integration_scheme=nl.time_integration_scheme,\n",
    "    horizontal_flux_scheme=nl.horizontal_flux_scheme,\n",
    "    horizontal_boundary_type=nl.horizontal_boundary_type,\n",
    "    # vertical damping\n",
    "    damp=nl.damp, damp_type=nl.damp_type, damp_depth=nl.damp_depth,\n",
    "    damp_max=nl.damp_max, damp_at_every_stage=nl.damp_at_every_stage,\n",
    "    # horizontal smoothing\n",
    "    smooth=nl.smooth, smooth_type=nl.smooth_type,\n",
    "    smooth_damp_depth=nl.smooth_damp_depth,\n",
    "    smooth_coeff=nl.smooth_coeff, smooth_coeff_max=nl.smooth_coeff_max,\n",
    "    smooth_at_every_stage=nl.smooth_at_every_stage,\n",
    "    # horizontal smoothing of water species\n",
    "    smooth_moist=nl.smooth_moist, smooth_moist_type=nl.smooth_moist_type,\n",
    "    smooth_moist_damp_depth=nl.smooth_moist_damp_depth,\n",
    "    smooth_moist_coeff=nl.smooth_moist_coeff,\n",
    "    smooth_moist_coeff_max=nl.smooth_moist_coeff_max,\n",
    "    smooth_moist_at_every_stage=nl.smooth_moist_at_every_stage,\n",
    "    # backend settings\n",
    "    backend=nl.backend, dtype=nl.dtype\n",
    ")"
   ]
  },
  {
   "cell_type": "markdown",
   "metadata": {},
   "source": [
    "A NetCDF monitor\n",
    "--"
   ]
  },
  {
   "cell_type": "code",
   "execution_count": null,
   "metadata": {},
   "outputs": [],
   "source": [
    "if nl.filename is not None:\n",
    "    if os.path.exists(nl.filename):\n",
    "        os.remove(nl.filename)\n",
    "    netcdf_monitor = taz.NetCDFMonitor(nl.filename, grid)\n",
    "    netcdf_monitor.store(state)"
   ]
  },
  {
   "cell_type": "markdown",
   "metadata": {},
   "source": [
    "A monitor for visualization purposes\n",
    "--"
   ]
  },
  {
   "cell_type": "code",
   "execution_count": null,
   "metadata": {},
   "outputs": [],
   "source": [
    "u0 = nl.init_x_velocity.to_units('m s^-1').values.item()\n",
    "\n",
    "# The drawers and the artist generating the left subplot\n",
    "drawer1_properties = {\n",
    "    'fontsize': 16, 'cmap_name': 'BuRd', 'cbar_on': True, \n",
    "    'cbar_levels': 18, 'cbar_ticks_step': 4, 'cbar_center': u0,\n",
    "    'cbar_orientation': 'horizontal',\n",
    "    'cbar_x_label': 'Horizontal velocity [m s$^{-1}$]',\n",
    "    'draw_vertical_levels': False,\n",
    "}\n",
    "drawer1 = taz.Contourf(\n",
    "    grid, 'horizontal_velocity', 'm s^-1', z=-1,  \n",
    "    xaxis_units='km', yaxis_units='km', properties=drawer1_properties,\n",
    ")\n",
    "drawer2_properties = {\n",
    "    'fontsize': 16, 'x_step': 2, 'y_step': 2, 'colors': 'black',\n",
    "    'draw_vertical_levels': False, 'alpha': 0.5,\n",
    "}\n",
    "drawer2 = taz.Quiver(\n",
    "    grid, z=-1, xaxis_units='km', yaxis_units='km',\n",
    "    xcomp_name='x_velocity', xcomp_units='m s^-1',\n",
    "    ycomp_name='y_velocity', ycomp_units='m s^-1',\n",
    "    properties=drawer2_properties\n",
    ")\n",
    "topo_drawer = taz.Contour(\n",
    "    grid, 'topography', 'km', z=-1, xaxis_units='km', yaxis_units='km',\n",
    "    properties={'colors': 'darkgray'}\n",
    ")\n",
    "axes1_properties = {\n",
    "    'fontsize': 16, 'title_left': '$\\\\theta = 300$ K',\n",
    "    'x_label': '$x$ [km]', 'x_lim': [-250, 250],\n",
    "    'y_label': '$y$ [km]', 'y_lim': [-250, 250],\n",
    "}\n",
    "plot1 = taz.Plot((drawer1, drawer2, topo_drawer), axes_properties=axes1_properties)\n",
    "\n",
    "# The drawer and the artist generating the right subplot\n",
    "drawer3_properties = {\n",
    "    'fontsize': 16, 'cmap_name': 'BuRd', 'cbar_on': True, \n",
    "    'cbar_levels': 18, 'cbar_ticks_step': 4, 'cbar_center': u0,\n",
    "    'cbar_orientation': 'horizontal',\n",
    "    'cbar_x_label': '$x$-velocity [m s$^{-1}$]',\n",
    "    'draw_vertical_levels': True,\n",
    "}\n",
    "drawer3 = taz.Contourf(\n",
    "    grid, 'x_velocity_at_u_locations', 'm s^-1', y=int(nl.ny/2),  \n",
    "    xaxis_units='km', zaxis_name='height', zaxis_units='km',\n",
    "    properties=drawer3_properties,\n",
    ")\n",
    "topo_drawer = taz.LineProfile(\n",
    "    grid, 'topography', 'km', y=int(nl.ny/2), z=-1, axis_units='km',\n",
    "    properties={'linecolor': 'black', 'linewidth': 1.3}\n",
    ")\n",
    "axes3_properties = {\n",
    "    'fontsize': 16, 'title_left': '$y = 0$ km',\n",
    "    'x_label': '$x$ [km]', 'x_lim': [-250, 250],\n",
    "    'y_label': '$z$ [km]', 'y_lim': [0, 14],\n",
    "}\n",
    "plot2 = taz.Plot((topo_drawer, drawer3), axes_properties=axes3_properties)\n",
    "\n",
    "# The monitor encompassing and coordinating the two artists\n",
    "figure_properties = {'fontsize': 16, 'figsize': (12, 7), 'tight_layout': True}\n",
    "plot_monitor = taz.PlotComposite(\n",
    "    nrows=1, ncols=2, artists=(plot1, plot2), interactive=False, \n",
    "    figure_properties=figure_properties\n",
    ")"
   ]
  },
  {
   "cell_type": "markdown",
   "metadata": {},
   "source": [
    "Simulation\n",
    "--"
   ]
  },
  {
   "cell_type": "code",
   "execution_count": null,
   "metadata": {
    "scrolled": false
   },
   "outputs": [],
   "source": [
    "# Simulation settings\n",
    "dt = nl.timestep\n",
    "nt = nl.niter\n",
    " \n",
    "# Integrate\n",
    "for i in range(nt):\n",
    "    # Update the (time-dependent) topography\n",
    "    dycore.update_topography((i + 1) * dt)\n",
    "\n",
    "    # Compute the physics before the dynamics\n",
    "    physics_before_dynamics(state, 0.5*dt)\n",
    "\n",
    "    # Ensure the state is still defined at the current time level\n",
    "    state['time'] = nl.init_time + i*dt\n",
    "\n",
    "    # Compute the dynamics\n",
    "    state_new = dycore(state, {}, dt)\n",
    "\n",
    "    # Ensure the state is defined at the half time level\n",
    "    state_new['time'] = nl.init_time + (i+0.5)*dt\n",
    "\n",
    "    # Compute the physics\n",
    "    physics_after_dynamics(state_new, 0.5*dt)\n",
    "\n",
    "    # Ensure the state is defined at the next time level\n",
    "    assert state_new['time'] == state['time'] + dt\n",
    "    \n",
    "    # Update the state\n",
    "    state.update(state_new)\n",
    "    \n",
    "    if (nl.print_frequency > 0) and ((i + 1) % nl.print_frequency == 0):\n",
    "        u = state['x_velocity_at_u_locations'].to_units('m s^-1').values[...]\n",
    "        v = state['y_velocity_at_v_locations'].to_units('m s^-1').values[...]\n",
    "  \n",
    "        umax, umin = u.max(), u.min()\n",
    "        vmax, vmin = v.max(), v.min()\n",
    "        cfl = max(umax * dt.total_seconds() / grid.dx.to_units('m').values.item(),\n",
    "                  vmax * dt.total_seconds() / grid.dy.to_units('m').values.item())\n",
    " \n",
    "        # Print useful info\n",
    "        print('Iteration {:6d}: CFL = {:4f}, umax = {:8.4f} m/s, umin = {:8.4f} m/s, '\n",
    "              'vmax = {:8.4f} m/s, vmin = {:8.4f} m/s'.format(i+1, cfl, umax, umin, vmax, vmin))\n",
    "        \n",
    "    # Shortcuts\n",
    "    to_save = (nl.filename is not None) and \\\n",
    "              (((nl.save_frequency > 0) and \\\n",
    "              ((i + 1) % nl.save_frequency == 0)) or i + 1 == nt)\n",
    "    to_plot = (nl.plot_frequency > 0) and ((i+1) % nl.plot_frequency == 0)\n",
    "    \n",
    "    if to_save:\n",
    "        # Save the solution\n",
    "        netcdf_monitor.store(state)\n",
    "\n",
    "    if to_plot:\n",
    "        # Plot the solution\n",
    "        plot1.axes_properties['title_right'] = str((i+1)*dt)\n",
    "        plot2.axes_properties['title_right'] = str((i+1)*dt)\n",
    "        fig = plot_monitor.store(((state, state, state), (state, state)), show=False)\n",
    "        display.clear_output(wait=True)\n",
    "        display.display(fig)\n",
    "        \n",
    "print('Simulation successfully completed. HOORAY!')"
   ]
  },
  {
   "cell_type": "markdown",
   "metadata": {},
   "source": [
    "Post-processing\n",
    "--"
   ]
  },
  {
   "cell_type": "code",
   "execution_count": null,
   "metadata": {},
   "outputs": [],
   "source": [
    "if nl.filename is not None:\n",
    "    netcdf_monitor.write()"
   ]
  }
 ],
 "metadata": {
  "kernelspec": {
   "display_name": "Python 3",
   "language": "python",
   "name": "python3"
  },
  "language_info": {
   "codemirror_mode": {
    "name": "ipython",
    "version": 3
   },
   "file_extension": ".py",
   "mimetype": "text/x-python",
   "name": "python",
   "nbconvert_exporter": "python",
   "pygments_lexer": "ipython3",
   "version": "3.6.7"
  }
 },
 "nbformat": 4,
 "nbformat_minor": 2
}
