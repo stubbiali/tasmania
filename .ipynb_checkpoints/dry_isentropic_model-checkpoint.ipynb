{
 "cells": [
  {
   "cell_type": "markdown",
   "metadata": {},
   "source": [
    "# GT4Py's implementation of the three-dimensional dry isentropic model"
   ]
  },
  {
   "cell_type": "markdown",
   "metadata": {},
   "source": [
    "## 1. Isentropic coordinates\n",
    "\n",
    "Let $(x, y, \\theta, t)$ be an isentropic, terrain-following coordinate system, where $x$ and $y$ are horizontal Cartesian coordinates, $\\theta$ is the potential temperature, and $t$ is the time. The potential temperature is defined by\n",
    "\\begin{equation} \n",
    "    \\theta = T \\left( \\dfrac{p}{p_{\\text{ref}}} \\right)^{R \\, / \\, c_p} \\, ,\n",
    "\\end{equation}\n",
    "with $T$ being the temperature, $p$ the pressure, $p_{\\text{ref}} = 1000$ hPa, $R$ the gas constant, and $c_p$ the specific heat at constant pressure for dry air. In the isentropic reference system, the vertical velocity is given by\n",
    "\\begin{equation*} \n",
    "    \\dot{\\theta} = \\dfrac{D \\theta}{D t} \\, ,\n",
    "\\end{equation*}\n",
    "where $D / D t$ denotes the total (i.e., Lagrangian) derivative."
   ]
  },
  {
   "cell_type": "markdown",
   "metadata": {},
   "source": [
    "## 2. Governing equations in isentropic coordinates\n",
    "\n",
    "Let us introduce the horizontal velocity vector $\\boldsymbol{v} = (u, v)$, with $u$ and $v$ representing the $x$- and $y$-components, respectively, and the *isentropic density* $\\sigma$,\n",
    "\\begin{equation*}\n",
    "    \\sigma = - \\dfrac{1}{g} \\dfrac{\\partial p}{\\partial \\theta} \\, ,\n",
    "\\end{equation*}\n",
    "where $g$ is the gravitational constant. Upon assuming the atmosphere to be *adiabatic*, i.e.,\n",
    "\\begin{equation*}\n",
    "    \\dot{\\theta} = 0 \\, ,\n",
    "\\end{equation*}\n",
    "the Euler equations for the isentropic density and the velocity components can be written in isentropic coordinates as:\n",
    "\\begin{align}\n",
    "    \\label{eq:continuity}\n",
    "    \\dfrac{\\partial s}{\\partial t} + u \\dfrac{\\partial s}{\\partial x} + v \\dfrac{\\partial s}{\\partial y} & = 0 \\, , \\\\\n",
    "    \\label{eq:x_momentum_nonconservative}\n",
    "    \\dfrac{\\partial u}{\\partial t} + u \\dfrac{\\partial u}{\\partial x} + v \\dfrac{\\partial u}{\\partial y} & = - \\dfrac{\\partial M}{\\partial x} \\, , \\\\\n",
    "    \\label{eq:y_momentum_nonconservative}\n",
    "    \\dfrac{\\partial v}{\\partial t} + u \\dfrac{\\partial v}{\\partial x} + v \\dfrac{\\partial v}{\\partial y} & = - \\dfrac{\\partial M}{\\partial y} \\, .\n",
    "\\end{align}\n",
    "Here, $M$ is the Montgomery potential, defined by\n",
    "\\begin{equation*}\n",
    "    M = c_p \\, T + g \\, z \\, ,\n",
    "\\end{equation*}\n",
    "with $z = z(x, y, \\theta)$ the geometric height over sea level. Relying upon the continuity equation \\eqref{eq:continuity}, the momentum equations \\eqref{eq:x_momentum_nonconservative} and \\eqref{eq:y_momentum_nonconservative} can be cast in the *conservative* form:\n",
    "\\begin{align}\n",
    "    \\label{eq:x_momentum_conservative}\n",
    "    \\dfrac{\\partial U}{\\partial t} + \\dfrac{\\partial u U}{\\partial x} + \\dfrac{\\partial v U}{\\partial y} & = - \\sigma \\dfrac{\\partial M}{\\partial x} \\, , \\\\\n",
    "    \\label{eq:y_momentum_conservative}\n",
    "    \\dfrac{\\partial V}{\\partial t} + \\dfrac{\\partial u V}{\\partial x} + \\dfrac{\\partial v V}{\\partial y} & = - \\sigma \\dfrac{\\partial M}{\\partial y} \\, ,\n",
    "\\end{align}\n",
    "where we have defined $U := \\sigma u$ and $V := \\sigma v$."
   ]
  },
  {
   "cell_type": "markdown",
   "metadata": {},
   "source": [
    "## 3. Numerical model"
   ]
  },
  {
   "cell_type": "markdown",
   "metadata": {},
   "source": [
    "## 4. Jump into Python"
   ]
  },
  {
   "cell_type": "code",
   "execution_count": null,
   "metadata": {},
   "outputs": [],
   "source": [
    "# Import built-in modules and classes\n",
    "from datetime import datetime, timedelta\n",
    "import os\n",
    "import pickle\n",
    "import sys\n",
    "import time\n",
    "\n",
    "# Import modules and classes from GT4Py and Tasmania libraries\n",
    "import gridtools as gt\n",
    "from grids.grid_xyz import GridXYZ as Grid\n",
    "from dycore.dycore import DynamicalCore\n",
    "from model import Model\n"
   ]
  },
  {
   "cell_type": "code",
   "execution_count": null,
   "metadata": {},
   "outputs": [],
   "source": [
    "# Create the grid\n",
    "start = time.time()\n",
    "grid = Grid(domain_x = [0, 500.e3], nx = 51, domain_y = [-250.e3, 250.e3], ny = 51, domain_z = [400, 300], nz = 50,\n",
    "            units_x = 'm', dims_x = 'x', units_y = 'm', dims_y = 'm', units_z = 'K', dims_z = 'air_potential_temperature',\n",
    "            topo_type = 'gaussian', topo_time = timedelta(seconds = 1800), topo_max_height = 1000., \n",
    "            topo_width_x = 50.e3, topo_width_y = 50.e3)\n",
    "stop = time.time()\n",
    "print('Grid created in {} ms.\\n'.format((stop - start) * 1000.))"
   ]
  },
  {
   "cell_type": "code",
   "execution_count": null,
   "metadata": {},
   "outputs": [],
   "source": [
    "# Instantiate the dycore\n",
    "start = time.time()\n",
    "dycore = DynamicalCore.factory(model = 'isentropic', time_scheme = 'centered', flux_scheme = 'centered', \n",
    "                               horizontal_boundary_type = 'relaxed', grid = grid, moist_on = False, backend = gt.mode.NUMPY, \n",
    "                               damp_on = True, damp_type = 'rayleigh', damp_depth = 15, damp_max = 0.0002,\n",
    "                               smooth_on = True, smooth_type = 'first_order', smooth_coeff = 0.03)\n",
    "stop = time.time()\n",
    "print('Dycore instantiated in {} ms.\\n'.format((stop-start) * 1000.))"
   ]
  },
  {
   "cell_type": "code",
   "execution_count": null,
   "metadata": {},
   "outputs": [],
   "source": [
    "# Instantiate the model\n",
    "start = time.time()\n",
    "model = Model(dycore)\n",
    "stop = time.time()\n",
    "print('Model instantiated in {} ms.\\n'.format((stop-start) * 1000.))"
   ]
  },
  {
   "cell_type": "code",
   "execution_count": null,
   "metadata": {},
   "outputs": [],
   "source": [
    "# Compute the initial state\n",
    "start = time.time()\n",
    "state = dycore.get_initial_state(initial_time = datetime(year = 2018, month = 3, day = 15), initial_state_type = 0, \n",
    "                                 x_velocity_initial = 15., y_velocity_initial = 0., brunt_vaisala_initial = 0.01)\n",
    "stop = time.time()\n",
    "print('Initial state computed in {} ms.\\n'.format((stop-start) * 1000.))"
   ]
  },
  {
   "cell_type": "code",
   "execution_count": null,
   "metadata": {},
   "outputs": [],
   "source": [
    "# Let's run!\n",
    "print('Start the simulation ...\\n')\n",
    "start = time.time()\n",
    "state_out, state_save = model(dt = timedelta(seconds = 24), simulation_time = timedelta(hours = 12), state = state)\n",
    "stop = time.time()\n",
    "print('\\nSimulation completed in {} s.\\n'.format(stop-start))"
   ]
  },
  {
   "cell_type": "code",
   "execution_count": null,
   "metadata": {},
   "outputs": [],
   "source": [
    "# Some post-processing: generate the contourf for the x-velocity at y = 0\n",
    "state_save.contourf_xz(field_to_plot = 'x_velocity', y_level = 25, time_level = -1,\n",
    "                       fontsize = 16, figsize = [7,8], title = '', \n",
    "                       x_factor = 1.e-3, x_label = '$x$ [km]',\n",
    "                       z_factor = 1.e-3, z_label = '$z$ [km]', z_lim = [0,20], \n",
    "                       cmap_name = 'BuRd',\n",
    "                       cbar_levels = 14, cbar_ticks_step = 2, cbar_center = 15., cbar_half_width = 6.5,\n",
    "                       cbar_x_label = '$x$-velocity [m s$^{-1}$]', cbar_orientation = 'horizontal',\n",
    "                       text = '$y = 0$', text_loc = 'upper right')"
   ]
  },
  {
   "cell_type": "code",
   "execution_count": null,
   "metadata": {},
   "outputs": [],
   "source": [
    "# Some further post-processing: generate the contourf for the  horizontal velocity at the surface layer\n",
    "state_save.contourf_xy(field_to_plot = 'horizontal_velocity', z_level = -1, time_level = -1,\n",
    "                       fontsize = 16, figsize = [7,8], title = '', \n",
    "                       x_factor = 1.e-3, x_label = '$x$ [km]',\n",
    "                       y_factor = 1.e-3, y_label = '$y$ [km]', \n",
    "                       cmap_name = 'BuRd',\n",
    "                       cbar_levels = 14, cbar_ticks_step = 2, cbar_center = 15., cbar_half_width = 6.5,\n",
    "                       cbar_x_label = 'Horizontal velocity [m s$^{-1}$]', cbar_orientation = 'horizontal',\n",
    "                       text = '$\\\\theta = \\\\theta_s$', text_loc = 'upper right')"
   ]
  }
 ],
 "metadata": {
  "kernelspec": {
   "display_name": "Python 3",
   "language": "python",
   "name": "python3"
  },
  "language_info": {
   "codemirror_mode": {
    "name": "ipython",
    "version": 3
   },
   "file_extension": ".py",
   "mimetype": "text/x-python",
   "name": "python",
   "nbconvert_exporter": "python",
   "pygments_lexer": "ipython3",
   "version": "3.4.2"
  }
 },
 "nbformat": 4,
 "nbformat_minor": 2
}
